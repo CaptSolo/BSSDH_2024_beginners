{
 "cells": [
  {
   "cell_type": "markdown",
   "id": "8da6e7d6",
   "metadata": {},
   "source": [
    "# Assignment\n",
    "\n",
    "* Choose a text corpus you will work with\n",
    "  * Example: [Project Gutenberg](https://www.gutenberg.org/)\n",
    "  \n",
    "* Analyze this corpus using the tools you learned in this workshop (NLTK, etc.)\n",
    "\n",
    "* Visualize the corpus (using Matplotlib, Seaborn and/or WordCloud)\n",
    "\n",
    "---\n",
    "\n",
    "Use Python comments (or Jupyter text cells) to explain what you are doing and why.\n",
    "\n",
    "---"
   ]
  },
  {
   "cell_type": "markdown",
   "id": "7552202d",
   "metadata": {},
   "source": [
    "## Minimum requirements\n",
    "\n",
    "Minimum requirements are to choose a text corpus, analyze corpus word frequency and show a corpus visualization (e.g. a word cloud)."
   ]
  },
  {
   "cell_type": "markdown",
   "id": "4bcd02ea",
   "metadata": {},
   "source": [
    "## Submission\n",
    "\n",
    "In order to submit your notebook, you will need to download it from Google Colab.\n",
    "* `\"File\" menu -> \"Download\" -> \"Download .ipynb\"`\n",
    "\n",
    "Submit your Jupyter notebook using [Google Forms](https://forms.gle/gfQGTEhrh55F7nVD9):\n",
    "\n",
    "* If necessary, you may submit the file repeatedly\n",
    "* If you need to submit multiple files for this assignment, create an archived file"
   ]
  },
  {
   "cell_type": "code",
   "execution_count": null,
   "id": "3768e40b",
   "metadata": {},
   "outputs": [],
   "source": []
  }
 ],
 "metadata": {
  "kernelspec": {
   "display_name": "Python 3 (ipykernel)",
   "language": "python",
   "name": "python3"
  },
  "language_info": {
   "codemirror_mode": {
    "name": "ipython",
    "version": 3
   },
   "file_extension": ".py",
   "mimetype": "text/x-python",
   "name": "python",
   "nbconvert_exporter": "python",
   "pygments_lexer": "ipython3",
   "version": "3.9.16"
  }
 },
 "nbformat": 4,
 "nbformat_minor": 5
}
