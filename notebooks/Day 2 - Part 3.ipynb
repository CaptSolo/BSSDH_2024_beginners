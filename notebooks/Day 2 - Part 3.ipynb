{
 "cells": [
  {
   "cell_type": "markdown",
   "id": "8da6e7d6",
   "metadata": {},
   "source": [
    "# Assignment\n",
    "\n",
    "- Choose a text corpus to work with (e.g. [Project Gutenberg](https://www.gutenberg.org/))\n",
    "\n",
    "- Analyze the corpus using the tools you have learned in this workshop (NLTK, etc.)\n",
    "\n",
    "- Visualize the corpus (using Matplotlib, Seaborn, Plotly and/or Word-Cloud)\n",
    "\n",
    "---\n",
    "\n",
    "Use Python comments or Jupyter text cells to explain what you are doing and why.\n",
    "\n",
    "---"
   ]
  },
  {
   "cell_type": "markdown",
   "id": "7552202d",
   "metadata": {},
   "source": [
    "## Grading\n",
    "\n",
    "In order to get grade 7 to 8, you must:\n",
    "- prepare the text corpus (e.g. remove stopwords)\n",
    "- analyze corpus word frequency\n",
    "- show a corpus visualization (e.g. a word cloud)\n",
    "\n",
    "To get a higher grade:\n",
    "- perform additional analysis and visualization of the text corpus\n",
    "- include detailed comments of what you did and why"
   ]
  },
  {
   "cell_type": "markdown",
   "id": "7220e620-adbc-44db-aeef-c7c996a65b6a",
   "metadata": {},
   "source": [
    "## Use of ChatGPT\n",
    "\n",
    "You may use ChatGPT and similar tools to help you with questions or to get an explanation of what some Python code does. \n",
    "\n",
    "The final work that you submit, however, should be created by yourself:\n",
    "- you may use fragments of code from ChatGPT responses\n",
    "- but the work as a whole should be created by you\n",
    "\n",
    "In the submitted work you should:\n",
    "- declare if you used ChatGPT or similar tools\n",
    "- include a log of your interactions with ChatGPT, noting the questions asked and the responses received\n",
    "\n",
    "Include this information in the notebook as Python comments or Jupyter text cells."
   ]
  },
  {
   "cell_type": "markdown",
   "id": "4bcd02ea",
   "metadata": {},
   "source": [
    "## Submission\n",
    "\n",
    "In order to submit your notebook, you will need to download it from Google Colab.\n",
    "* `\"File\" menu -> \"Download\" -> \"Download .ipynb\"`\n",
    "\n",
    "Submit your Jupyter notebook using [Google Forms](https://forms.gle/XJjYPHuDiPjiv6XZ8):\n",
    "\n",
    "* If necessary, you may submit the file repeatedly\n",
    "* If you need to submit multiple files for this assignment, create an archive file"
   ]
  },
  {
   "cell_type": "code",
   "execution_count": null,
   "id": "3768e40b",
   "metadata": {},
   "outputs": [],
   "source": []
  }
 ],
 "metadata": {
  "kernelspec": {
   "display_name": "Python 3 (ipykernel)",
   "language": "python",
   "name": "python3"
  },
  "language_info": {
   "codemirror_mode": {
    "name": "ipython",
    "version": 3
   },
   "file_extension": ".py",
   "mimetype": "text/x-python",
   "name": "python",
   "nbconvert_exporter": "python",
   "pygments_lexer": "ipython3",
   "version": "3.12.4"
  }
 },
 "nbformat": 4,
 "nbformat_minor": 5
}
