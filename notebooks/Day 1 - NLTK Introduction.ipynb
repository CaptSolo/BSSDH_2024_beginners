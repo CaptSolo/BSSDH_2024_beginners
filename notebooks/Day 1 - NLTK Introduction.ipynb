{
 "cells": [
  {
   "cell_type": "markdown",
   "metadata": {
    "id": "KXReOs-4Kh7w"
   },
   "source": [
    "## Natural Language Toolkit (NLTK)\n",
    "\n",
    "**NLTK** is a leading platform for building Python programs to work with human language data. It provides easy-to-use interfaces to [over 50 corpora and lexical resources](http://www.nltk.org/nltk_data/) such as WordNet, along with a suite of text processing libraries for classification, tokenization, stemming, tagging, parsing, and semantic reasoning, wrappers for industrial-strength NLP libraries, and an active discussion forum.\n",
    "\n",
    "http://www.nltk.org/\n",
    "\n",
    "NLTK library documentation (reference) = *Use it to look up how to use a particular NLTK library function*\n",
    "* https://www.nltk.org/api/nltk.html\n",
    "\n",
    "---\n",
    "\n",
    "NLTK wiki (collaboratively edited documentation):\n",
    "* https://github.com/nltk/nltk/wiki"
   ]
  },
  {
   "cell_type": "markdown",
   "metadata": {
    "id": "3Q4oMz88Kh71"
   },
   "source": [
    "### Book: Natural Language Processing with Python\n",
    "\n",
    "NLTK book provides a practical introduction to programming for language processing.\n",
    "\n",
    "Written by the creators of NLTK, it guides the reader through the fundamentals of writing Python programs, working with corpora, categorizing text, analyzing linguistic structure, and more.\n",
    "\n",
    "Online: http://www.nltk.org/book/\n",
    "\n",
    "* we will start with Chapter 1: [\"Language Processing and Python\"](http://www.nltk.org/book/ch01.html)\n",
    "\n",
    "---"
   ]
  },
  {
   "cell_type": "markdown",
   "metadata": {
    "id": "U8cSGGOnOpJ5"
   },
   "source": [
    "## Getting started - Jupyter notebook\n",
    "\n",
    "## https://bit.ly/bssdh_2024_python\n",
    "\n",
    "---"
   ]
  },
  {
   "cell_type": "markdown",
   "metadata": {
    "id": "CaiH0L3vOpJ6"
   },
   "source": [
    "Open this Jupyter notebook (`Day 1 - NLTK Introduction`) on Github:\n",
    "- https://github.com/CaptSolo/BSSDH_2024_beginners/tree/main/notebooks\n",
    "\n",
    "Download the notebook file to your computer: click the \"Download raw file\" button.\n",
    "\n",
    "![Download button](https://github.com/CaptSolo/BSSDH_2024_beginners/blob/main/notebooks/img/download_button.png?raw=1)\n",
    "\n",
    "Open [Google Colab](https://colab.research.google.com/), choose the \"Upload\" tab and upload the downloaded notebook file.\n",
    "\n",
    "* Uploaded notebooks can be found in the [Google Drive](https://drive.google.com/) folder `Colab Notebooks`\n",
    "\n",
    "You are now ready for the workshop!"
   ]
  },
  {
   "cell_type": "markdown",
   "metadata": {
    "id": "c211Je63Kh73"
   },
   "source": [
    "## 1) Getting started - NLTK\n",
    "\n",
    "NLTK book: http://www.nltk.org/book/ch01.html#getting-started-with-nltk\n",
    "\n",
    "* Loading NLTK (Python module)\n",
    "* Downloading NLTK language resources (corpora, ...)\n"
   ]
  },
  {
   "cell_type": "code",
   "execution_count": null,
   "metadata": {
    "id": "P3wVnd6JKh73"
   },
   "outputs": [],
   "source": [
    "# In order to use a Python library, we need to import (load) it\n",
    "\n",
    "import nltk\n",
    "import pandas as pd # we will use it to read our data\n"
   ]
  },
  {
   "cell_type": "code",
   "execution_count": null,
   "metadata": {
    "colab": {
     "base_uri": "https://localhost:8080/",
     "height": 36
    },
    "id": "IiDmy3H4Kh74",
    "outputId": "a8d2956b-64a2-4dfe-f738-3548bc71df17"
   },
   "outputs": [],
   "source": [
    "# Let's check what NLTK version we have (for easier troubleshooting and reproducibility)\n",
    "nltk.__version__"
   ]
  },
  {
   "cell_type": "markdown",
   "metadata": {
    "id": "4P25KGyTKh76"
   },
   "source": [
    "### nltk.Text\n",
    "\n",
    "**`ntlk.Text` is a simple NLTK helper for loading and exploring textual content (a sequence of words / string tokens):**\n",
    "\n",
    "... intended to support initial exploration of texts (via the interactive console). It can perform a variety of analyses on the text’s contexts (e.g., counting, concordancing, collocation discovery), and display the results.\n",
    "\n",
    "Documentation: [nltk.Text](https://www.nltk.org/api/nltk.html#nltk.text.Text)\n",
    "* lists what we can do with text once it is loaded into nltk.Text(...)"
   ]
  },
  {
   "cell_type": "code",
   "execution_count": null,
   "metadata": {
    "colab": {
     "base_uri": "https://localhost:8080/"
    },
    "id": "aGazEviJKh77",
    "outputId": "43f0ca78-0da0-4ae2-da51-adbb5c5f396c"
   },
   "outputs": [],
   "source": [
    "# Now we can try a simple example:\n",
    "\n",
    "my_word_list = [\"This\", \"is\", \"just\", \"an\", \"example\", \"Another\", \"example\", \"here\"]\n",
    "my_text = nltk.Text(my_word_list)\n",
    "\n",
    "my_text"
   ]
  },
  {
   "cell_type": "code",
   "execution_count": null,
   "metadata": {
    "colab": {
     "base_uri": "https://localhost:8080/"
    },
    "id": "qTbrL4BbN5A_",
    "outputId": "e769300f-54b2-4368-a2ab-8c1d4e127508"
   },
   "outputs": [],
   "source": [
    "my_text"
   ]
  },
  {
   "cell_type": "code",
   "execution_count": null,
   "metadata": {
    "colab": {
     "base_uri": "https://localhost:8080/"
    },
    "id": "LInOevQ9Kh77",
    "outputId": "eda0eb4f-0894-4218-eaff-9d1a588e498a"
   },
   "outputs": [],
   "source": [
    "type(my_text)"
   ]
  },
  {
   "cell_type": "code",
   "execution_count": null,
   "metadata": {
    "colab": {
     "base_uri": "https://localhost:8080/"
    },
    "id": "7tDisbPxOpJ_",
    "outputId": "c6eb7f03-733f-4502-f6f2-104e032f6945"
   },
   "outputs": [],
   "source": [
    "# this code will list the attributes and methods\n",
    "# that the NLTK Text objects have\n",
    "\n",
    "for item in dir(my_text):\n",
    "    if not item.startswith(\"__\"):\n",
    "        print(item)"
   ]
  },
  {
   "cell_type": "code",
   "execution_count": null,
   "metadata": {
    "colab": {
     "base_uri": "https://localhost:8080/"
    },
    "id": "cGs9PFIfKh78",
    "outputId": "eac6d79c-d3c7-420c-a8b1-0cb22e81955f"
   },
   "outputs": [],
   "source": [
    "# How many times does the word \"example\" appear?\n",
    "my_text.count(\"example\")\n",
    "\n",
    "# Notes:\n",
    "#  - my_text = our text, processed (loaded) by NLTK\n",
    "#     - technically: a Python object\n",
    "#  - my_text.count(...) = requesting the object to perform a .count(...) function and return the result\n",
    "#     - technically: calling a .count() method"
   ]
  },
  {
   "cell_type": "code",
   "execution_count": null,
   "metadata": {
    "colab": {
     "base_uri": "https://localhost:8080/"
    },
    "id": "VB6V_3NjKh78",
    "outputId": "4bca5f4c-2570-412c-f7e4-b1dafb0d29fc"
   },
   "outputs": [],
   "source": [
    "# count works on tokens (full words in this case)\n",
    "my_text.count('exam')"
   ]
  },
  {
   "cell_type": "code",
   "execution_count": null,
   "metadata": {
    "colab": {
     "base_uri": "https://localhost:8080/"
    },
    "id": "xJRLD4ZHKh78",
    "outputId": "be953cec-0ac6-4fa7-d4df-f674f22e25e8"
   },
   "outputs": [],
   "source": [
    "'exam' in my_text"
   ]
  },
  {
   "cell_type": "code",
   "execution_count": null,
   "metadata": {
    "colab": {
     "base_uri": "https://localhost:8080/"
    },
    "id": "NUHVkUsAKh79",
    "outputId": "776a77f9-1792-4a50-a930-0edd7cef4202"
   },
   "outputs": [],
   "source": [
    "'example' in my_text"
   ]
  },
  {
   "cell_type": "markdown",
   "metadata": {
    "id": "AnPc8tWVKh79"
   },
   "source": [
    "### Tokenizing\n",
    "\n",
    "Let's convert a text string into nltk.Text.\n",
    "First, we need to split it into tokens (to *tokenize* it)."
   ]
  },
  {
   "cell_type": "code",
   "execution_count": null,
   "metadata": {
    "colab": {
     "base_uri": "https://localhost:8080/"
    },
    "id": "NkzEe21WKh79",
    "outputId": "1a9921ce-3e76-4270-d07b-a527d95f8c20"
   },
   "outputs": [],
   "source": [
    "# We need to download a package containing punctuation before we can tokenize\n",
    "\n",
    "nltk.download('punkt')"
   ]
  },
  {
   "cell_type": "code",
   "execution_count": null,
   "metadata": {
    "colab": {
     "base_uri": "https://localhost:8080/"
    },
    "id": "jv1T6GloKh7-",
    "outputId": "d5a5c38c-f7b0-49fd-d53a-93c35e3cd0cf"
   },
   "outputs": [],
   "source": [
    "# Splitting text into tokens (words, ...) = tokenizing\n",
    "\n",
    "from nltk.tokenize import word_tokenize\n",
    "\n",
    "excerpt = \"NLTK has been called “a wonderful tool for teaching, and working in, computational linguistics using Python,” and “an amazing library to play with natural language.”\"\n",
    "tokens = word_tokenize(excerpt)\n",
    "\n",
    "tokens[:6]"
   ]
  },
  {
   "cell_type": "code",
   "execution_count": null,
   "metadata": {
    "colab": {
     "base_uri": "https://localhost:8080/"
    },
    "id": "6SLsB1DtPD78",
    "outputId": "a769a221-4351-4be8-d911-0fb032a690e1"
   },
   "outputs": [],
   "source": [
    "type(tokens)"
   ]
  },
  {
   "cell_type": "code",
   "execution_count": null,
   "metadata": {
    "colab": {
     "base_uri": "https://localhost:8080/"
    },
    "id": "r6pxVMxTKh7-",
    "outputId": "a177ba6b-0bfd-4ffa-959a-767738ede01c"
   },
   "outputs": [],
   "source": [
    "my_text2 = nltk.Text(tokens)\n",
    "\n",
    "print(my_text2.count(\"NLTK\"))"
   ]
  },
  {
   "cell_type": "code",
   "execution_count": null,
   "metadata": {
    "colab": {
     "base_uri": "https://localhost:8080/"
    },
    "id": "2EHoT6sWPPVx",
    "outputId": "3dda9bca-298b-41a8-e920-1aee3d0eeb09"
   },
   "outputs": [],
   "source": [
    "list(my_text2)[:10]\n"
   ]
  },
  {
   "cell_type": "markdown",
   "metadata": {
    "id": "QWmCHfY6Kh7-"
   },
   "source": [
    "### Downloading NLTK language resources\n",
    "\n",
    "NLTK also contains many language resources (corpora, ...) but you have select and download them separately (in order to save disk space and only download what is needed).\n",
    "\n",
    "Let's download text collections used in the NLTK book:\n",
    "* `nltk.download(\"book\")`\n",
    "\n",
    "Note: you can also download resources interactively:\n",
    "* `nltk.download()`"
   ]
  },
  {
   "cell_type": "code",
   "execution_count": null,
   "metadata": {
    "colab": {
     "base_uri": "https://localhost:8080/"
    },
    "id": "FUvRRRMBKh7-",
    "outputId": "20862382-d508-469d-e38a-181968841833"
   },
   "outputs": [],
   "source": [
    "# this is a big download of all packages related to the NLTK book\n",
    "nltk.download(\"book\")"
   ]
  },
  {
   "cell_type": "code",
   "execution_count": null,
   "metadata": {
    "colab": {
     "base_uri": "https://localhost:8080/"
    },
    "id": "nVTBPUs1Kh7_",
    "outputId": "b79f9ceb-02aa-4358-91d3-550fc5556840"
   },
   "outputs": [],
   "source": [
    "# After downloading the reources we still need to import them\n",
    "\n",
    "# Let's import all NLTK book resource (*)\n",
    "from nltk.book import *"
   ]
  },
  {
   "cell_type": "markdown",
   "metadata": {
    "id": "9EwcXQNvKh7_"
   },
   "source": [
    "## 2) Exploring textual content"
   ]
  },
  {
   "cell_type": "code",
   "execution_count": null,
   "metadata": {
    "colab": {
     "base_uri": "https://localhost:8080/"
    },
    "id": "jcJl2e-ROpKE",
    "outputId": "c5dead48-0c88-4801-87df-1daf42431263"
   },
   "outputs": [],
   "source": [
    "nltk.book.texts()"
   ]
  },
  {
   "cell_type": "code",
   "execution_count": null,
   "metadata": {
    "colab": {
     "base_uri": "https://localhost:8080/"
    },
    "id": "ECtX8fzqKh7_",
    "outputId": "da087686-56ec-4e9f-a181-baa5397d827d"
   },
   "outputs": [],
   "source": [
    "# text1, ... resources are of type nltk.Text (same as in the earlier example):\n",
    "\n",
    "type(text1)"
   ]
  },
  {
   "cell_type": "code",
   "execution_count": null,
   "metadata": {
    "colab": {
     "base_uri": "https://localhost:8080/"
    },
    "id": "u-HDe1sZKh7_",
    "outputId": "2819582c-952c-4788-dce6-1b024c0b980d"
   },
   "outputs": [],
   "source": [
    "# We can run all methods that nltk.Text has.\n",
    "\n",
    "# Count words:\n",
    "print(text1.count(\"whale\"))"
   ]
  },
  {
   "cell_type": "markdown",
   "metadata": {
    "id": "iaK8BnPhPYlI"
   },
   "source": [
    "## Concordance\n",
    "\n",
    "The concordance has a long history in humanities study and Roberto Busa's concordance Index Thomisticus—started in 1946—is arguably the first digital humanities project. Before computers were common, they were printed in large volumes such as John Bartlett's 1982 reference book A Complete Concordance to Shakespeare—it was 1909 pages pages long!\n",
    "\n",
    "A concordance gives the context of a given word or phrase in a body of texts. For example, a literary scholar might ask: how often and in what context does Shakespeare use the phrase \"honest Iago\" in Othello? A historian might examine a particular politician's speeches, looking for examples of a particular \"dog whistle\".\n",
    "\n",
    "<font color=\"red\">Read more</font>\n",
    "\n",
    "* Geoffrey Rockwell and Stéfan Sinclair. [Tremendous Mechanical Labor: Father Busa's Algorithm](http://www.digitalhumanities.org/dhq/vol/14/3/000456/000456.html) (2020)\n",
    "* Julianne Nyhan and Marco Passarotti, eds. [One Origin of Digital Humanities: Fr Roberto Busa in His Own Words](https://www.amazon.com/One-Origin-Digital-Humanities-Roberto/dp/3030183114/) (2019)\n",
    "* Julianne Nyhan and Melissa Terras. [Uncovering 'hidden contributions to the history of Digital Humanities: the Index Thomisticus' femal keypunch operators](https://discovery.ucl.ac.uk/id/eprint/10052279/9/Nyhan_DH2017.redacted.pdf) (2017)\n",
    "* Steven E. Jones [Roberto Busa, S.J., and the Emergence of Humanities Computing](https://www.routledge.com/Roberto-Busa-S-J-and-the-Emergence-of-Humanities-Computing-The-Priest/Jones/p/book/9781138587250) (2016)\n",
    "___"
   ]
  },
  {
   "cell_type": "code",
   "execution_count": null,
   "metadata": {
    "colab": {
     "base_uri": "https://localhost:8080/"
    },
    "id": "oBdyd_r1Kh7_",
    "outputId": "f20fa35b-55d9-4a1f-a1f3-514acf0166c7"
   },
   "outputs": [],
   "source": [
    "# https://www.nltk.org/api/nltk.html#nltk.text.Text.concordance\n",
    "\n",
    "# Print concordance view (occurences of a word, in context):\n",
    "text1.concordance(\"discover\")"
   ]
  },
  {
   "cell_type": "code",
   "execution_count": null,
   "metadata": {
    "colab": {
     "base_uri": "https://localhost:8080/"
    },
    "id": "BAd3tH8sKh8A",
    "outputId": "d950b929-f2ca-4798-c0bc-01505501960d"
   },
   "outputs": [],
   "source": [
    "text4.concordance(\"nation\")"
   ]
  },
  {
   "cell_type": "code",
   "execution_count": null,
   "metadata": {
    "colab": {
     "base_uri": "https://localhost:8080/"
    },
    "id": "VJ0SlKKySMDK",
    "outputId": "1217fb51-3741-48a9-d8e8-e2827f347960"
   },
   "outputs": [],
   "source": [
    "help(text4.concordance)"
   ]
  },
  {
   "cell_type": "code",
   "execution_count": null,
   "metadata": {
    "colab": {
     "base_uri": "https://localhost:8080/"
    },
    "id": "sfNJPxBWSVVJ",
    "outputId": "c6389ca5-5f6f-49f6-fcbe-3f601e157161"
   },
   "outputs": [],
   "source": [
    "text4.concordance(\"nation\", lines=30)"
   ]
  },
  {
   "cell_type": "code",
   "execution_count": null,
   "metadata": {
    "id": "2UgqgCsvSvrN"
   },
   "outputs": [],
   "source": [
    "conc = text4.concordance_list(\"nation\")"
   ]
  },
  {
   "cell_type": "code",
   "execution_count": null,
   "metadata": {
    "colab": {
     "base_uri": "https://localhost:8080/"
    },
    "id": "RJVVIJU2TH9w",
    "outputId": "aac41b1d-0d3f-4b27-ff6c-d78f10dc1f9c"
   },
   "outputs": [],
   "source": [
    "conc[:10]"
   ]
  },
  {
   "cell_type": "code",
   "execution_count": null,
   "metadata": {
    "colab": {
     "base_uri": "https://localhost:8080/"
    },
    "id": "OiruMW4gTOda",
    "outputId": "bc6fc28c-bad4-4be1-9048-2c1abaff2d96"
   },
   "outputs": [],
   "source": [
    "conc[0]"
   ]
  },
  {
   "cell_type": "code",
   "execution_count": null,
   "metadata": {
    "colab": {
     "base_uri": "https://localhost:8080/"
    },
    "id": "rIfp9oQJTboD",
    "outputId": "a65c9a79-54bf-4c8a-eb59-9bfa1117a27c"
   },
   "outputs": [],
   "source": [
    "print(conc[0])"
   ]
  },
  {
   "cell_type": "code",
   "execution_count": null,
   "metadata": {
    "colab": {
     "base_uri": "https://localhost:8080/"
    },
    "id": "ka-ub5DCTeVt",
    "outputId": "2d10c19c-d2a5-4dc8-e50a-5b6ec3206f62"
   },
   "outputs": [],
   "source": [
    "for item in conc[:10]:\n",
    "    conc_line = item.left_print + \" \" + item.query + \" \" + item.right_print\n",
    "\n",
    "    print(conc_line)\n",
    "    #output_file.write(conc_line)"
   ]
  },
  {
   "cell_type": "code",
   "execution_count": null,
   "metadata": {
    "colab": {
     "base_uri": "https://localhost:8080/"
    },
    "id": "7DaGeHZYKh8A",
    "outputId": "7ef2faa1-f5f9-4cff-be54-6dc828672088",
    "scrolled": true
   },
   "outputs": [],
   "source": [
    "# https://www.nltk.org/api/nltk.html#nltk.text.Text.similar\n",
    "\n",
    "# Print words that appear in similar context as \"nation\".\n",
    "text4.similar(\"nation\")"
   ]
  },
  {
   "cell_type": "code",
   "execution_count": null,
   "metadata": {
    "colab": {
     "base_uri": "https://localhost:8080/"
    },
    "id": "5YWKJCyJOpKG",
    "outputId": "a5d526c6-cdc9-483a-8aa7-01974209aa25"
   },
   "outputs": [],
   "source": [
    "help(text4.similar)"
   ]
  },
  {
   "cell_type": "code",
   "execution_count": null,
   "metadata": {
    "colab": {
     "base_uri": "https://localhost:8080/"
    },
    "id": "RChhUPlDKh8A",
    "outputId": "87e27b01-7940-4f89-e308-cc2efc98dfd7"
   },
   "outputs": [],
   "source": [
    "# https://www.nltk.org/api/nltk.html#nltk.text.Text.common_contexts\n",
    "\n",
    "# Find contexts common to all given words\n",
    "text1.common_contexts([\"day\", \"night\"])\n"
   ]
  },
  {
   "cell_type": "code",
   "execution_count": null,
   "metadata": {
    "colab": {
     "base_uri": "https://localhost:8080/"
    },
    "id": "NztGJyzZOpKH",
    "outputId": "faf2de89-2e57-4419-cb78-5a23e279fd2c"
   },
   "outputs": [],
   "source": [
    "help(text1.common_contexts)"
   ]
  },
  {
   "cell_type": "code",
   "execution_count": null,
   "metadata": {
    "colab": {
     "base_uri": "https://localhost:8080/"
    },
    "id": "rlu0zNbIOpKH",
    "outputId": "c1b5936a-486b-43b1-8427-a1ab75d6a794"
   },
   "outputs": [],
   "source": [
    "text4.collocations(num=40, window_size=2)"
   ]
  },
  {
   "cell_type": "code",
   "execution_count": null,
   "metadata": {
    "colab": {
     "base_uri": "https://localhost:8080/"
    },
    "id": "O6rUKw-oOpKH",
    "outputId": "70c8ffe4-7c43-42fd-b594-d263e3cafe2b"
   },
   "outputs": [],
   "source": [
    "help(text4.collocations)"
   ]
  },
  {
   "cell_type": "code",
   "execution_count": null,
   "metadata": {
    "colab": {
     "base_uri": "https://localhost:8080/"
    },
    "id": "cbwda6BlKh8A",
    "outputId": "734155b2-017e-4b26-8e10-113d49f9fb46"
   },
   "outputs": [],
   "source": [
    "# nltk.Text is also a list - can do everything we can do with lists (access parts of it, ...)\n",
    "\n",
    "# What's the 1st occurence of \"He\" in the text?\n",
    "#  - note: Python is case sensitive (unless you take care of it - e.g. convert all text to lowercase)\n",
    "\n",
    "print(text1.index(\"He\"))"
   ]
  },
  {
   "cell_type": "code",
   "execution_count": null,
   "metadata": {
    "colab": {
     "base_uri": "https://localhost:8080/"
    },
    "id": "ExM81vXJKh8A",
    "outputId": "9b02b4fb-32ba-4b9d-b351-555298a6ff0e"
   },
   "outputs": [],
   "source": [
    "# The word at position #42\n",
    "#  - note: list indexes start from 0\n",
    "\n",
    "print(text1[42])"
   ]
  },
  {
   "cell_type": "code",
   "execution_count": null,
   "metadata": {
    "colab": {
     "base_uri": "https://localhost:8080/"
    },
    "id": "drMJLukzKh8C",
    "outputId": "42558df8-9f76-402b-ebe8-8f1cf020198d"
   },
   "outputs": [],
   "source": [
    "print(text1[42:52])"
   ]
  },
  {
   "cell_type": "markdown",
   "metadata": {
    "id": "z2nrOBZjKh8C"
   },
   "source": [
    "## Visualizing the corpus"
   ]
  },
  {
   "cell_type": "code",
   "execution_count": null,
   "metadata": {
    "colab": {
     "base_uri": "https://localhost:8080/",
     "height": 472
    },
    "id": "cPtzGbhGKh8C",
    "outputId": "a102d92c-da75-439d-81a9-cb0cbbb906db",
    "scrolled": true
   },
   "outputs": [],
   "source": [
    "# Dispersion plot\n",
    "\n",
    "# source: Inaugural Address Corpus\n",
    "text4.dispersion_plot([\"citizens\", \"democracy\", \"duty\", \"freedom\", \"America\"])"
   ]
  },
  {
   "cell_type": "code",
   "execution_count": null,
   "metadata": {
    "colab": {
     "base_uri": "https://localhost:8080/"
    },
    "id": "-DKY-LjYKh8C",
    "outputId": "a8b9c2b1-ac16-43c7-c7ce-abd5fe367c91",
    "scrolled": true
   },
   "outputs": [],
   "source": [
    "help(text4.dispersion_plot)"
   ]
  },
  {
   "cell_type": "code",
   "execution_count": null,
   "metadata": {
    "colab": {
     "base_uri": "https://localhost:8080/",
     "height": 506
    },
    "id": "irc5YAjtOpKK",
    "outputId": "d20421e2-3901-4a56-d06e-ba150f7f5976"
   },
   "outputs": [],
   "source": [
    "# Word frequency plot\n",
    "\n",
    "text4.plot(30)"
   ]
  },
  {
   "cell_type": "code",
   "execution_count": null,
   "metadata": {
    "colab": {
     "base_uri": "https://localhost:8080/"
    },
    "id": "Ngvo_bt1WSkG",
    "outputId": "1b8b9653-93e8-458b-d167-5af705d049b4"
   },
   "outputs": [],
   "source": [
    "list(text4)[:10]"
   ]
  },
  {
   "cell_type": "code",
   "execution_count": null,
   "metadata": {
    "colab": {
     "base_uri": "https://localhost:8080/"
    },
    "id": "CAH4uPHyhgzF",
    "outputId": "9799e008-da8b-461f-cef4-27fc86a8a990"
   },
   "outputs": [],
   "source": [
    "# The [... for ... in list_name if optional_condition] command is called \n",
    "# list comprehension. It allows to specify action that is performed for \n",
    "# all elements of a list (optionally matching a given condition).\n",
    "\n",
    "# We are interested in all tokens from text4 that are words (that is,\n",
    "# they consist of alphabetic letters).\n",
    "\n",
    "filtered = [item for item in text4 if item.isalpha()]\n",
    "\n",
    "filtered[:10]"
   ]
  },
  {
   "cell_type": "code",
   "execution_count": null,
   "metadata": {
    "colab": {
     "base_uri": "https://localhost:8080/"
    },
    "id": "gsmi4By4vVD-",
    "outputId": "8ecc5f7c-180c-41a2-ad49-d0b346863d60"
   },
   "outputs": [],
   "source": [
    "from nltk.corpus import stopwords\n",
    "\n",
    "# English stopwords\n",
    "stop_words = stopwords.words(\"english\")\n",
    "\n",
    "stop_words[:8]"
   ]
  },
  {
   "cell_type": "code",
   "execution_count": null,
   "metadata": {
    "colab": {
     "base_uri": "https://localhost:8080/"
    },
    "id": "bs6lv9Mxv2V4",
    "outputId": "f2bc0a86-471e-44c4-f9f0-8941cd120438"
   },
   "outputs": [],
   "source": [
    "# Filter out words that are in the stopwords list\n",
    "filtered = [item for item in filtered if item not in stop_words]\n",
    "\n",
    "filtered[:10]"
   ]
  },
  {
   "cell_type": "code",
   "execution_count": null,
   "metadata": {
    "colab": {
     "base_uri": "https://localhost:8080/",
     "height": 540
    },
    "id": "mG1SLzgbi2GY",
    "outputId": "9f5cb326-cc6b-4f06-b7ad-33d94b6d9fa8"
   },
   "outputs": [],
   "source": [
    "filtered_text = nltk.Text(filtered)\n",
    "\n",
    "filtered_text.plot(30)"
   ]
  },
  {
   "cell_type": "code",
   "execution_count": null,
   "metadata": {
    "colab": {
     "base_uri": "https://localhost:8080/"
    },
    "id": "MScGvuOjOpKK",
    "outputId": "9692dc85-922d-4acc-cb43-c3cb4d714235"
   },
   "outputs": [],
   "source": [
    "help(FreqDist.plot)"
   ]
  },
  {
   "cell_type": "markdown",
   "metadata": {
    "id": "71CtOpUcLrph"
   },
   "source": [
    "## Converting Our Corpora into a NLTK Text\n",
    "\n",
    "Here we will work with files of comma- or tab-separated values.\n",
    "\n",
    "These files are similar to Excel files and consist of rows of values where values are separated by commma (,) or a special \"tabulation\" character. The pandas library has a read_csv() function for reading such files."
   ]
  },
  {
   "cell_type": "code",
   "execution_count": null,
   "metadata": {
    "id": "blikIpXvLqYR"
   },
   "outputs": [],
   "source": [
    "# We can use Pandas to read tabular data from any publicly accessible source\n",
    "url = \"https://github.com/CaptSolo/BSSDH_2023_beginners/raw/main/corpora/en_old_newspapers_5k.tsv\"\n",
    "\n",
    "## Another file we could have used:\n",
    "# url_2 = \"https://github.com/CaptSolo/BSSDH_2023_beginners/raw/main/corpora/lv_old_newspapers_5k.tsv\"\n",
    "\n",
    "# Read a CSV file and put its contents in a Pandas dataframe\n",
    "df = pd.read_csv(url, sep=\"\\t\")"
   ]
  },
  {
   "cell_type": "code",
   "execution_count": null,
   "metadata": {
    "colab": {
     "base_uri": "https://localhost:8080/"
    },
    "id": "aScchq2DOpKL",
    "outputId": "75e93c54-a7a9-4830-b2e8-3d42d07e907f"
   },
   "outputs": [],
   "source": [
    "# Shape (size) of the dataframe\n",
    "df.shape"
   ]
  },
  {
   "cell_type": "code",
   "execution_count": null,
   "metadata": {
    "colab": {
     "base_uri": "https://localhost:8080/",
     "height": 363
    },
    "id": "vckh__2qM3G8",
    "outputId": "b1e38c6b-fe4b-401f-f853-f4fa342068f0"
   },
   "outputs": [],
   "source": [
    "# First 10 rows\n",
    "df.head(10)"
   ]
  },
  {
   "cell_type": "code",
   "execution_count": null,
   "metadata": {
    "colab": {
     "base_uri": "https://localhost:8080/",
     "height": 407
    },
    "id": "Itqdnsz6M80z",
    "outputId": "e327c8d8-fd98-4ca9-ce64-a3bd3316b22f"
   },
   "outputs": [],
   "source": [
    "# Let us sort by Date - even though it is a string type\n",
    "\n",
    "df = df.sort_values(by=\"Date\", ascending=True)  # ascending is True by default, if you wanted Descending you could use ascending=False\n",
    "\n",
    "df.head(10)"
   ]
  },
  {
   "cell_type": "markdown",
   "metadata": {
    "id": "h5JPnHPNNdRo"
   },
   "source": [
    "### Extracting Text from dataframe"
   ]
  },
  {
   "cell_type": "code",
   "execution_count": null,
   "metadata": {
    "colab": {
     "base_uri": "https://localhost:8080/"
    },
    "id": "zV0TktGUNYa_",
    "outputId": "e8f1d905-06d0-4c9d-c04b-b9deb2e60c1b"
   },
   "outputs": [],
   "source": [
    "### Extracting the Text column from the dataframe\n",
    "\n",
    "documents = list(df.Text)  # df[\"Text\"].tolist() would do the same\n",
    "len(documents)\n"
   ]
  },
  {
   "cell_type": "code",
   "execution_count": null,
   "metadata": {
    "colab": {
     "base_uri": "https://localhost:8080/"
    },
    "id": "2ftwKgGZVKUg",
    "outputId": "bd68c11e-414b-4fe6-9a09-ed6782e2a9b7"
   },
   "outputs": [],
   "source": [
    "type(documents)"
   ]
  },
  {
   "cell_type": "code",
   "execution_count": null,
   "metadata": {
    "colab": {
     "base_uri": "https://localhost:8080/"
    },
    "id": "gN_MVv2PN1Xb",
    "outputId": "fd095d5e-6c10-4b85-e360-2b614be3af37"
   },
   "outputs": [],
   "source": [
    "documents[:3]  # first three documents"
   ]
  },
  {
   "cell_type": "code",
   "execution_count": null,
   "metadata": {
    "colab": {
     "base_uri": "https://localhost:8080/",
     "height": 202
    },
    "id": "ZU6f1Nc3YCXx",
    "outputId": "a088c0fb-0bc7-46ec-f3ef-f001e0eaec12"
   },
   "outputs": [],
   "source": [
    "documents[1]"
   ]
  },
  {
   "cell_type": "code",
   "execution_count": null,
   "metadata": {
    "colab": {
     "base_uri": "https://localhost:8080/"
    },
    "id": "xLLGPiE4OBs8",
    "outputId": "aa21ae0e-303a-4a7b-d42e-592b0cd55436"
   },
   "outputs": [],
   "source": [
    "# for the purpose of this analysis we will join all the documents together\n",
    "# this is not always appropriate depending on your needs\n",
    "\n",
    "all_docs = \"\\n\".join(documents)\n",
    "len(all_docs)"
   ]
  },
  {
   "cell_type": "code",
   "execution_count": null,
   "metadata": {
    "colab": {
     "base_uri": "https://localhost:8080/",
     "height": 54
    },
    "id": "1ek62y91OQLs",
    "outputId": "94f2056e-8ad2-4be0-e53b-19bca57f5c3e"
   },
   "outputs": [],
   "source": [
    "all_docs[:120] # so now all documents are in one big string\n",
    "# notice the \\n indicating newlines"
   ]
  },
  {
   "cell_type": "markdown",
   "metadata": {
    "id": "5ziR_UYJQKJs"
   },
   "source": [
    "Next, we lowercase our text and use the Natural Language Toolkit (NLTK) to tokenize it. Tokenizing breaks up the the document into individual words. Finally, we use our tokens to create an NLTK Text object."
   ]
  },
  {
   "cell_type": "code",
   "execution_count": null,
   "metadata": {
    "colab": {
     "base_uri": "https://localhost:8080/"
    },
    "id": "EOfqusj6QQfj",
    "outputId": "c0bd30bf-5c73-495f-d9c8-ff6ad7da17ad"
   },
   "outputs": [],
   "source": [
    "# Tokenize\n",
    "\n",
    "import nltk  # not needed if you already imported\n",
    "nltk.download('punkt')  # again not needed if you already downloaded punkt\n",
    "\n",
    "file_contents = all_docs.lower()\n",
    "tokens = nltk.word_tokenize(file_contents)\n",
    "\n",
    "text = nltk.Text(tokens)"
   ]
  },
  {
   "cell_type": "code",
   "execution_count": null,
   "metadata": {
    "colab": {
     "base_uri": "https://localhost:8080/"
    },
    "id": "xtBcbq1eQbtr",
    "outputId": "2ef51dd6-0b53-41b3-cbca-641985399c10"
   },
   "outputs": [],
   "source": [
    "# Verify that we have created an NLTK Text object\n",
    "type(text)"
   ]
  },
  {
   "cell_type": "code",
   "execution_count": null,
   "metadata": {
    "colab": {
     "base_uri": "https://localhost:8080/"
    },
    "id": "Fd4bZGsHQd28",
    "outputId": "b81ff665-2122-4d98-fd64-819af9b3cd39"
   },
   "outputs": [],
   "source": [
    "# Create a concordance for the given word\n",
    "text.concordance('million')"
   ]
  },
  {
   "cell_type": "markdown",
   "metadata": {
    "id": "ewhALtehQt7B"
   },
   "source": [
    "By default, the first 25 matches are printed along with 80 characters on each side of our string text. We can specify that more lines should be shown using a `lines` and `width` argument that accept integers."
   ]
  },
  {
   "cell_type": "code",
   "execution_count": null,
   "metadata": {
    "id": "D2uJ1SoCQvOq"
   },
   "outputs": [],
   "source": [
    "# Create a concordance for the given word\n",
    "# Increasing lines shown and number of characters\n",
    "text.concordance('school', lines=50, width=100)"
   ]
  },
  {
   "cell_type": "markdown",
   "metadata": {
    "id": "uwzZJ-47Q9Ed"
   },
   "source": [
    "If we want to supply a bigram, trigram, or longer construction, they are supplied as individual strings within a Python list. (If you try to supply a string with a space in the middle, there will be no results.)"
   ]
  },
  {
   "cell_type": "code",
   "execution_count": null,
   "metadata": {
    "colab": {
     "base_uri": "https://localhost:8080/"
    },
    "id": "Srxv5oxCQ5IP",
    "outputId": "a5593188-7627-46e2-b0ad-3ea9a260c4d5"
   },
   "outputs": [],
   "source": [
    "# Create a concordance for a sequence of words\n",
    "text.concordance(['high', 'school'])"
   ]
  },
  {
   "cell_type": "code",
   "execution_count": null,
   "metadata": {
    "colab": {
     "base_uri": "https://localhost:8080/"
    },
    "id": "FKbOvlF1WS5w",
    "outputId": "5bb33962-0825-4b86-88e9-49ca8cd9c250"
   },
   "outputs": [],
   "source": [
    "text.concordance('high school')"
   ]
  },
  {
   "cell_type": "markdown",
   "metadata": {
    "id": "T1iSikW6ROoR"
   },
   "source": [
    "This method works well for a quick preview of the lines, but if we want to save this concordance for later analysis we can use the `.concordance_list()` method. The `.concordance_list()` method outputs a list, but the elements of that list *are not* simple strings. They are ConcordanceLine objects."
   ]
  },
  {
   "cell_type": "code",
   "execution_count": null,
   "metadata": {
    "id": "XI3V-jfLRQen"
   },
   "outputs": [],
   "source": [
    "# Output the concordance data\n",
    "output_list = text.concordance_list(['high', 'school'], width=200, lines=50)  # we do not have 50 matches in our dataset"
   ]
  },
  {
   "cell_type": "code",
   "execution_count": null,
   "metadata": {
    "colab": {
     "base_uri": "https://localhost:8080/"
    },
    "id": "7VqhAHkCRHb8",
    "outputId": "a56983b1-0c24-42d9-d585-20a28f0671f2"
   },
   "outputs": [],
   "source": [
    "type(output_list[0])"
   ]
  },
  {
   "cell_type": "code",
   "execution_count": null,
   "metadata": {
    "colab": {
     "base_uri": "https://localhost:8080/"
    },
    "id": "pi9KaizbZLsN",
    "outputId": "a77adf63-3853-490b-cef6-bbf145386850"
   },
   "outputs": [],
   "source": [
    "len(output_list)"
   ]
  },
  {
   "cell_type": "code",
   "execution_count": null,
   "metadata": {
    "colab": {
     "base_uri": "https://localhost:8080/",
     "height": 73
    },
    "id": "tJC-ZB9LRrzw",
    "outputId": "59dff34f-ce56-415c-9b8b-0734750878c9"
   },
   "outputs": [],
   "source": [
    "# We can view individual lines by using a Python list index followed by .line.\n",
    "output_list[0].line"
   ]
  },
  {
   "cell_type": "code",
   "execution_count": null,
   "metadata": {
    "colab": {
     "base_uri": "https://localhost:8080/",
     "height": 36
    },
    "id": "2XTeADP_Wygw",
    "outputId": "96b2db00-3113-4cf6-bab6-7dcd74081754"
   },
   "outputs": [],
   "source": [
    "output_list[0].query"
   ]
  },
  {
   "cell_type": "markdown",
   "metadata": {
    "id": "kEOUvXeZR3Ph"
   },
   "source": [
    "If we want to save our concordance, we can write to a file line-by-line."
   ]
  },
  {
   "cell_type": "code",
   "execution_count": null,
   "metadata": {
    "id": "K9-09WRYR2er"
   },
   "outputs": [],
   "source": [
    "# Writing the concordance to a text file\n",
    "\n",
    "# encoding=\"utf-8\" is very important for languages using symbols outside regular English characters\n",
    "with open('my_concordance.txt', mode='w', encoding=\"utf-8\") as f:\n",
    "\n",
    "    for row in output_list:\n",
    "        f.write(row.line)\n",
    "        f.write('\\n')"
   ]
  },
  {
   "cell_type": "markdown",
   "metadata": {
    "id": "ZYj0p7ztOpKS"
   },
   "source": [
    "#### If you are using Google Colab, it is important to download saved files!\n",
    "\n",
    "Files saved to the local directory (e.g. my_concordance.txt) of Google Colab servers will disappear after some time. In order to save these files, download them.\n",
    "\n",
    "Another alternative is to save files to Google Drive folders in the first place."
   ]
  },
  {
   "cell_type": "markdown",
   "metadata": {
    "id": "A3WrsuE-LLho"
   },
   "source": [
    "## Normalizing text"
   ]
  },
  {
   "cell_type": "markdown",
   "metadata": {
    "id": "_3a9rLvkLLhq"
   },
   "source": [
    "**Normalizing text is covered in NLTK Book section 3.6:**\n",
    "https://www.nltk.org/book/ch03.html#sec-normalizing-text\n",
    "\n",
    "Yesterday we already normalized / converted text to lowercase but often that's not enough.\n",
    "\n",
    "We may want to go further and strip off any affixes, a task known as *stemming*. A further step is to make sure that the resulting form is a known word in a dictionary, a task known as *lemmatization*.\n",
    "\n",
    "NLTK offers some stemming and lemmatization functions but they are limited to just some languages (e.g. Latvian is not one of them).\n",
    "\n",
    "https://www.nltk.org/api/nltk.stem.html"
   ]
  },
  {
   "cell_type": "code",
   "execution_count": null,
   "metadata": {
    "colab": {
     "base_uri": "https://localhost:8080/"
    },
    "id": "hjzPW0TkLLhr",
    "outputId": "2445d9ff-f19c-4d79-8af7-cb9aa9aabef4"
   },
   "outputs": [],
   "source": [
    "raw = \"\"\"DENNIS: Listen, strange women lying in ponds distributing swords\n",
    "is no basis for a system of government.  Supreme executive power derives from\n",
    "a mandate from the masses, not from some farcical aquatic ceremony.\"\"\"\n",
    "\n",
    "tokens = word_tokenize(raw)\n",
    "\n",
    "porter = nltk.PorterStemmer()\n",
    "\n",
    "for t in tokens:\n",
    "    print(porter.stem(t), end=\" \")"
   ]
  },
  {
   "cell_type": "code",
   "execution_count": null,
   "metadata": {
    "colab": {
     "base_uri": "https://localhost:8080/"
    },
    "id": "5uZrxsAaZmWd",
    "outputId": "f1dc6bdd-c551-48ea-db9c-dd49d43a09f3"
   },
   "outputs": [],
   "source": [
    "nltk.download('omw-1.4')"
   ]
  },
  {
   "cell_type": "code",
   "execution_count": null,
   "metadata": {
    "colab": {
     "base_uri": "https://localhost:8080/"
    },
    "id": "Z5FUvrqzLLht",
    "outputId": "d6677704-5aaa-40d0-e6ed-eccf550d4a29"
   },
   "outputs": [],
   "source": [
    "from nltk.stem import WordNetLemmatizer\n",
    "wnl = WordNetLemmatizer()\n",
    "\n",
    "for t in tokens:\n",
    "    print(wnl.lemmatize(t), end=\" \")"
   ]
  },
  {
   "cell_type": "markdown",
   "metadata": {
    "id": "Q4Mx0668OpKT"
   },
   "source": [
    "## (Bonus) Working with languages not supported by NLTK"
   ]
  },
  {
   "cell_type": "code",
   "execution_count": null,
   "metadata": {
    "id": "cgt_hS-XOpKT"
   },
   "outputs": [],
   "source": [
    "url = \"https://github.com/CaptSolo/BSSDH_2023_beginners/raw/main/corpora/lv_old_newspapers_5k.tsv\"\n",
    "\n",
    "# Read a CSV file and put its contents in a Pandas dataframe\n",
    "df = pd.read_csv(url, sep=\"\\t\")"
   ]
  },
  {
   "cell_type": "code",
   "execution_count": null,
   "metadata": {
    "colab": {
     "base_uri": "https://localhost:8080/",
     "height": 206
    },
    "id": "AX8-04jZOpKU",
    "outputId": "23499b28-1c6a-4c42-d579-0872a271f493"
   },
   "outputs": [],
   "source": [
    "df.head(5)"
   ]
  },
  {
   "cell_type": "code",
   "execution_count": null,
   "metadata": {
    "id": "NVv7fg5dOpKU"
   },
   "outputs": [],
   "source": [
    "df = df.sort_values(by=\"Date\", ascending=True)  # ascending is True by default, if you wanted Descending you could use ascending=False\n"
   ]
  },
  {
   "cell_type": "code",
   "execution_count": null,
   "metadata": {
    "colab": {
     "base_uri": "https://localhost:8080/",
     "height": 206
    },
    "id": "Ok7nNMouOpKU",
    "outputId": "1c0e707e-ccf9-4e1e-f522-a38d44d5778a",
    "scrolled": true
   },
   "outputs": [],
   "source": [
    "df.head()"
   ]
  },
  {
   "cell_type": "code",
   "execution_count": null,
   "metadata": {
    "id": "r31bIc8iOpKU"
   },
   "outputs": [],
   "source": [
    "# Let's create NLTK Text\n",
    "\n",
    "documents = list(df.Text)\n",
    "all_docs = \"\\n\".join(documents)\n",
    "\n",
    "file_contents = all_docs.lower()\n",
    "tokens = nltk.word_tokenize(file_contents)\n",
    "\n",
    "text = nltk.Text(tokens)"
   ]
  },
  {
   "cell_type": "code",
   "execution_count": null,
   "metadata": {
    "colab": {
     "base_uri": "https://localhost:8080/"
    },
    "id": "SsKNQeZLOpKV",
    "outputId": "965af7a3-cb1e-41ad-e1bf-51fe9aa3eeee"
   },
   "outputs": [],
   "source": [
    "text.concordance(\"basketbols\")"
   ]
  },
  {
   "cell_type": "markdown",
   "metadata": {
    "id": "nRAg6B9dOpKV"
   },
   "source": [
    "Let's see how frequently does \"basketbols\" appear in the text:"
   ]
  },
  {
   "cell_type": "code",
   "execution_count": null,
   "metadata": {
    "colab": {
     "base_uri": "https://localhost:8080/"
    },
    "id": "C1ueub-NLLho",
    "outputId": "91a9acf7-025b-42eb-d129-42d179faac96"
   },
   "outputs": [],
   "source": [
    "for item in text:\n",
    "    if item == \"basketbols\":\n",
    "        print(item)"
   ]
  },
  {
   "cell_type": "code",
   "execution_count": null,
   "metadata": {
    "colab": {
     "base_uri": "https://localhost:8080/"
    },
    "id": "3ED3hSHhLLhp",
    "outputId": "025e8d78-b4d8-4a83-c332-7f21a919f6aa"
   },
   "outputs": [],
   "source": [
    "# There are other variations of the same word in the text:\n",
    "\n",
    "import regex\n",
    "\n",
    "for item in text:\n",
    "    if regex.match(r\"basket.*\", item):\n",
    "        print(item)"
   ]
  },
  {
   "cell_type": "markdown",
   "metadata": {
    "id": "D0cqJFhkLLhu"
   },
   "source": [
    "If the language of our text is not supported by NLTK we can use another library:\n",
    "\n",
    "simplemma: https://pypi.org/project/simplemma/\n",
    "\n",
    "More information: [A simple multilingual lemmatizer for Python](https://adrien.barbaresi.eu/blog/simple-multilingual-lemmatizer-python.html)\n"
   ]
  },
  {
   "cell_type": "code",
   "execution_count": null,
   "metadata": {
    "colab": {
     "base_uri": "https://localhost:8080/"
    },
    "id": "gN-a1B_WLLhv",
    "outputId": "0ec8ddc8-5fca-4285-8907-ae7a82032413"
   },
   "outputs": [],
   "source": [
    "# we may need to install simplemma first (uncomment the following line to do that)\n",
    "#!pip install simplemma"
   ]
  },
  {
   "cell_type": "code",
   "execution_count": null,
   "metadata": {
    "id": "Y63TrZpuLLhw"
   },
   "outputs": [],
   "source": [
    "import simplemma as sl"
   ]
  },
  {
   "cell_type": "code",
   "execution_count": null,
   "metadata": {
    "colab": {
     "base_uri": "https://localhost:8080/"
    },
    "id": "Jwb8_UOJLLhw",
    "outputId": "72faebaa-6000-47e0-9235-e9a0720f7476"
   },
   "outputs": [],
   "source": [
    "buf = []\n",
    "\n",
    "for item in text:\n",
    "    buf.append(sl.lemmatize(item, lang=\"lv\"))\n",
    "\n",
    "buf[:20]"
   ]
  },
  {
   "cell_type": "code",
   "execution_count": null,
   "metadata": {
    "id": "YGtS-LlyLLhx"
   },
   "outputs": [],
   "source": [
    "text_new = nltk.Text(buf)"
   ]
  },
  {
   "cell_type": "code",
   "execution_count": null,
   "metadata": {
    "colab": {
     "base_uri": "https://localhost:8080/"
    },
    "id": "je417o6OdAVr",
    "outputId": "e4efab84-642a-40a4-88a9-4c8e68e0ece4"
   },
   "outputs": [],
   "source": [
    "text_new.concordance(\"basketbols\")"
   ]
  },
  {
   "cell_type": "markdown",
   "metadata": {
    "id": "PA4CMUHWKh8D"
   },
   "source": [
    "---\n",
    "\n",
    "## Your turn!\n",
    "\n",
    "Choose an NLTK text corpus and **explore it using NLTK** (following the examples in this notebook).\n",
    "\n",
    "**Write code in notebook cells below**.\n",
    "* add more cells (use \"+\" icon) if necessary"
   ]
  },
  {
   "cell_type": "code",
   "execution_count": null,
   "metadata": {
    "id": "S2fo4j05OpKX"
   },
   "outputs": [],
   "source": []
  },
  {
   "cell_type": "code",
   "execution_count": null,
   "metadata": {
    "id": "CmLhKo4cOpKY"
   },
   "outputs": [],
   "source": []
  },
  {
   "cell_type": "code",
   "execution_count": null,
   "metadata": {
    "id": "JGq_4BeMOpKZ"
   },
   "outputs": [],
   "source": []
  },
  {
   "cell_type": "markdown",
   "metadata": {
    "id": "dYEz1Cv0OpKa"
   },
   "source": [
    "---\n",
    "\n",
    "<img align=\"left\" src=\"https://ithaka-labs.s3.amazonaws.com/static-files/images/tdm/tdmdocs/CC_BY.png\"><br />\n",
    "\n",
    "Parts of this notebook were adopted from notebook by [Nathan Kelber](http://nkelber.com) under [Creative Commons CC BY License](https://creativecommons.org/licenses/by/4.0/)<br />\n",
    "\n",
    "\n"
   ]
  }
 ],
 "metadata": {
  "colab": {
   "provenance": []
  },
  "kernelspec": {
   "display_name": "Python 3 (ipykernel)",
   "language": "python",
   "name": "python3"
  },
  "language_info": {
   "codemirror_mode": {
    "name": "ipython",
    "version": 3
   },
   "file_extension": ".py",
   "mimetype": "text/x-python",
   "name": "python",
   "nbconvert_exporter": "python",
   "pygments_lexer": "ipython3",
   "version": "3.12.4"
  }
 },
 "nbformat": 4,
 "nbformat_minor": 4
}
