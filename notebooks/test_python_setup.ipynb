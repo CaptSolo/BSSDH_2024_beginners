{
 "cells": [
  {
   "cell_type": "markdown",
   "metadata": {},
   "source": [
    "# Test your Python setup\n",
    "\n",
    "This notebook is to test your Python setup. If you can run this notebook without errors, you are ready to go."
   ]
  },
  {
   "cell_type": "code",
   "execution_count": null,
   "metadata": {
    "id": "B019mwLfPPqM",
    "outputId": "88c5b89a-9c4c-4ae9-c304-184e62e2a95a"
   },
   "outputs": [],
   "source": [
    "# Test your python setup by running this notebook from either colab.reasearch.google address or from your local Python enviroment\n",
    "# Running means - pressing Run Cell button (with triangle inside) to the the left of this text\n",
    "\n",
    "# You might be asked if you trust this code since it comes from instructor's repository not from Google\n",
    "\n",
    "# All this code does is import the needed libraries and print their current version.\n",
    "# version numbers are not crucial as long as your installation was done in the last 1-2 years.\n",
    "# test might take half a minute or so to run\n",
    "\n",
    "from datetime import datetime\n",
    "# print current date and time\n",
    "print(\"Current date and time:\", datetime.now())\n",
    "print()\n",
    "\n",
    "# print python version\n",
    "import sys\n",
    "print(\"Python version\", sys.version)\n",
    "# check pandas version\n",
    "import pandas as pd\n",
    "print(\"Pandas version\", pd.__version__)\n",
    "# check numpy version\n",
    "import numpy as np\n",
    "print(\"Numpy version\", np.__version__)\n",
    "# check requests version\n",
    "import requests\n",
    "print(\"Requests version\", requests.__version__)\n",
    "# check matplotlib version\n",
    "import matplotlib\n",
    "print(\"Matplotlib version\", matplotlib.__version__)\n",
    "# check nltk version\n",
    "import nltk\n",
    "print(\"NLTK version\", nltk.__version__)\n",
    "# check plotly version\n",
    "import plotly\n",
    "print(\"Plotly version\", plotly.__version__)\n",
    "\n",
    "# imports finished time\n",
    "print()\n",
    "print(\"Imports finished at:\", datetime.now())"
   ]
  },
  {
   "cell_type": "code",
   "execution_count": null,
   "metadata": {
    "id": "zh7bnjMmQKQ9"
   },
   "outputs": [],
   "source": []
  }
 ],
 "metadata": {
  "colab": {
   "provenance": []
  },
  "kernelspec": {
   "display_name": "Python 3 (ipykernel)",
   "language": "python",
   "name": "python3"
  },
  "language_info": {
   "codemirror_mode": {
    "name": "ipython",
    "version": 3
   },
   "file_extension": ".py",
   "mimetype": "text/x-python",
   "name": "python",
   "nbconvert_exporter": "python",
   "pygments_lexer": "ipython3",
   "version": "3.9.16"
  }
 },
 "nbformat": 4,
 "nbformat_minor": 1
}
