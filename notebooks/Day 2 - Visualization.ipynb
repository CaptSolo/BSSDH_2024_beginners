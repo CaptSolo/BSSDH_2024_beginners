{
 "cells": [
  {
   "cell_type": "markdown",
   "id": "4676f133",
   "metadata": {
    "id": "4676f133"
   },
   "source": [
    "# Visualizing data"
   ]
  },
  {
   "cell_type": "code",
   "execution_count": null,
   "id": "6762f939",
   "metadata": {
    "id": "6762f939"
   },
   "outputs": [],
   "source": [
    "import pandas as pd\n",
    "import matplotlib.pyplot as plt\n",
    "import seaborn as sns\n",
    "\n",
    "import nltk\n",
    "from nltk import FreqDist"
   ]
  },
  {
   "cell_type": "code",
   "execution_count": null,
   "id": "c3513b03",
   "metadata": {
    "id": "c3513b03"
   },
   "outputs": [],
   "source": [
    "url = \"https://raw.githubusercontent.com/CaptSolo/BSSDH_2023_beginners/main/corpora/en_old_newspapers_5k.tsv\"\n",
    "df = pd.read_csv(url, sep=\"\\t\")"
   ]
  },
  {
   "cell_type": "code",
   "execution_count": null,
   "id": "dMIEbxYA58Mr",
   "metadata": {
    "colab": {
     "base_uri": "https://localhost:8080/",
     "height": 206
    },
    "id": "dMIEbxYA58Mr",
    "outputId": "3918a845-eeff-49c2-a21f-67c359235308"
   },
   "outputs": [],
   "source": [
    "df.head(5)"
   ]
  },
  {
   "cell_type": "code",
   "execution_count": null,
   "id": "bea61800",
   "metadata": {
    "id": "bea61800"
   },
   "outputs": [],
   "source": [
    "# https://dariuslfuller.medium.com/creating-visuals-with-nltks-freqdist-ac4e667e49f3\n",
    "\n",
    "all_text = \"\\n\".join(df[\"Text\"]).split()\n",
    "all_fdist = FreqDist(all_text).most_common(20)"
   ]
  },
  {
   "cell_type": "code",
   "execution_count": null,
   "id": "wD2BRyZ_6NlV",
   "metadata": {
    "colab": {
     "base_uri": "https://localhost:8080/"
    },
    "id": "wD2BRyZ_6NlV",
    "outputId": "bc0ce0e6-1be4-46c0-f85d-94d4e64ea78c"
   },
   "outputs": [],
   "source": [
    "all_text[:20]"
   ]
  },
  {
   "cell_type": "code",
   "execution_count": null,
   "id": "43dd7f87",
   "metadata": {
    "colab": {
     "base_uri": "https://localhost:8080/"
    },
    "id": "43dd7f87",
    "outputId": "c1602daf-34e1-4adb-e5ce-d74a0ce6a5b4"
   },
   "outputs": [],
   "source": [
    "all_fdist"
   ]
  },
  {
   "cell_type": "code",
   "execution_count": null,
   "id": "e497066f",
   "metadata": {
    "id": "e497066f"
   },
   "outputs": [],
   "source": [
    "# converting data to Pandas series\n",
    "all_fdist = pd.Series(dict(all_fdist))"
   ]
  },
  {
   "cell_type": "code",
   "execution_count": null,
   "id": "sHFvvOtP6nQx",
   "metadata": {
    "colab": {
     "base_uri": "https://localhost:8080/"
    },
    "id": "sHFvvOtP6nQx",
    "outputId": "69c06fcf-7c79-464e-8721-70e2e396736a"
   },
   "outputs": [],
   "source": [
    "all_fdist[:10]"
   ]
  },
  {
   "cell_type": "code",
   "execution_count": null,
   "id": "a5b9224b",
   "metadata": {
    "colab": {
     "base_uri": "https://localhost:8080/",
     "height": 447
    },
    "id": "a5b9224b",
    "outputId": "0a38ac95-cec6-406c-eff3-52e69881bec2"
   },
   "outputs": [],
   "source": [
    "## Matplotlib plot using Pandas attributes + xtick rotation for ease of viewing\n",
    "\n",
    "#all_plot = plt.bar(x=all_fdist.index, y=all_fdist.values, ax=ax)\n",
    "all_plot = plt.bar(all_fdist.index, all_fdist.values)\n",
    "ticks = plt.xticks(rotation=40)"
   ]
  },
  {
   "cell_type": "markdown",
   "id": "13b05161",
   "metadata": {
    "id": "13b05161"
   },
   "source": [
    "### Stopword removal\n",
    "\n",
    "For widely used languages such as English we can use NLTK's stopword list."
   ]
  },
  {
   "cell_type": "code",
   "execution_count": null,
   "id": "7bb3a687",
   "metadata": {
    "colab": {
     "base_uri": "https://localhost:8080/"
    },
    "id": "7bb3a687",
    "outputId": "c0e34760-5802-4bbc-dcbc-54a998cb59aa"
   },
   "outputs": [],
   "source": [
    "nltk.download('stopwords')\n",
    "\n",
    "stopwords = nltk.corpus.stopwords.words('english')\n",
    "print(stopwords[:10])"
   ]
  },
  {
   "cell_type": "code",
   "execution_count": null,
   "id": "8fb8891e",
   "metadata": {
    "id": "8fb8891e"
   },
   "outputs": [],
   "source": [
    "# let's convert the list to a set (with more efficient work lookup operations)\n",
    "stopword_set = set(stopwords)"
   ]
  },
  {
   "cell_type": "code",
   "execution_count": null,
   "id": "4cceaa1d",
   "metadata": {
    "colab": {
     "base_uri": "https://localhost:8080/"
    },
    "id": "4cceaa1d",
    "outputId": "46f0b926-4be8-497b-abea-14a68fa6432f"
   },
   "outputs": [],
   "source": [
    "# removing stopwords\n",
    "all_text_stopped = [word for word in all_text if word.lower() not in stopword_set]\n",
    "\n",
    "# let's also remove some special symbols\n",
    "spec_chars = ['--', '—', '-']\n",
    "all_text_stopped = [word for word in all_text_stopped if word not in spec_chars]\n",
    "\n",
    "all_text_stopped[:6]"
   ]
  },
  {
   "cell_type": "code",
   "execution_count": null,
   "id": "5b5f3414",
   "metadata": {
    "colab": {
     "base_uri": "https://localhost:8080/"
    },
    "id": "5b5f3414",
    "outputId": "196a8b7e-6e4e-444d-9052-7b65ab7940c6"
   },
   "outputs": [],
   "source": [
    "# let's draw freq distribution again\n",
    "\n",
    "all_fdist_stopped = FreqDist(all_text_stopped).most_common(20)\n",
    "all_fdist_stopped = pd.Series(dict(all_fdist_stopped))\n",
    "\n",
    "for line in all_fdist_stopped.keys():\n",
    "    print(line, \":\\t\", all_fdist_stopped[line])"
   ]
  },
  {
   "cell_type": "code",
   "execution_count": null,
   "id": "3e1b08b0",
   "metadata": {
    "colab": {
     "base_uri": "https://localhost:8080/",
     "height": 464
    },
    "id": "3e1b08b0",
    "outputId": "f62fd5ba-2fbc-4333-ac31-daab647c6767"
   },
   "outputs": [],
   "source": [
    "all_plot = plt.bar(all_fdist_stopped.index, all_fdist_stopped.values)\n",
    "ticks = plt.xticks(rotation=60)"
   ]
  },
  {
   "cell_type": "code",
   "execution_count": null,
   "id": "b33245f9",
   "metadata": {
    "colab": {
     "base_uri": "https://localhost:8080/",
     "height": 430
    },
    "id": "b33245f9",
    "outputId": "8c13a0e6-7866-40df-d105-ea934fa8d4d4"
   },
   "outputs": [],
   "source": [
    "all_plot = plt.barh(all_fdist_stopped.index, all_fdist_stopped.values)"
   ]
  },
  {
   "cell_type": "code",
   "execution_count": null,
   "id": "44e2ab9d",
   "metadata": {
    "colab": {
     "base_uri": "https://localhost:8080/",
     "height": 430
    },
    "id": "44e2ab9d",
    "outputId": "15aeb8ec-a9cd-44a5-844f-187b1eba25bf",
    "scrolled": true
   },
   "outputs": [],
   "source": [
    "all_plot = plt.barh(all_fdist_stopped.index, all_fdist_stopped.values)\n",
    "ax = plt.gca()\n",
    "ax.invert_yaxis()"
   ]
  },
  {
   "cell_type": "markdown",
   "id": "cc44add9",
   "metadata": {
    "id": "cc44add9"
   },
   "source": [
    "## Histograms\n",
    "\n",
    "Let's create histogram displaying text word length"
   ]
  },
  {
   "cell_type": "code",
   "execution_count": null,
   "id": "d2ff930d",
   "metadata": {
    "colab": {
     "base_uri": "https://localhost:8080/"
    },
    "id": "d2ff930d",
    "outputId": "2f2a878e-7751-40e9-8b3f-eb227b3e7221",
    "scrolled": true
   },
   "outputs": [],
   "source": [
    "all_text[:10]"
   ]
  },
  {
   "cell_type": "code",
   "execution_count": null,
   "id": "521fc0b0",
   "metadata": {
    "colab": {
     "base_uri": "https://localhost:8080/"
    },
    "id": "521fc0b0",
    "outputId": "f152f3f5-9d92-4059-ae41-250edeef9af2"
   },
   "outputs": [],
   "source": [
    "# for every word, return its length\n",
    "word_length = [len(word) for word in all_text]\n",
    "\n",
    "word_length[:10]"
   ]
  },
  {
   "cell_type": "code",
   "execution_count": null,
   "id": "698b04d2",
   "metadata": {
    "colab": {
     "base_uri": "https://localhost:8080/",
     "height": 559
    },
    "id": "698b04d2",
    "outputId": "83ca13fa-86ad-423a-b748-6216078f09a3"
   },
   "outputs": [],
   "source": [
    "n_bins = 20\n",
    "\n",
    "plt.hist(word_length, bins=n_bins)"
   ]
  },
  {
   "cell_type": "code",
   "execution_count": null,
   "id": "695a6b00",
   "metadata": {
    "colab": {
     "base_uri": "https://localhost:8080/",
     "height": 524
    },
    "id": "695a6b00",
    "outputId": "c432b051-0290-4340-bb0d-ae51e81a3d56"
   },
   "outputs": [],
   "source": [
    "sns.displot(word_length, binwidth=1)"
   ]
  },
  {
   "cell_type": "code",
   "execution_count": null,
   "id": "71c8d3ba",
   "metadata": {
    "colab": {
     "base_uri": "https://localhost:8080/"
    },
    "id": "71c8d3ba",
    "outputId": "51ac5472-379b-4dfd-f849-58584a5f70af"
   },
   "outputs": [],
   "source": [
    "long_words = [word for word in all_text if len(word) >= 15]\n",
    "\n",
    "long_words[:10]"
   ]
  },
  {
   "cell_type": "markdown",
   "id": "0a8572a4",
   "metadata": {
    "id": "0a8572a4"
   },
   "source": [
    "Seaborn - histograms:\n",
    "* https://seaborn.pydata.org/tutorial/distributions.html"
   ]
  },
  {
   "cell_type": "markdown",
   "id": "3158f5d8",
   "metadata": {
    "id": "3158f5d8"
   },
   "source": [
    "### Seaborn\n",
    "\n",
    "Seaborn is a Python data visualization library based on matplotlib. It provides a high-level interface for drawing attractive and informative statistical graphics.\n",
    "\n",
    "https://seaborn.pydata.org/"
   ]
  },
  {
   "cell_type": "code",
   "execution_count": null,
   "id": "6d9806fe",
   "metadata": {
    "colab": {
     "base_uri": "https://localhost:8080/",
     "height": 363
    },
    "id": "6d9806fe",
    "outputId": "1b1d112b-2488-4419-8207-bf9984ae3a80"
   },
   "outputs": [],
   "source": [
    "data = FreqDist(all_text_stopped).most_common(20)\n",
    "data = pd.DataFrame(data, columns = [\"Word\",\"Frequency\"])\n",
    "\n",
    "data[:10]"
   ]
  },
  {
   "cell_type": "code",
   "execution_count": null,
   "id": "1c67e885",
   "metadata": {
    "colab": {
     "base_uri": "https://localhost:8080/",
     "height": 483
    },
    "id": "1c67e885",
    "outputId": "635e0e3d-5d69-4dfc-9b4a-caa7f2d92538"
   },
   "outputs": [],
   "source": [
    "ax = sns.barplot(data, x=\"Word\", y=\"Frequency\")\n",
    "\n",
    "ax = ax.set_xticklabels(data[\"Word\"], rotation=60)"
   ]
  },
  {
   "cell_type": "code",
   "execution_count": null,
   "id": "e171ff2a",
   "metadata": {
    "colab": {
     "base_uri": "https://localhost:8080/",
     "height": 449
    },
    "id": "e171ff2a",
    "outputId": "b8715411-c8cc-4205-e94c-8bae39079a0c"
   },
   "outputs": [],
   "source": [
    "ax = sns.barplot(data, y=\"Word\", x=\"Frequency\", orient=\"h\")"
   ]
  },
  {
   "cell_type": "markdown",
   "id": "c77cd666",
   "metadata": {
    "id": "c77cd666"
   },
   "source": [
    "More information about Seaborn:\n",
    "* https://seaborn.pydata.org/tutorial/introduction.html"
   ]
  },
  {
   "cell_type": "markdown",
   "id": "aea38e6d",
   "metadata": {
    "id": "aea38e6d"
   },
   "source": [
    "### Visualizing bigrams"
   ]
  },
  {
   "cell_type": "code",
   "execution_count": null,
   "id": "75e55d04",
   "metadata": {
    "id": "75e55d04"
   },
   "outputs": [],
   "source": [
    "import nltk.collocations as collocations\n",
    "from nltk import FreqDist, bigrams"
   ]
  },
  {
   "cell_type": "code",
   "execution_count": null,
   "id": "UvpA_oTV-vO7",
   "metadata": {
    "colab": {
     "base_uri": "https://localhost:8080/"
    },
    "id": "UvpA_oTV-vO7",
    "outputId": "02d39548-a789-45e9-8da7-c79de07735e9"
   },
   "outputs": [],
   "source": [
    "ngrams = bigrams(all_text_stopped)\n",
    "\n",
    "from itertools import islice\n",
    "\n",
    "for item in islice(ngrams, 10):\n",
    "    print(item)"
   ]
  },
  {
   "cell_type": "code",
   "execution_count": null,
   "id": "38807d19",
   "metadata": {
    "id": "38807d19"
   },
   "outputs": [],
   "source": [
    "ngrams = bigrams(all_text_stopped)\n",
    "\n",
    "ngram_freq_list = FreqDist(ngrams).most_common(20)"
   ]
  },
  {
   "cell_type": "code",
   "execution_count": null,
   "id": "y75M4vRY_jmK",
   "metadata": {
    "colab": {
     "base_uri": "https://localhost:8080/"
    },
    "id": "y75M4vRY_jmK",
    "outputId": "536ce60c-19ec-4e33-e934-a1d73e22ba32"
   },
   "outputs": [],
   "source": [
    "ngram_freq_list[:5]"
   ]
  },
  {
   "cell_type": "code",
   "execution_count": null,
   "id": "270154a1",
   "metadata": {
    "colab": {
     "base_uri": "https://localhost:8080/"
    },
    "id": "270154a1",
    "outputId": "87e36239-c60e-4a9b-c28a-432533d76673"
   },
   "outputs": [],
   "source": [
    "# this program expects Python 3.6 or later where dictionary\n",
    "# items maintain their insertion order.\n",
    "\n",
    "ngram_dict = {}\n",
    "\n",
    "for words, count in ngram_freq_list:\n",
    "    key = \"_\".join(words)\n",
    "    ngram_dict[key] = count\n",
    "\n",
    "print(ngram_dict)"
   ]
  },
  {
   "cell_type": "code",
   "execution_count": null,
   "id": "62edc7c4",
   "metadata": {
    "id": "62edc7c4"
   },
   "outputs": [],
   "source": [
    "ngram_freqdist = pd.Series(ngram_dict)"
   ]
  },
  {
   "cell_type": "code",
   "execution_count": null,
   "id": "1dcde3f4",
   "metadata": {
    "colab": {
     "base_uri": "https://localhost:8080/",
     "height": 853
    },
    "id": "1dcde3f4",
    "outputId": "e1207469-aab2-49d7-b97b-b3433e67ad38",
    "scrolled": true
   },
   "outputs": [],
   "source": [
    "# plot the figure\n",
    "\n",
    "fig, ax = plt.subplots(figsize=(10,10))\n",
    "\n",
    "## set the plot to horizontal + set title + display\n",
    "bar_plot = sns.barplot(x=ngram_freqdist.values, y=ngram_freqdist.index, orient='h', ax=ax)\n",
    "title = plt.title('Frequency Distribution')"
   ]
  },
  {
   "cell_type": "markdown",
   "id": "8c363043",
   "metadata": {
    "id": "8c363043"
   },
   "source": [
    "### Stopwords for languages not included in NLTK\n",
    "\n",
    "Previously we used stopwords from NLTK stopword list but that won't work for Latvian or other languages not included in NLTK.\n",
    "\n",
    "Let's use an existing Latvian stopword list from Github:"
   ]
  },
  {
   "cell_type": "code",
   "execution_count": null,
   "id": "6c7e1f42",
   "metadata": {
    "colab": {
     "base_uri": "https://localhost:8080/"
    },
    "id": "6c7e1f42",
    "outputId": "abaca8ed-46c5-489d-aaf3-e4c7898348bf",
    "scrolled": true
   },
   "outputs": [],
   "source": [
    "import requests\n",
    "\n",
    "stop_url = \"https://raw.githubusercontent.com/Xangis/extra-stopwords/master/latvian\"\n",
    "res = requests.get(stop_url)\n",
    "\n",
    "stopwords = res.text.split()\n",
    "print(stopwords[:10])\n",
    "\n",
    "stopword_set = set(stopwords)"
   ]
  },
  {
   "cell_type": "code",
   "execution_count": null,
   "id": "e8a89798",
   "metadata": {
    "id": "e8a89798"
   },
   "outputs": [],
   "source": [
    "# reading our text corpus\n",
    "\n",
    "import pandas as pd\n",
    "\n",
    "url_2 = \"https://raw.githubusercontent.com/CaptSolo/BSSDH_2023_beginners/main/corpora/lv_old_newspapers_5k.tsv\"\n",
    "df_2 = pd.read_csv(url_2, sep=\"\\t\")"
   ]
  },
  {
   "cell_type": "code",
   "execution_count": null,
   "id": "834ea295",
   "metadata": {
    "id": "834ea295"
   },
   "outputs": [],
   "source": [
    "all_text = \"\\n\".join(df_2[\"Text\"]).split()\n",
    "all_fdist = FreqDist(all_text).most_common(20)"
   ]
  },
  {
   "cell_type": "code",
   "execution_count": null,
   "id": "e60d7cbc",
   "metadata": {
    "id": "e60d7cbc"
   },
   "outputs": [],
   "source": [
    "# converting data to Pandas series\n",
    "all_fdist = pd.Series(dict(all_fdist))"
   ]
  },
  {
   "cell_type": "code",
   "execution_count": null,
   "id": "af9a45f1",
   "metadata": {
    "colab": {
     "base_uri": "https://localhost:8080/"
    },
    "id": "af9a45f1",
    "outputId": "37a9520a-6e10-43e3-8747-072f572815f0"
   },
   "outputs": [],
   "source": [
    "# removing stopwords\n",
    "all_text_stopped = [word for word in all_text if word not in stopword_set]\n",
    "\n",
    "# removing special characters\n",
    "spec_chars = ['-', '–', '—']\n",
    "all_text_stopped = [word for word in all_text_stopped if word not in spec_chars]\n",
    "\n",
    "all_text_stopped[:6]"
   ]
  },
  {
   "cell_type": "code",
   "execution_count": null,
   "id": "96844ecf",
   "metadata": {
    "colab": {
     "base_uri": "https://localhost:8080/",
     "height": 430
    },
    "id": "96844ecf",
    "outputId": "a3a567f5-9685-422c-b747-dc0f2f0b6c4e"
   },
   "outputs": [],
   "source": [
    "# draw freq distribution\n",
    "\n",
    "all_fdist_stopped = FreqDist(all_text_stopped).most_common(20)\n",
    "all_fdist_stopped = pd.Series(dict(all_fdist_stopped))\n",
    "\n",
    "all_plot = plt.barh(all_fdist_stopped.index, all_fdist_stopped.values)\n",
    "ax = plt.gca()\n",
    "ax.invert_yaxis()"
   ]
  },
  {
   "cell_type": "markdown",
   "id": "1ba9f327",
   "metadata": {
    "id": "1ba9f327"
   },
   "source": [
    "## Visualization examples\n",
    "\n",
    "Additional information about different Matplotlib and Seaborn visualizations:\n",
    "\n",
    "* https://matplotlib.org/stable/gallery/index.html\n",
    "* https://seaborn.pydata.org/examples/index.html\n",
    "\n",
    "Tutorials:\n",
    "\n",
    "* [Matplotlib tutorial](https://github.com/rougier/matplotlib-tutorial) by Nicolas P. Rougier\n",
    "* [Pyplot tutorial](https://matplotlib.org/stable/tutorials/introductory/pyplot.html)"
   ]
  },
  {
   "cell_type": "markdown",
   "id": "d71ac144",
   "metadata": {
    "id": "d71ac144"
   },
   "source": [
    "## Wordcloud visualization\n",
    "\n",
    "https://github.com/amueller/word_cloud"
   ]
  },
  {
   "cell_type": "code",
   "execution_count": null,
   "id": "8de2b9d4",
   "metadata": {
    "id": "8de2b9d4"
   },
   "outputs": [],
   "source": [
    "## not needed if the WordCloud library is already installed\n",
    "#!pip install wordcloud"
   ]
  },
  {
   "cell_type": "code",
   "execution_count": null,
   "id": "b0193cd9",
   "metadata": {
    "id": "b0193cd9"
   },
   "outputs": [],
   "source": [
    "import matplotlib.pyplot as plt\n",
    "\n",
    "from wordcloud import WordCloud"
   ]
  },
  {
   "cell_type": "code",
   "execution_count": null,
   "id": "500acf57",
   "metadata": {
    "colab": {
     "base_uri": "https://localhost:8080/"
    },
    "id": "500acf57",
    "outputId": "6dce13cd-6f72-42b2-a206-8718332bb440"
   },
   "outputs": [],
   "source": [
    "all_text_stopped[:10]"
   ]
  },
  {
   "cell_type": "code",
   "execution_count": null,
   "id": "6281748d",
   "metadata": {
    "colab": {
     "base_uri": "https://localhost:8080/",
     "height": 285
    },
    "id": "6281748d",
    "outputId": "476ed7ad-b24b-498e-febd-dc80f06f8269"
   },
   "outputs": [],
   "source": [
    "text = \" \".join(all_text_stopped)\n",
    "wordcloud = WordCloud().generate(text)\n",
    "\n",
    "plt.imshow(wordcloud, interpolation='bilinear')\n",
    "plt.axis(\"off\")\n",
    "plt.show()"
   ]
  },
  {
   "cell_type": "code",
   "execution_count": null,
   "id": "be1a8dec",
   "metadata": {
    "colab": {
     "base_uri": "https://localhost:8080/",
     "height": 285
    },
    "id": "be1a8dec",
    "outputId": "9f6c655b-8f37-41b9-c0fd-a7fd7f8497c5"
   },
   "outputs": [],
   "source": [
    "# lower max_font_size, change the maximum number of word and lighten the background:\n",
    "\n",
    "wordcloud = WordCloud(width=1000, height=500, max_words=40, background_color=\"white\").generate(text)\n",
    "\n",
    "plt.figure()\n",
    "plt.imshow(wordcloud) #, interpolation=\"bilinear\")\n",
    "plt.axis(\"off\")\n",
    "plt.show()"
   ]
  },
  {
   "cell_type": "code",
   "execution_count": null,
   "id": "0b446062",
   "metadata": {
    "colab": {
     "base_uri": "https://localhost:8080/"
    },
    "id": "0b446062",
    "outputId": "6a3b1b38-e73f-45ed-c757-613062f6824c"
   },
   "outputs": [],
   "source": [
    "# Save the image in a file:\n",
    "wordcloud.to_file(\"wordcloud.png\")"
   ]
  },
  {
   "cell_type": "markdown",
   "id": "3ab83c6c",
   "metadata": {
    "id": "3ab83c6c"
   },
   "source": [
    "Additional information about word cloud generation:\n",
    "\n",
    "* https://github.com/amueller/word_cloud"
   ]
  },
  {
   "cell_type": "markdown",
   "id": "cbfe1057",
   "metadata": {
    "id": "cbfe1057"
   },
   "source": [
    "---\n",
    "\n",
    "## Your turn!\n",
    "\n",
    "Choose a text corpus and **visualize it** using the tools shown in this notebook.\n",
    "\n",
    "**Write code in notebook cells below**."
   ]
  },
  {
   "cell_type": "code",
   "execution_count": null,
   "id": "e47dc19b",
   "metadata": {
    "id": "e47dc19b"
   },
   "outputs": [],
   "source": []
  },
  {
   "cell_type": "code",
   "execution_count": null,
   "id": "9b0d38d4",
   "metadata": {
    "id": "9b0d38d4"
   },
   "outputs": [],
   "source": []
  },
  {
   "cell_type": "code",
   "execution_count": null,
   "id": "9f95024f",
   "metadata": {
    "id": "9f95024f"
   },
   "outputs": [],
   "source": []
  }
 ],
 "metadata": {
  "colab": {
   "provenance": []
  },
  "kernelspec": {
   "display_name": "Python 3 (ipykernel)",
   "language": "python",
   "name": "python3"
  },
  "language_info": {
   "codemirror_mode": {
    "name": "ipython",
    "version": 3
   },
   "file_extension": ".py",
   "mimetype": "text/x-python",
   "name": "python",
   "nbconvert_exporter": "python",
   "pygments_lexer": "ipython3",
   "version": "3.12.4"
  }
 },
 "nbformat": 4,
 "nbformat_minor": 5
}
