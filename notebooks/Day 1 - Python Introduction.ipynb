{
 "cells": [
  {
   "cell_type": "markdown",
   "metadata": {
    "id": "oXukXEtEyk6m"
   },
   "source": [
    "## Python Introduction with some detours\n",
    "![Python](https://www.python.org/static/community_logos/python-logo-generic.svg)"
   ]
  },
  {
   "cell_type": "markdown",
   "metadata": {
    "id": "axTj4oGryk6q"
   },
   "source": [
    "![xkcd](https://imgs.xkcd.com/comics/python.png)"
   ]
  },
  {
   "cell_type": "markdown",
   "metadata": {
    "id": "WBht7VP9Fua9"
   },
   "source": [
    "## Getting Started"
   ]
  },
  {
   "cell_type": "markdown",
   "metadata": {
    "id": "_qIGVfJSFua9"
   },
   "source": [
    "## https://bit.ly/bssdh_2024_python\n",
    "\n",
    "---\n",
    "\n",
    "Open this Jupyter notebook (`Day 1 - Python Introduction`) on Github:\n",
    "- https://github.com/CaptSolo/BSSDH_2024_beginners/tree/main/notebooks\n",
    "\n",
    "Download the notebook file to your computer: click the \"Download raw file\" button.\n",
    "\n",
    "![Download button](https://github.com/CaptSolo/BSSDH_2024_beginners/blob/main/notebooks/img/download_button.png?raw=1)\n",
    "\n",
    "Open [Google Colab](https://colab.research.google.com/), choose the \"Upload\" tab and upload the downloaded notebook file.\n",
    "\n",
    "* Uploaded notebooks can be found in the [Google Drive](https://drive.google.com/) folder `Colab Notebooks`\n",
    "\n",
    "*Alternative: you may also open the whole Github repository in Google Colab by selecting \"Github\" in the \"Open notebook\" screen.*\n",
    "\n",
    "---\n",
    "\n",
    "You will also need a free ChatGPT account:\n",
    "- https://chatgpt.com/\n",
    "\n",
    "---\n",
    "\n",
    "You are now ready for the workshop!"
   ]
  },
  {
   "cell_type": "markdown",
   "metadata": {
    "id": "bHuO9QYfyk6r"
   },
   "source": [
    "## Hello World <a class=\"anchor\" id=\"hello-world\">\n",
    "\n",
    "Execute the following program code cells by pressing the triangle \"run\" icon:\n",
    "\n",
    "![Run icon](https://github.com/CaptSolo/BSSDH_2024_beginners/blob/main/notebooks/img/hello_world.png?raw=1|200)\n",
    "\n",
    "Note: this is a screenshot from Google Colab. In locally installed Jupyter notebooks the Run icon may appear in a different location.\n",
    "\n",
    "---"
   ]
  },
  {
   "cell_type": "code",
   "execution_count": null,
   "metadata": {
    "colab": {
     "base_uri": "https://localhost:8080/"
    },
    "id": "d2kT0NCCyk6r",
    "outputId": "1a0ea316-fec7-476e-f7f3-3fac2b965d6c"
   },
   "outputs": [],
   "source": [
    "print(\"Hello world!\")"
   ]
  },
  {
   "cell_type": "code",
   "execution_count": null,
   "metadata": {
    "colab": {
     "base_uri": "https://localhost:8080/"
    },
    "id": "fSK83QkGyk6s",
    "outputId": "627afaef-4f6f-429b-dbf8-46c5b5a2d8e2"
   },
   "outputs": [],
   "source": [
    "### Try printing a greeting of your own!\n",
    "print(\"Some text here\")"
   ]
  },
  {
   "cell_type": "code",
   "execution_count": null,
   "metadata": {
    "colab": {
     "base_uri": "https://localhost:8080/"
    },
    "id": "45i-oQjayk6t",
    "outputId": "7e7a19fe-8792-420f-db7c-7e748ddc29b1"
   },
   "outputs": [],
   "source": [
    "### What happens when you get an error?\n",
    "print(\"not good)"
   ]
  },
  {
   "cell_type": "markdown",
   "metadata": {
    "id": "zpS3l9lXyk6t"
   },
   "source": [
    "## Python History <a class=\"anchor\" id=\"python-history\">\n",
    "\n"
   ]
  },
  {
   "cell_type": "markdown",
   "metadata": {
    "id": "cUpifjuIyk6u"
   },
   "source": [
    "### Python created by Guido von Rossum in early 1990s  (later at Google, Dropbox)\n",
    "\n",
    "![Guido](https://upload.wikimedia.org/wikipedia/commons/thumb/d/d0/Guido-portrait-2014-curvves.jpg/290px-Guido-portrait-2014-curvves.jpg)\n",
    "\n",
    "### Language reference: https://docs.python.org/3/index.html"
   ]
  },
  {
   "cell_type": "markdown",
   "metadata": {
    "id": "_foFHuKqyk6u"
   },
   "source": [
    "## Why Python?"
   ]
  },
  {
   "cell_type": "markdown",
   "metadata": {
    "id": "x27TkJvUyk6v"
   },
   "source": [
    "- Readability\n",
    "- Glue language (can use many libraries and services)\n",
    "- Used from startups to Google and Facebook"
   ]
  },
  {
   "cell_type": "markdown",
   "metadata": {},
   "source": [
    "### Python's popularity"
   ]
  },
  {
   "cell_type": "markdown",
   "metadata": {
    "id": "g0S6IymXyk6v"
   },
   "source": [
    "![Python](https://github.com/CaptSolo/BSSDH_2024_beginners/blob/main/notebooks/img/python_growth.png?raw=1)"
   ]
  },
  {
   "attachments": {},
   "cell_type": "markdown",
   "metadata": {
    "id": "mj6ujX9yyk6v"
   },
   "source": [
    "**Python is now programming language # 1 in TIOBE language index (as of July 2022)**\n",
    "\n",
    "https://www.tiobe.com/tiobe-index/\n",
    "\n",
    "![TIOBE index ranking](https://github.com/CaptSolo/BSSDH_2024_beginners/blob/main/notebooks/img/tiobe_index.png?raw=1)"
   ]
  },
  {
   "cell_type": "markdown",
   "metadata": {
    "id": "pspUEKcXyk6w"
   },
   "source": [
    "### Batteries included principle\n",
    "![Batteries](https://github.com/CaptSolo/BSSDH_2024_beginners/blob/main/notebooks/img/batteries_small.jpg?raw=1)"
   ]
  },
  {
   "cell_type": "markdown",
   "metadata": {
    "id": "_SxUIYwIyk6w"
   },
   "source": [
    "## What is Programming? <a class=\"anchor\" id=\"what-is-programming\">\n",
    "    \n",
    "* Egg algorithm\n",
    "* Computers are stupid, they only do what they are told to do\n",
    "* If it is stupid but it works, then it is not stupid\n",
    "* Make it work, make it right, make it fast (last two steps often not required in real life)\n",
    "* GIGO principle\n",
    "\n",
    "* Error messages are nothing to be afraid of, usually the message will explain what needs fixing!"
   ]
  },
  {
   "cell_type": "code",
   "execution_count": null,
   "metadata": {
    "id": "dHM2iMkEyk6w"
   },
   "outputs": [],
   "source": [
    "# Our first comment\n",
    "\n",
    "# REPL(Read,Eval,Print, Loop)\n",
    "# Python - Interpreted Language (commands executed as they come in)"
   ]
  },
  {
   "cell_type": "markdown",
   "metadata": {
    "id": "O4kJhMcbFubE"
   },
   "source": [
    "## Python Installation\n",
    "\n",
    "a) Python website (standalone installation) \n",
    "- https://www.python.org/downloads/\n",
    "\n",
    "b) Google Colab (cloud service, no installation necessary - Google version of Jupyter Notebooks)\n",
    "- https://colab.research.google.com/\n",
    "\n",
    "c) Anaconda (local installation, includes many additional libraries and Jupyter Notebooks) \n",
    "- https://www.anaconda.com/download/\n",
    "\n",
    "**Python program code can be run:**\n",
    "- in Jupyter notebooks (text notebooks with executable code \"cells\")\n",
    "  - cells can be executed and the result is printed below the code cell\n",
    "- as standalone programs (.py files)\n",
    "  - program code in .py files that can be executed all together, without requiring user involvement\n",
    "\n",
    "In this workshop we will use Jupyter notebooks."
   ]
  },
  {
   "cell_type": "markdown",
   "metadata": {
    "id": "VYfAr3Xfyk6x"
   },
   "source": [
    "## Jupyter Basics <a class=\"anchor\" id=\"jupyter-basics\">\n",
    "\n",
    "In Jupyter Notebooks you work in cells that may contain Python code or specially formatted text (Markdown).\n",
    "\n",
    "These shortcuts work both in local Jupyter Notebooks and Google Colab:\n",
    "    \n",
    "* Ctrl-Enter runs code of cell in place\n",
    "* Alt-Enter runs code for current cell and creates a new cell below\n",
    "* Esc-A creates a new cell above current cell\n",
    "* Esc-B creates a new cell below current cell\n",
    "    \n",
    "These shortcuts do not work in Google Colab:\n",
    "* Esc-M turns cell into Markdown cell for formatting (https://guides.github.com/pdfs/markdown-cheatsheet-online.pdf)\n",
    "* Esc-Y turns cell into code cell(default)\n",
    "* Esc-dd deletes current cell\n"
   ]
  },
  {
   "cell_type": "code",
   "execution_count": null,
   "metadata": {
    "id": "ZQIHqe22KDET"
   },
   "outputs": [],
   "source": []
  },
  {
   "cell_type": "code",
   "execution_count": null,
   "metadata": {
    "id": "rh4XZC5pyk6x"
   },
   "outputs": [],
   "source": [
    "# Try Esc-B to create a new cell or click an icon for inserting a new notebook cell below\n",
    "\n",
    "# Enter print(\"Hello Humanities!\")\n",
    "# Press Ctrl-Enter to execute the cell\n",
    "\n",
    "# Did you get any error messages?"
   ]
  },
  {
   "cell_type": "markdown",
   "metadata": {},
   "source": [
    "## Notebook Plan\n",
    "\n",
    "- Values\n",
    "- Variables and data types\n",
    "- Getting user input\n",
    "- Arithmetic operators\n",
    "- Text strings\n",
    "- Detour: ChatGPT\n",
    "- Lists, dictionaries and tuples\n",
    "- Program flow control\n",
    "- Functions\n",
    "- Libraries\n",
    "- Working with files"
   ]
  },
  {
   "cell_type": "markdown",
   "metadata": {
    "id": "vX29o_V5FubF"
   },
   "source": [
    "## Values\n"
   ]
  },
  {
   "cell_type": "code",
   "execution_count": null,
   "metadata": {
    "colab": {
     "base_uri": "https://localhost:8080/"
    },
    "id": "JKD0LBPfFubF",
    "outputId": "9fc67af4-e5f2-4d0b-a4bf-681d2d2e8548"
   },
   "outputs": [],
   "source": [
    "# Integer value (vesels skaitlis)\n",
    "42"
   ]
  },
  {
   "cell_type": "code",
   "execution_count": null,
   "metadata": {
    "colab": {
     "base_uri": "https://localhost:8080/"
    },
    "id": "RMsAUIjeFubG",
    "outputId": "d04d4f48-4995-465c-b6d6-a237f5edc21c"
   },
   "outputs": [],
   "source": [
    "# The type() function lets us determine the type of the value or a variable\n",
    "type(42)\n"
   ]
  },
  {
   "cell_type": "code",
   "execution_count": null,
   "metadata": {
    "colab": {
     "base_uri": "https://localhost:8080/"
    },
    "id": "3xslaI8GFubG",
    "outputId": "585716eb-5111-4f30-ffc2-7fde93f84462"
   },
   "outputs": [],
   "source": [
    "# Floating point value (daļskaitlis)\n",
    "3.14159"
   ]
  },
  {
   "cell_type": "code",
   "execution_count": null,
   "metadata": {
    "colab": {
     "base_uri": "https://localhost:8080/"
    },
    "id": "raLQm0RWFubG",
    "outputId": "d370b681-1de7-4b78-ee53-5d7afb13af78"
   },
   "outputs": [],
   "source": [
    "type(3.14159)"
   ]
  },
  {
   "cell_type": "code",
   "execution_count": null,
   "metadata": {
    "colab": {
     "base_uri": "https://localhost:8080/",
     "height": 36
    },
    "id": "Qn3yYra5FubH",
    "outputId": "803b00a4-9878-4d12-aabe-3b7647ad62cf"
   },
   "outputs": [],
   "source": [
    "# Text string value (teksts)\n",
    "\"Hello world\""
   ]
  },
  {
   "cell_type": "code",
   "execution_count": null,
   "metadata": {
    "colab": {
     "base_uri": "https://localhost:8080/"
    },
    "id": "OwxJdrl3FubH",
    "outputId": "63e0f1c9-606a-4429-9568-19c3160d326a"
   },
   "outputs": [],
   "source": [
    "type(\"Hello world\")"
   ]
  },
  {
   "cell_type": "code",
   "execution_count": null,
   "metadata": {
    "colab": {
     "base_uri": "https://localhost:8080/",
     "height": 36
    },
    "id": "cLCs5EMAFubH",
    "outputId": "54f4cc2a-e756-4407-fb40-57940852ca31"
   },
   "outputs": [],
   "source": [
    "# Text values can use both single quotes ' and double quotes \"\n",
    "'This is also a text string'"
   ]
  },
  {
   "cell_type": "code",
   "execution_count": null,
   "metadata": {
    "colab": {
     "base_uri": "https://localhost:8080/",
     "height": 36
    },
    "id": "CVzvO92CFubH",
    "outputId": "47dba30b-86ad-4550-b9a5-4c7000f5bb70"
   },
   "outputs": [],
   "source": [
    "\"\"\"\n",
    "This text value\n",
    "consists of multiple\n",
    "line\n",
    "\"\"\""
   ]
  },
  {
   "cell_type": "code",
   "execution_count": null,
   "metadata": {
    "colab": {
     "base_uri": "https://localhost:8080/"
    },
    "id": "dd_tNqeLFubI",
    "outputId": "593d99db-acf4-4e4f-c7d2-fb4fe05843a3"
   },
   "outputs": [],
   "source": [
    "print(\"\"\"\n",
    "This text value\n",
    "consists of multiple\n",
    "line\n",
    "\"\"\")"
   ]
  },
  {
   "cell_type": "code",
   "execution_count": null,
   "metadata": {
    "colab": {
     "base_uri": "https://localhost:8080/"
    },
    "id": "hE4cVTLpFubI",
    "outputId": "95e7ea2b-8ec9-4f2a-9b76-66c5d7836a67"
   },
   "outputs": [],
   "source": [
    "# Boolean value = True or False\n",
    "True"
   ]
  },
  {
   "cell_type": "code",
   "execution_count": null,
   "metadata": {
    "colab": {
     "base_uri": "https://localhost:8080/"
    },
    "id": "MWr0bl3fLfTO",
    "outputId": "35d97651-2ac6-40ac-c5ad-2607fd12b422"
   },
   "outputs": [],
   "source": [
    "False"
   ]
  },
  {
   "cell_type": "code",
   "execution_count": null,
   "metadata": {
    "colab": {
     "base_uri": "https://localhost:8080/"
    },
    "id": "65h_FjyPFubI",
    "outputId": "be6fea96-4698-4c25-f478-d7c0aa557cea"
   },
   "outputs": [],
   "source": [
    "type(True)"
   ]
  },
  {
   "cell_type": "code",
   "execution_count": null,
   "metadata": {
    "colab": {
     "base_uri": "https://localhost:8080/"
    },
    "id": "G3OeRm1KFubJ",
    "outputId": "f714d3a5-cfa9-4daf-a823-536d6324f1e7"
   },
   "outputs": [],
   "source": [
    "# Boolean operation \"and\" returns True only if both its arguments are True\n",
    "True and False"
   ]
  },
  {
   "cell_type": "code",
   "execution_count": null,
   "metadata": {
    "id": "nvpTDzq7FubJ"
   },
   "outputs": [],
   "source": []
  },
  {
   "cell_type": "markdown",
   "metadata": {
    "id": "X_eMSCgIyk6x"
   },
   "source": [
    "## Variables <a class=\"anchor\" id=\"variables\">\n",
    "\n",
    "Variables are like named boxes that can store values"
   ]
  },
  {
   "cell_type": "code",
   "execution_count": null,
   "metadata": {
    "id": "vdWtRQz0yk6x"
   },
   "outputs": [],
   "source": [
    "# Creating a variable\n",
    "# It will be available through this workbook once the command is run\n",
    "myname = \"Uldis\""
   ]
  },
  {
   "cell_type": "code",
   "execution_count": null,
   "metadata": {
    "colab": {
     "base_uri": "https://localhost:8080/"
    },
    "id": "PacwSs_5m2MH",
    "outputId": "0684bb23-b3ed-42de-e461-4679b3054d98"
   },
   "outputs": [],
   "source": [
    "# Print the value of the \"myname\" variable\n",
    "print(myname)"
   ]
  },
  {
   "cell_type": "code",
   "execution_count": null,
   "metadata": {
    "colab": {
     "base_uri": "https://localhost:8080/",
     "height": 171
    },
    "id": "MA8-DgzcFubJ",
    "outputId": "4972efc5-29d8-469b-9895-7e68a222d8a8"
   },
   "outputs": [],
   "source": [
    "# Python commands and variable names are \"case sensitive\"\n",
    "#  - for example, \"Print\" is different from \"print\"\n",
    "Print(myName)"
   ]
  },
  {
   "cell_type": "code",
   "execution_count": null,
   "metadata": {
    "id": "tWfsq8VEyk6y"
   },
   "outputs": [],
   "source": [
    "y = 2024"
   ]
  },
  {
   "cell_type": "code",
   "execution_count": null,
   "metadata": {
    "id": "Bd10yN8uyk6y"
   },
   "outputs": [],
   "source": [
    "theAnswer = 42"
   ]
  },
  {
   "cell_type": "code",
   "execution_count": null,
   "metadata": {
    "id": "sShI_dNFyk6y"
   },
   "outputs": [],
   "source": [
    "myPi = 3.14159"
   ]
  },
  {
   "cell_type": "code",
   "execution_count": null,
   "metadata": {
    "id": "Sb_5-Sxdyk6y"
   },
   "outputs": [],
   "source": [
    "# boolean variable (true/false)\n",
    "isHot = True"
   ]
  },
  {
   "cell_type": "code",
   "execution_count": null,
   "metadata": {
    "colab": {
     "base_uri": "https://localhost:8080/"
    },
    "id": "aRuSMQHDyk6z",
    "outputId": "78119afe-32f0-42d9-8b08-2166c2d657f1"
   },
   "outputs": [],
   "source": [
    "# type(variableName) will return variable data type\n",
    "type(theAnswer)"
   ]
  },
  {
   "cell_type": "code",
   "execution_count": null,
   "metadata": {
    "id": "v-u9Q4w0yk6z"
   },
   "outputs": [],
   "source": [
    "# What is the data type of myname ?\n",
    "# How about data type of isHot ?"
   ]
  },
  {
   "cell_type": "code",
   "execution_count": null,
   "metadata": {
    "colab": {
     "base_uri": "https://localhost:8080/"
    },
    "id": "1TKprZDunoi5",
    "outputId": "5ddd5e02-0ce5-44b1-cecc-c5948b862620"
   },
   "outputs": [],
   "source": [
    "type(myPi)"
   ]
  },
  {
   "cell_type": "code",
   "execution_count": null,
   "metadata": {
    "colab": {
     "base_uri": "https://localhost:8080/"
    },
    "id": "rmpJ-R1Qn_LV",
    "outputId": "060d68f8-b751-46b0-f0b0-10cd7b7e3f50"
   },
   "outputs": [],
   "source": [
    "type(isHot)"
   ]
  },
  {
   "cell_type": "code",
   "execution_count": null,
   "metadata": {
    "colab": {
     "base_uri": "https://localhost:8080/"
    },
    "id": "oRy0DVUvoHmW",
    "outputId": "388be591-fbd9-4fa4-ba72-4fb78d323a54"
   },
   "outputs": [],
   "source": [
    "print(isHot)"
   ]
  },
  {
   "cell_type": "code",
   "execution_count": null,
   "metadata": {
    "id": "GokAv0PoFubM"
   },
   "outputs": [],
   "source": [
    "# we can change the value stored in a variable\n",
    "isHot = False"
   ]
  },
  {
   "cell_type": "code",
   "execution_count": null,
   "metadata": {
    "colab": {
     "base_uri": "https://localhost:8080/"
    },
    "id": "MYOraEMDMwXl",
    "outputId": "b09943c0-8883-4fd6-a581-acd0ded1c4d8"
   },
   "outputs": [],
   "source": [
    "print(isHot)"
   ]
  },
  {
   "cell_type": "code",
   "execution_count": null,
   "metadata": {
    "colab": {
     "base_uri": "https://localhost:8080/"
    },
    "id": "h5ghzJQ9yk6z",
    "outputId": "4ad58d69-8ff1-447b-85e8-3b3f8b629dab"
   },
   "outputs": [],
   "source": [
    "# Variable names cannot be reserved keywords\n",
    "help(\"keywords\")"
   ]
  },
  {
   "cell_type": "code",
   "execution_count": null,
   "metadata": {
    "colab": {
     "base_uri": "https://localhost:8080/"
    },
    "id": "rDEpoGFJof9g",
    "outputId": "41e6aadb-3f98-461e-e213-49c67620a847"
   },
   "outputs": [],
   "source": [
    "help(print)"
   ]
  },
  {
   "cell_type": "markdown",
   "metadata": {
    "id": "1UPeG4HEFubO"
   },
   "source": [
    "### Getting user input\n",
    "\n",
    "`input()` command lets the program ask for user input"
   ]
  },
  {
   "cell_type": "code",
   "execution_count": null,
   "metadata": {
    "colab": {
     "base_uri": "https://localhost:8080/"
    },
    "id": "wCD396FEFubO",
    "outputId": "cff15ff7-66ec-4fe7-9dfc-41e879147f38"
   },
   "outputs": [],
   "source": [
    "# get input (as text string)\n",
    "\n",
    "text = input(\"Enter a number: \")"
   ]
  },
  {
   "cell_type": "code",
   "execution_count": null,
   "metadata": {
    "colab": {
     "base_uri": "https://localhost:8080/",
     "height": 36
    },
    "id": "IcMw8t7XNyGs",
    "outputId": "042d5d70-fa16-473e-c819-6310ca7d309b"
   },
   "outputs": [],
   "source": [
    "text"
   ]
  },
  {
   "cell_type": "code",
   "execution_count": null,
   "metadata": {
    "colab": {
     "base_uri": "https://localhost:8080/"
    },
    "id": "j3h0BlLrN8L4",
    "outputId": "04a684ac-a66b-48f8-cc03-60f68dcc2c35"
   },
   "outputs": [],
   "source": [
    "# the result of the input() command is a text string\n",
    "# let's convert it to an integer\n",
    "\n",
    "int(text)"
   ]
  },
  {
   "cell_type": "markdown",
   "metadata": {
    "id": "kSOUPDUDFubO"
   },
   "source": [
    "#### Input is a function\n",
    "\n",
    "* a function \"packages\" some lines of a Python program together and gives them a name\n",
    "\n",
    "* a function may be called with one or more arguments (e.g. text to print)\n",
    "* a function may do something (e.g. print some text)\n",
    "* a function may return a value (e.g. user input)\n",
    "\n",
    "Other functions:\n",
    "\n",
    "* `print()`\n",
    "* `type()`\n",
    "\n",
    "Fuctions are called by their name followed by an opening parenthesis, a list of arguments and a closing parenthesis:\n",
    "\n",
    "- `print(text)`"
   ]
  },
  {
   "cell_type": "code",
   "execution_count": null,
   "metadata": {
    "id": "6TWaxaOjFubP"
   },
   "outputs": [],
   "source": []
  },
  {
   "cell_type": "markdown",
   "metadata": {
    "id": "6wuOMeq5FubP"
   },
   "source": [
    "#### Your task: ask for a user's name and print a greeting\n",
    "\n",
    "1) ask a user to input their name\n",
    "2) print a greeting, addressing the user by name"
   ]
  },
  {
   "cell_type": "code",
   "execution_count": null,
   "metadata": {
    "id": "O7q0_oZSFubP"
   },
   "outputs": [],
   "source": []
  },
  {
   "cell_type": "markdown",
   "metadata": {
    "id": "Qayktm7yyk6z"
   },
   "source": [
    "### Data types in Python 3.x\n",
    "\n",
    "* Integers\n",
    "  * type(42)\n",
    "  * int\n",
    "* Floating Point (decimal numbers)\n",
    "  * type(3.14)\n",
    "  * float\n",
    "* Boolean\n",
    "  * type(True),type(False)\n",
    "  * bool\n",
    "* String(ordered, immutable char sequence)\n",
    "  * type(\"OyCaramba\")\n",
    "  * str\n",
    "* List\n",
    "  * type([1,2,63,\"aha\",\"youcanmixtypeinsidelist\", [\"even\",\"nest\"]])\n",
    "  * list\n",
    "* Dictionary(key:value pairs)\n",
    "  * type({\"foo\":\"bar\", \"favoriteday\":\"Friday\"})\n",
    "  * dict\n",
    "* Tuple - ordered immutable sequence\n",
    "  * type((\"sup\",7,\"dwarves\"))\n",
    "  * tuple\n",
    "* Set (unordered collection of unique values)\n",
    "  * type({\"p\", \"o\", \"t\", \"a\", \"t\", \"o\"})\n",
    "  * set"
   ]
  },
  {
   "cell_type": "markdown",
   "metadata": {
    "id": "NLqBrqSmyk6z"
   },
   "source": [
    "## More on variables\n",
    "https://realpython.com/python-variables"
   ]
  },
  {
   "cell_type": "markdown",
   "metadata": {
    "id": "VNKMQuIyyk66"
   },
   "source": [
    "## Arithmetic Operators <a class=\"anchor\" id=\"arithmetic\">\n",
    "\n",
    "* `+ - * / `\n",
    "* `**(power)`\n",
    "* `% modulus`\n",
    "* `//(integer division)`\n",
    "* `() parenthesis for order`\n"
   ]
  },
  {
   "cell_type": "code",
   "execution_count": null,
   "metadata": {
    "colab": {
     "base_uri": "https://localhost:8080/"
    },
    "id": "nQX4h96pyk66",
    "outputId": "8a3833ff-ac02-4b8e-a928-59f1aa9fa7dd"
   },
   "outputs": [],
   "source": [
    "5*3 + 4*3 - (6/2)"
   ]
  },
  {
   "cell_type": "code",
   "execution_count": null,
   "metadata": {
    "colab": {
     "base_uri": "https://localhost:8080/"
    },
    "id": "n8wDrhb3JtYW",
    "outputId": "fac2743d-fb08-4029-ec81-8b6f73989418"
   },
   "outputs": [],
   "source": [
    "5/2"
   ]
  },
  {
   "cell_type": "code",
   "execution_count": null,
   "metadata": {
    "colab": {
     "base_uri": "https://localhost:8080/"
    },
    "id": "iGIvNReTyk67",
    "outputId": "7e78d731-c7bb-4ed2-88fd-786c7672665a"
   },
   "outputs": [],
   "source": [
    "5//2 # gives you whole - integer division\n"
   ]
  },
  {
   "cell_type": "code",
   "execution_count": null,
   "metadata": {
    "colab": {
     "base_uri": "https://localhost:8080/"
    },
    "id": "akoyNPzFJ1Ez",
    "outputId": "2aa87571-e0ff-4d7a-de80-42fd0dc9c8a9"
   },
   "outputs": [],
   "source": [
    "5 % 2 # this gives you remainder / technically called modulo"
   ]
  },
  {
   "cell_type": "code",
   "execution_count": null,
   "metadata": {
    "colab": {
     "base_uri": "https://localhost:8080/"
    },
    "id": "6jo8PZW8yk67",
    "outputId": "f9932656-208a-4bdb-8c23-0f6e2b9b2801"
   },
   "outputs": [],
   "source": [
    "4%3"
   ]
  },
  {
   "cell_type": "code",
   "execution_count": null,
   "metadata": {
    "colab": {
     "base_uri": "https://localhost:8080/"
    },
    "id": "5bYgoxkzyk67",
    "outputId": "fba4ace9-fd54-4a33-e8b9-a528b6cb93aa"
   },
   "outputs": [],
   "source": [
    "type(1)"
   ]
  },
  {
   "cell_type": "code",
   "execution_count": null,
   "metadata": {
    "colab": {
     "base_uri": "https://localhost:8080/"
    },
    "id": "Nrua1v5Iyk67",
    "outputId": "f19a413e-ec20-45ca-9818-458877cfa75b"
   },
   "outputs": [],
   "source": [
    "type(14.0)"
   ]
  },
  {
   "cell_type": "code",
   "execution_count": null,
   "metadata": {
    "colab": {
     "base_uri": "https://localhost:8080/"
    },
    "id": "Y0Md1cP9yk67",
    "outputId": "55ab4082-3ef7-4c06-bc61-bd89bd131c1d"
   },
   "outputs": [],
   "source": [
    "5**33 # 5 to 33rd power"
   ]
  },
  {
   "cell_type": "code",
   "execution_count": null,
   "metadata": {
    "colab": {
     "base_uri": "https://localhost:8080/"
    },
    "id": "6dx9JpjTyk67",
    "outputId": "85480c0e-eb33-4723-95cd-ceb102a2ab7f"
   },
   "outputs": [],
   "source": [
    "# no maximum anymore\n",
    "11**120"
   ]
  },
  {
   "cell_type": "code",
   "execution_count": null,
   "metadata": {
    "colab": {
     "base_uri": "https://localhost:8080/"
    },
    "id": "j7fL3jdHKc8Y",
    "outputId": "8dde72c9-b39d-4a06-cf41-25c1cf6f3017"
   },
   "outputs": [],
   "source": [
    "# Googol\n",
    "10**100"
   ]
  },
  {
   "cell_type": "code",
   "execution_count": null,
   "metadata": {
    "colab": {
     "base_uri": "https://localhost:8080/"
    },
    "id": "5dFjqH73KiUe",
    "outputId": "dce94f1f-a866-42da-8416-8065f988feea"
   },
   "outputs": [],
   "source": [
    "big_num = 10**100\n",
    "big_num"
   ]
  },
  {
   "cell_type": "code",
   "execution_count": null,
   "metadata": {
    "colab": {
     "base_uri": "https://localhost:8080/",
     "height": 54
    },
    "id": "DdimhJi_KqCa",
    "outputId": "1ff68d1b-6508-44c9-ceb1-258ab7a510e6"
   },
   "outputs": [],
   "source": [
    "string_num = str(big_num) # we can convert anything to a string\n",
    "string_num"
   ]
  },
  {
   "cell_type": "code",
   "execution_count": null,
   "metadata": {
    "colab": {
     "base_uri": "https://localhost:8080/"
    },
    "id": "ve_mv6y5Kwpp",
    "outputId": "fe01ff00-9796-421c-926e-ad65196b7856"
   },
   "outputs": [],
   "source": [
    "string_num.count(\"0\")"
   ]
  },
  {
   "cell_type": "markdown",
   "metadata": {
    "id": "6Zt5iHxRFubS"
   },
   "source": [
    "## More on operators\n",
    "https://www.w3schools.com/python/python_operators.asp"
   ]
  },
  {
   "cell_type": "markdown",
   "metadata": {
    "id": "nLLz0VyPyk60"
   },
   "source": [
    "## Strings\n",
    "* immutable\n",
    "* Unicode support\n",
    "\n",
    "\n",
    "* implement all common sequence operators\n",
    "https://docs.python.org/3/library/stdtypes.html#typesseq-common\n",
    "\n",
    "* string specific methods\n",
    "https://docs.python.org/3/library/stdtypes.html#string-methods"
   ]
  },
  {
   "cell_type": "code",
   "execution_count": null,
   "metadata": {
    "colab": {
     "base_uri": "https://localhost:8080/"
    },
    "id": "_IIK6FraqVas",
    "outputId": "4d485389-0437-4bf9-f2ff-5bd502ad8d9d"
   },
   "outputs": [],
   "source": [
    "print(myname)"
   ]
  },
  {
   "cell_type": "code",
   "execution_count": null,
   "metadata": {
    "colab": {
     "base_uri": "https://localhost:8080/"
    },
    "id": "_cCBXOM9yk60",
    "outputId": "73bf8a9f-e50c-48d8-8013-60232300cb6e"
   },
   "outputs": [],
   "source": [
    "# String length\n",
    "len(myname)"
   ]
  },
  {
   "cell_type": "code",
   "execution_count": null,
   "metadata": {
    "colab": {
     "base_uri": "https://localhost:8080/"
    },
    "id": "rIHKrMgQyk60",
    "outputId": "c81bf3ee-766b-4942-fa86-49151a859fe3"
   },
   "outputs": [],
   "source": [
    "# How is this different from \"myname\" ?\n",
    "len(\"myname\")"
   ]
  },
  {
   "cell_type": "code",
   "execution_count": null,
   "metadata": {
    "colab": {
     "base_uri": "https://localhost:8080/",
     "height": 36
    },
    "id": "evJmIiRkyk60",
    "outputId": "193fb91c-6231-45f9-a976-9307aa25be78"
   },
   "outputs": [],
   "source": [
    "# Getting individual characters (counting from 0)\n",
    "myname[1]"
   ]
  },
  {
   "cell_type": "code",
   "execution_count": null,
   "metadata": {
    "colab": {
     "base_uri": "https://localhost:8080/",
     "height": 36
    },
    "id": "F5gUZK5Ayk60",
    "outputId": "b08ff1d7-dea8-4e17-9810-7146e05ac7a2"
   },
   "outputs": [],
   "source": [
    "# Getting the last character\n",
    "myname[-1]"
   ]
  },
  {
   "cell_type": "markdown",
   "metadata": {
    "id": "w4Lf34OUyk61"
   },
   "source": [
    "### String Slicing"
   ]
  },
  {
   "cell_type": "code",
   "execution_count": null,
   "metadata": {
    "colab": {
     "base_uri": "https://localhost:8080/",
     "height": 36
    },
    "id": "d2Frzw-Lyk61",
    "outputId": "54db0a9c-062f-4dcc-8122-28dd58b2bca4"
   },
   "outputs": [],
   "source": [
    "# Slicing lets us get parts (slices) of text values\n",
    "\n",
    "# Slicing syntax\n",
    "# Start at 0 an go until but not including 3\n",
    "myname[0:3]"
   ]
  },
  {
   "cell_type": "code",
   "execution_count": null,
   "metadata": {
    "colab": {
     "base_uri": "https://localhost:8080/",
     "height": 36
    },
    "id": "Ar7t3e_krf6F",
    "outputId": "3398c271-5009-466a-aa3d-259510d3aea2"
   },
   "outputs": [],
   "source": [
    "# We can omit the default start value (0) \n",
    "myname[:3]"
   ]
  },
  {
   "cell_type": "code",
   "execution_count": null,
   "metadata": {
    "colab": {
     "base_uri": "https://localhost:8080/",
     "height": 36
    },
    "id": "4tk6jWskyk61",
    "outputId": "837a7252-24db-4cd5-f233-d964ac73fad1"
   },
   "outputs": [],
   "source": [
    "myname[1:3]"
   ]
  },
  {
   "cell_type": "code",
   "execution_count": null,
   "metadata": {
    "colab": {
     "base_uri": "https://localhost:8080/",
     "height": 36
    },
    "id": "MypGDyJgrxAU",
    "outputId": "e699bfa2-116b-4eaa-be46-9bf24f348e2c"
   },
   "outputs": [],
   "source": [
    "# last three characters\n",
    "myname[-3:] # so we slice from 3 characters in the end and go towards that end"
   ]
  },
  {
   "cell_type": "code",
   "execution_count": null,
   "metadata": {
    "colab": {
     "base_uri": "https://localhost:8080/",
     "height": 36
    },
    "id": "Mc2G_duCr8yY",
    "outputId": "e48b126d-2bac-404b-927d-36e387ebfec0"
   },
   "outputs": [],
   "source": [
    "myname[-3:-1] # this will give 3rd and 2nd character from the end BUT not the last one"
   ]
  },
  {
   "cell_type": "code",
   "execution_count": null,
   "metadata": {
    "colab": {
     "base_uri": "https://localhost:8080/"
    },
    "id": "pyDMGpozsGKg",
    "outputId": "193c6e1c-bcdd-4fad-ddae-b9e8bb8be151"
   },
   "outputs": [],
   "source": [
    "print(myname[4])  # Python offers two indexes one from the start starting at 0, and one from the end starting at -1\n",
    "print(myname[-1])"
   ]
  },
  {
   "cell_type": "code",
   "execution_count": null,
   "metadata": {
    "colab": {
     "base_uri": "https://localhost:8080/",
     "height": 171
    },
    "id": "dMCauuGEsaGT",
    "outputId": "203b3ada-f055-4734-97b1-be7ba424f4e4"
   },
   "outputs": [],
   "source": [
    "myname[9000]"
   ]
  },
  {
   "cell_type": "code",
   "execution_count": null,
   "metadata": {
    "colab": {
     "base_uri": "https://localhost:8080/",
     "height": 36
    },
    "id": "V4nvBiFTyk61",
    "outputId": "1e0df580-3d75-426f-e397-40d71f898ba2"
   },
   "outputs": [],
   "source": [
    "# slicing syntax actually has a 3rd optional modifier - step\n",
    "myname[0:6:2]"
   ]
  },
  {
   "cell_type": "code",
   "execution_count": null,
   "metadata": {
    "colab": {
     "base_uri": "https://localhost:8080/",
     "height": 36
    },
    "id": "k3NY_dcotAxv",
    "outputId": "b2b06eab-2965-429c-a8c1-398f20daa15c"
   },
   "outputs": [],
   "source": [
    "myname[::2] # so I want to print all letters starting from start but skip every 2nd one"
   ]
  },
  {
   "cell_type": "code",
   "execution_count": null,
   "metadata": {
    "colab": {
     "base_uri": "https://localhost:8080/",
     "height": 36
    },
    "id": "i2rgqIrQyk61",
    "outputId": "90009f13-f966-4302-9640-eb3ff0d3cd89"
   },
   "outputs": [],
   "source": [
    "# lets play with food!\n",
    "food = \"potatoes\"\n",
    "food[::2]"
   ]
  },
  {
   "cell_type": "code",
   "execution_count": null,
   "metadata": {
    "colab": {
     "base_uri": "https://localhost:8080/",
     "height": 36
    },
    "id": "iwXQNx-tyk62",
    "outputId": "c61f441d-ebd6-4a35-a09b-7da0ae3b27f0"
   },
   "outputs": [],
   "source": [
    "food[1::2] # we start with a 2nd letter and skip every 2nd letter from then on"
   ]
  },
  {
   "cell_type": "code",
   "execution_count": null,
   "metadata": {
    "colab": {
     "base_uri": "https://localhost:8080/",
     "height": 36
    },
    "id": "Msa_Ad2Myk62",
    "outputId": "3286627d-0de7-4a52-c7e2-e5a06d22e741"
   },
   "outputs": [],
   "source": [
    "food[1:6:2]"
   ]
  },
  {
   "cell_type": "code",
   "execution_count": null,
   "metadata": {
    "colab": {
     "base_uri": "https://localhost:8080/",
     "height": 36
    },
    "id": "eVA7IzQcyk62",
    "outputId": "28475b34-0b83-4f98-f871-30b0fc481527"
   },
   "outputs": [],
   "source": [
    "# Pythonic way of reversing a string\n",
    "food[::-1]\n"
   ]
  },
  {
   "cell_type": "code",
   "execution_count": null,
   "metadata": {
    "colab": {
     "base_uri": "https://localhost:8080/",
     "height": 171
    },
    "id": "nORDYX41t09O",
    "outputId": "cc597e27-b895-429c-e6c0-87f5ab2221a2"
   },
   "outputs": [],
   "source": [
    "food[2] = \"x\"    # this would not work"
   ]
  },
  {
   "cell_type": "code",
   "execution_count": null,
   "metadata": {
    "colab": {
     "base_uri": "https://localhost:8080/",
     "height": 36
    },
    "id": "j4ils2ODyk62",
    "outputId": "6f8ea330-3071-4967-cb6a-48cc8401e231"
   },
   "outputs": [],
   "source": [
    "# modifying strings\n",
    "# unmutability\n",
    "# food[2]=\"x\" is not allowed\n",
    "newfood = food[:2] + \"x\" + food[3:] # so we concatanate first 2 letters from food then add letter \"x\" and then rest of letters from food starting with the 4th characters\n",
    "newfood"
   ]
  },
  {
   "cell_type": "code",
   "execution_count": null,
   "metadata": {
    "colab": {
     "base_uri": "https://localhost:8080/",
     "height": 36
    },
    "id": "_sQ4cEufuRfA",
    "outputId": "1a40431c-032d-45f0-e56f-2d2eba9052e9"
   },
   "outputs": [],
   "source": [
    "last_name = \"Bojārs\"\n",
    "last_name"
   ]
  },
  {
   "cell_type": "code",
   "execution_count": null,
   "metadata": {
    "colab": {
     "base_uri": "https://localhost:8080/",
     "height": 36
    },
    "id": "qGh04I3zuYTM",
    "outputId": "229ee05f-ef33-403a-adc2-901ee043b33e"
   },
   "outputs": [],
   "source": [
    "full_name = myname + last_name\n",
    "full_name"
   ]
  },
  {
   "cell_type": "code",
   "execution_count": null,
   "metadata": {
    "colab": {
     "base_uri": "https://localhost:8080/",
     "height": 36
    },
    "id": "tMK5ad-Jum3N",
    "outputId": "af3abf37-2201-402c-d408-7cc9ca647068"
   },
   "outputs": [],
   "source": [
    "full_name = myname + \" \" + last_name\n",
    "full_name"
   ]
  },
  {
   "cell_type": "markdown",
   "metadata": {
    "id": "pwOxFbXsyk63"
   },
   "source": [
    "## \"f-strings\", “formatted string literals”\n",
    "\n",
    "In some other languages also known as string interpolation"
   ]
  },
  {
   "cell_type": "code",
   "execution_count": null,
   "metadata": {
    "colab": {
     "base_uri": "https://localhost:8080/",
     "height": 36
    },
    "id": "eGwasQzEyk63",
    "outputId": "cd9d9923-0ef1-4b2d-c11e-47ec64b9f3dd"
   },
   "outputs": [],
   "source": [
    "# Create myname and favfood variables with the appropriate text\n",
    "# Then run the print function below\n",
    "\n",
    "myname"
   ]
  },
  {
   "cell_type": "code",
   "execution_count": null,
   "metadata": {
    "colab": {
     "base_uri": "https://localhost:8080/",
     "height": 36
    },
    "id": "btOR_9VDv0Q1",
    "outputId": "1bc67ffd-7a20-4e25-e8ce-c826362ddd03"
   },
   "outputs": [],
   "source": [
    "favfood = \"pizza\"\n",
    "favfood"
   ]
  },
  {
   "cell_type": "code",
   "execution_count": null,
   "metadata": {
    "colab": {
     "base_uri": "https://localhost:8080/"
    },
    "id": "F6iqEY0Jyk63",
    "outputId": "a508bcf6-7b55-4f09-98d8-6963fe1bb88d"
   },
   "outputs": [],
   "source": [
    "print(f\"My name is {myname} and my favorite food is {favfood} \")\n",
    "\n",
    "# f-strings were added in Python 3.6+ (older formatting methods not covered in this course)\n",
    "# https://realpython.com/python-f-strings/\n"
   ]
  },
  {
   "cell_type": "code",
   "execution_count": null,
   "metadata": {
    "colab": {
     "base_uri": "https://localhost:8080/"
    },
    "id": "1ZITJytQwDb7",
    "outputId": "e20d77b4-f385-42b2-c5c4-00967180337c"
   },
   "outputs": [],
   "source": [
    "print(\"My name is {myname} and my favorite food is {favfood} \") # just a regular string and no variables will be replaced"
   ]
  },
  {
   "cell_type": "code",
   "execution_count": null,
   "metadata": {
    "id": "XNZHcE6fyk63"
   },
   "outputs": [],
   "source": [
    "# Old string concatenation method\n",
    "print(\"My name is \" + myname + \" and my favorite food is \" + favfood)"
   ]
  },
  {
   "cell_type": "code",
   "execution_count": null,
   "metadata": {
    "id": "mkSNQTbLwO0M"
   },
   "outputs": [],
   "source": [
    "food_string = f\"My name is {myname} and my favorite food is {favfood}\"\n",
    "food_string"
   ]
  },
  {
   "cell_type": "markdown",
   "metadata": {},
   "source": [
    "## Detour: ChatGPT\n",
    "\n",
    "**ChatGPT is a powerful system that can generate program code and human-like text, and can participate in conversations with the user.**\n",
    "\n",
    "It is based on a large language model that predicts new tokens (words) in a sentence becased on the existing text.\n",
    "\n",
    "**Get a free ChatGPT account here:**\n",
    " - https://chatgpt.com/\n",
    "\n",
    "**How you can use ChatGPT in programming:**\n",
    " - help with program error messages (e.g. Python exceptions)\n",
    " - explaining program code\n",
    " - writing programs\n",
    " - ...\n",
    "\n",
    "**Limitations of ChatGPT:**\n",
    " - hallucinations (e.g. ChatGPT and similar services can \"invent\" Python libraries that do not exist)\n",
    " - bias (the model reflects biases in the data that it was trained on)\n",
    " - knowledge cut-off (the model does not have knowledge about recent events, ...)\n",
    "\n",
    "---"
   ]
  },
  {
   "cell_type": "code",
   "execution_count": null,
   "metadata": {},
   "outputs": [],
   "source": [
    "# 1) Use ChatGPT to get help with the error message from the print error example\n",
    "#    at the beginning of this notebook\n"
   ]
  },
  {
   "cell_type": "code",
   "execution_count": null,
   "metadata": {},
   "outputs": [],
   "source": [
    "# 2) Use ChatGPT to explain Python program code that you need help with:\n",
    "#    e.g. the code for using Python f-strings\n"
   ]
  },
  {
   "cell_type": "code",
   "execution_count": null,
   "metadata": {},
   "outputs": [],
   "source": [
    "# 3) Ask ChatGPT to write a simple program\n"
   ]
  },
  {
   "cell_type": "markdown",
   "metadata": {},
   "source": [
    "---"
   ]
  },
  {
   "cell_type": "markdown",
   "metadata": {
    "id": "zMrBVe2FBeuB"
   },
   "source": [
    "## String Methods\n",
    "\n",
    "String methods lets us do something with text string values (e.g. transform them)."
   ]
  },
  {
   "cell_type": "code",
   "execution_count": null,
   "metadata": {
    "colab": {
     "base_uri": "https://localhost:8080/",
     "height": 36
    },
    "id": "jBgJH-wjBjkE",
    "outputId": "056b39c2-77b3-4a72-985f-ad0ea49c357b"
   },
   "outputs": [],
   "source": [
    "myname"
   ]
  },
  {
   "cell_type": "code",
   "execution_count": null,
   "metadata": {
    "colab": {
     "base_uri": "https://localhost:8080/"
    },
    "id": "aZ_Q8wXjFubd",
    "outputId": "cbf2384f-1cbf-42f6-cef6-7483ac605192"
   },
   "outputs": [],
   "source": [
    "help(str)"
   ]
  },
  {
   "cell_type": "code",
   "execution_count": null,
   "metadata": {
    "colab": {
     "base_uri": "https://localhost:8080/"
    },
    "id": "R1xGXrFqFubd",
    "outputId": "9bed8de3-2f2b-47c9-cf82-8a8230335ec3"
   },
   "outputs": [],
   "source": [
    "help(str.capitalize)"
   ]
  },
  {
   "cell_type": "code",
   "execution_count": null,
   "metadata": {
    "colab": {
     "base_uri": "https://localhost:8080/",
     "height": 36
    },
    "id": "dXdFK-7MCGvq",
    "outputId": "9e532fb1-b064-4954-f335-6f2e125ca11b"
   },
   "outputs": [],
   "source": [
    "some_string = \"aBBa\"\n",
    "some_string"
   ]
  },
  {
   "cell_type": "code",
   "execution_count": null,
   "metadata": {
    "colab": {
     "base_uri": "https://localhost:8080/",
     "height": 36
    },
    "id": "WgluZQdZCLse",
    "outputId": "bac8e35c-7e1a-4b4e-8fc3-0e3b0a6d8d2b"
   },
   "outputs": [],
   "source": [
    "some_string.capitalize()"
   ]
  },
  {
   "cell_type": "code",
   "execution_count": null,
   "metadata": {},
   "outputs": [],
   "source": [
    "some_string.upper()"
   ]
  },
  {
   "cell_type": "code",
   "execution_count": null,
   "metadata": {
    "colab": {
     "base_uri": "https://localhost:8080/"
    },
    "id": "E1D7PZtRCWEW",
    "outputId": "15e0c316-b038-4792-8b4b-10d9a8ac55f0"
   },
   "outputs": [],
   "source": [
    "some_string.count(\"B\")"
   ]
  },
  {
   "cell_type": "code",
   "execution_count": null,
   "metadata": {
    "colab": {
     "base_uri": "https://localhost:8080/"
    },
    "id": "9ONwV1ESCpoM",
    "outputId": "90225362-7b7e-4e52-dcbb-3a49c4bc4e43"
   },
   "outputs": [],
   "source": [
    "help(str.count)"
   ]
  },
  {
   "cell_type": "code",
   "execution_count": null,
   "metadata": {
    "colab": {
     "base_uri": "https://localhost:8080/"
    },
    "id": "exvpiGcyCx-G",
    "outputId": "f0f993bf-ee1a-4de0-fa83-2bc1b8e11e2d"
   },
   "outputs": [],
   "source": [
    "\"BBBB\".count(\"BB\") # the count method will not consider overlapping matches"
   ]
  },
  {
   "cell_type": "code",
   "execution_count": null,
   "metadata": {
    "colab": {
     "base_uri": "https://localhost:8080/"
    },
    "id": "GhiSjX6BCdrE",
    "outputId": "fad5630f-4751-4f64-bb7f-9af19b802d12"
   },
   "outputs": [],
   "source": [
    "some_string.endswith(\"Ba\")"
   ]
  },
  {
   "cell_type": "code",
   "execution_count": null,
   "metadata": {
    "colab": {
     "base_uri": "https://localhost:8080/"
    },
    "id": "JlygkEPGZoUz",
    "outputId": "7d67c4fe-db7e-4854-b898-6f6109d6f01f"
   },
   "outputs": [],
   "source": [
    "some_string.startswith(\"aB\")"
   ]
  },
  {
   "cell_type": "code",
   "execution_count": null,
   "metadata": {
    "colab": {
     "base_uri": "https://localhost:8080/"
    },
    "id": "wdsD5SfCFube",
    "outputId": "4a033a26-de03-47fc-a6d6-48191356436b"
   },
   "outputs": [],
   "source": [
    "# we can use the result of a method call (in this case: True) in the \"if\" command \n",
    "# to execute some code when the result is True\n",
    "\n",
    "if some_string.endswith(\"Ba\"):\n",
    "    print(\"This string ends with 'Ba'\")"
   ]
  },
  {
   "cell_type": "code",
   "execution_count": null,
   "metadata": {
    "colab": {
     "base_uri": "https://localhost:8080/"
    },
    "id": "llQhTEw0DGLn",
    "outputId": "912e5d7e-18b0-46b8-a8dd-781e12ad2ec8"
   },
   "outputs": [],
   "source": [
    "some_string.find(\"B\") # returns index of first occurence"
   ]
  },
  {
   "cell_type": "code",
   "execution_count": null,
   "metadata": {
    "colab": {
     "base_uri": "https://localhost:8080/"
    },
    "id": "oUz4FHnlDNFv",
    "outputId": "9fcdbd49-66d2-46d2-bad3-06b7584b356c"
   },
   "outputs": [],
   "source": [
    "myname.find(\"dis\")"
   ]
  },
  {
   "cell_type": "code",
   "execution_count": null,
   "metadata": {
    "colab": {
     "base_uri": "https://localhost:8080/",
     "height": 36
    },
    "id": "79IKuewEDT9D",
    "outputId": "f301c1d5-942b-4af4-a02c-a22dc3c24035"
   },
   "outputs": [],
   "source": [
    "myname[2:]"
   ]
  },
  {
   "cell_type": "code",
   "execution_count": null,
   "metadata": {
    "colab": {
     "base_uri": "https://localhost:8080/",
     "height": 36
    },
    "id": "nv-moFmMDlGM",
    "outputId": "74fc7f22-aa8f-442c-f631-117c40898ea1"
   },
   "outputs": [],
   "source": [
    "myname.lower() # everything to lowercase"
   ]
  },
  {
   "cell_type": "code",
   "execution_count": null,
   "metadata": {
    "colab": {
     "base_uri": "https://localhost:8080/",
     "height": 36
    },
    "id": "eFcwSZkkD_ID",
    "outputId": "df2bf210-6121-43dd-ac5c-dac424bf3543"
   },
   "outputs": [],
   "source": [
    "myname.upper()"
   ]
  },
  {
   "cell_type": "code",
   "execution_count": null,
   "metadata": {
    "colab": {
     "base_uri": "https://localhost:8080/",
     "height": 36
    },
    "id": "abBhVGSIEDu6",
    "outputId": "d0dd48d8-d773-4db1-8fdf-c1e7d688e0c1"
   },
   "outputs": [],
   "source": [
    "myname.replace(\"U\", \"Va\")"
   ]
  },
  {
   "cell_type": "code",
   "execution_count": null,
   "metadata": {
    "colab": {
     "base_uri": "https://localhost:8080/",
     "height": 36
    },
    "id": "Yyw-W36uENgW",
    "outputId": "37ad3947-848c-4843-94ff-22e416374dfd"
   },
   "outputs": [],
   "source": [
    "myname # strings are not Mutable (can not be changed \"in place\")! Here's what we can do:"
   ]
  },
  {
   "cell_type": "code",
   "execution_count": null,
   "metadata": {
    "colab": {
     "base_uri": "https://localhost:8080/",
     "height": 36
    },
    "id": "M4u7um2VFFuz",
    "outputId": "8ac4d2ba-2fb7-44fa-f6cc-e1936c0640f2"
   },
   "outputs": [],
   "source": [
    "new_name = myname.replace(\"U\", \"Va\")\n",
    "new_name"
   ]
  },
  {
   "cell_type": "code",
   "execution_count": null,
   "metadata": {
    "colab": {
     "base_uri": "https://localhost:8080/",
     "height": 36
    },
    "id": "46zM2BHBFJv7",
    "outputId": "c4d15c6c-5694-4e28-aa9c-50fb1f85e819"
   },
   "outputs": [],
   "source": [
    "myname"
   ]
  },
  {
   "cell_type": "code",
   "execution_count": null,
   "metadata": {
    "colab": {
     "base_uri": "https://localhost:8080/",
     "height": 36
    },
    "id": "uHnbDmgGFMio",
    "outputId": "9d6667da-b5b7-4e29-cc94-621aa7d2ec24"
   },
   "outputs": [],
   "source": [
    "# we can overwrite the old variable (myname)\n",
    "myname = myname.replace(\"U\", \"Va\")\n",
    "myname"
   ]
  },
  {
   "cell_type": "code",
   "execution_count": null,
   "metadata": {
    "colab": {
     "base_uri": "https://localhost:8080/",
     "height": 36
    },
    "id": "qvDBUivJE608",
    "outputId": "c9399165-3c3e-4ee7-df30-a60e72ea83e6"
   },
   "outputs": [],
   "source": [
    "\"quick brown fox\".title()"
   ]
  },
  {
   "cell_type": "code",
   "execution_count": null,
   "metadata": {
    "colab": {
     "base_uri": "https://localhost:8080/",
     "height": 36
    },
    "id": "Q3hL4EJRE9-p",
    "outputId": "bab9170e-72f6-400a-9d07-a8cd8e2593c1"
   },
   "outputs": [],
   "source": [
    "\"quick brown fox\".capitalize()"
   ]
  },
  {
   "cell_type": "code",
   "execution_count": null,
   "metadata": {
    "colab": {
     "base_uri": "https://localhost:8080/",
     "height": 36
    },
    "id": "CeRFDraZFD5U",
    "outputId": "9f9c1fd8-63a7-4ee1-d673-ff71848746a7"
   },
   "outputs": [],
   "source": [
    "sentence = \"A quick brown fox jumped over       a sleeping dog\"\n",
    "sentence"
   ]
  },
  {
   "cell_type": "code",
   "execution_count": null,
   "metadata": {
    "colab": {
     "base_uri": "https://localhost:8080/"
    },
    "id": "SHhPSisbFubi",
    "outputId": "05bd44a2-d50f-41b7-e166-4c7f67bdc219"
   },
   "outputs": [],
   "source": [
    "\"fox\" in sentence"
   ]
  },
  {
   "cell_type": "code",
   "execution_count": null,
   "metadata": {
    "colab": {
     "base_uri": "https://localhost:8080/"
    },
    "id": "YaUm8vXdFp3S",
    "outputId": "f4c5529a-68d0-47d9-8157-a8a0b6386b59"
   },
   "outputs": [],
   "source": [
    "# we can get a list of words by splitting the string by any amount of whitespace including newlines, tabs, etc.\n",
    "words = sentence.split() \n",
    "\n",
    "words"
   ]
  },
  {
   "cell_type": "code",
   "execution_count": null,
   "metadata": {
    "colab": {
     "base_uri": "https://localhost:8080/",
     "height": 36
    },
    "id": "Sa_nm2JLGHDn",
    "outputId": "95bb9969-91a1-49be-e1ce-edbc7c21cb52"
   },
   "outputs": [],
   "source": [
    "# join a list of words using a single whitespace as the joining element\n",
    "joined_string = \" \".join(words)\n",
    "joined_string"
   ]
  },
  {
   "cell_type": "code",
   "execution_count": null,
   "metadata": {
    "colab": {
     "base_uri": "https://localhost:8080/",
     "height": 54
    },
    "id": "lb8Whe35Ggji",
    "outputId": "6245020f-4052-469f-e269-b5357b6099bd"
   },
   "outputs": [],
   "source": [
    "joined_string = \" ||| \".join(words) # you can join by multiple characters\n",
    "joined_string"
   ]
  },
  {
   "cell_type": "code",
   "execution_count": null,
   "metadata": {
    "colab": {
     "base_uri": "https://localhost:8080/",
     "height": 36
    },
    "id": "gFy9ZgNXFubj",
    "outputId": "f3e9b7bd-84ac-4c9e-e3a0-24530a9aaa13"
   },
   "outputs": [],
   "source": [
    "smiley_string = \" 😀 \".join(words) # can use any Unicode characters\n",
    "smiley_string"
   ]
  },
  {
   "cell_type": "markdown",
   "metadata": {
    "id": "Ab46RX_Ayk63"
   },
   "source": [
    "## Python Lists\n",
    "\n",
    "* Ordered\n",
    "* Mutable(can change individual members!)\n",
    "* Comma separated between brackets [1,3,2,5,6,2]\n",
    "* Can have duplicates\n",
    "* Can be nested\n"
   ]
  },
  {
   "cell_type": "code",
   "execution_count": null,
   "metadata": {
    "colab": {
     "base_uri": "https://localhost:8080/"
    },
    "id": "S-k4t2bWoVpQ",
    "outputId": "1d98dd89-22b5-4ad0-9e9e-f00a552db1d4"
   },
   "outputs": [],
   "source": [
    "# the range command creates a sequence of integers from the start value to the end value (not included)\n",
    "range(11,21,1)"
   ]
  },
  {
   "cell_type": "code",
   "execution_count": null,
   "metadata": {
    "colab": {
     "base_uri": "https://localhost:8080/"
    },
    "id": "Pj1LtSiiyk63",
    "outputId": "157267b4-30b5-489b-9f5b-1bddb055914e"
   },
   "outputs": [],
   "source": [
    "# we can convert the range of integers to a list\n",
    "mylist = list(range(11,21,1))\n",
    "\n",
    "# mylist = [11, 12, 13, 14, 15, 16, 17, 18, 19, 20] would work too but not practical for longer ranges...\n",
    "\n",
    "print(mylist)"
   ]
  },
  {
   "cell_type": "code",
   "execution_count": null,
   "metadata": {
    "colab": {
     "base_uri": "https://localhost:8080/"
    },
    "id": "ov8VuKAEw4oZ",
    "outputId": "b4364491-41fe-4ac9-b808-9b3a8a48e23a"
   },
   "outputs": [],
   "source": [
    "shopping_list = [\"Chocolate\", \"Milk\", \"Cookies\"] # we created a list of 3 strings - can be changed later on as needed\n",
    "shopping_list"
   ]
  },
  {
   "cell_type": "code",
   "execution_count": null,
   "metadata": {},
   "outputs": [],
   "source": [
    "# get an individual element of a list\n",
    "# (counting from 0)\n",
    "shopping_list[1]"
   ]
  },
  {
   "cell_type": "code",
   "execution_count": null,
   "metadata": {},
   "outputs": [],
   "source": [
    "# use negative numbers to count elements from the end of the list\n",
    "# (e.g. -1 for the last element)\n",
    "shopping_list[-1]"
   ]
  },
  {
   "cell_type": "code",
   "execution_count": null,
   "metadata": {},
   "outputs": [],
   "source": [
    "# you can change the value of list elements, too\n",
    "shopping_list[-1] = \"Potatoes\"\n",
    "shopping_list"
   ]
  },
  {
   "cell_type": "markdown",
   "metadata": {
    "id": "lS62R1xHyk63"
   },
   "source": [
    "### Slice notation\n",
    "\n",
    "somestring[start:end:step]\n",
    "\n",
    "somelist[start:end:step]\n",
    "\n",
    "start is at index 0(first element), end is -1 the actual index\n",
    "#### Examples below"
   ]
  },
  {
   "cell_type": "code",
   "execution_count": null,
   "metadata": {},
   "outputs": [],
   "source": [
    "mylist"
   ]
  },
  {
   "cell_type": "code",
   "execution_count": null,
   "metadata": {
    "colab": {
     "base_uri": "https://localhost:8080/"
    },
    "id": "cg8Nn8Xlyk64",
    "outputId": "8227e191-422c-4276-ee8f-f04016adc627"
   },
   "outputs": [],
   "source": [
    "mylist[3:] # starting from the 4th element(with index 3)"
   ]
  },
  {
   "cell_type": "code",
   "execution_count": null,
   "metadata": {
    "colab": {
     "base_uri": "https://localhost:8080/"
    },
    "id": "PF9Pqnyeyk64",
    "outputId": "0ba58b30-0d3b-48b0-9780-a944ea712838"
   },
   "outputs": [],
   "source": [
    "mylist[:-2] # everything BUT the last two items"
   ]
  },
  {
   "cell_type": "code",
   "execution_count": null,
   "metadata": {},
   "outputs": [],
   "source": [
    "mylist[3:6] # from element with index 3 to element with index 6 (not included)"
   ]
  },
  {
   "cell_type": "code",
   "execution_count": null,
   "metadata": {
    "colab": {
     "base_uri": "https://localhost:8080/"
    },
    "id": "xmKJGEc0yk64",
    "outputId": "05c5b04a-a0dc-4643-a3d9-e7056951849a"
   },
   "outputs": [],
   "source": [
    "# step 2 = every other element\n",
    "mylist[::2]"
   ]
  },
  {
   "cell_type": "code",
   "execution_count": null,
   "metadata": {
    "colab": {
     "base_uri": "https://localhost:8080/",
     "height": 36
    },
    "id": "XsTGTVo0yk65",
    "outputId": "130b4a04-2580-4a32-faaf-799ebf69f02d"
   },
   "outputs": [],
   "source": [
    "# negative step value returns a list in a reverse order\n",
    "mylist[::-1]"
   ]
  },
  {
   "cell_type": "code",
   "execution_count": null,
   "metadata": {},
   "outputs": [],
   "source": [
    "# slicing also works on string values\n",
    "myname[::-1]"
   ]
  },
  {
   "cell_type": "markdown",
   "metadata": {
    "id": "LFGg71Z6yk65"
   },
   "source": [
    "\n",
    "### Common list methods.\n",
    "* list.append(elem) -- adds a single element to the end of the list. Common error: does not return the new list, just modifies the original.\n",
    "* list.insert(index, elem) -- inserts the element at the given index, shifting elements to the right.\n",
    "* list.extend(list2) adds the elements in list2 to the end of the list. Using + or += on a list is similar to using extend().\n",
    "* list.index(elem) -- searches for the given element from the start of the list and returns its index. Throws a ValueError if the element does not appear (use \"in\" to check without a ValueError).\n",
    "* list.remove(elem) -- searches for the first instance of the given element and removes it (throws ValueError if not present)\n",
    "* list.sort() -- sorts the list in place (does not return it). (The sorted() function shown later is preferred.)\n",
    "* list.reverse() -- reverses the list in place (does not return it)\n",
    "* list.pop(index)-- removes and returns the element at the given index. Returns the rightmost element if index is omitted (roughly the opposite of append())."
   ]
  },
  {
   "cell_type": "code",
   "execution_count": null,
   "metadata": {
    "colab": {
     "base_uri": "https://localhost:8080/"
    },
    "id": "pbsx7duKx5ha",
    "outputId": "556001c4-94b5-4a73-9ba1-3b2bc67107b4"
   },
   "outputs": [],
   "source": [
    "shopping_list"
   ]
  },
  {
   "cell_type": "code",
   "execution_count": null,
   "metadata": {
    "colab": {
     "base_uri": "https://localhost:8080/"
    },
    "id": "Kbu66bEgx9-s",
    "outputId": "3eecf292-e1a4-4d6b-e26e-f1cc811df02f"
   },
   "outputs": [],
   "source": [
    "shopping_list.append(\"Kefir\")\n",
    "shopping_list"
   ]
  },
  {
   "cell_type": "code",
   "execution_count": null,
   "metadata": {
    "colab": {
     "base_uri": "https://localhost:8080/"
    },
    "id": "U3febKV1yMUI",
    "outputId": "69ca55c5-7e32-463a-e668-f0b7b58ea8f4"
   },
   "outputs": [],
   "source": [
    "shopping_list.sort() # this will sort a list\n",
    "shopping_list"
   ]
  },
  {
   "cell_type": "code",
   "execution_count": null,
   "metadata": {
    "colab": {
     "base_uri": "https://localhost:8080/"
    },
    "id": "JO5st21XyVhY",
    "outputId": "75411dbd-07a3-43fc-e7fb-23f8f921ba31"
   },
   "outputs": [],
   "source": [
    "shopping_list.append(\"fork\")\n",
    "shopping_list"
   ]
  },
  {
   "cell_type": "code",
   "execution_count": null,
   "metadata": {
    "colab": {
     "base_uri": "https://localhost:8080/"
    },
    "id": "rwChOk8GyvbG",
    "outputId": "b44e52ce-f3a9-4813-ae90-c5a5c8d33f86"
   },
   "outputs": [],
   "source": [
    "shopping_list = shopping_list[:-3] # remove last 3 items\n",
    "shopping_list"
   ]
  },
  {
   "cell_type": "code",
   "execution_count": null,
   "metadata": {
    "colab": {
     "base_uri": "https://localhost:8080/",
     "height": 189
    },
    "id": "lDug1ZoazASu",
    "outputId": "9c7b1832-81f1-441c-fdf4-57899db6493d"
   },
   "outputs": [],
   "source": [
    "shopping_list.remove(\"Chocolate\")\n",
    "shopping_list"
   ]
  },
  {
   "cell_type": "code",
   "execution_count": null,
   "metadata": {
    "colab": {
     "base_uri": "https://localhost:8080/"
    },
    "id": "FkHGu6fazRCF",
    "outputId": "174ea973-7dfa-4c10-989d-d51aa02e6fac"
   },
   "outputs": [],
   "source": [
    "\"Kefir\" in shopping_list  # this needs to be exact match"
   ]
  },
  {
   "cell_type": "code",
   "execution_count": null,
   "metadata": {
    "colab": {
     "base_uri": "https://localhost:8080/"
    },
    "id": "LBm6xnhAzb9Y",
    "outputId": "b0746160-7313-4aaf-ae22-3ddbccb4ed48"
   },
   "outputs": [],
   "source": [
    "\"kefir\" in shopping_list # case sensitive so it should be false"
   ]
  },
  {
   "cell_type": "code",
   "execution_count": null,
   "metadata": {
    "colab": {
     "base_uri": "https://localhost:8080/"
    },
    "id": "b-aF5slHzYG5",
    "outputId": "869fba50-1e36-4c34-a305-71b84793aa22"
   },
   "outputs": [],
   "source": [
    "\"Milk\" in shopping_list"
   ]
  },
  {
   "cell_type": "code",
   "execution_count": null,
   "metadata": {
    "colab": {
     "base_uri": "https://localhost:8080/"
    },
    "id": "V9tvNzyTzlhY",
    "outputId": "ff3797f6-c79c-4f2d-8e61-42afc400a0aa"
   },
   "outputs": [],
   "source": [
    "# The \"in\" command also works on text strings\n",
    "\"dis\" in myname"
   ]
  },
  {
   "cell_type": "code",
   "execution_count": null,
   "metadata": {
    "id": "gewz00xNp5Lq"
   },
   "outputs": [],
   "source": [
    "myname = \"Uldis\""
   ]
  },
  {
   "cell_type": "code",
   "execution_count": null,
   "metadata": {
    "colab": {
     "base_uri": "https://localhost:8080/"
    },
    "id": "rNORT9z4zrSx",
    "outputId": "8a8f1b69-c765-46cd-b677-05ba1c224757"
   },
   "outputs": [],
   "source": [
    "\"al\" in myname # Uldis does not have the \"al\" substring"
   ]
  },
  {
   "cell_type": "markdown",
   "metadata": {
    "id": "EKTtGIVBFubn"
   },
   "source": [
    "#### Your task: let the user enter some text and output the number of words in this text\n",
    "\n",
    "*Task 2 (optional): Let the user enter 2 numbers separated by a space and print out a sum of these numbers*\n"
   ]
  },
  {
   "cell_type": "code",
   "execution_count": null,
   "metadata": {
    "id": "TL74ptRhFubn"
   },
   "outputs": [],
   "source": []
  },
  {
   "cell_type": "markdown",
   "metadata": {
    "id": "migbFQ7eyk65"
   },
   "source": [
    "## Dictionaries\n",
    "\n",
    "* Collection of Key - Value pairs\n",
    "* also known as associative array\n",
    "* unordered\n",
    "* keys unique in one dictionary\n",
    "* storing, extracting"
   ]
  },
  {
   "cell_type": "code",
   "execution_count": null,
   "metadata": {
    "colab": {
     "base_uri": "https://localhost:8080/"
    },
    "id": "BrClGPCfyk65",
    "outputId": "949cfead-f87c-4e3f-dc29-dcbac8ee1d43"
   },
   "outputs": [],
   "source": [
    "# Dictionary is a key-value store, also known as Hashmaps\n",
    "# Keys must be unique\n",
    "mydict = {\"country\": \"Latvia\",\n",
    "          \"city\": \"Riga\"} \n",
    "mydict"
   ]
  },
  {
   "cell_type": "code",
   "execution_count": null,
   "metadata": {
    "colab": {
     "base_uri": "https://localhost:8080/",
     "height": 36
    },
    "id": "OpwX01D_snzl",
    "outputId": "23bef2a1-a14a-4d8e-a61c-903afb285264"
   },
   "outputs": [],
   "source": [
    "mydict[\"city\"]"
   ]
  },
  {
   "cell_type": "code",
   "execution_count": null,
   "metadata": {
    "colab": {
     "base_uri": "https://localhost:8080/"
    },
    "id": "LPQs68Ipyk65",
    "outputId": "7da1f820-ea21-4594-8f23-db21503ecb17"
   },
   "outputs": [],
   "source": [
    "# adding and overwriting key value pair\n",
    "mydict[\"food\"]=\"potatoes\" # if key \"food\" does not exist it will create this pairing, if it exists it will overwrite\n",
    "mydict"
   ]
  },
  {
   "cell_type": "code",
   "execution_count": null,
   "metadata": {
    "colab": {
     "base_uri": "https://localhost:8080/",
     "height": 36
    },
    "id": "nBD4T-WNyk65",
    "outputId": "cef89a2e-5239-41de-9395-b83790b677ad"
   },
   "outputs": [],
   "source": [
    "mydict[\"food\"] # can access values by key very very quickly"
   ]
  },
  {
   "cell_type": "code",
   "execution_count": null,
   "metadata": {
    "colab": {
     "base_uri": "https://localhost:8080/",
     "height": 36
    },
    "id": "YKZr15c7yk65",
    "outputId": "36410bfc-2ad7-4fa9-9c18-ddf0747c1c6d"
   },
   "outputs": [],
   "source": [
    "mydict[\"country\"]"
   ]
  },
  {
   "cell_type": "code",
   "execution_count": null,
   "metadata": {
    "colab": {
     "base_uri": "https://localhost:8080/"
    },
    "id": "vdIvCt81yk65",
    "outputId": "9874d1f4-b3d8-438b-94b9-3c4b06d006a8"
   },
   "outputs": [],
   "source": [
    "mydict.keys()"
   ]
  },
  {
   "cell_type": "code",
   "execution_count": null,
   "metadata": {
    "colab": {
     "base_uri": "https://localhost:8080/"
    },
    "id": "yct3q-j5yk66",
    "outputId": "3dce8925-d346-4f4f-f573-9a9311ec5c2b"
   },
   "outputs": [],
   "source": [
    "mydict.values()"
   ]
  },
  {
   "cell_type": "code",
   "execution_count": null,
   "metadata": {
    "colab": {
     "base_uri": "https://localhost:8080/"
    },
    "id": "EaMSZFjmyk66",
    "outputId": "0f01b498-0e43-47ef-9487-e64d17561de6"
   },
   "outputs": [],
   "source": [
    "\"potatoes\" in mydict.values() # this will be slower in larger dictionaries"
   ]
  },
  {
   "cell_type": "code",
   "execution_count": null,
   "metadata": {
    "colab": {
     "base_uri": "https://localhost:8080/"
    },
    "id": "3PJ38Eb3HdmD",
    "outputId": "7a2ac6cd-f4ad-4cd7-d6e6-1ec950193dd0"
   },
   "outputs": [],
   "source": [
    "\"country\" in mydict # same as \"country\" in mydict.keys(), this is quick no matter the dictionary size"
   ]
  },
  {
   "cell_type": "code",
   "execution_count": null,
   "metadata": {
    "colab": {
     "base_uri": "https://localhost:8080/"
    },
    "id": "o50py6XJH9Yx",
    "outputId": "112792bd-cd2c-4e56-ce96-bffa4bf16ded"
   },
   "outputs": [],
   "source": [
    "country_dict = {\"countries\" : [{\"country\":\"Latvia\", \"food\":\"Potatoes\"},{\"country\":\"Estonia\"}], \"cities\":[\"Riga\",\"Tallinn\",\"Kyiv\"]}\n",
    "country_dict"
   ]
  },
  {
   "cell_type": "code",
   "execution_count": null,
   "metadata": {
    "colab": {
     "base_uri": "https://localhost:8080/"
    },
    "id": "X6KxH-94Fubq",
    "outputId": "317ffe7e-94c1-4038-a66a-97cc2235f1ee"
   },
   "outputs": [],
   "source": [
    "# let's import a pprint library for better print formatting\n",
    "from pprint import pprint\n",
    "\n",
    "pprint(country_dict)"
   ]
  },
  {
   "cell_type": "code",
   "execution_count": null,
   "metadata": {
    "colab": {
     "base_uri": "https://localhost:8080/"
    },
    "id": "suZqyJycJD3B",
    "outputId": "feffd4c9-c6bb-40d0-a9f5-a433ea3726d5"
   },
   "outputs": [],
   "source": [
    "country_dict[\"countries\"] # we get a list of dictionaries"
   ]
  },
  {
   "cell_type": "code",
   "execution_count": null,
   "metadata": {
    "colab": {
     "base_uri": "https://localhost:8080/"
    },
    "id": "bFMjOTrRJF8i",
    "outputId": "2a070c51-1551-4acd-8f16-ba432e5d6dd4"
   },
   "outputs": [],
   "source": [
    "country_dict[\"countries\"][0] # the inner dictionary with info about Latvia is first in the list"
   ]
  },
  {
   "cell_type": "code",
   "execution_count": null,
   "metadata": {
    "colab": {
     "base_uri": "https://localhost:8080/",
     "height": 36
    },
    "id": "Ju94lDRkIpSy",
    "outputId": "bdaae2b0-846f-49fb-cfa6-e952fc36009c"
   },
   "outputs": [],
   "source": [
    "country_dict[\"countries\"][0][\"food\"]"
   ]
  },
  {
   "cell_type": "markdown",
   "metadata": {
    "id": "uLGx0rlGyk66"
   },
   "source": [
    "## Tuples\n",
    "\n",
    "* ordered\n",
    "* immutable (cannot be changed!)\n",
    "  * otherwise similar to lists"
   ]
  },
  {
   "cell_type": "code",
   "execution_count": null,
   "metadata": {
    "colab": {
     "base_uri": "https://localhost:8080/"
    },
    "id": "6ECR4BjKyk66",
    "outputId": "1dfa65ec-fd6b-44d1-e02f-208ae711f28c"
   },
   "outputs": [],
   "source": [
    "mytuple = (6, 4, 9)\n",
    "print(mytuple)"
   ]
  },
  {
   "cell_type": "code",
   "execution_count": null,
   "metadata": {
    "colab": {
     "base_uri": "https://localhost:8080/"
    },
    "id": "-lr67T2dFubr",
    "outputId": "46b55fe0-4ca1-432a-a1bc-011701dab02d"
   },
   "outputs": [],
   "source": [
    "mytuple2 = 4, 9, 16  # tuples can be defined without parenthesis, too\n",
    "print(mytuple2)"
   ]
  },
  {
   "cell_type": "code",
   "execution_count": null,
   "metadata": {
    "colab": {
     "base_uri": "https://localhost:8080/"
    },
    "id": "rEivjHPFFubr",
    "outputId": "3ce42519-7ef2-45bf-95b1-3d5b49ac463b"
   },
   "outputs": [],
   "source": [
    "mytuple[2] # can access tuple elements by index"
   ]
  },
  {
   "cell_type": "code",
   "execution_count": null,
   "metadata": {
    "colab": {
     "base_uri": "https://localhost:8080/",
     "height": 171
    },
    "id": "Di02ZKkmFubr",
    "outputId": "dffd1ffd-f8c9-4cce-8d96-49b464f8488c"
   },
   "outputs": [],
   "source": [
    "mytuple[2] = 8  # changing an element of a tuple will not work"
   ]
  },
  {
   "cell_type": "markdown",
   "metadata": {
    "id": "1el2gDIrFubr"
   },
   "source": [
    "Tuples can be used as dictionary keys or as a collection of values (e.g. for returning multiple values from a function).\n",
    "\n",
    "*We will look at defining functions later on.*"
   ]
  },
  {
   "cell_type": "code",
   "execution_count": null,
   "metadata": {
    "id": "WmbZSnGNFubr"
   },
   "outputs": [],
   "source": [
    "def return_multiple():\n",
    "    return 1, 4, 9\n",
    "\n",
    "result = return_multiple()"
   ]
  },
  {
   "cell_type": "code",
   "execution_count": null,
   "metadata": {
    "colab": {
     "base_uri": "https://localhost:8080/"
    },
    "id": "idNy4zaKFubs",
    "outputId": "90e5e1e9-10aa-4653-8f39-f55c83835bd6"
   },
   "outputs": [],
   "source": [
    "print(result)\n",
    "\n",
    "print()\n",
    "print(\"Accessing the 1st element of the returned tuple:\")\n",
    "print(result[1])"
   ]
  },
  {
   "cell_type": "markdown",
   "metadata": {
    "id": "94m41ooSyk67"
   },
   "source": [
    "## Flow Control <a class=\"anchor\" id=\"flow-control\">\n"
   ]
  },
  {
   "cell_type": "code",
   "execution_count": null,
   "metadata": {
    "id": "T7BtimQbyk67"
   },
   "outputs": [],
   "source": [
    "# With Flow Control we can tell our program/cells to choose different paths\n",
    "# or to run some commands repeatedly"
   ]
  },
  {
   "cell_type": "markdown",
   "metadata": {
    "id": "u8W4uJO1yk68"
   },
   "source": [
    "## Conditional operators\n",
    "\n",
    "`< > <= >= == != and or not`"
   ]
  },
  {
   "cell_type": "code",
   "execution_count": null,
   "metadata": {
    "id": "om2-RYt5yk68"
   },
   "outputs": [],
   "source": [
    "# What is truth in computer language?"
   ]
  },
  {
   "cell_type": "code",
   "execution_count": null,
   "metadata": {
    "colab": {
     "base_uri": "https://localhost:8080/"
    },
    "id": "MONkq4S3yk68",
    "outputId": "54436675-4d8a-4a9e-cc1d-97dbfc02ad87"
   },
   "outputs": [],
   "source": [
    "2*2 == 4"
   ]
  },
  {
   "cell_type": "code",
   "execution_count": null,
   "metadata": {
    "colab": {
     "base_uri": "https://localhost:8080/"
    },
    "id": "osZweVjuyk68",
    "outputId": "b362c873-121e-4d65-afd4-a417a42f7a55"
   },
   "outputs": [],
   "source": [
    "5 > 7\n"
   ]
  },
  {
   "cell_type": "code",
   "execution_count": null,
   "metadata": {
    "colab": {
     "base_uri": "https://localhost:8080/"
    },
    "id": "WtcIqTKqyk68",
    "outputId": "a381bea5-8eb5-41dd-9eb8-3ba1d7bdfbb0"
   },
   "outputs": [],
   "source": [
    "print(5 == int('5'))\n",
    "\n",
    "print(5 <= 6)"
   ]
  },
  {
   "cell_type": "code",
   "execution_count": null,
   "metadata": {
    "colab": {
     "base_uri": "https://localhost:8080/"
    },
    "id": "RjVP_FTuyk68",
    "outputId": "6e8512c1-9827-43df-c5e7-29231f6e88cd"
   },
   "outputs": [],
   "source": [
    "print(5 <= 5)\n",
    "\n",
    "# check if 5 is NOT equal to 6\n",
    "print(5 != 6)\n",
    "\n",
    "print(5 != 5)\n"
   ]
  },
  {
   "cell_type": "code",
   "execution_count": null,
   "metadata": {
    "colab": {
     "base_uri": "https://localhost:8080/"
    },
    "id": "dV-16LNayk68",
    "outputId": "1be65227-d436-40ae-e182-895f4b99cb5a"
   },
   "outputs": [],
   "source": [
    "# We check each letter from left side\n",
    "# on mismatch we check ASCII (UTF-8) character tables for values\n",
    "# so called lexicographical ordering\n",
    "'VALDIS' < 'VOLDEMARS'"
   ]
  },
  {
   "cell_type": "code",
   "execution_count": null,
   "metadata": {
    "colab": {
     "base_uri": "https://localhost:8080/"
    },
    "id": "xy9l-PiVLTkp",
    "outputId": "b3898c44-3da5-4855-b373-62d1ccfcba07"
   },
   "outputs": [],
   "source": [
    "ord(\"V\")"
   ]
  },
  {
   "cell_type": "code",
   "execution_count": null,
   "metadata": {
    "colab": {
     "base_uri": "https://localhost:8080/"
    },
    "id": "KoLh6BVELq6O",
    "outputId": "096742f6-e0e1-455c-cdd8-97b21871cae5"
   },
   "outputs": [],
   "source": [
    "ord(\"A\")"
   ]
  },
  {
   "cell_type": "code",
   "execution_count": null,
   "metadata": {
    "colab": {
     "base_uri": "https://localhost:8080/"
    },
    "id": "RVmBCTTbLum5",
    "outputId": "387707f4-406e-4afb-b0d9-8b27ff4df2b8"
   },
   "outputs": [],
   "source": [
    "ord(\"O\")"
   ]
  },
  {
   "cell_type": "code",
   "execution_count": null,
   "metadata": {
    "colab": {
     "base_uri": "https://localhost:8080/"
    },
    "id": "iRQiRFKhMdOA",
    "outputId": "7e5d8b16-a419-4b62-a375-38a5cb0ef25f"
   },
   "outputs": [],
   "source": [
    "\"UL\" in \"ULDIS\""
   ]
  },
  {
   "cell_type": "code",
   "execution_count": null,
   "metadata": {
    "colab": {
     "base_uri": "https://localhost:8080/"
    },
    "id": "K0J7zkImFubu",
    "outputId": "0f816b2a-8fa5-4c89-d3e6-1cb2f87e37b9"
   },
   "outputs": [],
   "source": [
    "\"Ul\" in \"ULDIS\""
   ]
  },
  {
   "cell_type": "code",
   "execution_count": null,
   "metadata": {
    "colab": {
     "base_uri": "https://localhost:8080/"
    },
    "id": "6FHS4t4Aw9xw",
    "outputId": "65f15a28-55c0-4419-ca85-74aa7592d443"
   },
   "outputs": [],
   "source": [
    "\"text\" in [\"This\", \"is\", \"text\"]"
   ]
  },
  {
   "cell_type": "code",
   "execution_count": null,
   "metadata": {
    "colab": {
     "base_uri": "https://localhost:8080/"
    },
    "id": "wNB92r86yk68",
    "outputId": "403b9b17-50a3-4168-b302-5e012e9c437b"
   },
   "outputs": [],
   "source": [
    "# combining multiple boolean values\n",
    "\n",
    "True and True"
   ]
  },
  {
   "cell_type": "code",
   "execution_count": null,
   "metadata": {
    "colab": {
     "base_uri": "https://localhost:8080/"
    },
    "id": "PDSDoyhtyk69",
    "outputId": "5160cd1c-b395-4316-91d6-78ddbb6a6e73"
   },
   "outputs": [],
   "source": [
    "True or False"
   ]
  },
  {
   "cell_type": "code",
   "execution_count": null,
   "metadata": {
    "colab": {
     "base_uri": "https://localhost:8080/"
    },
    "id": "_yRvWtvsyk69",
    "outputId": "5dbf5706-d6f5-4a25-d42d-f788f1cf3b25"
   },
   "outputs": [],
   "source": [
    "not True"
   ]
  },
  {
   "cell_type": "markdown",
   "metadata": {
    "id": "8Lh_uafdyk69"
   },
   "source": [
    "## If Statement"
   ]
  },
  {
   "cell_type": "code",
   "execution_count": null,
   "metadata": {
    "colab": {
     "base_uri": "https://localhost:8080/"
    },
    "id": "1VFw0D6Yyk69",
    "outputId": "86deac84-bdc9-4911-9f3f-d81a8b90fb83"
   },
   "outputs": [],
   "source": [
    "## Conditional execution lets the program choose \n",
    "## which commands to execute (e.g. based on the value of a comparison operation)\n",
    "\n",
    "# if 4 is larger than 5 then do something\n",
    "if 4 > 5:\n",
    "    print(\"4 is larger than 5, wow!\")\n",
    "    print(\"Another command inside the if statement\")\n",
    "\n",
    "# now I am out of the \"if\" command\n",
    "print(\"Always prints\")"
   ]
  },
  {
   "cell_type": "code",
   "execution_count": null,
   "metadata": {
    "colab": {
     "base_uri": "https://localhost:8080/"
    },
    "id": "ff_Wgf1kyk69",
    "outputId": "dc5bbaa6-8f32-4687-fe7c-74661db4dfe6"
   },
   "outputs": [],
   "source": [
    "if 5 >= 5:\n",
    "    print(\"hello\")\n",
    "\n",
    "if 5 == 6:\n",
    "    print(\"hello that's magic\")\n",
    "\n",
    "if 5 != 6:\n",
    "    print(\"hello that's not magic\")"
   ]
  },
  {
   "cell_type": "code",
   "execution_count": null,
   "metadata": {},
   "outputs": [],
   "source": [
    "# What's wrong with this code?\n",
    "print('hello that's magic')"
   ]
  },
  {
   "cell_type": "code",
   "execution_count": null,
   "metadata": {
    "colab": {
     "base_uri": "https://localhost:8080/"
    },
    "id": "mjfeVd-9NE-b",
    "outputId": "431ae205-ed35-4afc-c79f-f2dd944aa082"
   },
   "outputs": [],
   "source": [
    "\"Valdis\" != \"Uldis\" # we can check for inequality"
   ]
  },
  {
   "cell_type": "code",
   "execution_count": null,
   "metadata": {
    "id": "kw3qO4D8NKp1"
   },
   "outputs": [],
   "source": [
    "# same as\n",
    "not \"Valdis\" == \"Uldis\""
   ]
  },
  {
   "cell_type": "code",
   "execution_count": null,
   "metadata": {
    "colab": {
     "base_uri": "https://localhost:8080/"
    },
    "id": "07vTwFUXyk69",
    "outputId": "d44d6dc7-e0c0-4dc4-e7a3-67367995c6c1"
   },
   "outputs": [],
   "source": [
    "# the space in front of some code fragment below the \"if\" command\n",
    "# means that it is a code block to be executed when the boolean\n",
    "# value is true\n",
    "\n",
    "if 2*2 == 4:\n",
    "    print(\"Do one thing if if is True\")\n",
    "    print(\"Do more things if if is True\")\n",
    "\n",
    "    # we can keep adding more things here\n",
    "    print(\"Also do this when if is True\")\n",
    "\n",
    "print(\"Do this always\")"
   ]
  },
  {
   "cell_type": "code",
   "execution_count": null,
   "metadata": {
    "colab": {
     "base_uri": "https://localhost:8080/"
    },
    "id": "bwQ6KgAJyk6-",
    "outputId": "8705250c-ecef-415d-88c4-16f51accc7a7"
   },
   "outputs": [],
   "source": [
    "a = 4\n",
    "\n",
    "# if and else here are part of the same if / else statement\n",
    "if a > 5:\n",
    "    print('a is larger than 5')\n",
    "    # do more stuff\n",
    "else:\n",
    "    print('a is NOT larger than 5')\n",
    "    # do more stuff if a is not larger than 5"
   ]
  },
  {
   "cell_type": "code",
   "execution_count": null,
   "metadata": {
    "colab": {
     "base_uri": "https://localhost:8080/"
    },
    "id": "jn3qWMZtyk6-",
    "outputId": "e9ffec82-d507-48fb-f42b-2aa127a7bcc4"
   },
   "outputs": [],
   "source": [
    "# elif comes from \"else if\"\n",
    "\n",
    "x = int(input(\"Enter an integer please! \"))\n",
    "\n",
    "if x > 42:\n",
    "    print(\"Too ambitious an answer!\")\n",
    "elif x < 42:\n",
    "    print(\"You dream too little!\")\n",
    "else: # only 42 remains here\n",
    "    print(\"That is the answer to everything!\")\n",
    "\n",
    "#These lines below will execute always\n",
    "print('Your number is', x)"
   ]
  },
  {
   "cell_type": "code",
   "execution_count": null,
   "metadata": {
    "id": "wR_oeZihFubx"
   },
   "outputs": [],
   "source": []
  },
  {
   "cell_type": "code",
   "execution_count": null,
   "metadata": {
    "colab": {
     "base_uri": "https://localhost:8080/"
    },
    "id": "dpvM7gpDyk69",
    "outputId": "2bc996a6-3b75-42f1-d20a-d69b20ed92bb"
   },
   "outputs": [],
   "source": [
    "# converting a string to a decimal number using float()\n",
    "c = float(input(\"Enter temperature in Celsius \"))\n",
    "\n",
    "f = c * 9/5 + 32\n",
    "\n",
    "print(\"Fahrenheit Temperature is\", f, round(f, 2)) # we can round numbers up, instead of 2 you can use the required number of precision\n",
    "\n",
    "if f > 100:\n",
    "    print(\"You are too hot, find a doctor?\")"
   ]
  },
  {
   "cell_type": "code",
   "execution_count": null,
   "metadata": {
    "id": "y0WBr_Ilyk69"
   },
   "outputs": [],
   "source": [
    "# Try reversing the above program to create a Fahrenheit to Celsius converter"
   ]
  },
  {
   "cell_type": "code",
   "execution_count": null,
   "metadata": {},
   "outputs": [],
   "source": []
  },
  {
   "cell_type": "markdown",
   "metadata": {
    "id": "QtrFl0dByk6-"
   },
   "source": [
    "## Loops"
   ]
  },
  {
   "cell_type": "code",
   "execution_count": null,
   "metadata": {
    "id": "nMuqut4Fyk6-"
   },
   "outputs": [],
   "source": [
    "# How would we perform the same/similar action multiple times?"
   ]
  },
  {
   "cell_type": "code",
   "execution_count": null,
   "metadata": {
    "colab": {
     "base_uri": "https://localhost:8080/"
    },
    "id": "4lBUdvm7yk6-",
    "outputId": "5bb6eea0-c650-4637-af16-ee6f425bcd9f"
   },
   "outputs": [],
   "source": [
    "# A \"while\" loop instructs the computer to repeat a code block\n",
    "# while the loop condition (e.g. i < 5) is True\n",
    "\n",
    "i = 0\n",
    "print(\"Alice did\")\n",
    "\n",
    "while i < 5:\n",
    "    print(\"talk\")\n",
    "    print(\"  i is \", i)\n",
    "    i += 1   # same as i = i + 1"
   ]
  },
  {
   "cell_type": "code",
   "execution_count": null,
   "metadata": {
    "colab": {
     "base_uri": "https://localhost:8080/"
    },
    "id": "gVUkUAQFQQlo",
    "outputId": "5bfedc0e-a93f-46d0-9d3b-d93736aebe6a"
   },
   "outputs": [],
   "source": [
    "i"
   ]
  },
  {
   "cell_type": "code",
   "execution_count": null,
   "metadata": {
    "id": "O8Rk73-4yk6-"
   },
   "outputs": [],
   "source": [
    "# What would happen if we did not have i+=1 in our above program ?"
   ]
  },
  {
   "cell_type": "code",
   "execution_count": null,
   "metadata": {
    "colab": {
     "base_uri": "https://localhost:8080/"
    },
    "id": "9iQlG4C5yk6-",
    "outputId": "cb1f2b02-6b9a-423b-a411-1559f524efc8"
   },
   "outputs": [],
   "source": [
    "# A \"for\" loop instructs the computer to repeat a code block\n",
    "# for every element in the given sequence (e.g. a list of numbers)\n",
    "\n",
    "for x in range(10): # range is a number \"factory\"\n",
    "    print(\"Running the cycle.\")\n",
    "    print(x)"
   ]
  },
  {
   "cell_type": "code",
   "execution_count": null,
   "metadata": {
    "colab": {
     "base_uri": "https://localhost:8080/"
    },
    "id": "o7QcqVXDyk6-",
    "outputId": "e261342d-e416-4313-da17-158410b67d8b"
   },
   "outputs": [],
   "source": [
    "# we can loop / iterate through strings, too\n",
    "for c in \"Uldis\":\n",
    "    print(c)"
   ]
  },
  {
   "cell_type": "markdown",
   "metadata": {
    "id": "w6CEkiGsFubz"
   },
   "source": [
    "#### Iterating (looping) through lists"
   ]
  },
  {
   "cell_type": "code",
   "execution_count": null,
   "metadata": {},
   "outputs": [],
   "source": [
    "# we can iterate through list elements, too\n",
    "food = [\"apples\", \"carrots\", \"oranges\"]\n",
    "\n",
    "# for every element in the \"food\" list\n",
    "for item in food:\n",
    "    print(item)"
   ]
  },
  {
   "cell_type": "code",
   "execution_count": null,
   "metadata": {
    "colab": {
     "base_uri": "https://localhost:8080/"
    },
    "id": "1ykMR6anS1wS",
    "outputId": "217aa771-1866-4f03-9e8f-3409981fe06b"
   },
   "outputs": [],
   "source": [
    "shopping_list.append(\"Chocolate\")\n",
    "shopping_list.append(\"Strawberries\")\n",
    "                     \n",
    "for need_to_buy in shopping_list:\n",
    "    print(\"Need to buy\", need_to_buy)\n",
    "    # here we could actually do the buying operation"
   ]
  },
  {
   "cell_type": "code",
   "execution_count": null,
   "metadata": {
    "colab": {
     "base_uri": "https://localhost:8080/"
    },
    "id": "AXrGVP8xSzD4",
    "outputId": "0859ef4d-e28f-42a5-8eed-d2a28de6f900"
   },
   "outputs": [],
   "source": [
    "mylist = list(range(11,21))\n",
    "\n",
    "for item in mylist:\n",
    "    print(\"Item\", item)"
   ]
  },
  {
   "cell_type": "code",
   "execution_count": null,
   "metadata": {
    "colab": {
     "base_uri": "https://localhost:8080/"
    },
    "id": "4azwYOatTQnr",
    "outputId": "d9d80331-4dae-452b-8a96-d06030af0c33"
   },
   "outputs": [],
   "source": [
    "mydict = {\"country\": \"Latvia\", \"capital\": \"Riga\"}\n",
    "\n",
    "mydict"
   ]
  },
  {
   "cell_type": "code",
   "execution_count": null,
   "metadata": {
    "colab": {
     "base_uri": "https://localhost:8080/"
    },
    "id": "W-wWdtOfyk6_",
    "outputId": "67b2512b-f5b5-4c32-82f5-c4aa91520e03"
   },
   "outputs": [],
   "source": [
    "# loop through a dictionary\n",
    "for key, value in mydict.items(): # you could call them key, value or anything else\n",
    "    print(key, \":\", value)"
   ]
  },
  {
   "cell_type": "markdown",
   "metadata": {
    "id": "eQm335b0Fub2"
   },
   "source": [
    "### Your turn!"
   ]
  },
  {
   "cell_type": "code",
   "execution_count": null,
   "metadata": {
    "colab": {
     "base_uri": "https://localhost:8080/"
    },
    "id": "wcnzQ1mzFub2",
    "outputId": "e54bafb1-e9a5-4b0d-95ba-a7770a722017"
   },
   "outputs": [],
   "source": [
    "# Write a program that counts the number of different\n",
    "# words in a text string and displays the top 10 words\n",
    "# and the number of times they appear in the text.\n",
    "\n",
    "text = \"\"\"\n",
    "The Natural Language Toolkit, or more commonly NLTK, is a suite of libraries and programs for symbolic and statistical natural language processing (NLP) for English written in the Python programming language. It supports classification, tokenization, stemming, tagging, parsing, and semantic reasoning functionalities.[4] It was developed by Steven Bird and Edward Loper in the Department of Computer and Information Science at the University of Pennsylvania.[5] NLTK includes graphical demonstrations and sample data. It is accompanied by a book that explains the underlying concepts behind the language processing tasks supported by the toolkit,[6] plus a cookbook.[7]\n",
    "NLTK is intended to support research and teaching in NLP or closely related areas, including empirical linguistics, cognitive science, artificial intelligence, information retrieval, and machine learning.[8] NLTK has been used successfully as a teaching tool, as an individual study tool, and as a platform for prototyping and building research systems. There are 32 universities in the US and 25 countries using NLTK in their courses.\n",
    "\"\"\"\n",
    "\n",
    "# 1) split the text into words\n",
    "\n",
    "# write code here\n",
    "\n",
    "# 2) use a dictionary to count the number of unique words\n",
    "\n",
    "results = {}  # empty dictionary\n",
    "\n",
    "# write code here\n",
    "\n",
    "# 3) display top 10 results\n",
    "\n",
    "# write code here"
   ]
  },
  {
   "cell_type": "code",
   "execution_count": null,
   "metadata": {
    "id": "RLgfhCGRFub2"
   },
   "outputs": [],
   "source": []
  },
  {
   "cell_type": "code",
   "execution_count": null,
   "metadata": {
    "id": "tqM4mbdkFub2"
   },
   "outputs": [],
   "source": []
  },
  {
   "cell_type": "code",
   "execution_count": null,
   "metadata": {
    "id": "FyZUstAeFub3"
   },
   "outputs": [],
   "source": []
  },
  {
   "cell_type": "markdown",
   "metadata": {
    "id": "7bywoUw-yk7B"
   },
   "source": [
    "## What is a function? <a class=\"anchor\" id=\"functions\">\n",
    "\n",
    "* A function is a block of organized, reusable code that is used to perform a single, related action.\n",
    "###  DRY - Do not Repeat Yourself principle\n",
    "* Every piece of knowledge must have a single, unambiguous, authoritative representation within a system. http://wiki.c2.com/?DontRepeatYourself\n",
    "\n",
    "* Contrast WET - We Enjoy Typing, Write Everything Twice, Waste Everyone's Time"
   ]
  },
  {
   "cell_type": "code",
   "execution_count": null,
   "metadata": {
    "id": "4issPuv3yk7B"
   },
   "outputs": [],
   "source": [
    "# Here we define our first function\n",
    "# it does something (prints text)\n",
    "\n",
    "def myFirstFunc():\n",
    "    print(\"Running My first functio\")\n",
    "    print(\"Do more stuff\")"
   ]
  },
  {
   "cell_type": "code",
   "execution_count": null,
   "metadata": {
    "colab": {
     "base_uri": "https://localhost:8080/"
    },
    "id": "ktTvhI2Qyk7B",
    "outputId": "e35b77dc-10db-4a00-846c-3e543c4e0710"
   },
   "outputs": [],
   "source": [
    "# function has to be defined before it is called\n",
    "myFirstFunc()"
   ]
  },
  {
   "cell_type": "code",
   "execution_count": null,
   "metadata": {
    "colab": {
     "base_uri": "https://localhost:8080/"
    },
    "id": "mYrVGAcgFub3",
    "outputId": "b6ab5e1f-3076-4574-face-ef639edea5a8"
   },
   "outputs": [],
   "source": [
    "# we can call it repeatedly\n",
    "\n",
    "myFirstFunc()\n",
    "myFirstFunc()\n",
    "myFirstFunc()"
   ]
  },
  {
   "cell_type": "code",
   "execution_count": null,
   "metadata": {
    "id": "o2AKHLrcyk7C"
   },
   "outputs": [],
   "source": [
    "# Passing parameters (arguments)\n",
    "\n",
    "def printName(name):\n",
    "    print(f\"Maybe my name is: {name}\")\n"
   ]
  },
  {
   "cell_type": "code",
   "execution_count": null,
   "metadata": {
    "colab": {
     "base_uri": "https://localhost:8080/"
    },
    "id": "SxN2_rayUR6I",
    "outputId": "918c4da3-1e57-4880-ba51-4448c56160e5"
   },
   "outputs": [],
   "source": [
    "printName(\"Uldis\")"
   ]
  },
  {
   "cell_type": "code",
   "execution_count": null,
   "metadata": {
    "colab": {
     "base_uri": "https://localhost:8080/"
    },
    "id": "9tukNS8rUT_G",
    "outputId": "6e47caec-07fb-4ac2-d649-d92123a65125"
   },
   "outputs": [],
   "source": [
    "printName(\"Sergii\")"
   ]
  },
  {
   "cell_type": "code",
   "execution_count": null,
   "metadata": {
    "colab": {
     "base_uri": "https://localhost:8080/"
    },
    "id": "3g9rizp3UWcT",
    "outputId": "f1b682d5-e34e-498b-c22c-a059158b1b7e"
   },
   "outputs": [],
   "source": [
    "course_name = \"Introduction to Python\"\n",
    "\n",
    "# you can also use variables as function arguments\n",
    "printName(course_name)"
   ]
  },
  {
   "cell_type": "code",
   "execution_count": null,
   "metadata": {
    "id": "e2fd35vDUs9x"
   },
   "outputs": [],
   "source": [
    "def alternate_letters(text):\n",
    "\n",
    "    new_string = \"\"\n",
    "    for i, c in enumerate(text):\n",
    "        if i % 2 == 0:\n",
    "            new_string += c.lower() # this is same as saying new_string = new_string + c\n",
    "        else:\n",
    "            new_string += c.upper()  # this += is fine for smaller strings\n",
    "\n",
    "    # print(new_string)\n",
    "\n",
    "    return new_string # with return I can use the results of this function not just output to screen"
   ]
  },
  {
   "cell_type": "code",
   "execution_count": null,
   "metadata": {
    "colab": {
     "base_uri": "https://localhost:8080/",
     "height": 36
    },
    "id": "D37UXUhsU8Qr",
    "outputId": "1e5c9a61-1ab9-434a-a2b1-36e1872c54c5"
   },
   "outputs": [],
   "source": [
    "alternate_letters(\"Coffee\")"
   ]
  },
  {
   "cell_type": "code",
   "execution_count": null,
   "metadata": {
    "id": "9wItDm5zVd9y"
   },
   "outputs": [],
   "source": [
    "my_result = alternate_letters(\"Kefir\")"
   ]
  },
  {
   "cell_type": "code",
   "execution_count": null,
   "metadata": {
    "colab": {
     "base_uri": "https://localhost:8080/",
     "height": 36
    },
    "id": "GK1n4_pbVjFp",
    "outputId": "2798af38-53af-4c51-bcaf-a8cacab6e7d1"
   },
   "outputs": [],
   "source": [
    "my_result"
   ]
  },
  {
   "cell_type": "code",
   "execution_count": null,
   "metadata": {
    "id": "hcWHULvNyk7C"
   },
   "outputs": [],
   "source": [
    "\n"
   ]
  },
  {
   "cell_type": "code",
   "execution_count": null,
   "metadata": {
    "id": "UmUUiVofyk7C"
   },
   "outputs": [],
   "source": [
    "# It is good practice to describe what the function does\n",
    "# We can make Docstrings with '''Helpful function description inside'''\n",
    "\n",
    "def mult(a, b):\n",
    "    '''Returns multiple from first two arguments'''\n",
    "\n",
    "    print(\"Look ma I am multiplying!\", a, b, a*b)\n",
    "    return a * b"
   ]
  },
  {
   "cell_type": "code",
   "execution_count": null,
   "metadata": {
    "colab": {
     "base_uri": "https://localhost:8080/"
    },
    "id": "9dl58_MKFub5",
    "outputId": "6236c6e5-1255-4be2-8e28-90fb75ec36f4"
   },
   "outputs": [],
   "source": [
    "help(mult)"
   ]
  },
  {
   "cell_type": "code",
   "execution_count": null,
   "metadata": {},
   "outputs": [],
   "source": [
    "mult(5, 3)"
   ]
  },
  {
   "cell_type": "code",
   "execution_count": null,
   "metadata": {
    "colab": {
     "base_uri": "https://localhost:8080/"
    },
    "id": "mGGMB7Fhyk7C",
    "outputId": "4741b8c9-0ab6-431e-ce13-f4273ce258cb"
   },
   "outputs": [],
   "source": [
    "def printnum(num):\n",
    "    if num > 10:\n",
    "        print(f\"This number {num} is too unwieldy for me to print\")\n",
    "    else:\n",
    "        print(f\"This {num} is a nice number\")\n",
    "\n",
    "printnum(8)\n",
    "printnum(11)"
   ]
  },
  {
   "cell_type": "code",
   "execution_count": null,
   "metadata": {
    "id": "BbGcBJbMFub6"
   },
   "outputs": [],
   "source": []
  },
  {
   "cell_type": "code",
   "execution_count": null,
   "metadata": {
    "id": "QCnM90qRFub6"
   },
   "outputs": [],
   "source": [
    "# Convert your program that counts the number of different\n",
    "# words into a function that takes the input text argument\n",
    "# and prints the top 10 words and the number of times\n",
    "# they appear in the text."
   ]
  },
  {
   "cell_type": "code",
   "execution_count": null,
   "metadata": {
    "id": "CCfHIEhlFub6"
   },
   "outputs": [],
   "source": [
    "def top_10_words(input_text):\n",
    "\n",
    "    # clean the text\n",
    "\n",
    "    # split text into tokens\n",
    "\n",
    "    results = {}  # empty dictionary\n",
    "\n",
    "    # count the word frequency\n",
    "    \n",
    "    # print the results\n"
   ]
  },
  {
   "cell_type": "code",
   "execution_count": null,
   "metadata": {
    "colab": {
     "base_uri": "https://localhost:8080/"
    },
    "id": "1fg-sWoPFub6",
    "outputId": "a508094d-6d61-4a3f-8448-6e57b00bd97a"
   },
   "outputs": [],
   "source": [
    "text = \"\"\"\n",
    "The quick brown fox jumps over the lazy dog!\n",
    "Let's repeat some words like fox lazy, more words: brown fox\n",
    "\"\"\"\n",
    "\n",
    "top_10_words(text)"
   ]
  },
  {
   "cell_type": "markdown",
   "metadata": {
    "id": "rQWerPaTyk7D"
   },
   "source": [
    "## Libraries <a class=\"anchor\" id=\"libraries\">\n"
   ]
  },
  {
   "cell_type": "code",
   "execution_count": null,
   "metadata": {
    "id": "ue-Y0NMtyk7D"
   },
   "outputs": [],
   "source": [
    "# Python and Batteries Included Philosophy\n",
    "## Why reinvent the wheel?"
   ]
  },
  {
   "cell_type": "code",
   "execution_count": null,
   "metadata": {
    "id": "kKAZZ2RPyk7D"
   },
   "outputs": [],
   "source": [
    "import math\n"
   ]
  },
  {
   "cell_type": "code",
   "execution_count": null,
   "metadata": {
    "colab": {
     "base_uri": "https://localhost:8080/"
    },
    "id": "xrBBGDl-yk7D",
    "outputId": "ac0d4786-d0e7-4c5c-8e0b-e3880fd0b145"
   },
   "outputs": [],
   "source": [
    "# notice the . syntax helper\n",
    "math.cos(3.14)"
   ]
  },
  {
   "cell_type": "code",
   "execution_count": null,
   "metadata": {
    "colab": {
     "base_uri": "https://localhost:8080/"
    },
    "id": "hUdAeW_XFub7",
    "outputId": "c3f0a3df-3abc-4fba-a644-3a47262c45f4"
   },
   "outputs": [],
   "source": [
    "math.pi"
   ]
  },
  {
   "cell_type": "code",
   "execution_count": null,
   "metadata": {
    "colab": {
     "base_uri": "https://localhost:8080/"
    },
    "id": "h3P68t3uFub7",
    "outputId": "7f0f5da4-f47f-4c4b-e003-fabf9432efc2"
   },
   "outputs": [],
   "source": [
    "math.cos(math.pi)"
   ]
  },
  {
   "cell_type": "code",
   "execution_count": null,
   "metadata": {
    "id": "d1uopCSuFub7"
   },
   "outputs": [],
   "source": [
    "import random   # random number generator library\n",
    "# https://docs.python.org/3/library/random.html\n"
   ]
  },
  {
   "cell_type": "code",
   "execution_count": null,
   "metadata": {
    "colab": {
     "base_uri": "https://localhost:8080/"
    },
    "id": "mIeTkpq6Fub7",
    "outputId": "0d6d3fba-ca55-4fd2-e7fa-91daa64e8856"
   },
   "outputs": [],
   "source": [
    "# generate random numbers from 1 to 6\n",
    "\n",
    "result = random.randint(1,6)\n",
    "print(result)"
   ]
  },
  {
   "cell_type": "code",
   "execution_count": null,
   "metadata": {
    "colab": {
     "base_uri": "https://localhost:8080/"
    },
    "id": "vKCfZwg_Fub7",
    "outputId": "9d1dc512-6cfc-4e8e-fa64-3a42b44238f8"
   },
   "outputs": [],
   "source": [
    "# print 10 random numbers\n",
    "\n",
    "for i in range(10):\n",
    "    print(random.randint(1,6))\n"
   ]
  },
  {
   "cell_type": "code",
   "execution_count": null,
   "metadata": {
    "colab": {
     "base_uri": "https://localhost:8080/"
    },
    "id": "y8Ii9k2UGVWc",
    "outputId": "13d262ae-73fb-45fc-efc8-b4d5b5192858"
   },
   "outputs": [],
   "source": [
    "help(random.randint)"
   ]
  },
  {
   "cell_type": "code",
   "execution_count": null,
   "metadata": {
    "id": "_s8H3zWuFub8"
   },
   "outputs": [],
   "source": []
  },
  {
   "cell_type": "code",
   "execution_count": null,
   "metadata": {
    "id": "jyiYv9ZWyk7D"
   },
   "outputs": [],
   "source": [
    "from collections import Counter"
   ]
  },
  {
   "cell_type": "code",
   "execution_count": null,
   "metadata": {
    "colab": {
     "base_uri": "https://localhost:8080/"
    },
    "id": "naQt3oPuyk7D",
    "outputId": "7471262a-3f3e-4024-e8a0-d8426dac3411"
   },
   "outputs": [],
   "source": [
    "magic = \"abracadabra\"\n",
    "\n",
    "cnt = Counter(magic)\n",
    "\n",
    "cnt"
   ]
  },
  {
   "cell_type": "code",
   "execution_count": null,
   "metadata": {
    "colab": {
     "base_uri": "https://localhost:8080/"
    },
    "id": "Fm7Pu5yhFub8",
    "outputId": "d0aae88f-4295-41ba-f373-dbb76c67a213"
   },
   "outputs": [],
   "source": [
    "cnt.most_common(5)"
   ]
  },
  {
   "cell_type": "code",
   "execution_count": null,
   "metadata": {
    "colab": {
     "base_uri": "https://localhost:8080/"
    },
    "id": "Ca_upFFKFub8",
    "outputId": "3cafc755-12cc-441b-b032-cf0746997db0"
   },
   "outputs": [],
   "source": [
    "for key, value in cnt.most_common(5):\n",
    "    print(key, \":\", value)"
   ]
  },
  {
   "cell_type": "code",
   "execution_count": null,
   "metadata": {
    "id": "INoGYcLbFub8"
   },
   "outputs": [],
   "source": [
    "cnt = Counter(text.lower().split())"
   ]
  },
  {
   "cell_type": "code",
   "execution_count": null,
   "metadata": {
    "colab": {
     "base_uri": "https://localhost:8080/"
    },
    "id": "af06kmQVG_a2",
    "outputId": "b590f4bd-3162-409d-e988-4d8975ce16cb"
   },
   "outputs": [],
   "source": [
    "cnt.most_common(5)"
   ]
  },
  {
   "cell_type": "code",
   "execution_count": null,
   "metadata": {
    "id": "7eNUVVP_HKv5"
   },
   "outputs": [],
   "source": []
  },
  {
   "cell_type": "code",
   "execution_count": null,
   "metadata": {
    "id": "gi5kXSV8yk7E"
   },
   "outputs": [],
   "source": [
    "# There are thousands of useful Python libraries\n",
    "## Crucial libraries are collected in the Python Standard Library\n",
    "\n",
    "# https://docs.python.org/3/library/\n",
    "\n",
    "# \"Batteries included\"\n",
    "\n",
    "# There are many more libraries that can be installed separately. Many of them\n",
    "# are already installed in the Google Colab or Anaconda Python environment.\n",
    "\n",
    "# If you need to use a library that is not yet installed, you can \n",
    "# install it using the \"pip install\" command (in this case, we are\n",
    "# installing the \"requests\" library):\n",
    "\n",
    "#!pip install requests\n",
    "\n",
    "# https://requests.readthedocs.io/en/latest/"
   ]
  },
  {
   "cell_type": "markdown",
   "metadata": {
    "id": "biSU3w0dFub9"
   },
   "source": [
    "#### Your task - write a program for a number guessing game\n",
    "\n",
    "* generate a random number 1..100 for a user to guess\n",
    "* let a user input their guesses and display relevant messages:\n",
    "  * too low\n",
    "  * you guessed right!\n",
    "  * too high\n",
    "  \n",
    "Limit the number of times the user may guess to 6."
   ]
  },
  {
   "cell_type": "code",
   "execution_count": null,
   "metadata": {
    "colab": {
     "base_uri": "https://localhost:8080/"
    },
    "id": "0dT_LvZrFub9",
    "outputId": "703bb9f7-1538-4aaf-b608-4794c6e000a8"
   },
   "outputs": [],
   "source": [
    "# 1) Generate a random number\n",
    "\n",
    "...\n",
    "\n",
    "# 2) Cycle for 6 times\n",
    "\n",
    "for i in range(6):\n",
    "\n",
    "    # ask user for input\n",
    "    ...\n",
    "    \n",
    "    # print a message depending on the value entered by user\n",
    "        \n",
    "    # if guessed right, stop the cycle (use the \"break\" command)\n"
   ]
  },
  {
   "cell_type": "code",
   "execution_count": null,
   "metadata": {
    "id": "usv4E0LOFub9"
   },
   "outputs": [],
   "source": []
  },
  {
   "cell_type": "markdown",
   "metadata": {
    "id": "Zcb7hpdfFub9"
   },
   "source": [
    "## Working with files\n",
    "   \n",
    "* reading files\n",
    "* writing files\n",
    "* folders"
   ]
  },
  {
   "cell_type": "code",
   "execution_count": null,
   "metadata": {
    "id": "tEvcM02FFub9"
   },
   "outputs": [],
   "source": [
    "from pathlib import Path"
   ]
  },
  {
   "cell_type": "markdown",
   "metadata": {
    "id": "FGI8gOtbFub-"
   },
   "source": [
    "### Using a local computer filesystem"
   ]
  },
  {
   "cell_type": "code",
   "execution_count": null,
   "metadata": {
    "colab": {
     "base_uri": "https://localhost:8080/"
    },
    "id": "vcEehkklFub-",
    "outputId": "d7f918c9-cf2d-4a72-9099-380c51a8b091"
   },
   "outputs": [],
   "source": [
    "# listing contents of a folder\n",
    "\n",
    "# . is the current folder (e.g. the folder you ran Jupyter notebooks from)\n",
    "folder = \".\"\n",
    "my_path = Path(folder)\n",
    "\n",
    "list(my_path.iterdir())"
   ]
  },
  {
   "cell_type": "code",
   "execution_count": null,
   "metadata": {
    "colab": {
     "base_uri": "https://localhost:8080/"
    },
    "id": "0IGo_mXVL9av",
    "outputId": "f36d23c4-8e2c-4431-9536-2cc2e7e5920c"
   },
   "outputs": [],
   "source": [
    "# let's use \"sorted\" to get a sorted list\n",
    "for item in sorted(my_path.iterdir()):\n",
    "    print(item)"
   ]
  },
  {
   "cell_type": "markdown",
   "metadata": {
    "id": "XrVttl8fFub-"
   },
   "source": [
    "### Google Colab note\n",
    "\n",
    "In Google Colab we can not directly access local files.\n",
    "\n",
    "Use Google Drive instead:\n",
    "* mount Google Drive\n",
    "* upload and access files on [Google Drive](https://drive.google.com/)\n",
    "  * e.g. in the \"BSSDH\" subfolder\n",
    "\n",
    "Colab will ask for permission to access your files on Google Drive in order to work with the files you have uploaded.\n",
    "\n",
    "*After you are finished working in Google Colab you may want to remove its permission to access Google Drive files.*"
   ]
  },
  {
   "cell_type": "code",
   "execution_count": null,
   "metadata": {
    "colab": {
     "base_uri": "https://localhost:8080/"
    },
    "id": "X9mwPBrVFub-",
    "outputId": "7be6fb3b-9650-4e4d-9fad-11e076ac7ff8"
   },
   "outputs": [],
   "source": [
    "# Set this to False if not using Google Colab\n",
    "using_colab = True\n",
    "\n",
    "if using_colab:\n",
    "    # using Colab\n",
    "    \n",
    "    from google.colab import drive\n",
    "    drive.mount('/content/drive')\n",
    "    \n",
    "    # \"BSSDH\" subfolder inside Google Drive\n",
    "    drive_path = Path('/content/drive/MyDrive/BSSDH')\n",
    "\n",
    "    # create the folder if it does not exist\n",
    "    drive_path.mkdir(exist_ok=True)\n",
    "\n",
    "    for item in drive_path.iterdir():\n",
    "        print(item)\n",
    "\n",
    "    # set my_path to the Google Drive path\n",
    "    # (instead of a local directory)\n",
    "    my_path = drive_path\n",
    "\n",
    "else: \n",
    "    # not using Colab\n",
    "\n",
    "    my_path = Path(\".\")"
   ]
  },
  {
   "cell_type": "markdown",
   "metadata": {
    "id": "PpDpxpChFub-"
   },
   "source": [
    "### Reading and writing files"
   ]
  },
  {
   "cell_type": "code",
   "execution_count": null,
   "metadata": {
    "colab": {
     "base_uri": "https://localhost:8080/"
    },
    "id": "oMcGd-4sFub-",
    "outputId": "9eaa7be4-f85f-4c0d-edeb-cb9fb2896d1e"
   },
   "outputs": [],
   "source": [
    "# https://www.gutenberg.org/cache/epub/11/pg11.txt\n",
    "\n",
    "file_path = my_path / \"alice_wonderland.txt\"\n",
    "file_path\n",
    "\n"
   ]
  },
  {
   "cell_type": "code",
   "execution_count": null,
   "metadata": {
    "colab": {
     "base_uri": "https://localhost:8080/"
    },
    "id": "tQQFyNjRFub_",
    "outputId": "88f8037d-e719-4ce4-9c5d-079d53237e93"
   },
   "outputs": [],
   "source": [
    "# reading a file\n",
    "\n",
    "# we use the \"with\" statement + \"open\" function to open a file for reading\n",
    "# and assign this open file to the \"input_file\" variable\n",
    "\n",
    "with open(file_path) as input_file:\n",
    "\n",
    "    # do something with the file\n",
    "    \n",
    "    # \"text\" will have the full contents of the input file\n",
    "    text = input_file.read()\n",
    "\n",
    "# we need to close open files when we have finished working with them.\n",
    "# when using the \"with\" statement the file will be closed automatically.\n",
    "\n",
    "print(text[:200])"
   ]
  },
  {
   "cell_type": "code",
   "execution_count": null,
   "metadata": {
    "colab": {
     "base_uri": "https://localhost:8080/"
    },
    "id": "neHhajkVFub_",
    "outputId": "3533df55-f311-4c03-fddc-624c332ab7ea"
   },
   "outputs": [],
   "source": [
    "# writing a file\n",
    "\n",
    "my_text = \"\"\"Text to be written\n",
    "to a file. Let's write\n",
    "multiple lines\n",
    "\"\"\"\n",
    "\n",
    "# \"w\" means open a file for writing\n",
    "# it is useful to specify character encoding, too\n",
    "with open(my_path / \"new_file.txt\", \"w\", encoding=\"utf8\") as output_file:\n",
    "    output_file.write(my_text)\n",
    "\n",
    "list(sorted(my_path.iterdir()))"
   ]
  },
  {
   "cell_type": "code",
   "execution_count": null,
   "metadata": {
    "id": "suVyDjWLFub_"
   },
   "outputs": [],
   "source": [
    "# let's filter a file to remove Project Gutenberg header\n",
    "# and footer before analyzing its text\n",
    "\n",
    "with open(file_path) as input_file:\n",
    "    with open(my_path / \"output.txt\", \"w\", encoding=\"utf8\") as output_file:\n",
    "\n",
    "        # this will signal Python if the current line needs\n",
    "        # to be written to the output file\n",
    "        must_write = False\n",
    "\n",
    "        # loop through every line in the input file\n",
    "        for line in input_file:\n",
    "\n",
    "            if line.startswith(\"*** END\"):\n",
    "                must_write = False   # this should be False!\n",
    "\n",
    "            if must_write:\n",
    "                output_file.write(line)\n",
    "\n",
    "            if line.startswith(\"*** START\"):\n",
    "                must_write = True"
   ]
  },
  {
   "cell_type": "code",
   "execution_count": null,
   "metadata": {
    "colab": {
     "base_uri": "https://localhost:8080/"
    },
    "id": "_D8LFbeCQzlE",
    "outputId": "8b9f261e-e729-4c6d-8555-0dfff43d8f83"
   },
   "outputs": [],
   "source": [
    "file_path"
   ]
  },
  {
   "cell_type": "code",
   "execution_count": null,
   "metadata": {
    "colab": {
     "base_uri": "https://localhost:8080/"
    },
    "id": "7tHWT_sCFub_",
    "outputId": "ce0e898e-9fb2-4c9c-b24f-7cbdbe9ccd2d"
   },
   "outputs": [],
   "source": [
    "with open(my_path / \"output.txt\", encoding=\"utf8\") as input_file:\n",
    "\n",
    "    # \"text\" will have the full contents of the input file\n",
    "    text = input_file.read()\n",
    "\n",
    "print(text[:190])"
   ]
  },
  {
   "cell_type": "markdown",
   "metadata": {
    "id": "nfgWgwbFFucA"
   },
   "source": [
    "#### Your task - count the word frequency in a file\n",
    "\n",
    "\n",
    "* choose or download the file to analyze\n",
    "* put the file in the folder you can access from Python\n",
    "  * e.g. current folder if using a local Python installation\n",
    "  * Google Drive folder if using Google Colab\n",
    "* read the file\n",
    "* count and display word frequency for the most frequent words\n",
    "\n",
    "(Optional) write word frequency data to a new file"
   ]
  },
  {
   "cell_type": "code",
   "execution_count": null,
   "metadata": {
    "colab": {
     "base_uri": "https://localhost:8080/"
    },
    "id": "AOsj1g_gFucA",
    "outputId": "ec7026b4-0763-409e-a3e0-8a2be05a64aa"
   },
   "outputs": [],
   "source": [
    "# Hint: use the Counter class from \"collections\" library\n",
    "\n",
    "...\n"
   ]
  },
  {
   "cell_type": "code",
   "execution_count": null,
   "metadata": {
    "id": "5i_HedN6FucA"
   },
   "outputs": [],
   "source": []
  },
  {
   "cell_type": "code",
   "execution_count": null,
   "metadata": {
    "id": "n490TH6eFucA"
   },
   "outputs": [],
   "source": []
  },
  {
   "cell_type": "markdown",
   "metadata": {
    "id": "Rq7cOLLMyk7E"
   },
   "source": [
    "## Most important Python ideas <a class=\"anchor\" id=\"python-ideas\">\n",
    "\n",
    "* dir(myobject) to find what can be done (most decent text editors/IDEs will offer autocompletion and hints though)\n",
    "* help(myobject) general help\n",
    "* type(myobject) what type it is\n",
    "\n",
    "### Slicing Syntax for sequences(strings,lists and more)\n",
    "```\n",
    "myname[start:end:step]\n",
    "myname[:5]\n",
    "```\n",
    "\n",
    "### : indicates a new indentation level\n",
    "\n",
    "```\n",
    "if x > 5:\n",
    "     print(\"Do Work when x > 5\")\n",
    "print(\"Always Do this\")\n",
    "```"
   ]
  },
  {
   "cell_type": "markdown",
   "metadata": {
    "id": "z1q0FQFKyk7E"
   },
   "source": [
    "# Python Resources <a class=\"anchor\" id=\"learning-resources\">\n"
   ]
  },
  {
   "cell_type": "markdown",
   "metadata": {
    "id": "ghG_aM5ayk7E"
   },
   "source": [
    "## Wiki for Tutorials\n",
    "\n",
    "https://wiki.python.org/moin/BeginnersGuide/NonProgrammers"
   ]
  },
  {
   "cell_type": "markdown",
   "metadata": {
    "id": "R34PGbyzyk7E"
   },
   "source": [
    "## Tutorials Begginner to Intermediate\n",
    "\n",
    "\n",
    "\n",
    "\n",
    "* https://automatetheboringstuff.com/ - Anything by Al Sweigart is great\n",
    "* http://newcoder.io/tutorials/ - 5 sets of practical tutorials\n",
    "* [Think Like a Computer Scientist](http://interactivepython.org/runestone/static/thinkcspy/index.html) full tutorial\n",
    "* [Non-Programmers Tutorial for Python 3](https://en.wikibooks.org/wiki/Non-Programmer%27s_Tutorial_for_Python_3) quite good for wikibooks\n",
    "* [Real Python](https://realpython.com/) Python Tutorials for all levels\n",
    "\n",
    "\n",
    "* [Learn Python 3 the Hard Way](https://learnpythonthehardway.org/python3/intro.html) controversial author but very exhaustive, some like this approach"
   ]
  },
  {
   "cell_type": "markdown",
   "metadata": {
    "id": "k65CF3Hdyk7E"
   },
   "source": [
    "## More Advanced Python Specific Books\n",
    "\n",
    "* [Python Cookbook](https://www.amazon.com/Python-Cookbook-Third-David-Beazley/dp/1449340377) Recipes for specific situations\n",
    "\n",
    "* [Effective Python](https://effectivepython.com/) best practices\n",
    "* [Fluent Python](http://shop.oreilly.com/product/0636920032519.do) **highly recommended**, shows Python's advantages"
   ]
  },
  {
   "cell_type": "markdown",
   "metadata": {
    "id": "B0Q3iEMFyk7E"
   },
   "source": [
    "## General Best Practices Books\n",
    "#### (not Python specific)\n",
    "\n",
    "* [Code Complete 2](https://www.goodreads.com/book/show/4845.Code_Complete) - Fantastic best practices\n",
    "* [The Mythical Man-Month](https://en.wikipedia.org/wiki/The_Mythical_Man-Month) - No silver bullet even after 40 years.\n",
    "* [The Pragmatic Programmer](https://www.amazon.com/Pragmatic-Programmer-Journeyman-Master/dp/020161622X) - More practical advice\n",
    "* [Clean Code](https://www.amazon.com/Clean-Code-Handbook-Software-Craftsmanship/dp/0132350882) - more towards agile"
   ]
  },
  {
   "cell_type": "markdown",
   "metadata": {
    "id": "EJoNusgnyk7E"
   },
   "source": [
    "## Blogs / Personalities / forums\n",
    "\n",
    "* [Dan Bader](https://dbader.org/)\n",
    "* [Reddit Python](https://www.reddit.com/r/python)"
   ]
  },
  {
   "cell_type": "markdown",
   "metadata": {
    "id": "Vb1uuHhJyk7E"
   },
   "source": [
    "## Exercises/Challenges\n",
    "* http://www.pythonchallenge.com/ - first one is easy but after that...\n",
    "* [Advent of Code](https://adventofcode.com/) - yearly programming challenges\n",
    "* https://projecteuler.net/ - gets very mathematical but first problems are great for testing"
   ]
  },
  {
   "cell_type": "markdown",
   "metadata": {
    "id": "6AePUe0Qyk7F"
   },
   "source": [
    "## Explore Public Notebooks on Github\n",
    " Download them and try them out for yourself\n",
    "\n",
    "https://github.com/jupyter/jupyter/wiki/A-gallery-of-interesting-Jupyter-Notebooks"
   ]
  },
  {
   "cell_type": "markdown",
   "metadata": {
    "id": "IuOw1wXiyk7F"
   },
   "source": [
    "## Questions / Suggestions ?\n",
    "\n",
    "Pull requests welcome\n",
    "\n",
    "e-mail **uldis.bojars at gmail.com**"
   ]
  }
 ],
 "metadata": {
  "colab": {
   "provenance": []
  },
  "kernelspec": {
   "display_name": "Python 3 (ipykernel)",
   "language": "python",
   "name": "python3"
  },
  "language_info": {
   "codemirror_mode": {
    "name": "ipython",
    "version": 3
   },
   "file_extension": ".py",
   "mimetype": "text/x-python",
   "name": "python",
   "nbconvert_exporter": "python",
   "pygments_lexer": "ipython3",
   "version": "3.12.4"
  }
 },
 "nbformat": 4,
 "nbformat_minor": 4
}
