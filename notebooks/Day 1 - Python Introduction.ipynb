{
  "cells": [
    {
      "cell_type": "markdown",
      "metadata": {
        "id": "oXukXEtEyk6m"
      },
      "source": [
        "## Python Introduction with some detours\n",
        "![Python](https://www.python.org/static/community_logos/python-logo-generic.svg)"
      ]
    },
    {
      "cell_type": "markdown",
      "metadata": {
        "id": "axTj4oGryk6q"
      },
      "source": [
        "![xkcd](https://imgs.xkcd.com/comics/python.png)"
      ]
    },
    {
      "cell_type": "markdown",
      "metadata": {
        "id": "WBht7VP9Fua9"
      },
      "source": [
        "## Getting Started"
      ]
    },
    {
      "cell_type": "markdown",
      "metadata": {
        "id": "_qIGVfJSFua9"
      },
      "source": [
        "## https://bit.ly/bssdh_2024_python\n",
        "\n",
        "---\n",
        "\n",
        "Open this Jupyter notebook (`Day 1 - Python Introduction`) on Github:\n",
        "- https://github.com/CaptSolo/BSSDH_2024_beginners/tree/main/notebooks\n",
        "\n",
        "Download the notebook file to your computer: click the \"Download raw file\" button.\n",
        "\n",
        "![Download button](https://github.com/CaptSolo/BSSDH_2024_beginners/blob/main/notebooks/img/download_button.png?raw=1)\n",
        "\n",
        "Open [Google Colab](https://colab.research.google.com/), choose the \"Upload\" tab and upload the downloaded notebook file.\n",
        "\n",
        "* Uploaded notebooks can be found in the [Google Drive](https://drive.google.com/) folder `Colab Notebooks`\n",
        "\n",
        "*Alternative: you may also open the whole Github repository in Google Colab by selecting \"Github\" in the \"Open notebook\" screen.*\n",
        "\n",
        "---\n",
        "\n",
        "You will also need a free ChatGPT account:\n",
        "- https://chatgpt.com/\n",
        "\n",
        "---\n",
        "\n",
        "You are now ready for the workshop!"
      ]
    },
    {
      "cell_type": "markdown",
      "metadata": {
        "id": "bHuO9QYfyk6r"
      },
      "source": [
        "## Hello World <a class=\"anchor\" id=\"hello-world\">\n",
        "\n",
        "Execute the following program code cells by pressing the triangle \"run\" icon:\n",
        "\n",
        "![Run icon](https://github.com/CaptSolo/BSSDH_2024_beginners/blob/main/notebooks/img/hello_world.png?raw=1|200)\n",
        "\n",
        "Note: this is a screenshot from Google Colab. In locally installed Jupyter notebooks the Run icon may appear in a different location.\n",
        "\n",
        "---"
      ]
    },
    {
      "cell_type": "code",
      "execution_count": 2,
      "metadata": {
        "colab": {
          "base_uri": "https://localhost:8080/"
        },
        "id": "d2kT0NCCyk6r",
        "outputId": "7824ca53-47f0-42b1-bee2-1fc4e23cfdfb"
      },
      "outputs": [
        {
          "output_type": "stream",
          "name": "stdout",
          "text": [
            "Hello world!\n"
          ]
        }
      ],
      "source": [
        "print(\"Hello world!\")"
      ]
    },
    {
      "cell_type": "code",
      "execution_count": 3,
      "metadata": {
        "colab": {
          "base_uri": "https://localhost:8080/"
        },
        "id": "fSK83QkGyk6s",
        "outputId": "ea25918b-9d99-4a77-b788-fd8fafd4a640"
      },
      "outputs": [
        {
          "output_type": "stream",
          "name": "stdout",
          "text": [
            "Hello, workshop!\n"
          ]
        }
      ],
      "source": [
        "### Try printing a greeting of your own!\n",
        "print(\"Hello, workshop!\")"
      ]
    },
    {
      "cell_type": "code",
      "execution_count": 5,
      "metadata": {
        "colab": {
          "base_uri": "https://localhost:8080/"
        },
        "id": "45i-oQjayk6t",
        "outputId": "cdd8d32c-bda3-4937-de20-11b65cbe8682"
      },
      "outputs": [
        {
          "output_type": "stream",
          "name": "stdout",
          "text": [
            "not good\n"
          ]
        }
      ],
      "source": [
        "### What happens when you get an error?\n",
        "print(\"not good)"
      ]
    },
    {
      "cell_type": "markdown",
      "metadata": {
        "id": "zpS3l9lXyk6t"
      },
      "source": [
        "## Python History <a class=\"anchor\" id=\"python-history\">\n",
        "\n"
      ]
    },
    {
      "cell_type": "markdown",
      "metadata": {
        "id": "cUpifjuIyk6u"
      },
      "source": [
        "### Python created by Guido von Rossum in early 1990s  (later at Google, Dropbox)\n",
        "\n",
        "![Guido](https://upload.wikimedia.org/wikipedia/commons/thumb/d/d0/Guido-portrait-2014-curvves.jpg/290px-Guido-portrait-2014-curvves.jpg)\n",
        "\n",
        "### Language reference: https://docs.python.org/3/index.html"
      ]
    },
    {
      "cell_type": "markdown",
      "metadata": {
        "id": "_foFHuKqyk6u"
      },
      "source": [
        "## Why Python?"
      ]
    },
    {
      "cell_type": "markdown",
      "metadata": {
        "id": "x27TkJvUyk6v"
      },
      "source": [
        "- Readability\n",
        "- Glue language (can use many libraries and services)\n",
        "- Used from startups to Google and Facebook"
      ]
    },
    {
      "cell_type": "markdown",
      "metadata": {
        "id": "4SsEqLSPUjOD"
      },
      "source": [
        "### Python's popularity"
      ]
    },
    {
      "cell_type": "markdown",
      "metadata": {
        "id": "g0S6IymXyk6v"
      },
      "source": [
        "![Python](https://github.com/CaptSolo/BSSDH_2024_beginners/blob/main/notebooks/img/python_growth.png?raw=1)"
      ]
    },
    {
      "cell_type": "markdown",
      "metadata": {
        "id": "mj6ujX9yyk6v"
      },
      "source": [
        "**Python is now programming language # 1 in TIOBE language index (as of July 2022)**\n",
        "\n",
        "https://www.tiobe.com/tiobe-index/\n",
        "\n",
        "![TIOBE index ranking](https://github.com/CaptSolo/BSSDH_2024_beginners/blob/main/notebooks/img/tiobe_index.png?raw=1)"
      ]
    },
    {
      "cell_type": "markdown",
      "metadata": {
        "id": "pspUEKcXyk6w"
      },
      "source": [
        "### Batteries included principle\n",
        "![Batteries](https://github.com/CaptSolo/BSSDH_2024_beginners/blob/main/notebooks/img/batteries_small.jpg?raw=1)"
      ]
    },
    {
      "cell_type": "markdown",
      "metadata": {
        "id": "_SxUIYwIyk6w"
      },
      "source": [
        "## What is Programming? <a class=\"anchor\" id=\"what-is-programming\">\n",
        "    \n",
        "* Egg algorithm\n",
        "* Computers are stupid, they only do what they are told to do\n",
        "* If it is stupid but it works, then it is not stupid\n",
        "* Make it work, make it right, make it fast (last two steps often not required in real life)\n",
        "* GIGO principle\n",
        "\n",
        "* Error messages are nothing to be afraid of, usually the message will explain what needs fixing!"
      ]
    },
    {
      "cell_type": "code",
      "execution_count": 6,
      "metadata": {
        "id": "dHM2iMkEyk6w",
        "colab": {
          "base_uri": "https://localhost:8080/"
        },
        "outputId": "76210327-9c39-4088-b89b-b923b2cb3019"
      },
      "outputs": [
        {
          "output_type": "stream",
          "name": "stdout",
          "text": [
            "Print command here\n"
          ]
        }
      ],
      "source": [
        "# Our first comment\n",
        "\n",
        "# Some comments here!\n",
        "\n",
        "# REPL(Read,Eval,Print, Loop)\n",
        "# Python - Interpreted Language (commands executed as they come in)\n",
        "\n",
        "print(\"Print command here\")"
      ]
    },
    {
      "cell_type": "markdown",
      "metadata": {
        "id": "O4kJhMcbFubE"
      },
      "source": [
        "## Python Installation\n",
        "\n",
        "a) Python website (standalone installation)\n",
        "- https://www.python.org/downloads/\n",
        "\n",
        "b) Google Colab (cloud service, no installation necessary - Google version of Jupyter Notebooks)\n",
        "- https://colab.research.google.com/\n",
        "\n",
        "c) Anaconda (local installation, includes many additional libraries and Jupyter Notebooks)\n",
        "- https://www.anaconda.com/download/\n",
        "\n",
        "**Python program code can be run:**\n",
        "- in Jupyter notebooks (text notebooks with executable code \"cells\")\n",
        "  - cells can be executed and the result is printed below the code cell\n",
        "- as standalone programs (.py files)\n",
        "  - program code in .py files that can be executed all together, without requiring user involvement\n",
        "\n",
        "In this workshop we will use Jupyter notebooks."
      ]
    },
    {
      "cell_type": "markdown",
      "metadata": {
        "id": "VYfAr3Xfyk6x"
      },
      "source": [
        "## Jupyter Basics <a class=\"anchor\" id=\"jupyter-basics\">\n",
        "\n",
        "In Jupyter Notebooks you work in cells that may contain Python code or specially formatted text (Markdown).\n",
        "\n",
        "These shortcuts work both in local Jupyter Notebooks and Google Colab:\n",
        "    \n",
        "* Ctrl-Enter runs code of cell in place\n",
        "* Alt-Enter runs code for current cell and creates a new cell below\n",
        "* Esc-A creates a new cell above current cell\n",
        "* Esc-B creates a new cell below current cell\n",
        "    \n",
        "These shortcuts do not work in Google Colab:\n",
        "* Esc-M turns cell into Markdown cell for formatting (https://guides.github.com/pdfs/markdown-cheatsheet-online.pdf)\n",
        "* Esc-Y turns cell into code cell(default)\n",
        "* Esc-dd deletes current cell\n"
      ]
    },
    {
      "cell_type": "code",
      "execution_count": null,
      "metadata": {
        "id": "ZQIHqe22KDET"
      },
      "outputs": [],
      "source": []
    },
    {
      "cell_type": "code",
      "source": [
        "print(\"New code cell\")"
      ],
      "metadata": {
        "colab": {
          "base_uri": "https://localhost:8080/"
        },
        "id": "N1eZ2qDMZqCw",
        "outputId": "414a33a1-4444-43a5-a905-73ac6423fd33"
      },
      "execution_count": 7,
      "outputs": [
        {
          "output_type": "stream",
          "name": "stdout",
          "text": [
            "New code cell\n"
          ]
        }
      ]
    },
    {
      "cell_type": "code",
      "execution_count": null,
      "metadata": {
        "id": "rh4XZC5pyk6x"
      },
      "outputs": [],
      "source": [
        "# Try Esc-B to create a new cell or click an icon for inserting a new notebook cell below\n",
        "\n",
        "# Enter print(\"Hello Humanities!\")\n",
        "# Press Ctrl-Enter to execute the cell\n",
        "\n",
        "# Did you get any error messages?"
      ]
    },
    {
      "cell_type": "code",
      "source": [],
      "metadata": {
        "id": "WM4M3jrbZ9Ea"
      },
      "execution_count": null,
      "outputs": []
    },
    {
      "cell_type": "markdown",
      "metadata": {
        "id": "7z8aNVHNUjOF"
      },
      "source": [
        "## Notebook Plan\n",
        "\n",
        "- Values\n",
        "- Variables and data types\n",
        "- Getting user input\n",
        "- Arithmetic operators\n",
        "- Text strings\n",
        "- Detour: ChatGPT\n",
        "- Lists, dictionaries and tuples\n",
        "- Program flow control\n",
        "- Functions\n",
        "- Libraries\n",
        "- Working with files"
      ]
    },
    {
      "cell_type": "markdown",
      "metadata": {
        "id": "vX29o_V5FubF"
      },
      "source": [
        "## Values\n"
      ]
    },
    {
      "cell_type": "code",
      "execution_count": 8,
      "metadata": {
        "colab": {
          "base_uri": "https://localhost:8080/"
        },
        "id": "JKD0LBPfFubF",
        "outputId": "17cc2d06-c97f-4da5-f47a-04b7bc2adcbf"
      },
      "outputs": [
        {
          "output_type": "execute_result",
          "data": {
            "text/plain": [
              "42"
            ]
          },
          "metadata": {},
          "execution_count": 8
        }
      ],
      "source": [
        "# Integer value (vesels skaitlis)\n",
        "42"
      ]
    },
    {
      "cell_type": "code",
      "execution_count": 9,
      "metadata": {
        "colab": {
          "base_uri": "https://localhost:8080/"
        },
        "id": "RMsAUIjeFubG",
        "outputId": "2c934f60-327f-44ae-d68b-3d8f620454ee"
      },
      "outputs": [
        {
          "output_type": "execute_result",
          "data": {
            "text/plain": [
              "int"
            ]
          },
          "metadata": {},
          "execution_count": 9
        }
      ],
      "source": [
        "# The type() function lets us determine the type of the value or a variable\n",
        "type(42)\n"
      ]
    },
    {
      "cell_type": "code",
      "source": [
        "help(print)"
      ],
      "metadata": {
        "colab": {
          "base_uri": "https://localhost:8080/"
        },
        "id": "6cdRJVFLbeLF",
        "outputId": "81667330-59c2-490e-c6b6-67f794360848"
      },
      "execution_count": 10,
      "outputs": [
        {
          "output_type": "stream",
          "name": "stdout",
          "text": [
            "Help on built-in function print in module builtins:\n",
            "\n",
            "print(...)\n",
            "    print(value, ..., sep=' ', end='\\n', file=sys.stdout, flush=False)\n",
            "    \n",
            "    Prints the values to a stream, or to sys.stdout by default.\n",
            "    Optional keyword arguments:\n",
            "    file:  a file-like object (stream); defaults to the current sys.stdout.\n",
            "    sep:   string inserted between values, default a space.\n",
            "    end:   string appended after the last value, default a newline.\n",
            "    flush: whether to forcibly flush the stream.\n",
            "\n"
          ]
        }
      ]
    },
    {
      "cell_type": "code",
      "execution_count": 11,
      "metadata": {
        "colab": {
          "base_uri": "https://localhost:8080/"
        },
        "id": "3xslaI8GFubG",
        "outputId": "8f5260c1-66b8-4218-80db-ea38e8ec0c73"
      },
      "outputs": [
        {
          "output_type": "execute_result",
          "data": {
            "text/plain": [
              "3.14159"
            ]
          },
          "metadata": {},
          "execution_count": 11
        }
      ],
      "source": [
        "# Floating point value (daļskaitlis)\n",
        "3.14159"
      ]
    },
    {
      "cell_type": "code",
      "execution_count": 12,
      "metadata": {
        "colab": {
          "base_uri": "https://localhost:8080/"
        },
        "id": "raLQm0RWFubG",
        "outputId": "77a9f890-fcda-48a9-c0e0-d10f895f7ccf"
      },
      "outputs": [
        {
          "output_type": "execute_result",
          "data": {
            "text/plain": [
              "float"
            ]
          },
          "metadata": {},
          "execution_count": 12
        }
      ],
      "source": [
        "type(3.14159)"
      ]
    },
    {
      "cell_type": "code",
      "execution_count": 13,
      "metadata": {
        "colab": {
          "base_uri": "https://localhost:8080/",
          "height": 36
        },
        "id": "Qn3yYra5FubH",
        "outputId": "939768c5-e5e6-4a2f-bb78-78eb454de49b"
      },
      "outputs": [
        {
          "output_type": "execute_result",
          "data": {
            "text/plain": [
              "'Hello world'"
            ],
            "application/vnd.google.colaboratory.intrinsic+json": {
              "type": "string"
            }
          },
          "metadata": {},
          "execution_count": 13
        }
      ],
      "source": [
        "# Text string value (teksts)\n",
        "\"Hello world\""
      ]
    },
    {
      "cell_type": "code",
      "execution_count": 14,
      "metadata": {
        "colab": {
          "base_uri": "https://localhost:8080/"
        },
        "id": "OwxJdrl3FubH",
        "outputId": "0f603262-619a-427d-8501-3c24069f2325"
      },
      "outputs": [
        {
          "output_type": "execute_result",
          "data": {
            "text/plain": [
              "str"
            ]
          },
          "metadata": {},
          "execution_count": 14
        }
      ],
      "source": [
        "type(\"Hello world\")"
      ]
    },
    {
      "cell_type": "code",
      "execution_count": 15,
      "metadata": {
        "colab": {
          "base_uri": "https://localhost:8080/",
          "height": 36
        },
        "id": "cLCs5EMAFubH",
        "outputId": "83f8ea74-5b2c-445a-e560-f0b17ddd147f"
      },
      "outputs": [
        {
          "output_type": "execute_result",
          "data": {
            "text/plain": [
              "'This is also a text string'"
            ],
            "application/vnd.google.colaboratory.intrinsic+json": {
              "type": "string"
            }
          },
          "metadata": {},
          "execution_count": 15
        }
      ],
      "source": [
        "# Text values can use both single quotes ' and double quotes \"\n",
        "'This is also a text string'"
      ]
    },
    {
      "cell_type": "code",
      "execution_count": 16,
      "metadata": {
        "colab": {
          "base_uri": "https://localhost:8080/",
          "height": 36
        },
        "id": "CVzvO92CFubH",
        "outputId": "c4820b5c-54b3-4d1d-bc6a-5926ee099f80"
      },
      "outputs": [
        {
          "output_type": "execute_result",
          "data": {
            "text/plain": [
              "'\\nThis text value\\nconsists of multiple\\nline\\n'"
            ],
            "application/vnd.google.colaboratory.intrinsic+json": {
              "type": "string"
            }
          },
          "metadata": {},
          "execution_count": 16
        }
      ],
      "source": [
        "\"\"\"\n",
        "This text value\n",
        "consists of multiple\n",
        "line\n",
        "\"\"\""
      ]
    },
    {
      "cell_type": "code",
      "execution_count": 17,
      "metadata": {
        "colab": {
          "base_uri": "https://localhost:8080/"
        },
        "id": "dd_tNqeLFubI",
        "outputId": "0826eb02-bce7-466b-d5b0-98647cbac56b"
      },
      "outputs": [
        {
          "output_type": "stream",
          "name": "stdout",
          "text": [
            "\n",
            "This text value\n",
            "consists of multiple\n",
            "line\n",
            "\n"
          ]
        }
      ],
      "source": [
        "print(\"\"\"\n",
        "This text value\n",
        "consists of multiple\n",
        "line\n",
        "\"\"\")"
      ]
    },
    {
      "cell_type": "code",
      "execution_count": 18,
      "metadata": {
        "colab": {
          "base_uri": "https://localhost:8080/"
        },
        "id": "hE4cVTLpFubI",
        "outputId": "2ddb5828-8af7-462a-e866-956e46bc0db5"
      },
      "outputs": [
        {
          "output_type": "execute_result",
          "data": {
            "text/plain": [
              "True"
            ]
          },
          "metadata": {},
          "execution_count": 18
        }
      ],
      "source": [
        "# Boolean value = True or False\n",
        "True"
      ]
    },
    {
      "cell_type": "code",
      "execution_count": 19,
      "metadata": {
        "colab": {
          "base_uri": "https://localhost:8080/"
        },
        "id": "MWr0bl3fLfTO",
        "outputId": "d32ba3cd-5dfc-42ee-8391-05a4fdc1e35e"
      },
      "outputs": [
        {
          "output_type": "execute_result",
          "data": {
            "text/plain": [
              "False"
            ]
          },
          "metadata": {},
          "execution_count": 19
        }
      ],
      "source": [
        "False"
      ]
    },
    {
      "cell_type": "code",
      "execution_count": 20,
      "metadata": {
        "colab": {
          "base_uri": "https://localhost:8080/"
        },
        "id": "65h_FjyPFubI",
        "outputId": "a019edd4-4f7b-433d-8ade-2c6879dabb62"
      },
      "outputs": [
        {
          "output_type": "execute_result",
          "data": {
            "text/plain": [
              "bool"
            ]
          },
          "metadata": {},
          "execution_count": 20
        }
      ],
      "source": [
        "type(True)"
      ]
    },
    {
      "cell_type": "code",
      "execution_count": 21,
      "metadata": {
        "colab": {
          "base_uri": "https://localhost:8080/"
        },
        "id": "G3OeRm1KFubJ",
        "outputId": "edc5aefb-1b34-4735-b4d2-4983d05ee0b9"
      },
      "outputs": [
        {
          "output_type": "execute_result",
          "data": {
            "text/plain": [
              "False"
            ]
          },
          "metadata": {},
          "execution_count": 21
        }
      ],
      "source": [
        "# Boolean operation \"and\" returns True only if both its arguments are True\n",
        "True and False"
      ]
    },
    {
      "cell_type": "code",
      "source": [
        "True and True"
      ],
      "metadata": {
        "colab": {
          "base_uri": "https://localhost:8080/"
        },
        "id": "E7iq17gBcdW1",
        "outputId": "f4c00427-f598-457d-8eb4-398f51bb8558"
      },
      "execution_count": 22,
      "outputs": [
        {
          "output_type": "execute_result",
          "data": {
            "text/plain": [
              "True"
            ]
          },
          "metadata": {},
          "execution_count": 22
        }
      ]
    },
    {
      "cell_type": "code",
      "execution_count": null,
      "metadata": {
        "id": "nvpTDzq7FubJ"
      },
      "outputs": [],
      "source": []
    },
    {
      "cell_type": "markdown",
      "metadata": {
        "id": "X_eMSCgIyk6x"
      },
      "source": [
        "## Variables <a class=\"anchor\" id=\"variables\">\n",
        "\n",
        "Variables are like named boxes that can store values"
      ]
    },
    {
      "cell_type": "code",
      "execution_count": 23,
      "metadata": {
        "id": "vdWtRQz0yk6x"
      },
      "outputs": [],
      "source": [
        "# Creating a variable\n",
        "# It will be available through this workbook once the command is run\n",
        "myname = \"Uldis\""
      ]
    },
    {
      "cell_type": "code",
      "execution_count": 24,
      "metadata": {
        "colab": {
          "base_uri": "https://localhost:8080/"
        },
        "id": "PacwSs_5m2MH",
        "outputId": "793be3b0-d2ba-4633-a794-945287452a35"
      },
      "outputs": [
        {
          "output_type": "stream",
          "name": "stdout",
          "text": [
            "Uldis\n"
          ]
        }
      ],
      "source": [
        "# Print the value of the \"myname\" variable\n",
        "print(myname)"
      ]
    },
    {
      "cell_type": "code",
      "execution_count": 25,
      "metadata": {
        "colab": {
          "base_uri": "https://localhost:8080/",
          "height": 184
        },
        "id": "MA8-DgzcFubJ",
        "outputId": "7a08f77c-c1ca-4675-da74-0c469496780b"
      },
      "outputs": [
        {
          "output_type": "error",
          "ename": "NameError",
          "evalue": "name 'Print' is not defined",
          "traceback": [
            "\u001b[0;31m---------------------------------------------------------------------------\u001b[0m",
            "\u001b[0;31mNameError\u001b[0m                                 Traceback (most recent call last)",
            "\u001b[0;32m<ipython-input-25-90dfcd28124d>\u001b[0m in \u001b[0;36m<cell line: 3>\u001b[0;34m()\u001b[0m\n\u001b[1;32m      1\u001b[0m \u001b[0;31m# Python commands and variable names are \"case sensitive\"\u001b[0m\u001b[0;34m\u001b[0m\u001b[0;34m\u001b[0m\u001b[0m\n\u001b[1;32m      2\u001b[0m \u001b[0;31m#  - for example, \"Print\" is different from \"print\"\u001b[0m\u001b[0;34m\u001b[0m\u001b[0;34m\u001b[0m\u001b[0m\n\u001b[0;32m----> 3\u001b[0;31m \u001b[0mPrint\u001b[0m\u001b[0;34m(\u001b[0m\u001b[0mmyName\u001b[0m\u001b[0;34m)\u001b[0m\u001b[0;34m\u001b[0m\u001b[0;34m\u001b[0m\u001b[0m\n\u001b[0m",
            "\u001b[0;31mNameError\u001b[0m: name 'Print' is not defined"
          ]
        }
      ],
      "source": [
        "# Python commands and variable names are \"case sensitive\"\n",
        "#  - for example, \"Print\" is different from \"print\"\n",
        "Print(myName)"
      ]
    },
    {
      "cell_type": "code",
      "execution_count": 26,
      "metadata": {
        "id": "tWfsq8VEyk6y"
      },
      "outputs": [],
      "source": [
        "y = 2024"
      ]
    },
    {
      "cell_type": "code",
      "execution_count": 27,
      "metadata": {
        "id": "Bd10yN8uyk6y"
      },
      "outputs": [],
      "source": [
        "theAnswer = 42"
      ]
    },
    {
      "cell_type": "code",
      "execution_count": 28,
      "metadata": {
        "id": "sShI_dNFyk6y"
      },
      "outputs": [],
      "source": [
        "myPi = 3.14159"
      ]
    },
    {
      "cell_type": "code",
      "execution_count": 29,
      "metadata": {
        "id": "Sb_5-Sxdyk6y"
      },
      "outputs": [],
      "source": [
        "# boolean variable (true/false)\n",
        "isHot = True"
      ]
    },
    {
      "cell_type": "code",
      "execution_count": 37,
      "metadata": {
        "colab": {
          "base_uri": "https://localhost:8080/"
        },
        "id": "aRuSMQHDyk6z",
        "outputId": "e5561f40-a3a4-41fb-d18f-4b9091ac98eb"
      },
      "outputs": [
        {
          "output_type": "execute_result",
          "data": {
            "text/plain": [
              "int"
            ]
          },
          "metadata": {},
          "execution_count": 37
        }
      ],
      "source": [
        "# type(variableName) will return variable data type\n",
        "type(theAnswer)"
      ]
    },
    {
      "cell_type": "code",
      "execution_count": null,
      "metadata": {
        "id": "v-u9Q4w0yk6z"
      },
      "outputs": [],
      "source": [
        "# What is the data type of myname ?\n",
        "# How about data type of isHot ?"
      ]
    },
    {
      "cell_type": "code",
      "execution_count": 38,
      "metadata": {
        "colab": {
          "base_uri": "https://localhost:8080/"
        },
        "id": "1TKprZDunoi5",
        "outputId": "0dfe45ba-9128-4147-e735-d0d3640045ed"
      },
      "outputs": [
        {
          "output_type": "execute_result",
          "data": {
            "text/plain": [
              "float"
            ]
          },
          "metadata": {},
          "execution_count": 38
        }
      ],
      "source": [
        "type(myPi)"
      ]
    },
    {
      "cell_type": "code",
      "execution_count": 39,
      "metadata": {
        "colab": {
          "base_uri": "https://localhost:8080/"
        },
        "id": "rmpJ-R1Qn_LV",
        "outputId": "0c8c439e-d51f-4db7-ec63-d28d02f20d33"
      },
      "outputs": [
        {
          "output_type": "execute_result",
          "data": {
            "text/plain": [
              "bool"
            ]
          },
          "metadata": {},
          "execution_count": 39
        }
      ],
      "source": [
        "type(isHot)"
      ]
    },
    {
      "cell_type": "code",
      "execution_count": 40,
      "metadata": {
        "colab": {
          "base_uri": "https://localhost:8080/"
        },
        "id": "oRy0DVUvoHmW",
        "outputId": "ec9eddd0-8ccd-4a3f-d56b-b0360a5c0e19"
      },
      "outputs": [
        {
          "output_type": "stream",
          "name": "stdout",
          "text": [
            "True\n"
          ]
        }
      ],
      "source": [
        "print(isHot)"
      ]
    },
    {
      "cell_type": "code",
      "execution_count": 41,
      "metadata": {
        "id": "GokAv0PoFubM"
      },
      "outputs": [],
      "source": [
        "# we can change the value stored in a variable\n",
        "isHot = False"
      ]
    },
    {
      "cell_type": "code",
      "execution_count": 42,
      "metadata": {
        "colab": {
          "base_uri": "https://localhost:8080/"
        },
        "id": "MYOraEMDMwXl",
        "outputId": "8d137dc7-abc8-448d-93a3-394adf29ace4"
      },
      "outputs": [
        {
          "output_type": "stream",
          "name": "stdout",
          "text": [
            "False\n"
          ]
        }
      ],
      "source": [
        "print(isHot)"
      ]
    },
    {
      "cell_type": "code",
      "execution_count": 43,
      "metadata": {
        "colab": {
          "base_uri": "https://localhost:8080/"
        },
        "id": "h5ghzJQ9yk6z",
        "outputId": "b679d024-6c2e-40d1-d079-a7307ebcdbce"
      },
      "outputs": [
        {
          "output_type": "stream",
          "name": "stdout",
          "text": [
            "\n",
            "Here is a list of the Python keywords.  Enter any keyword to get more help.\n",
            "\n",
            "False               class               from                or\n",
            "None                continue            global              pass\n",
            "True                def                 if                  raise\n",
            "and                 del                 import              return\n",
            "as                  elif                in                  try\n",
            "assert              else                is                  while\n",
            "async               except              lambda              with\n",
            "await               finally             nonlocal            yield\n",
            "break               for                 not                 \n",
            "\n"
          ]
        }
      ],
      "source": [
        "# Variable names cannot be reserved keywords\n",
        "help(\"keywords\")"
      ]
    },
    {
      "cell_type": "code",
      "execution_count": 44,
      "metadata": {
        "colab": {
          "base_uri": "https://localhost:8080/"
        },
        "id": "rDEpoGFJof9g",
        "outputId": "08edc9bf-a530-489a-a0fe-3b0c731d2e5d"
      },
      "outputs": [
        {
          "output_type": "stream",
          "name": "stdout",
          "text": [
            "Help on built-in function print in module builtins:\n",
            "\n",
            "print(...)\n",
            "    print(value, ..., sep=' ', end='\\n', file=sys.stdout, flush=False)\n",
            "    \n",
            "    Prints the values to a stream, or to sys.stdout by default.\n",
            "    Optional keyword arguments:\n",
            "    file:  a file-like object (stream); defaults to the current sys.stdout.\n",
            "    sep:   string inserted between values, default a space.\n",
            "    end:   string appended after the last value, default a newline.\n",
            "    flush: whether to forcibly flush the stream.\n",
            "\n"
          ]
        }
      ],
      "source": [
        "help(print)"
      ]
    },
    {
      "cell_type": "code",
      "source": [
        "print(y)"
      ],
      "metadata": {
        "colab": {
          "base_uri": "https://localhost:8080/"
        },
        "id": "2TguqSp4eikK",
        "outputId": "9af0bd02-bd3b-44c6-a858-0a18a9c10555"
      },
      "execution_count": 46,
      "outputs": [
        {
          "output_type": "stream",
          "name": "stdout",
          "text": [
            "2024\n"
          ]
        }
      ]
    },
    {
      "cell_type": "code",
      "source": [
        "y = 2025"
      ],
      "metadata": {
        "id": "YzsTvh48encv"
      },
      "execution_count": 50,
      "outputs": []
    },
    {
      "cell_type": "code",
      "source": [
        "print(y)"
      ],
      "metadata": {
        "colab": {
          "base_uri": "https://localhost:8080/"
        },
        "id": "yduxX96Xepyk",
        "outputId": "e60ed24a-71ea-4d23-af5c-e4cbb5fee5fd"
      },
      "execution_count": 48,
      "outputs": [
        {
          "output_type": "stream",
          "name": "stdout",
          "text": [
            "2025\n"
          ]
        }
      ]
    },
    {
      "cell_type": "markdown",
      "metadata": {
        "id": "1UPeG4HEFubO"
      },
      "source": [
        "### Getting user input\n",
        "\n",
        "`input()` command lets the program ask for user input"
      ]
    },
    {
      "cell_type": "code",
      "execution_count": 51,
      "metadata": {
        "colab": {
          "base_uri": "https://localhost:8080/"
        },
        "id": "wCD396FEFubO",
        "outputId": "5022decb-a165-430d-9780-80017b1d0fdc"
      },
      "outputs": [
        {
          "name": "stdout",
          "output_type": "stream",
          "text": [
            "Enter a number: 1001\n"
          ]
        }
      ],
      "source": [
        "# get input (as text string)\n",
        "\n",
        "text = input(\"Enter a number: \")"
      ]
    },
    {
      "cell_type": "code",
      "execution_count": 53,
      "metadata": {
        "colab": {
          "base_uri": "https://localhost:8080/",
          "height": 36
        },
        "id": "IcMw8t7XNyGs",
        "outputId": "5fa107d3-10db-4133-bb2a-a58b2f165f64"
      },
      "outputs": [
        {
          "output_type": "execute_result",
          "data": {
            "text/plain": [
              "'1001'"
            ],
            "application/vnd.google.colaboratory.intrinsic+json": {
              "type": "string"
            }
          },
          "metadata": {},
          "execution_count": 53
        }
      ],
      "source": [
        "text"
      ]
    },
    {
      "cell_type": "code",
      "execution_count": 56,
      "metadata": {
        "id": "j3h0BlLrN8L4"
      },
      "outputs": [],
      "source": [
        "# the result of the input() command is a text string\n",
        "# let's convert it to an integer\n",
        "\n",
        "int_value = int(text)"
      ]
    },
    {
      "cell_type": "markdown",
      "metadata": {
        "id": "kSOUPDUDFubO"
      },
      "source": [
        "#### Input is a function\n",
        "\n",
        "* a function \"packages\" some lines of a Python program together and gives them a name\n",
        "\n",
        "* a function may be called with one or more arguments (e.g. text to print)\n",
        "* a function may do something (e.g. print some text)\n",
        "* a function may return a value (e.g. user input)\n",
        "\n",
        "Other functions:\n",
        "\n",
        "* `print()`\n",
        "* `type()`\n",
        "\n",
        "Fuctions are called by their name followed by an opening parenthesis, a list of arguments and a closing parenthesis:\n",
        "\n",
        "- `print(text)`"
      ]
    },
    {
      "cell_type": "code",
      "source": [
        "print(\"Hello\", myname, 123)"
      ],
      "metadata": {
        "colab": {
          "base_uri": "https://localhost:8080/"
        },
        "id": "nb_0dkEhg3ev",
        "outputId": "9b2e2e4d-6c17-4420-d07a-12f61f569154"
      },
      "execution_count": 60,
      "outputs": [
        {
          "output_type": "stream",
          "name": "stdout",
          "text": [
            "Hello Uldis 123\n"
          ]
        }
      ]
    },
    {
      "cell_type": "code",
      "execution_count": null,
      "metadata": {
        "id": "6TWaxaOjFubP"
      },
      "outputs": [],
      "source": []
    },
    {
      "cell_type": "markdown",
      "metadata": {
        "id": "6wuOMeq5FubP"
      },
      "source": [
        "#### Your task: ask for a user's name and print a greeting\n",
        "\n",
        "1) ask a user to input their name\n",
        "2) print a greeting, addressing the user by name"
      ]
    },
    {
      "cell_type": "code",
      "execution_count": 69,
      "metadata": {
        "id": "O7q0_oZSFubP",
        "colab": {
          "base_uri": "https://localhost:8080/"
        },
        "outputId": "f967eb8a-64b3-415d-c5af-f069fc85ae0a"
      },
      "outputs": [
        {
          "output_type": "stream",
          "name": "stdout",
          "text": [
            "What's your name? Uldis\n",
            "What's your age? 50\n",
            "Hello, Uldis ! 50\n"
          ]
        }
      ],
      "source": [
        "# Ask for user's name\n",
        "# Assign user input (string value) to a variable\n",
        "\n",
        "name = input(\"What's your name? \")\n",
        "age = input(\"What's your age? \")\n",
        "\n",
        "# Print a greeting\n",
        "# e.g. \"Hello, Valdis!\"\n",
        "\n",
        "print(\"Hello,\", name, \"!\", age)"
      ]
    },
    {
      "cell_type": "code",
      "source": [
        "print(f\"Hello, {name}!\")"
      ],
      "metadata": {
        "colab": {
          "base_uri": "https://localhost:8080/"
        },
        "id": "2v3Pxf0cnHi_",
        "outputId": "bc5a0319-cc1a-4712-effd-9908888be208"
      },
      "execution_count": 70,
      "outputs": [
        {
          "output_type": "stream",
          "name": "stdout",
          "text": [
            "Hello, Uldis!\n"
          ]
        }
      ]
    },
    {
      "cell_type": "code",
      "source": [
        "print(\"Hello, \" + name + \"!\")"
      ],
      "metadata": {
        "colab": {
          "base_uri": "https://localhost:8080/"
        },
        "id": "zvgzT0jVrrsw",
        "outputId": "a4b43230-492a-4bec-b12d-c1baa352cf3f"
      },
      "execution_count": 72,
      "outputs": [
        {
          "output_type": "stream",
          "name": "stdout",
          "text": [
            "Hello, Uldis!\n"
          ]
        }
      ]
    },
    {
      "cell_type": "markdown",
      "metadata": {
        "id": "Qayktm7yyk6z"
      },
      "source": [
        "### Data types in Python 3.x\n",
        "\n",
        "* Integers\n",
        "  * type(42)\n",
        "  * int\n",
        "* Floating Point (decimal numbers)\n",
        "  * type(3.14)\n",
        "  * float\n",
        "* Boolean\n",
        "  * type(True),type(False)\n",
        "  * bool\n",
        "* String(ordered, immutable char sequence)\n",
        "  * type(\"OyCaramba\")\n",
        "  * str\n",
        "* List\n",
        "  * type([1,2,63,\"aha\",\"youcanmixtypeinsidelist\", [\"even\",\"nest\"]])\n",
        "  * list\n",
        "* Dictionary(key:value pairs)\n",
        "  * type({\"foo\":\"bar\", \"favoriteday\":\"Friday\"})\n",
        "  * dict\n",
        "* Tuple - ordered immutable sequence\n",
        "  * type((\"sup\",7,\"dwarves\"))\n",
        "  * tuple\n",
        "* Set (unordered collection of unique values)\n",
        "  * type({\"p\", \"o\", \"t\", \"a\", \"t\", \"o\"})\n",
        "  * set"
      ]
    },
    {
      "cell_type": "code",
      "source": [
        "{\"p\", \"o\", \"t\", \"a\", \"t\", \"o\"}"
      ],
      "metadata": {
        "colab": {
          "base_uri": "https://localhost:8080/"
        },
        "id": "CXtaNGN2sN-T",
        "outputId": "8a304709-2666-40c3-b2e6-148846fd865e"
      },
      "execution_count": 73,
      "outputs": [
        {
          "output_type": "execute_result",
          "data": {
            "text/plain": [
              "{'a', 'o', 'p', 't'}"
            ]
          },
          "metadata": {},
          "execution_count": 73
        }
      ]
    },
    {
      "cell_type": "markdown",
      "metadata": {
        "id": "NLqBrqSmyk6z"
      },
      "source": [
        "## More on variables\n",
        "https://realpython.com/python-variables"
      ]
    },
    {
      "cell_type": "markdown",
      "metadata": {
        "id": "VNKMQuIyyk66"
      },
      "source": [
        "## Arithmetic Operators <a class=\"anchor\" id=\"arithmetic\">\n",
        "\n",
        "* `+ - * / `\n",
        "* `**(power)`\n",
        "* `% modulus`\n",
        "* `//(integer division)`\n",
        "* `() parenthesis for order`\n"
      ]
    },
    {
      "cell_type": "code",
      "execution_count": 74,
      "metadata": {
        "colab": {
          "base_uri": "https://localhost:8080/"
        },
        "id": "nQX4h96pyk66",
        "outputId": "8e8618b5-af68-42c2-e96f-30ca61d8d432"
      },
      "outputs": [
        {
          "output_type": "execute_result",
          "data": {
            "text/plain": [
              "24.0"
            ]
          },
          "metadata": {},
          "execution_count": 74
        }
      ],
      "source": [
        "5*3 + 4*3 - (6/2)"
      ]
    },
    {
      "cell_type": "code",
      "execution_count": 75,
      "metadata": {
        "colab": {
          "base_uri": "https://localhost:8080/"
        },
        "id": "n8wDrhb3JtYW",
        "outputId": "dd2578cb-d260-47c8-8562-09646bab6e40"
      },
      "outputs": [
        {
          "output_type": "execute_result",
          "data": {
            "text/plain": [
              "2.5"
            ]
          },
          "metadata": {},
          "execution_count": 75
        }
      ],
      "source": [
        "5/2"
      ]
    },
    {
      "cell_type": "code",
      "execution_count": 76,
      "metadata": {
        "colab": {
          "base_uri": "https://localhost:8080/"
        },
        "id": "iGIvNReTyk67",
        "outputId": "bfa1903b-3201-41c1-dee4-ecc9194b5c6e"
      },
      "outputs": [
        {
          "output_type": "execute_result",
          "data": {
            "text/plain": [
              "2"
            ]
          },
          "metadata": {},
          "execution_count": 76
        }
      ],
      "source": [
        "5//2 # gives you whole - integer division\n"
      ]
    },
    {
      "cell_type": "code",
      "execution_count": 77,
      "metadata": {
        "colab": {
          "base_uri": "https://localhost:8080/"
        },
        "id": "akoyNPzFJ1Ez",
        "outputId": "59e415a8-2eed-445c-ae3a-9beb9c43205d"
      },
      "outputs": [
        {
          "output_type": "execute_result",
          "data": {
            "text/plain": [
              "1"
            ]
          },
          "metadata": {},
          "execution_count": 77
        }
      ],
      "source": [
        "5 % 2 # this gives you remainder / technically called modulo"
      ]
    },
    {
      "cell_type": "code",
      "execution_count": 78,
      "metadata": {
        "colab": {
          "base_uri": "https://localhost:8080/"
        },
        "id": "6jo8PZW8yk67",
        "outputId": "e9d341dc-b794-4b6f-8d77-f119cff45068"
      },
      "outputs": [
        {
          "output_type": "execute_result",
          "data": {
            "text/plain": [
              "1"
            ]
          },
          "metadata": {},
          "execution_count": 78
        }
      ],
      "source": [
        "4%3"
      ]
    },
    {
      "cell_type": "code",
      "execution_count": 79,
      "metadata": {
        "colab": {
          "base_uri": "https://localhost:8080/"
        },
        "id": "5bYgoxkzyk67",
        "outputId": "56995669-a042-43ff-9c17-568d2f2b1312"
      },
      "outputs": [
        {
          "output_type": "execute_result",
          "data": {
            "text/plain": [
              "int"
            ]
          },
          "metadata": {},
          "execution_count": 79
        }
      ],
      "source": [
        "type(1)"
      ]
    },
    {
      "cell_type": "code",
      "execution_count": 80,
      "metadata": {
        "colab": {
          "base_uri": "https://localhost:8080/"
        },
        "id": "Nrua1v5Iyk67",
        "outputId": "4639472e-2076-4bb1-87f9-cdf5a71e699c"
      },
      "outputs": [
        {
          "output_type": "execute_result",
          "data": {
            "text/plain": [
              "float"
            ]
          },
          "metadata": {},
          "execution_count": 80
        }
      ],
      "source": [
        "type(14.0)"
      ]
    },
    {
      "cell_type": "code",
      "execution_count": 81,
      "metadata": {
        "colab": {
          "base_uri": "https://localhost:8080/"
        },
        "id": "Y0Md1cP9yk67",
        "outputId": "6042edf6-82e1-4f03-b566-d15776c1a3bf"
      },
      "outputs": [
        {
          "output_type": "execute_result",
          "data": {
            "text/plain": [
              "116415321826934814453125"
            ]
          },
          "metadata": {},
          "execution_count": 81
        }
      ],
      "source": [
        "5**33 # 5 to 33rd power"
      ]
    },
    {
      "cell_type": "code",
      "execution_count": 82,
      "metadata": {
        "colab": {
          "base_uri": "https://localhost:8080/"
        },
        "id": "6dx9JpjTyk67",
        "outputId": "4859398e-1df8-4443-c408-d3ad1594ea8d"
      },
      "outputs": [
        {
          "output_type": "execute_result",
          "data": {
            "text/plain": [
              "92709068817830061978520606494193845859707401497097037749844778027824097442147966967457359038488841338006006032592594389655201"
            ]
          },
          "metadata": {},
          "execution_count": 82
        }
      ],
      "source": [
        "# no maximum anymore\n",
        "11**120"
      ]
    },
    {
      "cell_type": "code",
      "execution_count": 83,
      "metadata": {
        "colab": {
          "base_uri": "https://localhost:8080/"
        },
        "id": "j7fL3jdHKc8Y",
        "outputId": "23c6d497-c89d-45d2-d017-dd06ceddded2"
      },
      "outputs": [
        {
          "output_type": "execute_result",
          "data": {
            "text/plain": [
              "10000000000000000000000000000000000000000000000000000000000000000000000000000000000000000000000000000"
            ]
          },
          "metadata": {},
          "execution_count": 83
        }
      ],
      "source": [
        "# Googol\n",
        "10**100"
      ]
    },
    {
      "cell_type": "code",
      "execution_count": 84,
      "metadata": {
        "colab": {
          "base_uri": "https://localhost:8080/"
        },
        "id": "5dFjqH73KiUe",
        "outputId": "562519c1-169a-46bf-a418-c904a8cc1dab"
      },
      "outputs": [
        {
          "output_type": "execute_result",
          "data": {
            "text/plain": [
              "10000000000000000000000000000000000000000000000000000000000000000000000000000000000000000000000000000"
            ]
          },
          "metadata": {},
          "execution_count": 84
        }
      ],
      "source": [
        "big_num = 10**100\n",
        "big_num"
      ]
    },
    {
      "cell_type": "code",
      "execution_count": 85,
      "metadata": {
        "colab": {
          "base_uri": "https://localhost:8080/",
          "height": 54
        },
        "id": "DdimhJi_KqCa",
        "outputId": "c7221a22-9899-4270-ff79-41b1a846079d"
      },
      "outputs": [
        {
          "output_type": "execute_result",
          "data": {
            "text/plain": [
              "'10000000000000000000000000000000000000000000000000000000000000000000000000000000000000000000000000000'"
            ],
            "application/vnd.google.colaboratory.intrinsic+json": {
              "type": "string"
            }
          },
          "metadata": {},
          "execution_count": 85
        }
      ],
      "source": [
        "string_num = str(big_num) # we can convert anything to a string\n",
        "string_num"
      ]
    },
    {
      "cell_type": "code",
      "execution_count": 86,
      "metadata": {
        "colab": {
          "base_uri": "https://localhost:8080/"
        },
        "id": "ve_mv6y5Kwpp",
        "outputId": "3263c99b-6ea5-4b28-e1ea-94fd953df552"
      },
      "outputs": [
        {
          "output_type": "execute_result",
          "data": {
            "text/plain": [
              "100"
            ]
          },
          "metadata": {},
          "execution_count": 86
        }
      ],
      "source": [
        "string_num.count(\"0\")"
      ]
    },
    {
      "cell_type": "markdown",
      "metadata": {
        "id": "6Zt5iHxRFubS"
      },
      "source": [
        "## More on operators\n",
        "https://www.w3schools.com/python/python_operators.asp"
      ]
    },
    {
      "cell_type": "markdown",
      "metadata": {
        "id": "nLLz0VyPyk60"
      },
      "source": [
        "## Strings\n",
        "* immutable\n",
        "* Unicode support\n",
        "\n",
        "\n",
        "* implement all common sequence operators\n",
        "https://docs.python.org/3/library/stdtypes.html#typesseq-common\n",
        "\n",
        "* string specific methods\n",
        "https://docs.python.org/3/library/stdtypes.html#string-methods"
      ]
    },
    {
      "cell_type": "code",
      "execution_count": 87,
      "metadata": {
        "colab": {
          "base_uri": "https://localhost:8080/"
        },
        "id": "_IIK6FraqVas",
        "outputId": "36459f32-2552-443e-ebfe-c7276f5796f8"
      },
      "outputs": [
        {
          "output_type": "stream",
          "name": "stdout",
          "text": [
            "Uldis\n"
          ]
        }
      ],
      "source": [
        "print(myname)"
      ]
    },
    {
      "cell_type": "code",
      "execution_count": 88,
      "metadata": {
        "colab": {
          "base_uri": "https://localhost:8080/"
        },
        "id": "_cCBXOM9yk60",
        "outputId": "432f9e3d-b22c-4445-b435-06074a95f3ce"
      },
      "outputs": [
        {
          "output_type": "execute_result",
          "data": {
            "text/plain": [
              "5"
            ]
          },
          "metadata": {},
          "execution_count": 88
        }
      ],
      "source": [
        "# String length\n",
        "len(myname)"
      ]
    },
    {
      "cell_type": "code",
      "execution_count": 89,
      "metadata": {
        "colab": {
          "base_uri": "https://localhost:8080/"
        },
        "id": "rIHKrMgQyk60",
        "outputId": "5b6451e1-cce4-45b7-c4eb-665283bb2933"
      },
      "outputs": [
        {
          "output_type": "execute_result",
          "data": {
            "text/plain": [
              "6"
            ]
          },
          "metadata": {},
          "execution_count": 89
        }
      ],
      "source": [
        "# How is this different from \"myname\" ?\n",
        "len(\"myname\")"
      ]
    },
    {
      "cell_type": "code",
      "execution_count": 90,
      "metadata": {
        "colab": {
          "base_uri": "https://localhost:8080/",
          "height": 36
        },
        "id": "evJmIiRkyk60",
        "outputId": "32f24f65-34fc-4b59-c38a-16e424e883c7"
      },
      "outputs": [
        {
          "output_type": "execute_result",
          "data": {
            "text/plain": [
              "'l'"
            ],
            "application/vnd.google.colaboratory.intrinsic+json": {
              "type": "string"
            }
          },
          "metadata": {},
          "execution_count": 90
        }
      ],
      "source": [
        "# Getting individual characters (counting from 0)\n",
        "myname[1]"
      ]
    },
    {
      "cell_type": "code",
      "execution_count": 91,
      "metadata": {
        "colab": {
          "base_uri": "https://localhost:8080/",
          "height": 36
        },
        "id": "F5gUZK5Ayk60",
        "outputId": "81c40e8d-9f38-481f-f4c9-2dfcd0cfa81f"
      },
      "outputs": [
        {
          "output_type": "execute_result",
          "data": {
            "text/plain": [
              "'s'"
            ],
            "application/vnd.google.colaboratory.intrinsic+json": {
              "type": "string"
            }
          },
          "metadata": {},
          "execution_count": 91
        }
      ],
      "source": [
        "# Getting the last character\n",
        "myname[-1]"
      ]
    },
    {
      "cell_type": "markdown",
      "metadata": {
        "id": "w4Lf34OUyk61"
      },
      "source": [
        "### String Slicing"
      ]
    },
    {
      "cell_type": "code",
      "execution_count": 92,
      "metadata": {
        "colab": {
          "base_uri": "https://localhost:8080/",
          "height": 36
        },
        "id": "d2Frzw-Lyk61",
        "outputId": "1795b246-0b58-471d-fc1d-0043c4a073e5"
      },
      "outputs": [
        {
          "output_type": "execute_result",
          "data": {
            "text/plain": [
              "'Uld'"
            ],
            "application/vnd.google.colaboratory.intrinsic+json": {
              "type": "string"
            }
          },
          "metadata": {},
          "execution_count": 92
        }
      ],
      "source": [
        "# Slicing lets us get parts (slices) of text values\n",
        "\n",
        "# Slicing syntax\n",
        "# Start at 0 an go until but not including 3\n",
        "myname[0:3]"
      ]
    },
    {
      "cell_type": "code",
      "execution_count": 93,
      "metadata": {
        "colab": {
          "base_uri": "https://localhost:8080/",
          "height": 36
        },
        "id": "Ar7t3e_krf6F",
        "outputId": "209cc5e7-468c-4969-eb98-8f7ad4261419"
      },
      "outputs": [
        {
          "output_type": "execute_result",
          "data": {
            "text/plain": [
              "'Uld'"
            ],
            "application/vnd.google.colaboratory.intrinsic+json": {
              "type": "string"
            }
          },
          "metadata": {},
          "execution_count": 93
        }
      ],
      "source": [
        "# We can omit the default start value (0)\n",
        "myname[:3]"
      ]
    },
    {
      "cell_type": "code",
      "execution_count": 94,
      "metadata": {
        "colab": {
          "base_uri": "https://localhost:8080/",
          "height": 36
        },
        "id": "4tk6jWskyk61",
        "outputId": "f2a0fbfa-8a93-4f4e-d9fc-4dee8d0af709"
      },
      "outputs": [
        {
          "output_type": "execute_result",
          "data": {
            "text/plain": [
              "'ld'"
            ],
            "application/vnd.google.colaboratory.intrinsic+json": {
              "type": "string"
            }
          },
          "metadata": {},
          "execution_count": 94
        }
      ],
      "source": [
        "myname[1:3]"
      ]
    },
    {
      "cell_type": "code",
      "execution_count": 95,
      "metadata": {
        "colab": {
          "base_uri": "https://localhost:8080/",
          "height": 36
        },
        "id": "MypGDyJgrxAU",
        "outputId": "339ff07e-45fa-43a9-fb95-54ac616c81fa"
      },
      "outputs": [
        {
          "output_type": "execute_result",
          "data": {
            "text/plain": [
              "'dis'"
            ],
            "application/vnd.google.colaboratory.intrinsic+json": {
              "type": "string"
            }
          },
          "metadata": {},
          "execution_count": 95
        }
      ],
      "source": [
        "# last three characters\n",
        "myname[-3:] # so we slice from 3 characters in the end and go towards that end"
      ]
    },
    {
      "cell_type": "code",
      "execution_count": 96,
      "metadata": {
        "colab": {
          "base_uri": "https://localhost:8080/",
          "height": 36
        },
        "id": "Mc2G_duCr8yY",
        "outputId": "78aa64f8-8c72-49f0-f2c2-5235196d3c7d"
      },
      "outputs": [
        {
          "output_type": "execute_result",
          "data": {
            "text/plain": [
              "'di'"
            ],
            "application/vnd.google.colaboratory.intrinsic+json": {
              "type": "string"
            }
          },
          "metadata": {},
          "execution_count": 96
        }
      ],
      "source": [
        "myname[-3:-1] # this will give 3rd and 2nd character from the end BUT not the last one"
      ]
    },
    {
      "cell_type": "code",
      "execution_count": 97,
      "metadata": {
        "colab": {
          "base_uri": "https://localhost:8080/"
        },
        "id": "pyDMGpozsGKg",
        "outputId": "1e5eedd0-09df-47d8-f7bf-5d4f3fcaf76b"
      },
      "outputs": [
        {
          "output_type": "stream",
          "name": "stdout",
          "text": [
            "s\n",
            "s\n"
          ]
        }
      ],
      "source": [
        "print(myname[4])  # Python offers two indexes one from the start starting at 0, and one from the end starting at -1\n",
        "print(myname[-1])"
      ]
    },
    {
      "cell_type": "code",
      "execution_count": 98,
      "metadata": {
        "colab": {
          "base_uri": "https://localhost:8080/",
          "height": 147
        },
        "id": "dMCauuGEsaGT",
        "outputId": "d46bc3e3-28b2-4c4f-d6fe-02547fa3d1e3"
      },
      "outputs": [
        {
          "output_type": "error",
          "ename": "IndexError",
          "evalue": "string index out of range",
          "traceback": [
            "\u001b[0;31m---------------------------------------------------------------------------\u001b[0m",
            "\u001b[0;31mIndexError\u001b[0m                                Traceback (most recent call last)",
            "\u001b[0;32m<ipython-input-98-73de54a85465>\u001b[0m in \u001b[0;36m<cell line: 1>\u001b[0;34m()\u001b[0m\n\u001b[0;32m----> 1\u001b[0;31m \u001b[0mmyname\u001b[0m\u001b[0;34m[\u001b[0m\u001b[0;36m9000\u001b[0m\u001b[0;34m]\u001b[0m\u001b[0;34m\u001b[0m\u001b[0;34m\u001b[0m\u001b[0m\n\u001b[0m",
            "\u001b[0;31mIndexError\u001b[0m: string index out of range"
          ]
        }
      ],
      "source": [
        "myname[9000]"
      ]
    },
    {
      "cell_type": "code",
      "execution_count": 99,
      "metadata": {
        "colab": {
          "base_uri": "https://localhost:8080/",
          "height": 36
        },
        "id": "V4nvBiFTyk61",
        "outputId": "d8107d5b-2a43-432e-967c-765b05942840"
      },
      "outputs": [
        {
          "output_type": "execute_result",
          "data": {
            "text/plain": [
              "'Uds'"
            ],
            "application/vnd.google.colaboratory.intrinsic+json": {
              "type": "string"
            }
          },
          "metadata": {},
          "execution_count": 99
        }
      ],
      "source": [
        "# slicing syntax actually has a 3rd optional modifier - step\n",
        "myname[0:6:2]"
      ]
    },
    {
      "cell_type": "code",
      "execution_count": 100,
      "metadata": {
        "colab": {
          "base_uri": "https://localhost:8080/",
          "height": 36
        },
        "id": "k3NY_dcotAxv",
        "outputId": "4eec45e8-1e82-4b58-a21e-2a9e654e6d3e"
      },
      "outputs": [
        {
          "output_type": "execute_result",
          "data": {
            "text/plain": [
              "'Uds'"
            ],
            "application/vnd.google.colaboratory.intrinsic+json": {
              "type": "string"
            }
          },
          "metadata": {},
          "execution_count": 100
        }
      ],
      "source": [
        "myname[::2] # so I want to print all letters starting from start but skip every 2nd one"
      ]
    },
    {
      "cell_type": "code",
      "execution_count": 101,
      "metadata": {
        "colab": {
          "base_uri": "https://localhost:8080/",
          "height": 36
        },
        "id": "i2rgqIrQyk61",
        "outputId": "de1d9138-9789-4a30-cbaa-0652960fa274"
      },
      "outputs": [
        {
          "output_type": "execute_result",
          "data": {
            "text/plain": [
              "'ptte'"
            ],
            "application/vnd.google.colaboratory.intrinsic+json": {
              "type": "string"
            }
          },
          "metadata": {},
          "execution_count": 101
        }
      ],
      "source": [
        "# lets play with food!\n",
        "food = \"potatoes\"\n",
        "food[::2]"
      ]
    },
    {
      "cell_type": "code",
      "execution_count": 102,
      "metadata": {
        "colab": {
          "base_uri": "https://localhost:8080/",
          "height": 36
        },
        "id": "iwXQNx-tyk62",
        "outputId": "21dd8a7a-32c0-4517-b68a-9993bd869d64"
      },
      "outputs": [
        {
          "output_type": "execute_result",
          "data": {
            "text/plain": [
              "'oaos'"
            ],
            "application/vnd.google.colaboratory.intrinsic+json": {
              "type": "string"
            }
          },
          "metadata": {},
          "execution_count": 102
        }
      ],
      "source": [
        "food[1::2] # we start with a 2nd letter and skip every 2nd letter from then on"
      ]
    },
    {
      "cell_type": "code",
      "execution_count": 103,
      "metadata": {
        "colab": {
          "base_uri": "https://localhost:8080/",
          "height": 36
        },
        "id": "Msa_Ad2Myk62",
        "outputId": "f065fcc7-552d-4beb-e40d-e27ba634c591"
      },
      "outputs": [
        {
          "output_type": "execute_result",
          "data": {
            "text/plain": [
              "'oao'"
            ],
            "application/vnd.google.colaboratory.intrinsic+json": {
              "type": "string"
            }
          },
          "metadata": {},
          "execution_count": 103
        }
      ],
      "source": [
        "food[1:6:2]"
      ]
    },
    {
      "cell_type": "code",
      "execution_count": 104,
      "metadata": {
        "colab": {
          "base_uri": "https://localhost:8080/",
          "height": 36
        },
        "id": "eVA7IzQcyk62",
        "outputId": "9a444e5e-6314-45e7-a654-8cd42286edb7"
      },
      "outputs": [
        {
          "output_type": "execute_result",
          "data": {
            "text/plain": [
              "'seotatop'"
            ],
            "application/vnd.google.colaboratory.intrinsic+json": {
              "type": "string"
            }
          },
          "metadata": {},
          "execution_count": 104
        }
      ],
      "source": [
        "# Pythonic way of reversing a string\n",
        "food[::-1]\n"
      ]
    },
    {
      "cell_type": "code",
      "execution_count": 105,
      "metadata": {
        "colab": {
          "base_uri": "https://localhost:8080/",
          "height": 147
        },
        "id": "nORDYX41t09O",
        "outputId": "1806cff3-60b1-4971-e184-abd1a47c9b81"
      },
      "outputs": [
        {
          "output_type": "error",
          "ename": "TypeError",
          "evalue": "'str' object does not support item assignment",
          "traceback": [
            "\u001b[0;31m---------------------------------------------------------------------------\u001b[0m",
            "\u001b[0;31mTypeError\u001b[0m                                 Traceback (most recent call last)",
            "\u001b[0;32m<ipython-input-105-22ef261b8f5a>\u001b[0m in \u001b[0;36m<cell line: 1>\u001b[0;34m()\u001b[0m\n\u001b[0;32m----> 1\u001b[0;31m \u001b[0mfood\u001b[0m\u001b[0;34m[\u001b[0m\u001b[0;36m2\u001b[0m\u001b[0;34m]\u001b[0m \u001b[0;34m=\u001b[0m \u001b[0;34m\"x\"\u001b[0m    \u001b[0;31m# this would not work\u001b[0m\u001b[0;34m\u001b[0m\u001b[0;34m\u001b[0m\u001b[0m\n\u001b[0m",
            "\u001b[0;31mTypeError\u001b[0m: 'str' object does not support item assignment"
          ]
        }
      ],
      "source": [
        "food[2] = \"x\"    # this would not work"
      ]
    },
    {
      "cell_type": "code",
      "execution_count": 106,
      "metadata": {
        "colab": {
          "base_uri": "https://localhost:8080/",
          "height": 36
        },
        "id": "j4ils2ODyk62",
        "outputId": "aab2b363-c3e9-4bef-94d4-379009d2c997"
      },
      "outputs": [
        {
          "output_type": "execute_result",
          "data": {
            "text/plain": [
              "'poxatoes'"
            ],
            "application/vnd.google.colaboratory.intrinsic+json": {
              "type": "string"
            }
          },
          "metadata": {},
          "execution_count": 106
        }
      ],
      "source": [
        "# modifying strings\n",
        "# unmutability\n",
        "# food[2]=\"x\" is not allowed\n",
        "newfood = food[:2] + \"x\" + food[3:] # so we concatanate first 2 letters from food then add letter \"x\" and then rest of letters from food starting with the 4th characters\n",
        "newfood"
      ]
    },
    {
      "cell_type": "code",
      "execution_count": 107,
      "metadata": {
        "colab": {
          "base_uri": "https://localhost:8080/",
          "height": 36
        },
        "id": "_sQ4cEufuRfA",
        "outputId": "16b6afe9-cc50-4da7-8a3a-ea2cce4a463b"
      },
      "outputs": [
        {
          "output_type": "execute_result",
          "data": {
            "text/plain": [
              "'Bojārs'"
            ],
            "application/vnd.google.colaboratory.intrinsic+json": {
              "type": "string"
            }
          },
          "metadata": {},
          "execution_count": 107
        }
      ],
      "source": [
        "last_name = \"Bojārs\"\n",
        "last_name"
      ]
    },
    {
      "cell_type": "code",
      "execution_count": 108,
      "metadata": {
        "colab": {
          "base_uri": "https://localhost:8080/",
          "height": 36
        },
        "id": "qGh04I3zuYTM",
        "outputId": "c401cc41-e582-4a64-dbe7-e0ee3c8419a8"
      },
      "outputs": [
        {
          "output_type": "execute_result",
          "data": {
            "text/plain": [
              "'UldisBojārs'"
            ],
            "application/vnd.google.colaboratory.intrinsic+json": {
              "type": "string"
            }
          },
          "metadata": {},
          "execution_count": 108
        }
      ],
      "source": [
        "full_name = myname + last_name\n",
        "full_name"
      ]
    },
    {
      "cell_type": "code",
      "execution_count": 109,
      "metadata": {
        "colab": {
          "base_uri": "https://localhost:8080/",
          "height": 36
        },
        "id": "tMK5ad-Jum3N",
        "outputId": "0660f549-7ea5-430c-b3e7-8901c769b234"
      },
      "outputs": [
        {
          "output_type": "execute_result",
          "data": {
            "text/plain": [
              "'Uldis Bojārs'"
            ],
            "application/vnd.google.colaboratory.intrinsic+json": {
              "type": "string"
            }
          },
          "metadata": {},
          "execution_count": 109
        }
      ],
      "source": [
        "full_name = myname + \" \" + last_name\n",
        "full_name"
      ]
    },
    {
      "cell_type": "markdown",
      "metadata": {
        "id": "pwOxFbXsyk63"
      },
      "source": [
        "## \"f-strings\", “formatted string literals”\n",
        "\n",
        "In some other languages also known as string interpolation"
      ]
    },
    {
      "cell_type": "code",
      "execution_count": 110,
      "metadata": {
        "colab": {
          "base_uri": "https://localhost:8080/",
          "height": 36
        },
        "id": "eGwasQzEyk63",
        "outputId": "b2a6e055-1bda-4fcc-d034-ff01c39eec46"
      },
      "outputs": [
        {
          "output_type": "execute_result",
          "data": {
            "text/plain": [
              "'Uldis'"
            ],
            "application/vnd.google.colaboratory.intrinsic+json": {
              "type": "string"
            }
          },
          "metadata": {},
          "execution_count": 110
        }
      ],
      "source": [
        "# Create myname and favfood variables with the appropriate text\n",
        "# Then run the print function below\n",
        "\n",
        "myname"
      ]
    },
    {
      "cell_type": "code",
      "execution_count": 111,
      "metadata": {
        "colab": {
          "base_uri": "https://localhost:8080/",
          "height": 36
        },
        "id": "btOR_9VDv0Q1",
        "outputId": "2c68f3db-5ab3-41cc-c797-bee7650673a2"
      },
      "outputs": [
        {
          "output_type": "execute_result",
          "data": {
            "text/plain": [
              "'pizza'"
            ],
            "application/vnd.google.colaboratory.intrinsic+json": {
              "type": "string"
            }
          },
          "metadata": {},
          "execution_count": 111
        }
      ],
      "source": [
        "favfood = \"pizza\"\n",
        "favfood"
      ]
    },
    {
      "cell_type": "code",
      "execution_count": 112,
      "metadata": {
        "colab": {
          "base_uri": "https://localhost:8080/"
        },
        "id": "F6iqEY0Jyk63",
        "outputId": "99d5e9a5-94f7-4a76-a31e-a819f4629710"
      },
      "outputs": [
        {
          "output_type": "stream",
          "name": "stdout",
          "text": [
            "My name is Uldis and my favorite food is pizza \n"
          ]
        }
      ],
      "source": [
        "print(f\"My name is {myname} and my favorite food is {favfood} \")\n",
        "\n",
        "# f-strings were added in Python 3.6+ (older formatting methods not covered in this course)\n",
        "# https://realpython.com/python-f-strings/\n"
      ]
    },
    {
      "cell_type": "code",
      "execution_count": 113,
      "metadata": {
        "colab": {
          "base_uri": "https://localhost:8080/"
        },
        "id": "1ZITJytQwDb7",
        "outputId": "6af776db-50ff-4930-9b26-a574dd8b967b"
      },
      "outputs": [
        {
          "output_type": "stream",
          "name": "stdout",
          "text": [
            "My name is {myname} and my favorite food is {favfood} \n"
          ]
        }
      ],
      "source": [
        "print(\"My name is {myname} and my favorite food is {favfood} \") # just a regular string and no variables will be replaced"
      ]
    },
    {
      "cell_type": "code",
      "execution_count": 114,
      "metadata": {
        "id": "XNZHcE6fyk63",
        "colab": {
          "base_uri": "https://localhost:8080/"
        },
        "outputId": "bec3a814-2dee-4dc7-d3fe-45524c362513"
      },
      "outputs": [
        {
          "output_type": "stream",
          "name": "stdout",
          "text": [
            "My name is Uldis and my favorite food is pizza\n"
          ]
        }
      ],
      "source": [
        "# Old string concatenation method\n",
        "print(\"My name is \" + myname + \" and my favorite food is \" + favfood)"
      ]
    },
    {
      "cell_type": "code",
      "execution_count": 115,
      "metadata": {
        "id": "mkSNQTbLwO0M",
        "colab": {
          "base_uri": "https://localhost:8080/",
          "height": 36
        },
        "outputId": "fd331fd2-e866-4033-cdb4-43a173177712"
      },
      "outputs": [
        {
          "output_type": "execute_result",
          "data": {
            "text/plain": [
              "'My name is Uldis and my favorite food is pizza'"
            ],
            "application/vnd.google.colaboratory.intrinsic+json": {
              "type": "string"
            }
          },
          "metadata": {},
          "execution_count": 115
        }
      ],
      "source": [
        "food_string = f\"My name is {myname} and my favorite food is {favfood}\"\n",
        "food_string"
      ]
    },
    {
      "cell_type": "markdown",
      "metadata": {
        "id": "-P6DP0moUjOb"
      },
      "source": [
        "## Detour: ChatGPT\n",
        "\n",
        "**ChatGPT is a powerful system that can generate program code and human-like text, and can participate in conversations with the user.**\n",
        "\n",
        "It is based on a large language model that predicts new tokens (words) in a sentence becased on the existing text.\n",
        "\n",
        "**Get a free ChatGPT account here:**\n",
        " - https://chatgpt.com/\n",
        "\n",
        "**How you can use ChatGPT in programming:**\n",
        " - help with program error messages (e.g. Python exceptions)\n",
        " - explaining program code\n",
        " - writing programs\n",
        " - ...\n",
        "\n",
        "**Limitations of ChatGPT:**\n",
        " - hallucinations (e.g. ChatGPT and similar services can \"invent\" Python libraries that do not exist)\n",
        " - bias (the model reflects biases in the data that it was trained on)\n",
        " - knowledge cut-off (the model does not have knowledge about recent events, ...)\n",
        "\n",
        "**Other sources of programming knowledge to consider:**\n",
        " - search engines\n",
        " - [Stack Overflow](https://stackoverflow.com/) (programming question and answer website)\n",
        "\n",
        "---"
      ]
    },
    {
      "cell_type": "code",
      "execution_count": null,
      "metadata": {
        "id": "UrbxqYneUjOb"
      },
      "outputs": [],
      "source": [
        "# 1) Use ChatGPT to get help with the error message from the print error example\n",
        "#    at the beginning of this notebook\n"
      ]
    },
    {
      "cell_type": "code",
      "execution_count": null,
      "metadata": {
        "id": "U0Kv3YbhUjOb"
      },
      "outputs": [],
      "source": [
        "# 2) Use ChatGPT to explain Python program code that you need help with:\n",
        "#    e.g. the code for using Python f-strings\n"
      ]
    },
    {
      "cell_type": "code",
      "execution_count": null,
      "metadata": {
        "id": "jryTrr3GUjOb"
      },
      "outputs": [],
      "source": [
        "# 3) Ask ChatGPT to write a simple program\n"
      ]
    },
    {
      "cell_type": "markdown",
      "metadata": {
        "id": "y_1p8-8uUjOc"
      },
      "source": [
        "---"
      ]
    },
    {
      "cell_type": "markdown",
      "metadata": {
        "id": "zMrBVe2FBeuB"
      },
      "source": [
        "## String Methods\n",
        "\n",
        "String methods lets us do something with text string values (e.g. transform them)."
      ]
    },
    {
      "cell_type": "code",
      "execution_count": 116,
      "metadata": {
        "colab": {
          "base_uri": "https://localhost:8080/",
          "height": 36
        },
        "id": "jBgJH-wjBjkE",
        "outputId": "4d88c32c-f04f-47b0-f830-bdef59ff1c59"
      },
      "outputs": [
        {
          "output_type": "execute_result",
          "data": {
            "text/plain": [
              "'Uldis'"
            ],
            "application/vnd.google.colaboratory.intrinsic+json": {
              "type": "string"
            }
          },
          "metadata": {},
          "execution_count": 116
        }
      ],
      "source": [
        "myname"
      ]
    },
    {
      "cell_type": "code",
      "execution_count": 117,
      "metadata": {
        "colab": {
          "base_uri": "https://localhost:8080/"
        },
        "id": "aZ_Q8wXjFubd",
        "outputId": "0dad88e2-4954-44cb-d085-7c369c1d7432"
      },
      "outputs": [
        {
          "output_type": "stream",
          "name": "stdout",
          "text": [
            "Help on class str in module builtins:\n",
            "\n",
            "class str(object)\n",
            " |  str(object='') -> str\n",
            " |  str(bytes_or_buffer[, encoding[, errors]]) -> str\n",
            " |  \n",
            " |  Create a new string object from the given object. If encoding or\n",
            " |  errors is specified, then the object must expose a data buffer\n",
            " |  that will be decoded using the given encoding and error handler.\n",
            " |  Otherwise, returns the result of object.__str__() (if defined)\n",
            " |  or repr(object).\n",
            " |  encoding defaults to sys.getdefaultencoding().\n",
            " |  errors defaults to 'strict'.\n",
            " |  \n",
            " |  Methods defined here:\n",
            " |  \n",
            " |  __add__(self, value, /)\n",
            " |      Return self+value.\n",
            " |  \n",
            " |  __contains__(self, key, /)\n",
            " |      Return key in self.\n",
            " |  \n",
            " |  __eq__(self, value, /)\n",
            " |      Return self==value.\n",
            " |  \n",
            " |  __format__(self, format_spec, /)\n",
            " |      Return a formatted version of the string as described by format_spec.\n",
            " |  \n",
            " |  __ge__(self, value, /)\n",
            " |      Return self>=value.\n",
            " |  \n",
            " |  __getattribute__(self, name, /)\n",
            " |      Return getattr(self, name).\n",
            " |  \n",
            " |  __getitem__(self, key, /)\n",
            " |      Return self[key].\n",
            " |  \n",
            " |  __getnewargs__(...)\n",
            " |  \n",
            " |  __gt__(self, value, /)\n",
            " |      Return self>value.\n",
            " |  \n",
            " |  __hash__(self, /)\n",
            " |      Return hash(self).\n",
            " |  \n",
            " |  __iter__(self, /)\n",
            " |      Implement iter(self).\n",
            " |  \n",
            " |  __le__(self, value, /)\n",
            " |      Return self<=value.\n",
            " |  \n",
            " |  __len__(self, /)\n",
            " |      Return len(self).\n",
            " |  \n",
            " |  __lt__(self, value, /)\n",
            " |      Return self<value.\n",
            " |  \n",
            " |  __mod__(self, value, /)\n",
            " |      Return self%value.\n",
            " |  \n",
            " |  __mul__(self, value, /)\n",
            " |      Return self*value.\n",
            " |  \n",
            " |  __ne__(self, value, /)\n",
            " |      Return self!=value.\n",
            " |  \n",
            " |  __repr__(self, /)\n",
            " |      Return repr(self).\n",
            " |  \n",
            " |  __rmod__(self, value, /)\n",
            " |      Return value%self.\n",
            " |  \n",
            " |  __rmul__(self, value, /)\n",
            " |      Return value*self.\n",
            " |  \n",
            " |  __sizeof__(self, /)\n",
            " |      Return the size of the string in memory, in bytes.\n",
            " |  \n",
            " |  __str__(self, /)\n",
            " |      Return str(self).\n",
            " |  \n",
            " |  capitalize(self, /)\n",
            " |      Return a capitalized version of the string.\n",
            " |      \n",
            " |      More specifically, make the first character have upper case and the rest lower\n",
            " |      case.\n",
            " |  \n",
            " |  casefold(self, /)\n",
            " |      Return a version of the string suitable for caseless comparisons.\n",
            " |  \n",
            " |  center(self, width, fillchar=' ', /)\n",
            " |      Return a centered string of length width.\n",
            " |      \n",
            " |      Padding is done using the specified fill character (default is a space).\n",
            " |  \n",
            " |  count(...)\n",
            " |      S.count(sub[, start[, end]]) -> int\n",
            " |      \n",
            " |      Return the number of non-overlapping occurrences of substring sub in\n",
            " |      string S[start:end].  Optional arguments start and end are\n",
            " |      interpreted as in slice notation.\n",
            " |  \n",
            " |  encode(self, /, encoding='utf-8', errors='strict')\n",
            " |      Encode the string using the codec registered for encoding.\n",
            " |      \n",
            " |      encoding\n",
            " |        The encoding in which to encode the string.\n",
            " |      errors\n",
            " |        The error handling scheme to use for encoding errors.\n",
            " |        The default is 'strict' meaning that encoding errors raise a\n",
            " |        UnicodeEncodeError.  Other possible values are 'ignore', 'replace' and\n",
            " |        'xmlcharrefreplace' as well as any other name registered with\n",
            " |        codecs.register_error that can handle UnicodeEncodeErrors.\n",
            " |  \n",
            " |  endswith(...)\n",
            " |      S.endswith(suffix[, start[, end]]) -> bool\n",
            " |      \n",
            " |      Return True if S ends with the specified suffix, False otherwise.\n",
            " |      With optional start, test S beginning at that position.\n",
            " |      With optional end, stop comparing S at that position.\n",
            " |      suffix can also be a tuple of strings to try.\n",
            " |  \n",
            " |  expandtabs(self, /, tabsize=8)\n",
            " |      Return a copy where all tab characters are expanded using spaces.\n",
            " |      \n",
            " |      If tabsize is not given, a tab size of 8 characters is assumed.\n",
            " |  \n",
            " |  find(...)\n",
            " |      S.find(sub[, start[, end]]) -> int\n",
            " |      \n",
            " |      Return the lowest index in S where substring sub is found,\n",
            " |      such that sub is contained within S[start:end].  Optional\n",
            " |      arguments start and end are interpreted as in slice notation.\n",
            " |      \n",
            " |      Return -1 on failure.\n",
            " |  \n",
            " |  format(...)\n",
            " |      S.format(*args, **kwargs) -> str\n",
            " |      \n",
            " |      Return a formatted version of S, using substitutions from args and kwargs.\n",
            " |      The substitutions are identified by braces ('{' and '}').\n",
            " |  \n",
            " |  format_map(...)\n",
            " |      S.format_map(mapping) -> str\n",
            " |      \n",
            " |      Return a formatted version of S, using substitutions from mapping.\n",
            " |      The substitutions are identified by braces ('{' and '}').\n",
            " |  \n",
            " |  index(...)\n",
            " |      S.index(sub[, start[, end]]) -> int\n",
            " |      \n",
            " |      Return the lowest index in S where substring sub is found,\n",
            " |      such that sub is contained within S[start:end].  Optional\n",
            " |      arguments start and end are interpreted as in slice notation.\n",
            " |      \n",
            " |      Raises ValueError when the substring is not found.\n",
            " |  \n",
            " |  isalnum(self, /)\n",
            " |      Return True if the string is an alpha-numeric string, False otherwise.\n",
            " |      \n",
            " |      A string is alpha-numeric if all characters in the string are alpha-numeric and\n",
            " |      there is at least one character in the string.\n",
            " |  \n",
            " |  isalpha(self, /)\n",
            " |      Return True if the string is an alphabetic string, False otherwise.\n",
            " |      \n",
            " |      A string is alphabetic if all characters in the string are alphabetic and there\n",
            " |      is at least one character in the string.\n",
            " |  \n",
            " |  isascii(self, /)\n",
            " |      Return True if all characters in the string are ASCII, False otherwise.\n",
            " |      \n",
            " |      ASCII characters have code points in the range U+0000-U+007F.\n",
            " |      Empty string is ASCII too.\n",
            " |  \n",
            " |  isdecimal(self, /)\n",
            " |      Return True if the string is a decimal string, False otherwise.\n",
            " |      \n",
            " |      A string is a decimal string if all characters in the string are decimal and\n",
            " |      there is at least one character in the string.\n",
            " |  \n",
            " |  isdigit(self, /)\n",
            " |      Return True if the string is a digit string, False otherwise.\n",
            " |      \n",
            " |      A string is a digit string if all characters in the string are digits and there\n",
            " |      is at least one character in the string.\n",
            " |  \n",
            " |  isidentifier(self, /)\n",
            " |      Return True if the string is a valid Python identifier, False otherwise.\n",
            " |      \n",
            " |      Call keyword.iskeyword(s) to test whether string s is a reserved identifier,\n",
            " |      such as \"def\" or \"class\".\n",
            " |  \n",
            " |  islower(self, /)\n",
            " |      Return True if the string is a lowercase string, False otherwise.\n",
            " |      \n",
            " |      A string is lowercase if all cased characters in the string are lowercase and\n",
            " |      there is at least one cased character in the string.\n",
            " |  \n",
            " |  isnumeric(self, /)\n",
            " |      Return True if the string is a numeric string, False otherwise.\n",
            " |      \n",
            " |      A string is numeric if all characters in the string are numeric and there is at\n",
            " |      least one character in the string.\n",
            " |  \n",
            " |  isprintable(self, /)\n",
            " |      Return True if the string is printable, False otherwise.\n",
            " |      \n",
            " |      A string is printable if all of its characters are considered printable in\n",
            " |      repr() or if it is empty.\n",
            " |  \n",
            " |  isspace(self, /)\n",
            " |      Return True if the string is a whitespace string, False otherwise.\n",
            " |      \n",
            " |      A string is whitespace if all characters in the string are whitespace and there\n",
            " |      is at least one character in the string.\n",
            " |  \n",
            " |  istitle(self, /)\n",
            " |      Return True if the string is a title-cased string, False otherwise.\n",
            " |      \n",
            " |      In a title-cased string, upper- and title-case characters may only\n",
            " |      follow uncased characters and lowercase characters only cased ones.\n",
            " |  \n",
            " |  isupper(self, /)\n",
            " |      Return True if the string is an uppercase string, False otherwise.\n",
            " |      \n",
            " |      A string is uppercase if all cased characters in the string are uppercase and\n",
            " |      there is at least one cased character in the string.\n",
            " |  \n",
            " |  join(self, iterable, /)\n",
            " |      Concatenate any number of strings.\n",
            " |      \n",
            " |      The string whose method is called is inserted in between each given string.\n",
            " |      The result is returned as a new string.\n",
            " |      \n",
            " |      Example: '.'.join(['ab', 'pq', 'rs']) -> 'ab.pq.rs'\n",
            " |  \n",
            " |  ljust(self, width, fillchar=' ', /)\n",
            " |      Return a left-justified string of length width.\n",
            " |      \n",
            " |      Padding is done using the specified fill character (default is a space).\n",
            " |  \n",
            " |  lower(self, /)\n",
            " |      Return a copy of the string converted to lowercase.\n",
            " |  \n",
            " |  lstrip(self, chars=None, /)\n",
            " |      Return a copy of the string with leading whitespace removed.\n",
            " |      \n",
            " |      If chars is given and not None, remove characters in chars instead.\n",
            " |  \n",
            " |  partition(self, sep, /)\n",
            " |      Partition the string into three parts using the given separator.\n",
            " |      \n",
            " |      This will search for the separator in the string.  If the separator is found,\n",
            " |      returns a 3-tuple containing the part before the separator, the separator\n",
            " |      itself, and the part after it.\n",
            " |      \n",
            " |      If the separator is not found, returns a 3-tuple containing the original string\n",
            " |      and two empty strings.\n",
            " |  \n",
            " |  removeprefix(self, prefix, /)\n",
            " |      Return a str with the given prefix string removed if present.\n",
            " |      \n",
            " |      If the string starts with the prefix string, return string[len(prefix):].\n",
            " |      Otherwise, return a copy of the original string.\n",
            " |  \n",
            " |  removesuffix(self, suffix, /)\n",
            " |      Return a str with the given suffix string removed if present.\n",
            " |      \n",
            " |      If the string ends with the suffix string and that suffix is not empty,\n",
            " |      return string[:-len(suffix)]. Otherwise, return a copy of the original\n",
            " |      string.\n",
            " |  \n",
            " |  replace(self, old, new, count=-1, /)\n",
            " |      Return a copy with all occurrences of substring old replaced by new.\n",
            " |      \n",
            " |        count\n",
            " |          Maximum number of occurrences to replace.\n",
            " |          -1 (the default value) means replace all occurrences.\n",
            " |      \n",
            " |      If the optional argument count is given, only the first count occurrences are\n",
            " |      replaced.\n",
            " |  \n",
            " |  rfind(...)\n",
            " |      S.rfind(sub[, start[, end]]) -> int\n",
            " |      \n",
            " |      Return the highest index in S where substring sub is found,\n",
            " |      such that sub is contained within S[start:end].  Optional\n",
            " |      arguments start and end are interpreted as in slice notation.\n",
            " |      \n",
            " |      Return -1 on failure.\n",
            " |  \n",
            " |  rindex(...)\n",
            " |      S.rindex(sub[, start[, end]]) -> int\n",
            " |      \n",
            " |      Return the highest index in S where substring sub is found,\n",
            " |      such that sub is contained within S[start:end].  Optional\n",
            " |      arguments start and end are interpreted as in slice notation.\n",
            " |      \n",
            " |      Raises ValueError when the substring is not found.\n",
            " |  \n",
            " |  rjust(self, width, fillchar=' ', /)\n",
            " |      Return a right-justified string of length width.\n",
            " |      \n",
            " |      Padding is done using the specified fill character (default is a space).\n",
            " |  \n",
            " |  rpartition(self, sep, /)\n",
            " |      Partition the string into three parts using the given separator.\n",
            " |      \n",
            " |      This will search for the separator in the string, starting at the end. If\n",
            " |      the separator is found, returns a 3-tuple containing the part before the\n",
            " |      separator, the separator itself, and the part after it.\n",
            " |      \n",
            " |      If the separator is not found, returns a 3-tuple containing two empty strings\n",
            " |      and the original string.\n",
            " |  \n",
            " |  rsplit(self, /, sep=None, maxsplit=-1)\n",
            " |      Return a list of the substrings in the string, using sep as the separator string.\n",
            " |      \n",
            " |        sep\n",
            " |          The separator used to split the string.\n",
            " |      \n",
            " |          When set to None (the default value), will split on any whitespace\n",
            " |          character (including \\\\n \\\\r \\\\t \\\\f and spaces) and will discard\n",
            " |          empty strings from the result.\n",
            " |        maxsplit\n",
            " |          Maximum number of splits (starting from the left).\n",
            " |          -1 (the default value) means no limit.\n",
            " |      \n",
            " |      Splitting starts at the end of the string and works to the front.\n",
            " |  \n",
            " |  rstrip(self, chars=None, /)\n",
            " |      Return a copy of the string with trailing whitespace removed.\n",
            " |      \n",
            " |      If chars is given and not None, remove characters in chars instead.\n",
            " |  \n",
            " |  split(self, /, sep=None, maxsplit=-1)\n",
            " |      Return a list of the substrings in the string, using sep as the separator string.\n",
            " |      \n",
            " |        sep\n",
            " |          The separator used to split the string.\n",
            " |      \n",
            " |          When set to None (the default value), will split on any whitespace\n",
            " |          character (including \\\\n \\\\r \\\\t \\\\f and spaces) and will discard\n",
            " |          empty strings from the result.\n",
            " |        maxsplit\n",
            " |          Maximum number of splits (starting from the left).\n",
            " |          -1 (the default value) means no limit.\n",
            " |      \n",
            " |      Note, str.split() is mainly useful for data that has been intentionally\n",
            " |      delimited.  With natural text that includes punctuation, consider using\n",
            " |      the regular expression module.\n",
            " |  \n",
            " |  splitlines(self, /, keepends=False)\n",
            " |      Return a list of the lines in the string, breaking at line boundaries.\n",
            " |      \n",
            " |      Line breaks are not included in the resulting list unless keepends is given and\n",
            " |      true.\n",
            " |  \n",
            " |  startswith(...)\n",
            " |      S.startswith(prefix[, start[, end]]) -> bool\n",
            " |      \n",
            " |      Return True if S starts with the specified prefix, False otherwise.\n",
            " |      With optional start, test S beginning at that position.\n",
            " |      With optional end, stop comparing S at that position.\n",
            " |      prefix can also be a tuple of strings to try.\n",
            " |  \n",
            " |  strip(self, chars=None, /)\n",
            " |      Return a copy of the string with leading and trailing whitespace removed.\n",
            " |      \n",
            " |      If chars is given and not None, remove characters in chars instead.\n",
            " |  \n",
            " |  swapcase(self, /)\n",
            " |      Convert uppercase characters to lowercase and lowercase characters to uppercase.\n",
            " |  \n",
            " |  title(self, /)\n",
            " |      Return a version of the string where each word is titlecased.\n",
            " |      \n",
            " |      More specifically, words start with uppercased characters and all remaining\n",
            " |      cased characters have lower case.\n",
            " |  \n",
            " |  translate(self, table, /)\n",
            " |      Replace each character in the string using the given translation table.\n",
            " |      \n",
            " |        table\n",
            " |          Translation table, which must be a mapping of Unicode ordinals to\n",
            " |          Unicode ordinals, strings, or None.\n",
            " |      \n",
            " |      The table must implement lookup/indexing via __getitem__, for instance a\n",
            " |      dictionary or list.  If this operation raises LookupError, the character is\n",
            " |      left untouched.  Characters mapped to None are deleted.\n",
            " |  \n",
            " |  upper(self, /)\n",
            " |      Return a copy of the string converted to uppercase.\n",
            " |  \n",
            " |  zfill(self, width, /)\n",
            " |      Pad a numeric string with zeros on the left, to fill a field of the given width.\n",
            " |      \n",
            " |      The string is never truncated.\n",
            " |  \n",
            " |  ----------------------------------------------------------------------\n",
            " |  Static methods defined here:\n",
            " |  \n",
            " |  __new__(*args, **kwargs) from builtins.type\n",
            " |      Create and return a new object.  See help(type) for accurate signature.\n",
            " |  \n",
            " |  maketrans(...)\n",
            " |      Return a translation table usable for str.translate().\n",
            " |      \n",
            " |      If there is only one argument, it must be a dictionary mapping Unicode\n",
            " |      ordinals (integers) or characters to Unicode ordinals, strings or None.\n",
            " |      Character keys will be then converted to ordinals.\n",
            " |      If there are two arguments, they must be strings of equal length, and\n",
            " |      in the resulting dictionary, each character in x will be mapped to the\n",
            " |      character at the same position in y. If there is a third argument, it\n",
            " |      must be a string, whose characters will be mapped to None in the result.\n",
            "\n"
          ]
        }
      ],
      "source": [
        "help(str)"
      ]
    },
    {
      "cell_type": "code",
      "execution_count": 118,
      "metadata": {
        "colab": {
          "base_uri": "https://localhost:8080/"
        },
        "id": "R1xGXrFqFubd",
        "outputId": "3fc1cdaa-7c2c-468c-90f0-f6ca744908b7"
      },
      "outputs": [
        {
          "output_type": "stream",
          "name": "stdout",
          "text": [
            "Help on method_descriptor:\n",
            "\n",
            "capitalize(self, /)\n",
            "    Return a capitalized version of the string.\n",
            "    \n",
            "    More specifically, make the first character have upper case and the rest lower\n",
            "    case.\n",
            "\n"
          ]
        }
      ],
      "source": [
        "help(str.capitalize)"
      ]
    },
    {
      "cell_type": "code",
      "execution_count": 119,
      "metadata": {
        "colab": {
          "base_uri": "https://localhost:8080/",
          "height": 36
        },
        "id": "dXdFK-7MCGvq",
        "outputId": "0ca76b04-c857-402b-b2a4-0929739208d9"
      },
      "outputs": [
        {
          "output_type": "execute_result",
          "data": {
            "text/plain": [
              "'aBBa'"
            ],
            "application/vnd.google.colaboratory.intrinsic+json": {
              "type": "string"
            }
          },
          "metadata": {},
          "execution_count": 119
        }
      ],
      "source": [
        "some_string = \"aBBa\"\n",
        "some_string"
      ]
    },
    {
      "cell_type": "code",
      "execution_count": 120,
      "metadata": {
        "colab": {
          "base_uri": "https://localhost:8080/",
          "height": 36
        },
        "id": "WgluZQdZCLse",
        "outputId": "3461b1fd-9fd5-477e-dc61-b8c211445532"
      },
      "outputs": [
        {
          "output_type": "execute_result",
          "data": {
            "text/plain": [
              "'Abba'"
            ],
            "application/vnd.google.colaboratory.intrinsic+json": {
              "type": "string"
            }
          },
          "metadata": {},
          "execution_count": 120
        }
      ],
      "source": [
        "some_string.capitalize()"
      ]
    },
    {
      "cell_type": "code",
      "execution_count": 121,
      "metadata": {
        "colab": {
          "base_uri": "https://localhost:8080/",
          "height": 36
        },
        "id": "4C-djb6WUjOd",
        "outputId": "605fcf2a-8943-4a43-8a6c-6eb1d2760db9"
      },
      "outputs": [
        {
          "output_type": "execute_result",
          "data": {
            "text/plain": [
              "'ABBA'"
            ],
            "application/vnd.google.colaboratory.intrinsic+json": {
              "type": "string"
            }
          },
          "metadata": {},
          "execution_count": 121
        }
      ],
      "source": [
        "some_string.upper()"
      ]
    },
    {
      "cell_type": "code",
      "execution_count": 122,
      "metadata": {
        "colab": {
          "base_uri": "https://localhost:8080/"
        },
        "id": "E1D7PZtRCWEW",
        "outputId": "45e45783-8458-4e95-e5f6-a972211cbae3"
      },
      "outputs": [
        {
          "output_type": "execute_result",
          "data": {
            "text/plain": [
              "2"
            ]
          },
          "metadata": {},
          "execution_count": 122
        }
      ],
      "source": [
        "some_string.count(\"B\")"
      ]
    },
    {
      "cell_type": "code",
      "execution_count": 123,
      "metadata": {
        "colab": {
          "base_uri": "https://localhost:8080/"
        },
        "id": "9ONwV1ESCpoM",
        "outputId": "e37582c0-d092-4369-ea75-2b156d3d349e"
      },
      "outputs": [
        {
          "output_type": "stream",
          "name": "stdout",
          "text": [
            "Help on method_descriptor:\n",
            "\n",
            "count(...)\n",
            "    S.count(sub[, start[, end]]) -> int\n",
            "    \n",
            "    Return the number of non-overlapping occurrences of substring sub in\n",
            "    string S[start:end].  Optional arguments start and end are\n",
            "    interpreted as in slice notation.\n",
            "\n"
          ]
        }
      ],
      "source": [
        "help(str.count)"
      ]
    },
    {
      "cell_type": "code",
      "execution_count": 124,
      "metadata": {
        "colab": {
          "base_uri": "https://localhost:8080/"
        },
        "id": "exvpiGcyCx-G",
        "outputId": "45bc57b8-f544-4295-848f-bb34c0409686"
      },
      "outputs": [
        {
          "output_type": "execute_result",
          "data": {
            "text/plain": [
              "2"
            ]
          },
          "metadata": {},
          "execution_count": 124
        }
      ],
      "source": [
        "\"BBBB\".count(\"BB\") # the count method will not consider overlapping matches"
      ]
    },
    {
      "cell_type": "code",
      "execution_count": 125,
      "metadata": {
        "colab": {
          "base_uri": "https://localhost:8080/"
        },
        "id": "GhiSjX6BCdrE",
        "outputId": "e7e771cf-0595-471a-ef83-92893a13cd71"
      },
      "outputs": [
        {
          "output_type": "execute_result",
          "data": {
            "text/plain": [
              "True"
            ]
          },
          "metadata": {},
          "execution_count": 125
        }
      ],
      "source": [
        "some_string.endswith(\"Ba\")"
      ]
    },
    {
      "cell_type": "code",
      "execution_count": 126,
      "metadata": {
        "colab": {
          "base_uri": "https://localhost:8080/"
        },
        "id": "JlygkEPGZoUz",
        "outputId": "b000097b-4260-466f-be5d-e9d13a66804a"
      },
      "outputs": [
        {
          "output_type": "execute_result",
          "data": {
            "text/plain": [
              "True"
            ]
          },
          "metadata": {},
          "execution_count": 126
        }
      ],
      "source": [
        "some_string.startswith(\"aB\")"
      ]
    },
    {
      "cell_type": "code",
      "execution_count": 127,
      "metadata": {
        "colab": {
          "base_uri": "https://localhost:8080/"
        },
        "id": "wdsD5SfCFube",
        "outputId": "8baf58c2-781c-4d97-befd-b737794e03d7"
      },
      "outputs": [
        {
          "output_type": "stream",
          "name": "stdout",
          "text": [
            "This string ends with 'Ba'\n"
          ]
        }
      ],
      "source": [
        "# we can use the result of a method call (in this case: True) in the \"if\" command\n",
        "# to execute some code when the result is True\n",
        "\n",
        "if some_string.endswith(\"Ba\"):\n",
        "    print(\"This string ends with 'Ba'\")"
      ]
    },
    {
      "cell_type": "code",
      "execution_count": 128,
      "metadata": {
        "colab": {
          "base_uri": "https://localhost:8080/"
        },
        "id": "llQhTEw0DGLn",
        "outputId": "143b2fbb-b37d-458f-84a6-6fa299ca0509"
      },
      "outputs": [
        {
          "output_type": "execute_result",
          "data": {
            "text/plain": [
              "1"
            ]
          },
          "metadata": {},
          "execution_count": 128
        }
      ],
      "source": [
        "some_string.find(\"B\") # returns index of first occurence"
      ]
    },
    {
      "cell_type": "code",
      "source": [
        "some_string.find(\"c\")"
      ],
      "metadata": {
        "colab": {
          "base_uri": "https://localhost:8080/"
        },
        "id": "4JgSANRY1Nmb",
        "outputId": "30cbc4ae-2dbd-43c4-9845-725dd7b3c1cd"
      },
      "execution_count": 129,
      "outputs": [
        {
          "output_type": "execute_result",
          "data": {
            "text/plain": [
              "-1"
            ]
          },
          "metadata": {},
          "execution_count": 129
        }
      ]
    },
    {
      "cell_type": "code",
      "execution_count": 130,
      "metadata": {
        "colab": {
          "base_uri": "https://localhost:8080/"
        },
        "id": "oUz4FHnlDNFv",
        "outputId": "2b99d54e-2ec0-43a5-ab12-7ff2e72ccc74"
      },
      "outputs": [
        {
          "output_type": "execute_result",
          "data": {
            "text/plain": [
              "2"
            ]
          },
          "metadata": {},
          "execution_count": 130
        }
      ],
      "source": [
        "myname.find(\"dis\")"
      ]
    },
    {
      "cell_type": "code",
      "execution_count": 131,
      "metadata": {
        "colab": {
          "base_uri": "https://localhost:8080/",
          "height": 36
        },
        "id": "79IKuewEDT9D",
        "outputId": "4b06adc2-7fc3-430f-96d0-f04a98dbf8f1"
      },
      "outputs": [
        {
          "output_type": "execute_result",
          "data": {
            "text/plain": [
              "'dis'"
            ],
            "application/vnd.google.colaboratory.intrinsic+json": {
              "type": "string"
            }
          },
          "metadata": {},
          "execution_count": 131
        }
      ],
      "source": [
        "myname[2:]"
      ]
    },
    {
      "cell_type": "code",
      "execution_count": 132,
      "metadata": {
        "colab": {
          "base_uri": "https://localhost:8080/",
          "height": 36
        },
        "id": "nv-moFmMDlGM",
        "outputId": "e02f8cf6-61e6-4a60-873e-ecdc2255c0ee"
      },
      "outputs": [
        {
          "output_type": "execute_result",
          "data": {
            "text/plain": [
              "'uldis'"
            ],
            "application/vnd.google.colaboratory.intrinsic+json": {
              "type": "string"
            }
          },
          "metadata": {},
          "execution_count": 132
        }
      ],
      "source": [
        "myname.lower() # everything to lowercase"
      ]
    },
    {
      "cell_type": "code",
      "execution_count": 133,
      "metadata": {
        "colab": {
          "base_uri": "https://localhost:8080/",
          "height": 36
        },
        "id": "eFcwSZkkD_ID",
        "outputId": "4c7488e4-de70-4c41-e081-b668741a3e2e"
      },
      "outputs": [
        {
          "output_type": "execute_result",
          "data": {
            "text/plain": [
              "'ULDIS'"
            ],
            "application/vnd.google.colaboratory.intrinsic+json": {
              "type": "string"
            }
          },
          "metadata": {},
          "execution_count": 133
        }
      ],
      "source": [
        "myname.upper()"
      ]
    },
    {
      "cell_type": "code",
      "execution_count": 134,
      "metadata": {
        "colab": {
          "base_uri": "https://localhost:8080/",
          "height": 36
        },
        "id": "abBhVGSIEDu6",
        "outputId": "e5668bbb-6b93-495b-d1f2-270762bb95b6"
      },
      "outputs": [
        {
          "output_type": "execute_result",
          "data": {
            "text/plain": [
              "'Valdis'"
            ],
            "application/vnd.google.colaboratory.intrinsic+json": {
              "type": "string"
            }
          },
          "metadata": {},
          "execution_count": 134
        }
      ],
      "source": [
        "myname.replace(\"U\", \"Va\")"
      ]
    },
    {
      "cell_type": "code",
      "execution_count": 135,
      "metadata": {
        "colab": {
          "base_uri": "https://localhost:8080/",
          "height": 36
        },
        "id": "Yyw-W36uENgW",
        "outputId": "bec24d23-72e0-481c-aeaf-9e294036b569"
      },
      "outputs": [
        {
          "output_type": "execute_result",
          "data": {
            "text/plain": [
              "'Uldis'"
            ],
            "application/vnd.google.colaboratory.intrinsic+json": {
              "type": "string"
            }
          },
          "metadata": {},
          "execution_count": 135
        }
      ],
      "source": [
        "myname # strings are not Mutable (can not be changed \"in place\")! Here's what we can do:"
      ]
    },
    {
      "cell_type": "code",
      "execution_count": 136,
      "metadata": {
        "colab": {
          "base_uri": "https://localhost:8080/",
          "height": 36
        },
        "id": "M4u7um2VFFuz",
        "outputId": "521da5ec-41b4-43f5-ff99-5c343412835d"
      },
      "outputs": [
        {
          "output_type": "execute_result",
          "data": {
            "text/plain": [
              "'Valdis'"
            ],
            "application/vnd.google.colaboratory.intrinsic+json": {
              "type": "string"
            }
          },
          "metadata": {},
          "execution_count": 136
        }
      ],
      "source": [
        "new_name = myname.replace(\"U\", \"Va\")\n",
        "new_name"
      ]
    },
    {
      "cell_type": "code",
      "execution_count": 137,
      "metadata": {
        "colab": {
          "base_uri": "https://localhost:8080/",
          "height": 36
        },
        "id": "46zM2BHBFJv7",
        "outputId": "454f954e-d0ec-4847-98cf-5dcc642c2647"
      },
      "outputs": [
        {
          "output_type": "execute_result",
          "data": {
            "text/plain": [
              "'Uldis'"
            ],
            "application/vnd.google.colaboratory.intrinsic+json": {
              "type": "string"
            }
          },
          "metadata": {},
          "execution_count": 137
        }
      ],
      "source": [
        "myname"
      ]
    },
    {
      "cell_type": "code",
      "execution_count": 138,
      "metadata": {
        "colab": {
          "base_uri": "https://localhost:8080/",
          "height": 36
        },
        "id": "uHnbDmgGFMio",
        "outputId": "ea03d457-ad89-41d5-c1e1-9426d5609bdb"
      },
      "outputs": [
        {
          "output_type": "execute_result",
          "data": {
            "text/plain": [
              "'Valdis'"
            ],
            "application/vnd.google.colaboratory.intrinsic+json": {
              "type": "string"
            }
          },
          "metadata": {},
          "execution_count": 138
        }
      ],
      "source": [
        "# we can overwrite the old variable (myname)\n",
        "myname = myname.replace(\"U\", \"Va\")\n",
        "myname"
      ]
    },
    {
      "cell_type": "code",
      "execution_count": 139,
      "metadata": {
        "colab": {
          "base_uri": "https://localhost:8080/",
          "height": 36
        },
        "id": "qvDBUivJE608",
        "outputId": "8128f126-904c-48be-9ce6-b64ede568e89"
      },
      "outputs": [
        {
          "output_type": "execute_result",
          "data": {
            "text/plain": [
              "'Quick Brown Fox'"
            ],
            "application/vnd.google.colaboratory.intrinsic+json": {
              "type": "string"
            }
          },
          "metadata": {},
          "execution_count": 139
        }
      ],
      "source": [
        "\"quick brown fox\".title()"
      ]
    },
    {
      "cell_type": "code",
      "execution_count": 140,
      "metadata": {
        "colab": {
          "base_uri": "https://localhost:8080/",
          "height": 36
        },
        "id": "Q3hL4EJRE9-p",
        "outputId": "ce245e84-a011-4e99-aafe-e5aed3337b19"
      },
      "outputs": [
        {
          "output_type": "execute_result",
          "data": {
            "text/plain": [
              "'Quick brown fox'"
            ],
            "application/vnd.google.colaboratory.intrinsic+json": {
              "type": "string"
            }
          },
          "metadata": {},
          "execution_count": 140
        }
      ],
      "source": [
        "\"quick brown fox\".capitalize()"
      ]
    },
    {
      "cell_type": "code",
      "execution_count": 141,
      "metadata": {
        "colab": {
          "base_uri": "https://localhost:8080/",
          "height": 36
        },
        "id": "CeRFDraZFD5U",
        "outputId": "8efa7e7a-92b0-48b7-d1b0-1bd037945f2c"
      },
      "outputs": [
        {
          "output_type": "execute_result",
          "data": {
            "text/plain": [
              "'A quick brown fox jumped over       a sleeping dog'"
            ],
            "application/vnd.google.colaboratory.intrinsic+json": {
              "type": "string"
            }
          },
          "metadata": {},
          "execution_count": 141
        }
      ],
      "source": [
        "sentence = \"A quick brown fox jumped over       a sleeping dog\"\n",
        "sentence"
      ]
    },
    {
      "cell_type": "code",
      "execution_count": 142,
      "metadata": {
        "colab": {
          "base_uri": "https://localhost:8080/"
        },
        "id": "SHhPSisbFubi",
        "outputId": "e7b903c4-c73b-4ddf-92a9-e5f8220b8c96"
      },
      "outputs": [
        {
          "output_type": "execute_result",
          "data": {
            "text/plain": [
              "True"
            ]
          },
          "metadata": {},
          "execution_count": 142
        }
      ],
      "source": [
        "\"fox\" in sentence"
      ]
    },
    {
      "cell_type": "code",
      "source": [
        "\"Fox\" in sentence"
      ],
      "metadata": {
        "colab": {
          "base_uri": "https://localhost:8080/"
        },
        "id": "ZjBoIqrB14aO",
        "outputId": "c325ad14-ea87-4532-c711-2ae23f44ba20"
      },
      "execution_count": 143,
      "outputs": [
        {
          "output_type": "execute_result",
          "data": {
            "text/plain": [
              "False"
            ]
          },
          "metadata": {},
          "execution_count": 143
        }
      ]
    },
    {
      "cell_type": "code",
      "execution_count": 144,
      "metadata": {
        "colab": {
          "base_uri": "https://localhost:8080/"
        },
        "id": "YaUm8vXdFp3S",
        "outputId": "ed2b35c0-9bfa-423b-d650-48cdb38848c8"
      },
      "outputs": [
        {
          "output_type": "execute_result",
          "data": {
            "text/plain": [
              "['A', 'quick', 'brown', 'fox', 'jumped', 'over', 'a', 'sleeping', 'dog']"
            ]
          },
          "metadata": {},
          "execution_count": 144
        }
      ],
      "source": [
        "# we can get a list of words by splitting the string by any amount of whitespace including newlines, tabs, etc.\n",
        "words = sentence.split()\n",
        "\n",
        "words"
      ]
    },
    {
      "cell_type": "code",
      "execution_count": 145,
      "metadata": {
        "colab": {
          "base_uri": "https://localhost:8080/",
          "height": 36
        },
        "id": "Sa_nm2JLGHDn",
        "outputId": "8085d895-7f10-48bd-e70a-34a4ed039541"
      },
      "outputs": [
        {
          "output_type": "execute_result",
          "data": {
            "text/plain": [
              "'A quick brown fox jumped over a sleeping dog'"
            ],
            "application/vnd.google.colaboratory.intrinsic+json": {
              "type": "string"
            }
          },
          "metadata": {},
          "execution_count": 145
        }
      ],
      "source": [
        "# join a list of words using a single whitespace as the joining element\n",
        "joined_string = \" \".join(words)\n",
        "joined_string"
      ]
    },
    {
      "cell_type": "code",
      "execution_count": 146,
      "metadata": {
        "colab": {
          "base_uri": "https://localhost:8080/",
          "height": 36
        },
        "id": "lb8Whe35Ggji",
        "outputId": "2dbebc19-b852-46b2-f6e0-de47c63be8d6"
      },
      "outputs": [
        {
          "output_type": "execute_result",
          "data": {
            "text/plain": [
              "'A ||| quick ||| brown ||| fox ||| jumped ||| over ||| a ||| sleeping ||| dog'"
            ],
            "application/vnd.google.colaboratory.intrinsic+json": {
              "type": "string"
            }
          },
          "metadata": {},
          "execution_count": 146
        }
      ],
      "source": [
        "joined_string = \" ||| \".join(words) # you can join by multiple characters\n",
        "joined_string"
      ]
    },
    {
      "cell_type": "code",
      "execution_count": 147,
      "metadata": {
        "colab": {
          "base_uri": "https://localhost:8080/",
          "height": 36
        },
        "id": "gFy9ZgNXFubj",
        "outputId": "a8e36a9b-f149-4fd9-9e9d-e4dc7c0a30fd"
      },
      "outputs": [
        {
          "output_type": "execute_result",
          "data": {
            "text/plain": [
              "'A 😀 quick 😀 brown 😀 fox 😀 jumped 😀 over 😀 a 😀 sleeping 😀 dog'"
            ],
            "application/vnd.google.colaboratory.intrinsic+json": {
              "type": "string"
            }
          },
          "metadata": {},
          "execution_count": 147
        }
      ],
      "source": [
        "smiley_string = \" 😀 \".join(words) # can use any Unicode characters\n",
        "smiley_string"
      ]
    },
    {
      "cell_type": "code",
      "source": [
        "print(\"\".join(words))"
      ],
      "metadata": {
        "colab": {
          "base_uri": "https://localhost:8080/"
        },
        "id": "ct8gF6Zp38ei",
        "outputId": "88eddb42-c606-4d1e-b086-0b3b60ad2aaa"
      },
      "execution_count": 165,
      "outputs": [
        {
          "output_type": "stream",
          "name": "stdout",
          "text": [
            "Aquickbrownfoxjumpedoverasleepingdog\n"
          ]
        }
      ]
    },
    {
      "cell_type": "code",
      "source": [
        "title = \"quick brown fox\".title()\n",
        "title_list = title.split()\n",
        "\n",
        "print(title_list)"
      ],
      "metadata": {
        "colab": {
          "base_uri": "https://localhost:8080/"
        },
        "id": "ZvzRakbl3Y2D",
        "outputId": "6a8b6ece-8469-4f19-b6f3-01ea1ee63d46"
      },
      "execution_count": 163,
      "outputs": [
        {
          "output_type": "stream",
          "name": "stdout",
          "text": [
            "['Quick', 'Brown', 'Fox']\n"
          ]
        }
      ]
    },
    {
      "cell_type": "code",
      "source": [
        "title_list2 = \"quick brown fox\".title().split()\n",
        "\n",
        "print(title_list2)"
      ],
      "metadata": {
        "colab": {
          "base_uri": "https://localhost:8080/"
        },
        "id": "6UNxno2s3rCV",
        "outputId": "e6f8a25c-3db0-4beb-dfed-a1fa2b129896"
      },
      "execution_count": 164,
      "outputs": [
        {
          "output_type": "stream",
          "name": "stdout",
          "text": [
            "['Quick', 'Brown', 'Fox']\n"
          ]
        }
      ]
    },
    {
      "cell_type": "markdown",
      "metadata": {
        "id": "Ab46RX_Ayk63"
      },
      "source": [
        "## Python Lists\n",
        "\n",
        "* Ordered\n",
        "* Mutable(can change individual members!)\n",
        "* Comma separated between brackets [1,3,2,5,6,2]\n",
        "* Can have duplicates\n",
        "* Can be nested\n"
      ]
    },
    {
      "cell_type": "code",
      "execution_count": 148,
      "metadata": {
        "colab": {
          "base_uri": "https://localhost:8080/"
        },
        "id": "S-k4t2bWoVpQ",
        "outputId": "72fc23fb-c723-4455-cc35-05e600ac1b10"
      },
      "outputs": [
        {
          "output_type": "execute_result",
          "data": {
            "text/plain": [
              "range(11, 21)"
            ]
          },
          "metadata": {},
          "execution_count": 148
        }
      ],
      "source": [
        "# the range command creates a sequence of integers from the start value to the end value (not included)\n",
        "range(11,21,1)"
      ]
    },
    {
      "cell_type": "code",
      "execution_count": 149,
      "metadata": {
        "colab": {
          "base_uri": "https://localhost:8080/"
        },
        "id": "Pj1LtSiiyk63",
        "outputId": "7cf4fe3d-d1da-48f0-bd5e-fb466c44e627"
      },
      "outputs": [
        {
          "output_type": "stream",
          "name": "stdout",
          "text": [
            "[11, 12, 13, 14, 15, 16, 17, 18, 19, 20]\n"
          ]
        }
      ],
      "source": [
        "# we can convert the range of integers to a list\n",
        "mylist = list(range(11,21,1))\n",
        "\n",
        "# mylist = [11, 12, 13, 14, 15, 16, 17, 18, 19, 20] would work too but not practical for longer ranges...\n",
        "\n",
        "print(mylist)"
      ]
    },
    {
      "cell_type": "code",
      "execution_count": 150,
      "metadata": {
        "colab": {
          "base_uri": "https://localhost:8080/"
        },
        "id": "ov8VuKAEw4oZ",
        "outputId": "6cf108b0-a740-42d4-c874-1ea698e8e14e"
      },
      "outputs": [
        {
          "output_type": "execute_result",
          "data": {
            "text/plain": [
              "['Chocolate', 'Milk', 'Cookies']"
            ]
          },
          "metadata": {},
          "execution_count": 150
        }
      ],
      "source": [
        "shopping_list = [\"Chocolate\", \"Milk\", \"Cookies\"] # we created a list of 3 strings - can be changed later on as needed\n",
        "shopping_list"
      ]
    },
    {
      "cell_type": "code",
      "execution_count": 151,
      "metadata": {
        "colab": {
          "base_uri": "https://localhost:8080/",
          "height": 36
        },
        "id": "BurOCBwUUjOj",
        "outputId": "91f2aab3-f77a-4d0a-95e2-0b22c745c18f"
      },
      "outputs": [
        {
          "output_type": "execute_result",
          "data": {
            "text/plain": [
              "'Milk'"
            ],
            "application/vnd.google.colaboratory.intrinsic+json": {
              "type": "string"
            }
          },
          "metadata": {},
          "execution_count": 151
        }
      ],
      "source": [
        "# get an individual element of a list\n",
        "# (counting from 0)\n",
        "shopping_list[1]"
      ]
    },
    {
      "cell_type": "code",
      "execution_count": 152,
      "metadata": {
        "colab": {
          "base_uri": "https://localhost:8080/",
          "height": 36
        },
        "id": "8C7qt-wSUjOj",
        "outputId": "7ca0d009-952a-49a7-f6b0-0839722c2014"
      },
      "outputs": [
        {
          "output_type": "execute_result",
          "data": {
            "text/plain": [
              "'Cookies'"
            ],
            "application/vnd.google.colaboratory.intrinsic+json": {
              "type": "string"
            }
          },
          "metadata": {},
          "execution_count": 152
        }
      ],
      "source": [
        "# use negative numbers to count elements from the end of the list\n",
        "# (e.g. -1 for the last element)\n",
        "shopping_list[-1]"
      ]
    },
    {
      "cell_type": "code",
      "execution_count": 153,
      "metadata": {
        "colab": {
          "base_uri": "https://localhost:8080/"
        },
        "id": "oHIaMfLPUjOj",
        "outputId": "88e7dbee-b141-4bac-e130-4871042d82fc"
      },
      "outputs": [
        {
          "output_type": "execute_result",
          "data": {
            "text/plain": [
              "['Chocolate', 'Milk', 'Potatoes']"
            ]
          },
          "metadata": {},
          "execution_count": 153
        }
      ],
      "source": [
        "# you can change the value of list elements, too\n",
        "shopping_list[-1] = \"Potatoes\"\n",
        "shopping_list"
      ]
    },
    {
      "cell_type": "markdown",
      "metadata": {
        "id": "lS62R1xHyk63"
      },
      "source": [
        "### Slice notation\n",
        "\n",
        "somestring[start:end:step]\n",
        "\n",
        "somelist[start:end:step]\n",
        "\n",
        "start is at index 0(first element), end is -1 the actual index\n",
        "#### Examples below"
      ]
    },
    {
      "cell_type": "code",
      "execution_count": 154,
      "metadata": {
        "colab": {
          "base_uri": "https://localhost:8080/"
        },
        "id": "XxrS5NDWUjOk",
        "outputId": "b517e96e-1d71-416a-bd38-655804794fb0"
      },
      "outputs": [
        {
          "output_type": "execute_result",
          "data": {
            "text/plain": [
              "[11, 12, 13, 14, 15, 16, 17, 18, 19, 20]"
            ]
          },
          "metadata": {},
          "execution_count": 154
        }
      ],
      "source": [
        "mylist"
      ]
    },
    {
      "cell_type": "code",
      "execution_count": 155,
      "metadata": {
        "colab": {
          "base_uri": "https://localhost:8080/"
        },
        "id": "cg8Nn8Xlyk64",
        "outputId": "fc92826e-4bde-48f6-e618-87a77eeed9b0"
      },
      "outputs": [
        {
          "output_type": "execute_result",
          "data": {
            "text/plain": [
              "[14, 15, 16, 17, 18, 19, 20]"
            ]
          },
          "metadata": {},
          "execution_count": 155
        }
      ],
      "source": [
        "mylist[3:] # starting from the 4th element(with index 3)"
      ]
    },
    {
      "cell_type": "code",
      "execution_count": 156,
      "metadata": {
        "colab": {
          "base_uri": "https://localhost:8080/"
        },
        "id": "PF9Pqnyeyk64",
        "outputId": "0c5ea47b-ee30-4dd1-f6fa-d63694d60d95"
      },
      "outputs": [
        {
          "output_type": "execute_result",
          "data": {
            "text/plain": [
              "[11, 12, 13, 14, 15, 16, 17, 18]"
            ]
          },
          "metadata": {},
          "execution_count": 156
        }
      ],
      "source": [
        "mylist[:-2] # everything BUT the last two items"
      ]
    },
    {
      "cell_type": "code",
      "execution_count": 157,
      "metadata": {
        "colab": {
          "base_uri": "https://localhost:8080/"
        },
        "id": "hvq1csqRUjOk",
        "outputId": "1489f955-c817-42e7-86c9-878c0b9b7f59"
      },
      "outputs": [
        {
          "output_type": "execute_result",
          "data": {
            "text/plain": [
              "[14, 15, 16]"
            ]
          },
          "metadata": {},
          "execution_count": 157
        }
      ],
      "source": [
        "mylist[3:6] # from element with index 3 to element with index 6 (not included)"
      ]
    },
    {
      "cell_type": "code",
      "execution_count": 158,
      "metadata": {
        "colab": {
          "base_uri": "https://localhost:8080/"
        },
        "id": "xmKJGEc0yk64",
        "outputId": "fb414f58-169e-403b-94a2-9c4557773b97"
      },
      "outputs": [
        {
          "output_type": "execute_result",
          "data": {
            "text/plain": [
              "[11, 13, 15, 17, 19]"
            ]
          },
          "metadata": {},
          "execution_count": 158
        }
      ],
      "source": [
        "# step 2 = every other element\n",
        "mylist[::2]"
      ]
    },
    {
      "cell_type": "code",
      "execution_count": 159,
      "metadata": {
        "colab": {
          "base_uri": "https://localhost:8080/"
        },
        "id": "XsTGTVo0yk65",
        "outputId": "0af8a232-ac4c-4cc4-e528-430c58a687a7"
      },
      "outputs": [
        {
          "output_type": "execute_result",
          "data": {
            "text/plain": [
              "[20, 19, 18, 17, 16, 15, 14, 13, 12, 11]"
            ]
          },
          "metadata": {},
          "execution_count": 159
        }
      ],
      "source": [
        "# negative step value returns a list in a reverse order\n",
        "mylist[::-1]"
      ]
    },
    {
      "cell_type": "code",
      "execution_count": 160,
      "metadata": {
        "colab": {
          "base_uri": "https://localhost:8080/",
          "height": 36
        },
        "id": "xLYHeCWLUjOl",
        "outputId": "eff5eb73-5720-41da-987c-1bce3c034af2"
      },
      "outputs": [
        {
          "output_type": "execute_result",
          "data": {
            "text/plain": [
              "'sidlaV'"
            ],
            "application/vnd.google.colaboratory.intrinsic+json": {
              "type": "string"
            }
          },
          "metadata": {},
          "execution_count": 160
        }
      ],
      "source": [
        "# slicing also works on string values\n",
        "myname[::-1]"
      ]
    },
    {
      "cell_type": "markdown",
      "metadata": {
        "id": "LFGg71Z6yk65"
      },
      "source": [
        "\n",
        "### Common list methods.\n",
        "* list.append(elem) -- adds a single element to the end of the list. Common error: does not return the new list, just modifies the original.\n",
        "* list.insert(index, elem) -- inserts the element at the given index, shifting elements to the right.\n",
        "* list.extend(list2) adds the elements in list2 to the end of the list. Using + or += on a list is similar to using extend().\n",
        "* list.index(elem) -- searches for the given element from the start of the list and returns its index. Throws a ValueError if the element does not appear (use \"in\" to check without a ValueError).\n",
        "* list.remove(elem) -- searches for the first instance of the given element and removes it (throws ValueError if not present)\n",
        "* list.sort() -- sorts the list in place (does not return it). (The sorted() function shown later is preferred.)\n",
        "* list.reverse() -- reverses the list in place (does not return it)\n",
        "* list.pop(index)-- removes and returns the element at the given index. Returns the rightmost element if index is omitted (roughly the opposite of append())."
      ]
    },
    {
      "cell_type": "code",
      "execution_count": 166,
      "metadata": {
        "colab": {
          "base_uri": "https://localhost:8080/"
        },
        "id": "pbsx7duKx5ha",
        "outputId": "5debce90-9249-4da4-eb81-c22f0265eee3"
      },
      "outputs": [
        {
          "output_type": "execute_result",
          "data": {
            "text/plain": [
              "['Chocolate', 'Milk', 'Potatoes']"
            ]
          },
          "metadata": {},
          "execution_count": 166
        }
      ],
      "source": [
        "shopping_list"
      ]
    },
    {
      "cell_type": "code",
      "execution_count": 167,
      "metadata": {
        "colab": {
          "base_uri": "https://localhost:8080/"
        },
        "id": "Kbu66bEgx9-s",
        "outputId": "970e2680-23c8-48af-fd74-b3a92257eedd"
      },
      "outputs": [
        {
          "output_type": "execute_result",
          "data": {
            "text/plain": [
              "['Chocolate', 'Milk', 'Potatoes', 'Kefir']"
            ]
          },
          "metadata": {},
          "execution_count": 167
        }
      ],
      "source": [
        "shopping_list.append(\"Kefir\")\n",
        "shopping_list"
      ]
    },
    {
      "cell_type": "code",
      "execution_count": 168,
      "metadata": {
        "colab": {
          "base_uri": "https://localhost:8080/"
        },
        "id": "U3febKV1yMUI",
        "outputId": "5c9d4a86-0052-4678-f49d-491f9bee7294"
      },
      "outputs": [
        {
          "output_type": "execute_result",
          "data": {
            "text/plain": [
              "['Chocolate', 'Kefir', 'Milk', 'Potatoes']"
            ]
          },
          "metadata": {},
          "execution_count": 168
        }
      ],
      "source": [
        "shopping_list.sort() # this will sort a list\n",
        "shopping_list"
      ]
    },
    {
      "cell_type": "code",
      "execution_count": 169,
      "metadata": {
        "colab": {
          "base_uri": "https://localhost:8080/"
        },
        "id": "JO5st21XyVhY",
        "outputId": "1a7e15cc-c3e6-47b5-defb-6cf1687be308"
      },
      "outputs": [
        {
          "output_type": "execute_result",
          "data": {
            "text/plain": [
              "['Chocolate', 'Kefir', 'Milk', 'Potatoes', 'fork']"
            ]
          },
          "metadata": {},
          "execution_count": 169
        }
      ],
      "source": [
        "shopping_list.append(\"fork\")\n",
        "shopping_list"
      ]
    },
    {
      "cell_type": "code",
      "execution_count": 170,
      "metadata": {
        "colab": {
          "base_uri": "https://localhost:8080/"
        },
        "id": "rwChOk8GyvbG",
        "outputId": "9cf44a06-2db2-4d5f-ae17-d63641cc0441"
      },
      "outputs": [
        {
          "output_type": "execute_result",
          "data": {
            "text/plain": [
              "['Chocolate', 'Kefir']"
            ]
          },
          "metadata": {},
          "execution_count": 170
        }
      ],
      "source": [
        "shopping_list = shopping_list[:-3] # remove last 3 items\n",
        "shopping_list"
      ]
    },
    {
      "cell_type": "code",
      "execution_count": 171,
      "metadata": {
        "colab": {
          "base_uri": "https://localhost:8080/"
        },
        "id": "lDug1ZoazASu",
        "outputId": "1fd34adb-3bcb-4203-ec70-5370af6075d6"
      },
      "outputs": [
        {
          "output_type": "execute_result",
          "data": {
            "text/plain": [
              "['Kefir']"
            ]
          },
          "metadata": {},
          "execution_count": 171
        }
      ],
      "source": [
        "shopping_list.remove(\"Chocolate\")\n",
        "shopping_list"
      ]
    },
    {
      "cell_type": "code",
      "execution_count": 172,
      "metadata": {
        "colab": {
          "base_uri": "https://localhost:8080/"
        },
        "id": "FkHGu6fazRCF",
        "outputId": "4ebb3a92-0af3-4528-e9f8-8b5e0bebe845"
      },
      "outputs": [
        {
          "output_type": "execute_result",
          "data": {
            "text/plain": [
              "True"
            ]
          },
          "metadata": {},
          "execution_count": 172
        }
      ],
      "source": [
        "\"Kefir\" in shopping_list  # this needs to be exact match"
      ]
    },
    {
      "cell_type": "code",
      "execution_count": 173,
      "metadata": {
        "colab": {
          "base_uri": "https://localhost:8080/"
        },
        "id": "LBm6xnhAzb9Y",
        "outputId": "5ceed6dc-8fbd-4651-bebe-63630ef09689"
      },
      "outputs": [
        {
          "output_type": "execute_result",
          "data": {
            "text/plain": [
              "False"
            ]
          },
          "metadata": {},
          "execution_count": 173
        }
      ],
      "source": [
        "\"kefir\" in shopping_list # case sensitive so it should be false"
      ]
    },
    {
      "cell_type": "code",
      "source": [
        "[item.lower() for item in shopping_list]"
      ],
      "metadata": {
        "colab": {
          "base_uri": "https://localhost:8080/"
        },
        "id": "ZxP-TGcA48OZ",
        "outputId": "165052bc-725a-4454-a949-e52c40d68091"
      },
      "execution_count": 179,
      "outputs": [
        {
          "output_type": "execute_result",
          "data": {
            "text/plain": [
              "['kefir']"
            ]
          },
          "metadata": {},
          "execution_count": 179
        }
      ]
    },
    {
      "cell_type": "code",
      "execution_count": 174,
      "metadata": {
        "colab": {
          "base_uri": "https://localhost:8080/"
        },
        "id": "b-aF5slHzYG5",
        "outputId": "c9654f95-3bd1-448a-ebd8-9068a5fadfd7"
      },
      "outputs": [
        {
          "output_type": "execute_result",
          "data": {
            "text/plain": [
              "False"
            ]
          },
          "metadata": {},
          "execution_count": 174
        }
      ],
      "source": [
        "\"Milk\" in shopping_list"
      ]
    },
    {
      "cell_type": "code",
      "execution_count": 175,
      "metadata": {
        "colab": {
          "base_uri": "https://localhost:8080/"
        },
        "id": "V9tvNzyTzlhY",
        "outputId": "b6a1aae6-b8b7-4f7a-ec9c-faa0d69de6af"
      },
      "outputs": [
        {
          "output_type": "execute_result",
          "data": {
            "text/plain": [
              "True"
            ]
          },
          "metadata": {},
          "execution_count": 175
        }
      ],
      "source": [
        "# The \"in\" command also works on text strings\n",
        "\"dis\" in myname"
      ]
    },
    {
      "cell_type": "code",
      "execution_count": 176,
      "metadata": {
        "id": "gewz00xNp5Lq"
      },
      "outputs": [],
      "source": [
        "myname = \"Uldis\""
      ]
    },
    {
      "cell_type": "code",
      "execution_count": 177,
      "metadata": {
        "colab": {
          "base_uri": "https://localhost:8080/"
        },
        "id": "rNORT9z4zrSx",
        "outputId": "fe7e075a-6af8-4733-d2e3-d157d8899c58"
      },
      "outputs": [
        {
          "output_type": "execute_result",
          "data": {
            "text/plain": [
              "False"
            ]
          },
          "metadata": {},
          "execution_count": 177
        }
      ],
      "source": [
        "\"al\" in myname # Uldis does not have the \"al\" substring"
      ]
    },
    {
      "cell_type": "markdown",
      "metadata": {
        "id": "EKTtGIVBFubn"
      },
      "source": [
        "#### Your task: let the user enter some text and output the number of words in this text\n",
        "\n",
        "If you run into problems writing this program try asking ChatGPT for help.\n",
        "\n",
        "*Task 2 (optional): Let the user enter 2 numbers separated by a space and print out a sum of these numbers*"
      ]
    },
    {
      "cell_type": "code",
      "execution_count": 180,
      "metadata": {
        "id": "TL74ptRhFubn",
        "colab": {
          "base_uri": "https://localhost:8080/"
        },
        "outputId": "84eec077-d313-4f9f-e7a8-95e640af35af"
      },
      "outputs": [
        {
          "output_type": "stream",
          "name": "stdout",
          "text": [
            "Enter some text: These are some words\n",
            "You entered 4 words\n"
          ]
        }
      ],
      "source": [
        "# Get user input\n",
        "text = input(\"Enter some text: \")\n",
        "\n",
        "# Count the number of words\n",
        "#  - split the text\n",
        "#  - get the length of the list\n",
        "\n",
        "words = text.split()\n",
        "num_words = len(words)\n",
        "\n",
        "print(f\"You entered {num_words} words\")\n"
      ]
    },
    {
      "cell_type": "code",
      "source": [
        "# Let the user enter 2 numbers separated by a space and print out a sum of these numbers\n",
        "\n",
        "numbers = input(\"Enter 2 numbers separated by a space: \").split()\n",
        "\n",
        "a = int(numbers[0])\n",
        "b = int(numbers[1])\n",
        "\n",
        "print(a+b)\n",
        "\n"
      ],
      "metadata": {
        "colab": {
          "base_uri": "https://localhost:8080/"
        },
        "id": "HJrAz30U8azs",
        "outputId": "b9aba75d-eeba-46a2-9958-a2339542aba2"
      },
      "execution_count": 183,
      "outputs": [
        {
          "output_type": "stream",
          "name": "stdout",
          "text": [
            "Enter 2 numbers separated by a space: 1 2\n",
            "3\n"
          ]
        }
      ]
    },
    {
      "cell_type": "markdown",
      "metadata": {
        "id": "migbFQ7eyk65"
      },
      "source": [
        "## Dictionaries\n",
        "\n",
        "* Collection of Key - Value pairs\n",
        "* also known as associative array\n",
        "* unordered\n",
        "* keys unique in one dictionary\n",
        "* storing, extracting"
      ]
    },
    {
      "cell_type": "code",
      "source": [],
      "metadata": {
        "id": "TOCtOjCA8VuT"
      },
      "execution_count": null,
      "outputs": []
    },
    {
      "cell_type": "code",
      "execution_count": 184,
      "metadata": {
        "colab": {
          "base_uri": "https://localhost:8080/"
        },
        "id": "BrClGPCfyk65",
        "outputId": "042472e0-a808-489a-c2dd-dcbf761fff13"
      },
      "outputs": [
        {
          "output_type": "execute_result",
          "data": {
            "text/plain": [
              "{'country': 'Latvia', 'city': 'Riga'}"
            ]
          },
          "metadata": {},
          "execution_count": 184
        }
      ],
      "source": [
        "# Dictionary is a key-value store, also known as Hashmaps\n",
        "# Keys must be unique\n",
        "mydict = {\"country\": \"Latvia\",\n",
        "          \"city\": \"Riga\"}\n",
        "mydict"
      ]
    },
    {
      "cell_type": "code",
      "execution_count": 185,
      "metadata": {
        "colab": {
          "base_uri": "https://localhost:8080/",
          "height": 36
        },
        "id": "OpwX01D_snzl",
        "outputId": "f6daab0e-1969-4648-942a-3effdc9856a3"
      },
      "outputs": [
        {
          "output_type": "execute_result",
          "data": {
            "text/plain": [
              "'Riga'"
            ],
            "application/vnd.google.colaboratory.intrinsic+json": {
              "type": "string"
            }
          },
          "metadata": {},
          "execution_count": 185
        }
      ],
      "source": [
        "mydict[\"city\"]"
      ]
    },
    {
      "cell_type": "code",
      "execution_count": 186,
      "metadata": {
        "colab": {
          "base_uri": "https://localhost:8080/"
        },
        "id": "LPQs68Ipyk65",
        "outputId": "ef29b9ab-dcb1-435e-bf1b-c8473a141195"
      },
      "outputs": [
        {
          "output_type": "execute_result",
          "data": {
            "text/plain": [
              "{'country': 'Latvia', 'city': 'Riga', 'food': 'potatoes'}"
            ]
          },
          "metadata": {},
          "execution_count": 186
        }
      ],
      "source": [
        "# adding and overwriting key value pair\n",
        "mydict[\"food\"]=\"potatoes\" # if key \"food\" does not exist it will create this pairing, if it exists it will overwrite\n",
        "mydict"
      ]
    },
    {
      "cell_type": "code",
      "execution_count": 187,
      "metadata": {
        "colab": {
          "base_uri": "https://localhost:8080/",
          "height": 36
        },
        "id": "nBD4T-WNyk65",
        "outputId": "082cea5d-202f-4dcb-f24d-319f2c5162ee"
      },
      "outputs": [
        {
          "output_type": "execute_result",
          "data": {
            "text/plain": [
              "'potatoes'"
            ],
            "application/vnd.google.colaboratory.intrinsic+json": {
              "type": "string"
            }
          },
          "metadata": {},
          "execution_count": 187
        }
      ],
      "source": [
        "mydict[\"food\"] # can access values by key very very quickly"
      ]
    },
    {
      "cell_type": "code",
      "execution_count": 188,
      "metadata": {
        "colab": {
          "base_uri": "https://localhost:8080/",
          "height": 36
        },
        "id": "YKZr15c7yk65",
        "outputId": "876e14d3-3918-4f20-dca4-e441a45c41e0"
      },
      "outputs": [
        {
          "output_type": "execute_result",
          "data": {
            "text/plain": [
              "'Latvia'"
            ],
            "application/vnd.google.colaboratory.intrinsic+json": {
              "type": "string"
            }
          },
          "metadata": {},
          "execution_count": 188
        }
      ],
      "source": [
        "mydict[\"country\"]"
      ]
    },
    {
      "cell_type": "code",
      "execution_count": 189,
      "metadata": {
        "colab": {
          "base_uri": "https://localhost:8080/"
        },
        "id": "vdIvCt81yk65",
        "outputId": "d148345c-725f-409f-9820-cff4db3c2fbe"
      },
      "outputs": [
        {
          "output_type": "execute_result",
          "data": {
            "text/plain": [
              "dict_keys(['country', 'city', 'food'])"
            ]
          },
          "metadata": {},
          "execution_count": 189
        }
      ],
      "source": [
        "mydict.keys()"
      ]
    },
    {
      "cell_type": "code",
      "execution_count": 190,
      "metadata": {
        "colab": {
          "base_uri": "https://localhost:8080/"
        },
        "id": "yct3q-j5yk66",
        "outputId": "d93b2ecb-016a-47c2-f8b0-682c26c7a9ec"
      },
      "outputs": [
        {
          "output_type": "execute_result",
          "data": {
            "text/plain": [
              "dict_values(['Latvia', 'Riga', 'potatoes'])"
            ]
          },
          "metadata": {},
          "execution_count": 190
        }
      ],
      "source": [
        "mydict.values()"
      ]
    },
    {
      "cell_type": "code",
      "execution_count": 191,
      "metadata": {
        "colab": {
          "base_uri": "https://localhost:8080/"
        },
        "id": "EaMSZFjmyk66",
        "outputId": "3fa55b78-8cd7-4d79-cb47-12f30b974a77"
      },
      "outputs": [
        {
          "output_type": "execute_result",
          "data": {
            "text/plain": [
              "True"
            ]
          },
          "metadata": {},
          "execution_count": 191
        }
      ],
      "source": [
        "\"potatoes\" in mydict.values() # this will be slower in larger dictionaries"
      ]
    },
    {
      "cell_type": "code",
      "execution_count": 192,
      "metadata": {
        "colab": {
          "base_uri": "https://localhost:8080/"
        },
        "id": "3PJ38Eb3HdmD",
        "outputId": "e3541ecc-a099-4c5c-9d3f-ec0ac8c49b2f"
      },
      "outputs": [
        {
          "output_type": "execute_result",
          "data": {
            "text/plain": [
              "True"
            ]
          },
          "metadata": {},
          "execution_count": 192
        }
      ],
      "source": [
        "\"country\" in mydict # same as \"country\" in mydict.keys(), this is quick no matter the dictionary size"
      ]
    },
    {
      "cell_type": "code",
      "execution_count": 193,
      "metadata": {
        "colab": {
          "base_uri": "https://localhost:8080/"
        },
        "id": "o50py6XJH9Yx",
        "outputId": "a951020f-9fee-407f-81fc-d4fd08b24643"
      },
      "outputs": [
        {
          "output_type": "execute_result",
          "data": {
            "text/plain": [
              "{'countries': [{'country': 'Latvia', 'food': 'Potatoes'},\n",
              "  {'country': 'Estonia'}],\n",
              " 'cities': ['Riga', 'Tallinn', 'Kyiv']}"
            ]
          },
          "metadata": {},
          "execution_count": 193
        }
      ],
      "source": [
        "country_dict = {\"countries\" : [{\"country\":\"Latvia\", \"food\":\"Potatoes\"},{\"country\":\"Estonia\"}], \"cities\":[\"Riga\",\"Tallinn\",\"Kyiv\"]}\n",
        "country_dict"
      ]
    },
    {
      "cell_type": "code",
      "execution_count": 194,
      "metadata": {
        "colab": {
          "base_uri": "https://localhost:8080/"
        },
        "id": "X6KxH-94Fubq",
        "outputId": "31e744fd-4d4d-4199-b3e3-e235a9dd0903"
      },
      "outputs": [
        {
          "output_type": "stream",
          "name": "stdout",
          "text": [
            "{'cities': ['Riga', 'Tallinn', 'Kyiv'],\n",
            " 'countries': [{'country': 'Latvia', 'food': 'Potatoes'},\n",
            "               {'country': 'Estonia'}]}\n"
          ]
        }
      ],
      "source": [
        "# let's import a pprint library for better print formatting\n",
        "from pprint import pprint\n",
        "\n",
        "pprint(country_dict)"
      ]
    },
    {
      "cell_type": "code",
      "execution_count": 195,
      "metadata": {
        "colab": {
          "base_uri": "https://localhost:8080/"
        },
        "id": "suZqyJycJD3B",
        "outputId": "6f6bb8b5-b21f-4d1e-8b66-0eb3e54142a7"
      },
      "outputs": [
        {
          "output_type": "execute_result",
          "data": {
            "text/plain": [
              "[{'country': 'Latvia', 'food': 'Potatoes'}, {'country': 'Estonia'}]"
            ]
          },
          "metadata": {},
          "execution_count": 195
        }
      ],
      "source": [
        "country_dict[\"countries\"] # we get a list of dictionaries"
      ]
    },
    {
      "cell_type": "code",
      "execution_count": 196,
      "metadata": {
        "colab": {
          "base_uri": "https://localhost:8080/"
        },
        "id": "bFMjOTrRJF8i",
        "outputId": "81404b02-d3ee-43df-e756-c78743ebe388"
      },
      "outputs": [
        {
          "output_type": "execute_result",
          "data": {
            "text/plain": [
              "{'country': 'Latvia', 'food': 'Potatoes'}"
            ]
          },
          "metadata": {},
          "execution_count": 196
        }
      ],
      "source": [
        "country_dict[\"countries\"][0] # the inner dictionary with info about Latvia is first in the list"
      ]
    },
    {
      "cell_type": "code",
      "execution_count": 197,
      "metadata": {
        "colab": {
          "base_uri": "https://localhost:8080/",
          "height": 36
        },
        "id": "Ju94lDRkIpSy",
        "outputId": "1160f1cc-8cb3-45f1-e852-dae565843f0a"
      },
      "outputs": [
        {
          "output_type": "execute_result",
          "data": {
            "text/plain": [
              "'Potatoes'"
            ],
            "application/vnd.google.colaboratory.intrinsic+json": {
              "type": "string"
            }
          },
          "metadata": {},
          "execution_count": 197
        }
      ],
      "source": [
        "country_dict[\"countries\"][0][\"food\"]"
      ]
    },
    {
      "cell_type": "markdown",
      "metadata": {
        "id": "uLGx0rlGyk66"
      },
      "source": [
        "## Tuples\n",
        "\n",
        "* ordered\n",
        "* immutable (cannot be changed!)\n",
        "  * otherwise similar to lists"
      ]
    },
    {
      "cell_type": "code",
      "execution_count": 198,
      "metadata": {
        "colab": {
          "base_uri": "https://localhost:8080/"
        },
        "id": "6ECR4BjKyk66",
        "outputId": "0beb080b-710c-43ee-96f1-715f3f8c115d"
      },
      "outputs": [
        {
          "output_type": "stream",
          "name": "stdout",
          "text": [
            "(6, 4, 9)\n"
          ]
        }
      ],
      "source": [
        "mytuple = (6, 4, 9)\n",
        "print(mytuple)"
      ]
    },
    {
      "cell_type": "code",
      "execution_count": 199,
      "metadata": {
        "colab": {
          "base_uri": "https://localhost:8080/"
        },
        "id": "-lr67T2dFubr",
        "outputId": "c66e9022-a18c-49fa-976c-dbe2329302a6"
      },
      "outputs": [
        {
          "output_type": "stream",
          "name": "stdout",
          "text": [
            "(4, 9, 16)\n"
          ]
        }
      ],
      "source": [
        "mytuple2 = 4, 9, 16  # tuples can be defined without parenthesis, too\n",
        "print(mytuple2)"
      ]
    },
    {
      "cell_type": "code",
      "execution_count": 200,
      "metadata": {
        "colab": {
          "base_uri": "https://localhost:8080/"
        },
        "id": "rEivjHPFFubr",
        "outputId": "9b7ba9da-ed35-4769-cefd-7fdec83fd993"
      },
      "outputs": [
        {
          "output_type": "execute_result",
          "data": {
            "text/plain": [
              "9"
            ]
          },
          "metadata": {},
          "execution_count": 200
        }
      ],
      "source": [
        "mytuple[2] # can access tuple elements by index"
      ]
    },
    {
      "cell_type": "code",
      "execution_count": 201,
      "metadata": {
        "colab": {
          "base_uri": "https://localhost:8080/",
          "height": 147
        },
        "id": "Di02ZKkmFubr",
        "outputId": "081ab909-4fa6-451e-cd32-87ff4f097aaf"
      },
      "outputs": [
        {
          "output_type": "error",
          "ename": "TypeError",
          "evalue": "'tuple' object does not support item assignment",
          "traceback": [
            "\u001b[0;31m---------------------------------------------------------------------------\u001b[0m",
            "\u001b[0;31mTypeError\u001b[0m                                 Traceback (most recent call last)",
            "\u001b[0;32m<ipython-input-201-2aff234fab1d>\u001b[0m in \u001b[0;36m<cell line: 1>\u001b[0;34m()\u001b[0m\n\u001b[0;32m----> 1\u001b[0;31m \u001b[0mmytuple\u001b[0m\u001b[0;34m[\u001b[0m\u001b[0;36m2\u001b[0m\u001b[0;34m]\u001b[0m \u001b[0;34m=\u001b[0m \u001b[0;36m8\u001b[0m  \u001b[0;31m# changing an element of a tuple will not work\u001b[0m\u001b[0;34m\u001b[0m\u001b[0;34m\u001b[0m\u001b[0m\n\u001b[0m",
            "\u001b[0;31mTypeError\u001b[0m: 'tuple' object does not support item assignment"
          ]
        }
      ],
      "source": [
        "mytuple[2] = 8  # changing an element of a tuple will not work"
      ]
    },
    {
      "cell_type": "markdown",
      "metadata": {
        "id": "1el2gDIrFubr"
      },
      "source": [
        "Tuples can be used as dictionary keys or as a collection of values (e.g. for returning multiple values from a function).\n",
        "\n",
        "*We will look at defining functions later on.*"
      ]
    },
    {
      "cell_type": "code",
      "execution_count": 202,
      "metadata": {
        "id": "WmbZSnGNFubr"
      },
      "outputs": [],
      "source": [
        "def return_multiple():\n",
        "    return 1, 4, 9\n",
        "\n",
        "result = return_multiple()"
      ]
    },
    {
      "cell_type": "code",
      "execution_count": 203,
      "metadata": {
        "colab": {
          "base_uri": "https://localhost:8080/"
        },
        "id": "idNy4zaKFubs",
        "outputId": "cfb9d1ad-b068-4bc2-9e56-ddb034011b40"
      },
      "outputs": [
        {
          "output_type": "stream",
          "name": "stdout",
          "text": [
            "(1, 4, 9)\n",
            "\n",
            "Accessing the 1st element of the returned tuple:\n",
            "4\n"
          ]
        }
      ],
      "source": [
        "print(result)\n",
        "\n",
        "print()\n",
        "print(\"Accessing the 1st element of the returned tuple:\")\n",
        "print(result[1])"
      ]
    },
    {
      "cell_type": "markdown",
      "metadata": {
        "id": "94m41ooSyk67"
      },
      "source": [
        "## Flow Control <a class=\"anchor\" id=\"flow-control\">\n"
      ]
    },
    {
      "cell_type": "code",
      "execution_count": null,
      "metadata": {
        "id": "T7BtimQbyk67"
      },
      "outputs": [],
      "source": [
        "# With Flow Control we can tell our program/cells to choose different paths\n",
        "# or to run some commands repeatedly"
      ]
    },
    {
      "cell_type": "markdown",
      "metadata": {
        "id": "u8W4uJO1yk68"
      },
      "source": [
        "## Conditional operators\n",
        "\n",
        "`< > <= >= == != and or not`"
      ]
    },
    {
      "cell_type": "code",
      "execution_count": null,
      "metadata": {
        "id": "om2-RYt5yk68"
      },
      "outputs": [],
      "source": [
        "# What is truth in computer language?"
      ]
    },
    {
      "cell_type": "code",
      "execution_count": 204,
      "metadata": {
        "colab": {
          "base_uri": "https://localhost:8080/"
        },
        "id": "MONkq4S3yk68",
        "outputId": "9f9036cc-da91-48e7-a7e0-09d99442d7a0"
      },
      "outputs": [
        {
          "output_type": "execute_result",
          "data": {
            "text/plain": [
              "True"
            ]
          },
          "metadata": {},
          "execution_count": 204
        }
      ],
      "source": [
        "2*2 == 4"
      ]
    },
    {
      "cell_type": "code",
      "execution_count": 205,
      "metadata": {
        "colab": {
          "base_uri": "https://localhost:8080/"
        },
        "id": "osZweVjuyk68",
        "outputId": "98f72ec4-b105-4bd7-d2f0-274a22e4ce53"
      },
      "outputs": [
        {
          "output_type": "execute_result",
          "data": {
            "text/plain": [
              "False"
            ]
          },
          "metadata": {},
          "execution_count": 205
        }
      ],
      "source": [
        "5 > 7\n"
      ]
    },
    {
      "cell_type": "code",
      "execution_count": 206,
      "metadata": {
        "colab": {
          "base_uri": "https://localhost:8080/"
        },
        "id": "WtcIqTKqyk68",
        "outputId": "67b365d7-b566-48c1-ca1e-c8388e402593"
      },
      "outputs": [
        {
          "output_type": "stream",
          "name": "stdout",
          "text": [
            "True\n",
            "True\n"
          ]
        }
      ],
      "source": [
        "print(5 == int('5'))\n",
        "\n",
        "print(5 <= 6)"
      ]
    },
    {
      "cell_type": "code",
      "execution_count": 207,
      "metadata": {
        "colab": {
          "base_uri": "https://localhost:8080/"
        },
        "id": "RjVP_FTuyk68",
        "outputId": "9a77e91b-1eec-400b-d36e-625732dd920c"
      },
      "outputs": [
        {
          "output_type": "stream",
          "name": "stdout",
          "text": [
            "True\n",
            "True\n",
            "False\n"
          ]
        }
      ],
      "source": [
        "print(5 <= 5)\n",
        "\n",
        "# check if 5 is NOT equal to 6\n",
        "print(5 != 6)\n",
        "\n",
        "print(5 != 5)\n"
      ]
    },
    {
      "cell_type": "code",
      "execution_count": 208,
      "metadata": {
        "colab": {
          "base_uri": "https://localhost:8080/"
        },
        "id": "dV-16LNayk68",
        "outputId": "de842136-67c4-44c7-eeee-0ea07f85c859"
      },
      "outputs": [
        {
          "output_type": "execute_result",
          "data": {
            "text/plain": [
              "True"
            ]
          },
          "metadata": {},
          "execution_count": 208
        }
      ],
      "source": [
        "# We check each letter from left side\n",
        "# on mismatch we check ASCII (UTF-8) character tables for values\n",
        "# so called lexicographical ordering\n",
        "'VALDIS' < 'VOLDEMARS'"
      ]
    },
    {
      "cell_type": "code",
      "execution_count": 209,
      "metadata": {
        "colab": {
          "base_uri": "https://localhost:8080/"
        },
        "id": "xy9l-PiVLTkp",
        "outputId": "f2cf7106-0068-4d7a-b089-1693c4bd8beb"
      },
      "outputs": [
        {
          "output_type": "execute_result",
          "data": {
            "text/plain": [
              "86"
            ]
          },
          "metadata": {},
          "execution_count": 209
        }
      ],
      "source": [
        "ord(\"V\")"
      ]
    },
    {
      "cell_type": "code",
      "execution_count": 210,
      "metadata": {
        "colab": {
          "base_uri": "https://localhost:8080/"
        },
        "id": "KoLh6BVELq6O",
        "outputId": "95e0b439-c4ca-4cbd-a7f7-169d678aa73c"
      },
      "outputs": [
        {
          "output_type": "execute_result",
          "data": {
            "text/plain": [
              "65"
            ]
          },
          "metadata": {},
          "execution_count": 210
        }
      ],
      "source": [
        "ord(\"A\")"
      ]
    },
    {
      "cell_type": "code",
      "execution_count": 211,
      "metadata": {
        "colab": {
          "base_uri": "https://localhost:8080/"
        },
        "id": "RVmBCTTbLum5",
        "outputId": "4cc5fb82-f8f7-4681-c1b1-d314201c4bef"
      },
      "outputs": [
        {
          "output_type": "execute_result",
          "data": {
            "text/plain": [
              "79"
            ]
          },
          "metadata": {},
          "execution_count": 211
        }
      ],
      "source": [
        "ord(\"O\")"
      ]
    },
    {
      "cell_type": "code",
      "execution_count": 212,
      "metadata": {
        "colab": {
          "base_uri": "https://localhost:8080/"
        },
        "id": "iRQiRFKhMdOA",
        "outputId": "5aff1f03-09de-4210-a3c5-ce1e1357e324"
      },
      "outputs": [
        {
          "output_type": "execute_result",
          "data": {
            "text/plain": [
              "True"
            ]
          },
          "metadata": {},
          "execution_count": 212
        }
      ],
      "source": [
        "\"UL\" in \"ULDIS\""
      ]
    },
    {
      "cell_type": "code",
      "execution_count": 213,
      "metadata": {
        "colab": {
          "base_uri": "https://localhost:8080/"
        },
        "id": "K0J7zkImFubu",
        "outputId": "36b4c7f3-b4d6-4191-9e64-dd2b3dbd572d"
      },
      "outputs": [
        {
          "output_type": "execute_result",
          "data": {
            "text/plain": [
              "False"
            ]
          },
          "metadata": {},
          "execution_count": 213
        }
      ],
      "source": [
        "\"Ul\" in \"ULDIS\""
      ]
    },
    {
      "cell_type": "code",
      "execution_count": 214,
      "metadata": {
        "colab": {
          "base_uri": "https://localhost:8080/"
        },
        "id": "6FHS4t4Aw9xw",
        "outputId": "63fa1155-7247-40cf-9854-4d6164c2fa00"
      },
      "outputs": [
        {
          "output_type": "execute_result",
          "data": {
            "text/plain": [
              "True"
            ]
          },
          "metadata": {},
          "execution_count": 214
        }
      ],
      "source": [
        "\"text\" in [\"This\", \"is\", \"text\"]"
      ]
    },
    {
      "cell_type": "code",
      "execution_count": 215,
      "metadata": {
        "colab": {
          "base_uri": "https://localhost:8080/"
        },
        "id": "wNB92r86yk68",
        "outputId": "5c222d4d-739c-4357-d3eb-307ddbf599e7"
      },
      "outputs": [
        {
          "output_type": "execute_result",
          "data": {
            "text/plain": [
              "True"
            ]
          },
          "metadata": {},
          "execution_count": 215
        }
      ],
      "source": [
        "# combining multiple boolean values\n",
        "\n",
        "True and True"
      ]
    },
    {
      "cell_type": "code",
      "execution_count": 216,
      "metadata": {
        "colab": {
          "base_uri": "https://localhost:8080/"
        },
        "id": "PDSDoyhtyk69",
        "outputId": "b183e7b3-d309-4ad6-adbb-fbdece10b194"
      },
      "outputs": [
        {
          "output_type": "execute_result",
          "data": {
            "text/plain": [
              "True"
            ]
          },
          "metadata": {},
          "execution_count": 216
        }
      ],
      "source": [
        "True or False"
      ]
    },
    {
      "cell_type": "code",
      "execution_count": 217,
      "metadata": {
        "colab": {
          "base_uri": "https://localhost:8080/"
        },
        "id": "_yRvWtvsyk69",
        "outputId": "c16884d8-6269-4512-f58c-9ab5972518c4"
      },
      "outputs": [
        {
          "output_type": "execute_result",
          "data": {
            "text/plain": [
              "False"
            ]
          },
          "metadata": {},
          "execution_count": 217
        }
      ],
      "source": [
        "not True"
      ]
    },
    {
      "cell_type": "markdown",
      "metadata": {
        "id": "8Lh_uafdyk69"
      },
      "source": [
        "## If Statement"
      ]
    },
    {
      "cell_type": "code",
      "execution_count": 219,
      "metadata": {
        "colab": {
          "base_uri": "https://localhost:8080/"
        },
        "id": "1VFw0D6Yyk69",
        "outputId": "2fd2954e-0206-492f-9195-4a9071bd456b"
      },
      "outputs": [
        {
          "output_type": "stream",
          "name": "stdout",
          "text": [
            "Always prints\n"
          ]
        }
      ],
      "source": [
        "## Conditional execution lets the program choose\n",
        "## which commands to execute (e.g. based on the value of a comparison operation)\n",
        "\n",
        "# if 4 is larger than 5 then do something\n",
        "if 4 > 5:\n",
        "    print(\"4 is larger than 5, wow!\")\n",
        "    print(\"Another command inside the if statement\")\n",
        "\n",
        "# now I am out of the \"if\" command\n",
        "print(\"Always prints\")"
      ]
    },
    {
      "cell_type": "code",
      "execution_count": 221,
      "metadata": {
        "colab": {
          "base_uri": "https://localhost:8080/"
        },
        "id": "ff_Wgf1kyk69",
        "outputId": "e2146c85-eb2f-4340-c177-1ae40d0ec05e"
      },
      "outputs": [
        {
          "output_type": "stream",
          "name": "stdout",
          "text": [
            "hello\n",
            "hello that's not magic\n"
          ]
        }
      ],
      "source": [
        "if 5 >= 5:\n",
        "    print(\"hello\")\n",
        "\n",
        "if 5 == 6:\n",
        "    print(\"hello that's magic\")\n",
        "\n",
        "if 5 != 6:\n",
        "    print(\"hello that's not magic\")"
      ]
    },
    {
      "cell_type": "code",
      "execution_count": 222,
      "metadata": {
        "colab": {
          "base_uri": "https://localhost:8080/",
          "height": 110
        },
        "id": "nxkPl3htUjOv",
        "outputId": "4ccf1a59-9953-4e8b-95d2-e697e567b13f"
      },
      "outputs": [
        {
          "output_type": "error",
          "ename": "SyntaxError",
          "evalue": "unterminated string literal (detected at line 2) (<ipython-input-222-1c3d401089f8>, line 2)",
          "traceback": [
            "\u001b[0;36m  File \u001b[0;32m\"<ipython-input-222-1c3d401089f8>\"\u001b[0;36m, line \u001b[0;32m2\u001b[0m\n\u001b[0;31m    print('hello that's magic')\u001b[0m\n\u001b[0m                             ^\u001b[0m\n\u001b[0;31mSyntaxError\u001b[0m\u001b[0;31m:\u001b[0m unterminated string literal (detected at line 2)\n"
          ]
        }
      ],
      "source": [
        "# What's wrong with this code?\n",
        "print('hello that's magic')"
      ]
    },
    {
      "cell_type": "code",
      "execution_count": 223,
      "metadata": {
        "colab": {
          "base_uri": "https://localhost:8080/"
        },
        "id": "mjfeVd-9NE-b",
        "outputId": "1623f880-e770-4720-cdec-52c60300b9bf"
      },
      "outputs": [
        {
          "output_type": "execute_result",
          "data": {
            "text/plain": [
              "True"
            ]
          },
          "metadata": {},
          "execution_count": 223
        }
      ],
      "source": [
        "\"Valdis\" != \"Uldis\" # we can check for inequality"
      ]
    },
    {
      "cell_type": "code",
      "execution_count": 224,
      "metadata": {
        "id": "kw3qO4D8NKp1",
        "colab": {
          "base_uri": "https://localhost:8080/"
        },
        "outputId": "43d2a5a3-e6a5-437f-9823-68d01a5facb0"
      },
      "outputs": [
        {
          "output_type": "execute_result",
          "data": {
            "text/plain": [
              "True"
            ]
          },
          "metadata": {},
          "execution_count": 224
        }
      ],
      "source": [
        "# same as\n",
        "not \"Valdis\" == \"Uldis\""
      ]
    },
    {
      "cell_type": "code",
      "execution_count": 225,
      "metadata": {
        "colab": {
          "base_uri": "https://localhost:8080/"
        },
        "id": "07vTwFUXyk69",
        "outputId": "ff51fe11-b130-4609-e067-3be808f2c10e"
      },
      "outputs": [
        {
          "output_type": "stream",
          "name": "stdout",
          "text": [
            "Do one thing if if is True\n",
            "Do more things if if is True\n",
            "Also do this when if is True\n",
            "Do this always\n"
          ]
        }
      ],
      "source": [
        "# the space in front of some code fragment below the \"if\" command\n",
        "# means that it is a code block to be executed when the boolean\n",
        "# value is true\n",
        "\n",
        "if 2*2 == 4:\n",
        "    print(\"Do one thing if if is True\")\n",
        "    print(\"Do more things if if is True\")\n",
        "\n",
        "    # we can keep adding more things here\n",
        "    print(\"Also do this when if is True\")\n",
        "\n",
        "print(\"Do this always\")"
      ]
    },
    {
      "cell_type": "code",
      "execution_count": 226,
      "metadata": {
        "colab": {
          "base_uri": "https://localhost:8080/"
        },
        "id": "bwQ6KgAJyk6-",
        "outputId": "f5265da9-4d1a-4e19-84ab-55a912f8ecdf"
      },
      "outputs": [
        {
          "output_type": "stream",
          "name": "stdout",
          "text": [
            "a is NOT larger than 5\n"
          ]
        }
      ],
      "source": [
        "a = 4\n",
        "\n",
        "# if and else here are part of the same if / else statement\n",
        "if a > 5:\n",
        "    print('a is larger than 5')\n",
        "    # do more stuff\n",
        "else:\n",
        "    print('a is NOT larger than 5')\n",
        "    # do more stuff if a is not larger than 5"
      ]
    },
    {
      "cell_type": "code",
      "execution_count": 227,
      "metadata": {
        "colab": {
          "base_uri": "https://localhost:8080/"
        },
        "id": "jn3qWMZtyk6-",
        "outputId": "481ac241-ac72-4362-ea46-6aa3b6598386"
      },
      "outputs": [
        {
          "output_type": "stream",
          "name": "stdout",
          "text": [
            "Enter an integer please! 43\n",
            "Too ambitious an answer!\n",
            "Your number is 43\n"
          ]
        }
      ],
      "source": [
        "# elif comes from \"else if\"\n",
        "\n",
        "x = int(input(\"Enter an integer please! \"))\n",
        "\n",
        "if x > 42:\n",
        "    print(\"Too ambitious an answer!\")\n",
        "elif x < 42:\n",
        "    print(\"You dream too little!\")\n",
        "else: # only 42 remains here\n",
        "    print(\"That is the answer to everything!\")\n",
        "\n",
        "#These lines below will execute always\n",
        "print('Your number is', x)"
      ]
    },
    {
      "cell_type": "code",
      "execution_count": null,
      "metadata": {
        "id": "wR_oeZihFubx"
      },
      "outputs": [],
      "source": []
    },
    {
      "cell_type": "code",
      "execution_count": 228,
      "metadata": {
        "colab": {
          "base_uri": "https://localhost:8080/"
        },
        "id": "dpvM7gpDyk69",
        "outputId": "bc9a0535-ed77-4e46-a3f5-ce65e6c720d5"
      },
      "outputs": [
        {
          "output_type": "stream",
          "name": "stdout",
          "text": [
            "Enter temperature in Celsius 37\n",
            "Fahrenheit Temperature is 98.6 98.6\n"
          ]
        }
      ],
      "source": [
        "# converting a string to a decimal number using float()\n",
        "c = float(input(\"Enter temperature in Celsius \"))\n",
        "\n",
        "f = c * 9/5 + 32\n",
        "\n",
        "print(\"Fahrenheit Temperature is\", f, round(f, 2)) # we can round numbers up, instead of 2 you can use the required number of precision\n",
        "\n",
        "if f > 100:\n",
        "    print(\"You are too hot, find a doctor?\")"
      ]
    },
    {
      "cell_type": "code",
      "execution_count": null,
      "metadata": {
        "id": "y0WBr_Ilyk69"
      },
      "outputs": [],
      "source": [
        "# Try reversing the above program to create a Fahrenheit to Celsius converter"
      ]
    },
    {
      "cell_type": "code",
      "execution_count": null,
      "metadata": {
        "id": "MFdP1JnYUjOw"
      },
      "outputs": [],
      "source": []
    },
    {
      "cell_type": "markdown",
      "metadata": {
        "id": "QtrFl0dByk6-"
      },
      "source": [
        "## Loops"
      ]
    },
    {
      "cell_type": "code",
      "execution_count": null,
      "metadata": {
        "id": "nMuqut4Fyk6-"
      },
      "outputs": [],
      "source": [
        "# How would we perform the same/similar action multiple times?"
      ]
    },
    {
      "cell_type": "code",
      "execution_count": 229,
      "metadata": {
        "colab": {
          "base_uri": "https://localhost:8080/"
        },
        "id": "4lBUdvm7yk6-",
        "outputId": "bb42bbf1-18fe-42ec-f759-53c4abedcb00"
      },
      "outputs": [
        {
          "output_type": "stream",
          "name": "stdout",
          "text": [
            "Alice did\n",
            "talk\n",
            "  i is  0\n",
            "talk\n",
            "  i is  1\n",
            "talk\n",
            "  i is  2\n",
            "talk\n",
            "  i is  3\n",
            "talk\n",
            "  i is  4\n"
          ]
        }
      ],
      "source": [
        "# A \"while\" loop instructs the computer to repeat a code block\n",
        "# while the loop condition (e.g. i < 5) is True\n",
        "\n",
        "i = 0\n",
        "print(\"Alice did\")\n",
        "\n",
        "while i < 5:\n",
        "    print(\"talk\")\n",
        "    print(\"  i is \", i)\n",
        "    i += 1   # same as i = i + 1"
      ]
    },
    {
      "cell_type": "code",
      "execution_count": 230,
      "metadata": {
        "colab": {
          "base_uri": "https://localhost:8080/"
        },
        "id": "gVUkUAQFQQlo",
        "outputId": "d8bba268-2f08-4bb7-fd04-bf136ff697ae"
      },
      "outputs": [
        {
          "output_type": "execute_result",
          "data": {
            "text/plain": [
              "5"
            ]
          },
          "metadata": {},
          "execution_count": 230
        }
      ],
      "source": [
        "i"
      ]
    },
    {
      "cell_type": "code",
      "execution_count": null,
      "metadata": {
        "id": "O8Rk73-4yk6-"
      },
      "outputs": [],
      "source": [
        "# What would happen if we did not have i+=1 in our above program ?"
      ]
    },
    {
      "cell_type": "code",
      "execution_count": 231,
      "metadata": {
        "colab": {
          "base_uri": "https://localhost:8080/"
        },
        "id": "9iQlG4C5yk6-",
        "outputId": "b7a5466d-60e6-4c43-c871-e1fe43d4f9ba"
      },
      "outputs": [
        {
          "output_type": "stream",
          "name": "stdout",
          "text": [
            "Running the cycle.\n",
            "0\n",
            "Running the cycle.\n",
            "1\n",
            "Running the cycle.\n",
            "2\n",
            "Running the cycle.\n",
            "3\n",
            "Running the cycle.\n",
            "4\n",
            "Running the cycle.\n",
            "5\n",
            "Running the cycle.\n",
            "6\n",
            "Running the cycle.\n",
            "7\n",
            "Running the cycle.\n",
            "8\n",
            "Running the cycle.\n",
            "9\n"
          ]
        }
      ],
      "source": [
        "# A \"for\" loop instructs the computer to repeat a code block\n",
        "# for every element in the given sequence (e.g. a list of numbers)\n",
        "\n",
        "for x in range(10): # range is a number \"factory\"\n",
        "    print(\"Running the cycle.\")\n",
        "    print(x)"
      ]
    },
    {
      "cell_type": "code",
      "execution_count": 232,
      "metadata": {
        "colab": {
          "base_uri": "https://localhost:8080/"
        },
        "id": "o7QcqVXDyk6-",
        "outputId": "9df1aca1-95f9-424d-dbea-fe755698742d"
      },
      "outputs": [
        {
          "output_type": "stream",
          "name": "stdout",
          "text": [
            "U\n",
            "l\n",
            "d\n",
            "i\n",
            "s\n"
          ]
        }
      ],
      "source": [
        "# we can loop / iterate through strings, too\n",
        "for c in \"Uldis\":\n",
        "    print(c)"
      ]
    },
    {
      "cell_type": "markdown",
      "metadata": {
        "id": "w6CEkiGsFubz"
      },
      "source": [
        "#### Iterating (looping) through lists"
      ]
    },
    {
      "cell_type": "code",
      "execution_count": 233,
      "metadata": {
        "colab": {
          "base_uri": "https://localhost:8080/"
        },
        "id": "ZwJMEIi5UjOy",
        "outputId": "040d60a0-8dc5-459f-8679-14e8403f6843"
      },
      "outputs": [
        {
          "output_type": "stream",
          "name": "stdout",
          "text": [
            "apples\n",
            "carrots\n",
            "oranges\n"
          ]
        }
      ],
      "source": [
        "# we can iterate through list elements, too\n",
        "food = [\"apples\", \"carrots\", \"oranges\"]\n",
        "\n",
        "# for every element in the \"food\" list\n",
        "for item in food:\n",
        "    print(item)"
      ]
    },
    {
      "cell_type": "code",
      "execution_count": 234,
      "metadata": {
        "colab": {
          "base_uri": "https://localhost:8080/"
        },
        "id": "1ykMR6anS1wS",
        "outputId": "1a17ddeb-fafe-43ff-af36-af2ac642d841"
      },
      "outputs": [
        {
          "output_type": "stream",
          "name": "stdout",
          "text": [
            "Need to buy Kefir\n",
            "Need to buy Chocolate\n",
            "Need to buy Strawberries\n"
          ]
        }
      ],
      "source": [
        "shopping_list.append(\"Chocolate\")\n",
        "shopping_list.append(\"Strawberries\")\n",
        "\n",
        "for need_to_buy in shopping_list:\n",
        "    print(\"Need to buy\", need_to_buy)\n",
        "    # here we could actually do the buying operation"
      ]
    },
    {
      "cell_type": "code",
      "execution_count": 235,
      "metadata": {
        "colab": {
          "base_uri": "https://localhost:8080/"
        },
        "id": "AXrGVP8xSzD4",
        "outputId": "1eb0753b-382f-4a09-8619-a5a6af87083d"
      },
      "outputs": [
        {
          "output_type": "stream",
          "name": "stdout",
          "text": [
            "Item 11\n",
            "Item 12\n",
            "Item 13\n",
            "Item 14\n",
            "Item 15\n",
            "Item 16\n",
            "Item 17\n",
            "Item 18\n",
            "Item 19\n",
            "Item 20\n"
          ]
        }
      ],
      "source": [
        "mylist = list(range(11,21))\n",
        "\n",
        "for item in mylist:\n",
        "    print(\"Item\", item)"
      ]
    },
    {
      "cell_type": "code",
      "execution_count": 236,
      "metadata": {
        "colab": {
          "base_uri": "https://localhost:8080/"
        },
        "id": "4azwYOatTQnr",
        "outputId": "4be77c0f-b54c-494e-cf0d-16cd2ba70fae"
      },
      "outputs": [
        {
          "output_type": "execute_result",
          "data": {
            "text/plain": [
              "{'country': 'Latvia', 'capital': 'Riga'}"
            ]
          },
          "metadata": {},
          "execution_count": 236
        }
      ],
      "source": [
        "mydict = {\"country\": \"Latvia\", \"capital\": \"Riga\"}\n",
        "\n",
        "mydict"
      ]
    },
    {
      "cell_type": "code",
      "execution_count": 237,
      "metadata": {
        "colab": {
          "base_uri": "https://localhost:8080/"
        },
        "id": "W-wWdtOfyk6_",
        "outputId": "a38e0ed6-1588-4ff2-c3b8-712ade8dfe2a"
      },
      "outputs": [
        {
          "output_type": "stream",
          "name": "stdout",
          "text": [
            "country : Latvia\n",
            "capital : Riga\n"
          ]
        }
      ],
      "source": [
        "# loop through a dictionary\n",
        "for key, value in mydict.items(): # you could call them key, value or anything else\n",
        "    print(key, \":\", value)"
      ]
    },
    {
      "cell_type": "markdown",
      "metadata": {
        "id": "eQm335b0Fub2"
      },
      "source": [
        "### Your turn!"
      ]
    },
    {
      "cell_type": "code",
      "execution_count": 240,
      "metadata": {
        "colab": {
          "base_uri": "https://localhost:8080/"
        },
        "id": "wcnzQ1mzFub2",
        "outputId": "c1aa333a-7d04-429a-8c3c-d3bba76f04c3"
      },
      "outputs": [
        {
          "output_type": "stream",
          "name": "stdout",
          "text": [
            "and : 11\n",
            "the : 7\n",
            "a : 5\n",
            "in : 5\n",
            "NLTK : 4\n",
            "is : 3\n",
            "of : 3\n",
            "for : 3\n",
            "It : 3\n",
            "by : 3\n"
          ]
        }
      ],
      "source": [
        "# Write a program that counts the number of different\n",
        "# words in a text string and displays the top 10 words\n",
        "# and the number of times they appear in the text.\n",
        "\n",
        "text = \"\"\"\n",
        "The Natural Language Toolkit, or more commonly NLTK, is a suite of libraries and programs for symbolic and statistical natural language processing (NLP) for English written in the Python programming language. It supports classification, tokenization, stemming, tagging, parsing, and semantic reasoning functionalities.[4] It was developed by Steven Bird and Edward Loper in the Department of Computer and Information Science at the University of Pennsylvania.[5] NLTK includes graphical demonstrations and sample data. It is accompanied by a book that explains the underlying concepts behind the language processing tasks supported by the toolkit,[6] plus a cookbook.[7]\n",
        "NLTK is intended to support research and teaching in NLP or closely related areas, including empirical linguistics, cognitive science, artificial intelligence, information retrieval, and machine learning.[8] NLTK has been used successfully as a teaching tool, as an individual study tool, and as a platform for prototyping and building research systems. There are 32 universities in the US and 25 countries using NLTK in their courses.\n",
        "\"\"\"\n",
        "\n",
        "# 1) split the text into words\n",
        "\n",
        "words = text.split()\n",
        "\n",
        "# 2) use a dictionary to count the number of unique words\n",
        "\n",
        "results = {}  # empty dictionary\n",
        "\n",
        "for word in words:\n",
        "    if word in results:\n",
        "        results[word] += 1\n",
        "    else:\n",
        "        results[word] = 1\n",
        "\n",
        "# 3) display top 10 results\n",
        "\n",
        "for key, value in sorted(results.items(), key=lambda item: item[1], reverse=True)[:10]:\n",
        "    print(key, \":\", value)\n"
      ]
    },
    {
      "cell_type": "code",
      "source": [
        "results.items()"
      ],
      "metadata": {
        "colab": {
          "base_uri": "https://localhost:8080/"
        },
        "id": "hQAqwhB2QR_j",
        "outputId": "d715d24d-c417-40ca-f63f-831ca631c5df"
      },
      "execution_count": 241,
      "outputs": [
        {
          "output_type": "execute_result",
          "data": {
            "text/plain": [
              "dict_items([('The', 1), ('Natural', 1), ('Language', 1), ('Toolkit,', 1), ('or', 2), ('more', 1), ('commonly', 1), ('NLTK,', 1), ('is', 3), ('a', 5), ('suite', 1), ('of', 3), ('libraries', 1), ('and', 11), ('programs', 1), ('for', 3), ('symbolic', 1), ('statistical', 1), ('natural', 1), ('language', 2), ('processing', 2), ('(NLP)', 1), ('English', 1), ('written', 1), ('in', 5), ('the', 7), ('Python', 1), ('programming', 1), ('language.', 1), ('It', 3), ('supports', 1), ('classification,', 1), ('tokenization,', 1), ('stemming,', 1), ('tagging,', 1), ('parsing,', 1), ('semantic', 1), ('reasoning', 1), ('functionalities.[4]', 1), ('was', 1), ('developed', 1), ('by', 3), ('Steven', 1), ('Bird', 1), ('Edward', 1), ('Loper', 1), ('Department', 1), ('Computer', 1), ('Information', 1), ('Science', 1), ('at', 1), ('University', 1), ('Pennsylvania.[5]', 1), ('NLTK', 4), ('includes', 1), ('graphical', 1), ('demonstrations', 1), ('sample', 1), ('data.', 1), ('accompanied', 1), ('book', 1), ('that', 1), ('explains', 1), ('underlying', 1), ('concepts', 1), ('behind', 1), ('tasks', 1), ('supported', 1), ('toolkit,[6]', 1), ('plus', 1), ('cookbook.[7]', 1), ('intended', 1), ('to', 1), ('support', 1), ('research', 2), ('teaching', 2), ('NLP', 1), ('closely', 1), ('related', 1), ('areas,', 1), ('including', 1), ('empirical', 1), ('linguistics,', 1), ('cognitive', 1), ('science,', 1), ('artificial', 1), ('intelligence,', 1), ('information', 1), ('retrieval,', 1), ('machine', 1), ('learning.[8]', 1), ('has', 1), ('been', 1), ('used', 1), ('successfully', 1), ('as', 3), ('tool,', 2), ('an', 1), ('individual', 1), ('study', 1), ('platform', 1), ('prototyping', 1), ('building', 1), ('systems.', 1), ('There', 1), ('are', 1), ('32', 1), ('universities', 1), ('US', 1), ('25', 1), ('countries', 1), ('using', 1), ('their', 1), ('courses.', 1)])"
            ]
          },
          "metadata": {},
          "execution_count": 241
        }
      ]
    },
    {
      "cell_type": "code",
      "execution_count": null,
      "metadata": {
        "id": "RLgfhCGRFub2"
      },
      "outputs": [],
      "source": []
    },
    {
      "cell_type": "code",
      "execution_count": null,
      "metadata": {
        "id": "tqM4mbdkFub2"
      },
      "outputs": [],
      "source": []
    },
    {
      "cell_type": "code",
      "execution_count": null,
      "metadata": {
        "id": "FyZUstAeFub3"
      },
      "outputs": [],
      "source": []
    },
    {
      "cell_type": "markdown",
      "metadata": {
        "id": "7bywoUw-yk7B"
      },
      "source": [
        "## What is a function? <a class=\"anchor\" id=\"functions\">\n",
        "\n",
        "* A function is a block of organized, reusable code that is used to perform a single, related action.\n",
        "###  DRY - Do not Repeat Yourself principle\n",
        "* Every piece of knowledge must have a single, unambiguous, authoritative representation within a system. http://wiki.c2.com/?DontRepeatYourself\n",
        "\n",
        "* Contrast WET - We Enjoy Typing, Write Everything Twice, Waste Everyone's Time"
      ]
    },
    {
      "cell_type": "code",
      "execution_count": 242,
      "metadata": {
        "id": "4issPuv3yk7B"
      },
      "outputs": [],
      "source": [
        "# Here we define our first function\n",
        "# it does something (prints text)\n",
        "\n",
        "def myFirstFunc():\n",
        "    print(\"Running My first function\")\n",
        "    print(\"Do more stuff\")"
      ]
    },
    {
      "cell_type": "code",
      "execution_count": 243,
      "metadata": {
        "colab": {
          "base_uri": "https://localhost:8080/"
        },
        "id": "ktTvhI2Qyk7B",
        "outputId": "8249c58a-c09c-4ad9-d92a-c71adc7cfecb"
      },
      "outputs": [
        {
          "output_type": "stream",
          "name": "stdout",
          "text": [
            "Running My first function\n",
            "Do more stuff\n"
          ]
        }
      ],
      "source": [
        "# function has to be defined before it is called\n",
        "myFirstFunc()"
      ]
    },
    {
      "cell_type": "code",
      "execution_count": 244,
      "metadata": {
        "colab": {
          "base_uri": "https://localhost:8080/"
        },
        "id": "mYrVGAcgFub3",
        "outputId": "7561cfb5-f187-4c50-d9f9-3f4fb3c5bae9"
      },
      "outputs": [
        {
          "output_type": "stream",
          "name": "stdout",
          "text": [
            "Running My first function\n",
            "Do more stuff\n",
            "Running My first function\n",
            "Do more stuff\n",
            "Running My first function\n",
            "Do more stuff\n"
          ]
        }
      ],
      "source": [
        "# we can call it repeatedly\n",
        "\n",
        "myFirstFunc()\n",
        "myFirstFunc()\n",
        "myFirstFunc()"
      ]
    },
    {
      "cell_type": "code",
      "execution_count": 245,
      "metadata": {
        "id": "o2AKHLrcyk7C"
      },
      "outputs": [],
      "source": [
        "# Passing parameters (arguments)\n",
        "\n",
        "def printName(name):\n",
        "    print(f\"Maybe my name is: {name}\")\n"
      ]
    },
    {
      "cell_type": "code",
      "execution_count": 246,
      "metadata": {
        "colab": {
          "base_uri": "https://localhost:8080/"
        },
        "id": "SxN2_rayUR6I",
        "outputId": "e0e00742-bf4e-4aa1-aca3-8c5798bceffc"
      },
      "outputs": [
        {
          "output_type": "stream",
          "name": "stdout",
          "text": [
            "Maybe my name is: Uldis\n"
          ]
        }
      ],
      "source": [
        "printName(\"Uldis\")"
      ]
    },
    {
      "cell_type": "code",
      "execution_count": 247,
      "metadata": {
        "colab": {
          "base_uri": "https://localhost:8080/"
        },
        "id": "9tukNS8rUT_G",
        "outputId": "a4463134-7f4b-4f4b-f8e3-ab094458dba5"
      },
      "outputs": [
        {
          "output_type": "stream",
          "name": "stdout",
          "text": [
            "Maybe my name is: Sergii\n"
          ]
        }
      ],
      "source": [
        "printName(\"Sergii\")"
      ]
    },
    {
      "cell_type": "code",
      "execution_count": 248,
      "metadata": {
        "colab": {
          "base_uri": "https://localhost:8080/"
        },
        "id": "3g9rizp3UWcT",
        "outputId": "4f227d8d-266e-4775-a32b-766c9ab3a1cc"
      },
      "outputs": [
        {
          "output_type": "stream",
          "name": "stdout",
          "text": [
            "Maybe my name is: Introduction to Python\n"
          ]
        }
      ],
      "source": [
        "course_name = \"Introduction to Python\"\n",
        "\n",
        "# you can also use variables as function arguments\n",
        "printName(course_name)"
      ]
    },
    {
      "cell_type": "code",
      "execution_count": 249,
      "metadata": {
        "id": "e2fd35vDUs9x"
      },
      "outputs": [],
      "source": [
        "def alternate_letters(text):\n",
        "\n",
        "    new_string = \"\"\n",
        "    for i, c in enumerate(text):\n",
        "        if i % 2 == 0:\n",
        "            new_string += c.lower() # this is same as saying new_string = new_string + c\n",
        "        else:\n",
        "            new_string += c.upper()  # this += is fine for smaller strings\n",
        "\n",
        "    # print(new_string)\n",
        "\n",
        "    return new_string # with return I can use the results of this function not just output to screen"
      ]
    },
    {
      "cell_type": "code",
      "execution_count": 250,
      "metadata": {
        "colab": {
          "base_uri": "https://localhost:8080/",
          "height": 36
        },
        "id": "D37UXUhsU8Qr",
        "outputId": "1a88026c-68fb-429c-942f-4120556d9560"
      },
      "outputs": [
        {
          "output_type": "execute_result",
          "data": {
            "text/plain": [
              "'cOfFeE'"
            ],
            "application/vnd.google.colaboratory.intrinsic+json": {
              "type": "string"
            }
          },
          "metadata": {},
          "execution_count": 250
        }
      ],
      "source": [
        "alternate_letters(\"Coffee\")"
      ]
    },
    {
      "cell_type": "code",
      "execution_count": 251,
      "metadata": {
        "id": "9wItDm5zVd9y"
      },
      "outputs": [],
      "source": [
        "my_result = alternate_letters(\"Kefir\")"
      ]
    },
    {
      "cell_type": "code",
      "execution_count": 252,
      "metadata": {
        "colab": {
          "base_uri": "https://localhost:8080/",
          "height": 36
        },
        "id": "GK1n4_pbVjFp",
        "outputId": "ec00806f-7871-4f23-bb1f-c8ec3bc24911"
      },
      "outputs": [
        {
          "output_type": "execute_result",
          "data": {
            "text/plain": [
              "'kEfIr'"
            ],
            "application/vnd.google.colaboratory.intrinsic+json": {
              "type": "string"
            }
          },
          "metadata": {},
          "execution_count": 252
        }
      ],
      "source": [
        "my_result"
      ]
    },
    {
      "cell_type": "code",
      "execution_count": null,
      "metadata": {
        "id": "hcWHULvNyk7C"
      },
      "outputs": [],
      "source": [
        "\n"
      ]
    },
    {
      "cell_type": "code",
      "execution_count": 253,
      "metadata": {
        "id": "UmUUiVofyk7C"
      },
      "outputs": [],
      "source": [
        "# It is good practice to describe what the function does\n",
        "# We can make Docstrings with '''Helpful function description inside'''\n",
        "\n",
        "def mult(a, b):\n",
        "    '''Returns multiple from first two arguments'''\n",
        "\n",
        "    print(\"Look ma I am multiplying!\", a, b, a*b)\n",
        "    return a * b"
      ]
    },
    {
      "cell_type": "code",
      "execution_count": 254,
      "metadata": {
        "colab": {
          "base_uri": "https://localhost:8080/"
        },
        "id": "9dl58_MKFub5",
        "outputId": "358c7d4e-c6ca-422c-f57d-8df0f7897f4f"
      },
      "outputs": [
        {
          "output_type": "stream",
          "name": "stdout",
          "text": [
            "Help on function mult in module __main__:\n",
            "\n",
            "mult(a, b)\n",
            "    Returns multiple from first two arguments\n",
            "\n"
          ]
        }
      ],
      "source": [
        "help(mult)"
      ]
    },
    {
      "cell_type": "code",
      "execution_count": 255,
      "metadata": {
        "colab": {
          "base_uri": "https://localhost:8080/"
        },
        "id": "QpV80OUwUjO2",
        "outputId": "f3bf7dc4-fec0-4b46-cf6d-0e7d95f5c429"
      },
      "outputs": [
        {
          "output_type": "stream",
          "name": "stdout",
          "text": [
            "Look ma I am multiplying! 5 3 15\n"
          ]
        },
        {
          "output_type": "execute_result",
          "data": {
            "text/plain": [
              "15"
            ]
          },
          "metadata": {},
          "execution_count": 255
        }
      ],
      "source": [
        "mult(5, 3)"
      ]
    },
    {
      "cell_type": "code",
      "execution_count": 256,
      "metadata": {
        "colab": {
          "base_uri": "https://localhost:8080/"
        },
        "id": "mGGMB7Fhyk7C",
        "outputId": "d52ccda6-f36f-45f1-f235-949c07357c2d"
      },
      "outputs": [
        {
          "output_type": "stream",
          "name": "stdout",
          "text": [
            "This 8 is a nice number\n",
            "This number 11 is too unwieldy for me to print\n"
          ]
        }
      ],
      "source": [
        "def printnum(num):\n",
        "    if num > 10:\n",
        "        print(f\"This number {num} is too unwieldy for me to print\")\n",
        "    else:\n",
        "        print(f\"This {num} is a nice number\")\n",
        "\n",
        "printnum(8)\n",
        "printnum(11)"
      ]
    },
    {
      "cell_type": "code",
      "execution_count": null,
      "metadata": {
        "id": "BbGcBJbMFub6"
      },
      "outputs": [],
      "source": []
    },
    {
      "cell_type": "code",
      "execution_count": null,
      "metadata": {
        "id": "QCnM90qRFub6"
      },
      "outputs": [],
      "source": [
        "# Convert your program that counts the number of different\n",
        "# words into a function that takes the input text argument\n",
        "# and prints the top 10 words and the number of times\n",
        "# they appear in the text."
      ]
    },
    {
      "cell_type": "code",
      "execution_count": 264,
      "metadata": {
        "id": "CCfHIEhlFub6"
      },
      "outputs": [],
      "source": [
        "def top_10_words(input_text):\n",
        "\n",
        "   words = input_text.split()\n",
        "\n",
        "# 2) use a dictionary to count the number of unique words\n",
        "\n",
        "   results = {}  # empty dictionary\n",
        "\n",
        "   for word in words:\n",
        "      if word in results:\n",
        "          results[word] += 1\n",
        "      else:\n",
        "          results[word] = 1\n",
        "\n",
        "# 3) display top 10 results\n",
        "\n",
        "   def get_sort_key(item):\n",
        "       return item[1]\n",
        "\n",
        "   for key, value in sorted(results.items(), key=get_sort_key, reverse=True)[:10]:\n",
        "       print(key, \":\", value)\n"
      ]
    },
    {
      "cell_type": "code",
      "execution_count": 265,
      "metadata": {
        "colab": {
          "base_uri": "https://localhost:8080/"
        },
        "id": "1fg-sWoPFub6",
        "outputId": "8b706c8d-1aaf-40fc-bea1-342f0a3ec95f"
      },
      "outputs": [
        {
          "output_type": "stream",
          "name": "stdout",
          "text": [
            "fox : 3\n",
            "brown : 2\n",
            "The : 1\n",
            "quick : 1\n",
            "jumps : 1\n",
            "over : 1\n",
            "the : 1\n",
            "lazy : 1\n",
            "dog! : 1\n",
            "Let's : 1\n"
          ]
        }
      ],
      "source": [
        "text = \"\"\"\n",
        "The quick brown fox jumps over the lazy dog!\n",
        "Let's repeat some words like fox lazy, more words: brown fox\n",
        "\"\"\"\n",
        "\n",
        "top_10_words(text)"
      ]
    },
    {
      "cell_type": "markdown",
      "metadata": {
        "id": "rQWerPaTyk7D"
      },
      "source": [
        "## Libraries <a class=\"anchor\" id=\"libraries\">\n"
      ]
    },
    {
      "cell_type": "code",
      "execution_count": null,
      "metadata": {
        "id": "ue-Y0NMtyk7D"
      },
      "outputs": [],
      "source": [
        "# Python and Batteries Included Philosophy\n",
        "## Why reinvent the wheel?"
      ]
    },
    {
      "cell_type": "code",
      "execution_count": 266,
      "metadata": {
        "id": "kKAZZ2RPyk7D"
      },
      "outputs": [],
      "source": [
        "import math\n"
      ]
    },
    {
      "cell_type": "code",
      "source": [
        "help(math)"
      ],
      "metadata": {
        "colab": {
          "base_uri": "https://localhost:8080/"
        },
        "id": "WMgrblwYUvOI",
        "outputId": "ad11224f-23c7-4036-89f4-af0ecfbc89d8"
      },
      "execution_count": 267,
      "outputs": [
        {
          "output_type": "stream",
          "name": "stdout",
          "text": [
            "Help on built-in module math:\n",
            "\n",
            "NAME\n",
            "    math\n",
            "\n",
            "DESCRIPTION\n",
            "    This module provides access to the mathematical functions\n",
            "    defined by the C standard.\n",
            "\n",
            "FUNCTIONS\n",
            "    acos(x, /)\n",
            "        Return the arc cosine (measured in radians) of x.\n",
            "        \n",
            "        The result is between 0 and pi.\n",
            "    \n",
            "    acosh(x, /)\n",
            "        Return the inverse hyperbolic cosine of x.\n",
            "    \n",
            "    asin(x, /)\n",
            "        Return the arc sine (measured in radians) of x.\n",
            "        \n",
            "        The result is between -pi/2 and pi/2.\n",
            "    \n",
            "    asinh(x, /)\n",
            "        Return the inverse hyperbolic sine of x.\n",
            "    \n",
            "    atan(x, /)\n",
            "        Return the arc tangent (measured in radians) of x.\n",
            "        \n",
            "        The result is between -pi/2 and pi/2.\n",
            "    \n",
            "    atan2(y, x, /)\n",
            "        Return the arc tangent (measured in radians) of y/x.\n",
            "        \n",
            "        Unlike atan(y/x), the signs of both x and y are considered.\n",
            "    \n",
            "    atanh(x, /)\n",
            "        Return the inverse hyperbolic tangent of x.\n",
            "    \n",
            "    ceil(x, /)\n",
            "        Return the ceiling of x as an Integral.\n",
            "        \n",
            "        This is the smallest integer >= x.\n",
            "    \n",
            "    comb(n, k, /)\n",
            "        Number of ways to choose k items from n items without repetition and without order.\n",
            "        \n",
            "        Evaluates to n! / (k! * (n - k)!) when k <= n and evaluates\n",
            "        to zero when k > n.\n",
            "        \n",
            "        Also called the binomial coefficient because it is equivalent\n",
            "        to the coefficient of k-th term in polynomial expansion of the\n",
            "        expression (1 + x)**n.\n",
            "        \n",
            "        Raises TypeError if either of the arguments are not integers.\n",
            "        Raises ValueError if either of the arguments are negative.\n",
            "    \n",
            "    copysign(x, y, /)\n",
            "        Return a float with the magnitude (absolute value) of x but the sign of y.\n",
            "        \n",
            "        On platforms that support signed zeros, copysign(1.0, -0.0)\n",
            "        returns -1.0.\n",
            "    \n",
            "    cos(x, /)\n",
            "        Return the cosine of x (measured in radians).\n",
            "    \n",
            "    cosh(x, /)\n",
            "        Return the hyperbolic cosine of x.\n",
            "    \n",
            "    degrees(x, /)\n",
            "        Convert angle x from radians to degrees.\n",
            "    \n",
            "    dist(p, q, /)\n",
            "        Return the Euclidean distance between two points p and q.\n",
            "        \n",
            "        The points should be specified as sequences (or iterables) of\n",
            "        coordinates.  Both inputs must have the same dimension.\n",
            "        \n",
            "        Roughly equivalent to:\n",
            "            sqrt(sum((px - qx) ** 2.0 for px, qx in zip(p, q)))\n",
            "    \n",
            "    erf(x, /)\n",
            "        Error function at x.\n",
            "    \n",
            "    erfc(x, /)\n",
            "        Complementary error function at x.\n",
            "    \n",
            "    exp(x, /)\n",
            "        Return e raised to the power of x.\n",
            "    \n",
            "    expm1(x, /)\n",
            "        Return exp(x)-1.\n",
            "        \n",
            "        This function avoids the loss of precision involved in the direct evaluation of exp(x)-1 for small x.\n",
            "    \n",
            "    fabs(x, /)\n",
            "        Return the absolute value of the float x.\n",
            "    \n",
            "    factorial(x, /)\n",
            "        Find x!.\n",
            "        \n",
            "        Raise a ValueError if x is negative or non-integral.\n",
            "    \n",
            "    floor(x, /)\n",
            "        Return the floor of x as an Integral.\n",
            "        \n",
            "        This is the largest integer <= x.\n",
            "    \n",
            "    fmod(x, y, /)\n",
            "        Return fmod(x, y), according to platform C.\n",
            "        \n",
            "        x % y may differ.\n",
            "    \n",
            "    frexp(x, /)\n",
            "        Return the mantissa and exponent of x, as pair (m, e).\n",
            "        \n",
            "        m is a float and e is an int, such that x = m * 2.**e.\n",
            "        If x is 0, m and e are both 0.  Else 0.5 <= abs(m) < 1.0.\n",
            "    \n",
            "    fsum(seq, /)\n",
            "        Return an accurate floating point sum of values in the iterable seq.\n",
            "        \n",
            "        Assumes IEEE-754 floating point arithmetic.\n",
            "    \n",
            "    gamma(x, /)\n",
            "        Gamma function at x.\n",
            "    \n",
            "    gcd(*integers)\n",
            "        Greatest Common Divisor.\n",
            "    \n",
            "    hypot(...)\n",
            "        hypot(*coordinates) -> value\n",
            "        \n",
            "        Multidimensional Euclidean distance from the origin to a point.\n",
            "        \n",
            "        Roughly equivalent to:\n",
            "            sqrt(sum(x**2 for x in coordinates))\n",
            "        \n",
            "        For a two dimensional point (x, y), gives the hypotenuse\n",
            "        using the Pythagorean theorem:  sqrt(x*x + y*y).\n",
            "        \n",
            "        For example, the hypotenuse of a 3/4/5 right triangle is:\n",
            "        \n",
            "            >>> hypot(3.0, 4.0)\n",
            "            5.0\n",
            "    \n",
            "    isclose(a, b, *, rel_tol=1e-09, abs_tol=0.0)\n",
            "        Determine whether two floating point numbers are close in value.\n",
            "        \n",
            "          rel_tol\n",
            "            maximum difference for being considered \"close\", relative to the\n",
            "            magnitude of the input values\n",
            "          abs_tol\n",
            "            maximum difference for being considered \"close\", regardless of the\n",
            "            magnitude of the input values\n",
            "        \n",
            "        Return True if a is close in value to b, and False otherwise.\n",
            "        \n",
            "        For the values to be considered close, the difference between them\n",
            "        must be smaller than at least one of the tolerances.\n",
            "        \n",
            "        -inf, inf and NaN behave similarly to the IEEE 754 Standard.  That\n",
            "        is, NaN is not close to anything, even itself.  inf and -inf are\n",
            "        only close to themselves.\n",
            "    \n",
            "    isfinite(x, /)\n",
            "        Return True if x is neither an infinity nor a NaN, and False otherwise.\n",
            "    \n",
            "    isinf(x, /)\n",
            "        Return True if x is a positive or negative infinity, and False otherwise.\n",
            "    \n",
            "    isnan(x, /)\n",
            "        Return True if x is a NaN (not a number), and False otherwise.\n",
            "    \n",
            "    isqrt(n, /)\n",
            "        Return the integer part of the square root of the input.\n",
            "    \n",
            "    lcm(*integers)\n",
            "        Least Common Multiple.\n",
            "    \n",
            "    ldexp(x, i, /)\n",
            "        Return x * (2**i).\n",
            "        \n",
            "        This is essentially the inverse of frexp().\n",
            "    \n",
            "    lgamma(x, /)\n",
            "        Natural logarithm of absolute value of Gamma function at x.\n",
            "    \n",
            "    log(...)\n",
            "        log(x, [base=math.e])\n",
            "        Return the logarithm of x to the given base.\n",
            "        \n",
            "        If the base not specified, returns the natural logarithm (base e) of x.\n",
            "    \n",
            "    log10(x, /)\n",
            "        Return the base 10 logarithm of x.\n",
            "    \n",
            "    log1p(x, /)\n",
            "        Return the natural logarithm of 1+x (base e).\n",
            "        \n",
            "        The result is computed in a way which is accurate for x near zero.\n",
            "    \n",
            "    log2(x, /)\n",
            "        Return the base 2 logarithm of x.\n",
            "    \n",
            "    modf(x, /)\n",
            "        Return the fractional and integer parts of x.\n",
            "        \n",
            "        Both results carry the sign of x and are floats.\n",
            "    \n",
            "    nextafter(x, y, /)\n",
            "        Return the next floating-point value after x towards y.\n",
            "    \n",
            "    perm(n, k=None, /)\n",
            "        Number of ways to choose k items from n items without repetition and with order.\n",
            "        \n",
            "        Evaluates to n! / (n - k)! when k <= n and evaluates\n",
            "        to zero when k > n.\n",
            "        \n",
            "        If k is not specified or is None, then k defaults to n\n",
            "        and the function returns n!.\n",
            "        \n",
            "        Raises TypeError if either of the arguments are not integers.\n",
            "        Raises ValueError if either of the arguments are negative.\n",
            "    \n",
            "    pow(x, y, /)\n",
            "        Return x**y (x to the power of y).\n",
            "    \n",
            "    prod(iterable, /, *, start=1)\n",
            "        Calculate the product of all the elements in the input iterable.\n",
            "        \n",
            "        The default start value for the product is 1.\n",
            "        \n",
            "        When the iterable is empty, return the start value.  This function is\n",
            "        intended specifically for use with numeric values and may reject\n",
            "        non-numeric types.\n",
            "    \n",
            "    radians(x, /)\n",
            "        Convert angle x from degrees to radians.\n",
            "    \n",
            "    remainder(x, y, /)\n",
            "        Difference between x and the closest integer multiple of y.\n",
            "        \n",
            "        Return x - n*y where n*y is the closest integer multiple of y.\n",
            "        In the case where x is exactly halfway between two multiples of\n",
            "        y, the nearest even value of n is used. The result is always exact.\n",
            "    \n",
            "    sin(x, /)\n",
            "        Return the sine of x (measured in radians).\n",
            "    \n",
            "    sinh(x, /)\n",
            "        Return the hyperbolic sine of x.\n",
            "    \n",
            "    sqrt(x, /)\n",
            "        Return the square root of x.\n",
            "    \n",
            "    tan(x, /)\n",
            "        Return the tangent of x (measured in radians).\n",
            "    \n",
            "    tanh(x, /)\n",
            "        Return the hyperbolic tangent of x.\n",
            "    \n",
            "    trunc(x, /)\n",
            "        Truncates the Real x to the nearest Integral toward 0.\n",
            "        \n",
            "        Uses the __trunc__ magic method.\n",
            "    \n",
            "    ulp(x, /)\n",
            "        Return the value of the least significant bit of the float x.\n",
            "\n",
            "DATA\n",
            "    e = 2.718281828459045\n",
            "    inf = inf\n",
            "    nan = nan\n",
            "    pi = 3.141592653589793\n",
            "    tau = 6.283185307179586\n",
            "\n",
            "FILE\n",
            "    (built-in)\n",
            "\n",
            "\n"
          ]
        }
      ]
    },
    {
      "cell_type": "code",
      "execution_count": 268,
      "metadata": {
        "colab": {
          "base_uri": "https://localhost:8080/"
        },
        "id": "xrBBGDl-yk7D",
        "outputId": "8bc19ec9-ee76-4da5-adcb-71f2a8f7e7bb"
      },
      "outputs": [
        {
          "output_type": "execute_result",
          "data": {
            "text/plain": [
              "-0.9999987317275395"
            ]
          },
          "metadata": {},
          "execution_count": 268
        }
      ],
      "source": [
        "# notice the . syntax helper\n",
        "math.cos(3.14)"
      ]
    },
    {
      "cell_type": "code",
      "execution_count": 269,
      "metadata": {
        "colab": {
          "base_uri": "https://localhost:8080/"
        },
        "id": "hUdAeW_XFub7",
        "outputId": "f3eac89e-584b-4b3a-e67d-dc5461a5b442"
      },
      "outputs": [
        {
          "output_type": "execute_result",
          "data": {
            "text/plain": [
              "3.141592653589793"
            ]
          },
          "metadata": {},
          "execution_count": 269
        }
      ],
      "source": [
        "math.pi"
      ]
    },
    {
      "cell_type": "code",
      "execution_count": 270,
      "metadata": {
        "colab": {
          "base_uri": "https://localhost:8080/"
        },
        "id": "h3P68t3uFub7",
        "outputId": "dfa592c2-d766-428c-dab5-3706dacf16ce"
      },
      "outputs": [
        {
          "output_type": "execute_result",
          "data": {
            "text/plain": [
              "-1.0"
            ]
          },
          "metadata": {},
          "execution_count": 270
        }
      ],
      "source": [
        "math.cos(math.pi)"
      ]
    },
    {
      "cell_type": "code",
      "execution_count": 271,
      "metadata": {
        "id": "d1uopCSuFub7"
      },
      "outputs": [],
      "source": [
        "import random   # random number generator library\n",
        "# https://docs.python.org/3/library/random.html\n"
      ]
    },
    {
      "cell_type": "code",
      "execution_count": 272,
      "metadata": {
        "colab": {
          "base_uri": "https://localhost:8080/"
        },
        "id": "mIeTkpq6Fub7",
        "outputId": "b53759a0-2f1d-4a3c-c04c-b350ea7ed6e9"
      },
      "outputs": [
        {
          "output_type": "stream",
          "name": "stdout",
          "text": [
            "6\n"
          ]
        }
      ],
      "source": [
        "# generate random numbers from 1 to 6\n",
        "\n",
        "result = random.randint(1,6)\n",
        "print(result)"
      ]
    },
    {
      "cell_type": "code",
      "execution_count": 273,
      "metadata": {
        "colab": {
          "base_uri": "https://localhost:8080/"
        },
        "id": "vKCfZwg_Fub7",
        "outputId": "80d713c3-8746-4506-93d3-b75447ac3c06"
      },
      "outputs": [
        {
          "output_type": "stream",
          "name": "stdout",
          "text": [
            "6\n",
            "1\n",
            "6\n",
            "1\n",
            "3\n",
            "1\n",
            "3\n",
            "3\n",
            "2\n",
            "5\n"
          ]
        }
      ],
      "source": [
        "# print 10 random numbers\n",
        "\n",
        "for i in range(10):\n",
        "    print(random.randint(1,6))\n"
      ]
    },
    {
      "cell_type": "code",
      "execution_count": 274,
      "metadata": {
        "colab": {
          "base_uri": "https://localhost:8080/"
        },
        "id": "y8Ii9k2UGVWc",
        "outputId": "f2c67e37-e876-4a34-9458-f5197f344935"
      },
      "outputs": [
        {
          "output_type": "stream",
          "name": "stdout",
          "text": [
            "Help on method randint in module random:\n",
            "\n",
            "randint(a, b) method of random.Random instance\n",
            "    Return random integer in range [a, b], including both end points.\n",
            "\n"
          ]
        }
      ],
      "source": [
        "help(random.randint)"
      ]
    },
    {
      "cell_type": "code",
      "execution_count": null,
      "metadata": {
        "id": "_s8H3zWuFub8"
      },
      "outputs": [],
      "source": []
    },
    {
      "cell_type": "code",
      "execution_count": 275,
      "metadata": {
        "id": "jyiYv9ZWyk7D"
      },
      "outputs": [],
      "source": [
        "from collections import Counter"
      ]
    },
    {
      "cell_type": "code",
      "source": [
        "help(Counter)"
      ],
      "metadata": {
        "colab": {
          "base_uri": "https://localhost:8080/"
        },
        "id": "W31oDqHXVTXq",
        "outputId": "4e7d926d-945e-42ad-a1a5-26a21daca45a"
      },
      "execution_count": 276,
      "outputs": [
        {
          "output_type": "stream",
          "name": "stdout",
          "text": [
            "Help on class Counter in module collections:\n",
            "\n",
            "class Counter(builtins.dict)\n",
            " |  Counter(iterable=None, /, **kwds)\n",
            " |  \n",
            " |  Dict subclass for counting hashable items.  Sometimes called a bag\n",
            " |  or multiset.  Elements are stored as dictionary keys and their counts\n",
            " |  are stored as dictionary values.\n",
            " |  \n",
            " |  >>> c = Counter('abcdeabcdabcaba')  # count elements from a string\n",
            " |  \n",
            " |  >>> c.most_common(3)                # three most common elements\n",
            " |  [('a', 5), ('b', 4), ('c', 3)]\n",
            " |  >>> sorted(c)                       # list all unique elements\n",
            " |  ['a', 'b', 'c', 'd', 'e']\n",
            " |  >>> ''.join(sorted(c.elements()))   # list elements with repetitions\n",
            " |  'aaaaabbbbcccdde'\n",
            " |  >>> sum(c.values())                 # total of all counts\n",
            " |  15\n",
            " |  \n",
            " |  >>> c['a']                          # count of letter 'a'\n",
            " |  5\n",
            " |  >>> for elem in 'shazam':           # update counts from an iterable\n",
            " |  ...     c[elem] += 1                # by adding 1 to each element's count\n",
            " |  >>> c['a']                          # now there are seven 'a'\n",
            " |  7\n",
            " |  >>> del c['b']                      # remove all 'b'\n",
            " |  >>> c['b']                          # now there are zero 'b'\n",
            " |  0\n",
            " |  \n",
            " |  >>> d = Counter('simsalabim')       # make another counter\n",
            " |  >>> c.update(d)                     # add in the second counter\n",
            " |  >>> c['a']                          # now there are nine 'a'\n",
            " |  9\n",
            " |  \n",
            " |  >>> c.clear()                       # empty the counter\n",
            " |  >>> c\n",
            " |  Counter()\n",
            " |  \n",
            " |  Note:  If a count is set to zero or reduced to zero, it will remain\n",
            " |  in the counter until the entry is deleted or the counter is cleared:\n",
            " |  \n",
            " |  >>> c = Counter('aaabbc')\n",
            " |  >>> c['b'] -= 2                     # reduce the count of 'b' by two\n",
            " |  >>> c.most_common()                 # 'b' is still in, but its count is zero\n",
            " |  [('a', 3), ('c', 1), ('b', 0)]\n",
            " |  \n",
            " |  Method resolution order:\n",
            " |      Counter\n",
            " |      builtins.dict\n",
            " |      builtins.object\n",
            " |  \n",
            " |  Methods defined here:\n",
            " |  \n",
            " |  __add__(self, other)\n",
            " |      Add counts from two counters.\n",
            " |      \n",
            " |      >>> Counter('abbb') + Counter('bcc')\n",
            " |      Counter({'b': 4, 'c': 2, 'a': 1})\n",
            " |  \n",
            " |  __and__(self, other)\n",
            " |      Intersection is the minimum of corresponding counts.\n",
            " |      \n",
            " |      >>> Counter('abbb') & Counter('bcc')\n",
            " |      Counter({'b': 1})\n",
            " |  \n",
            " |  __delitem__(self, elem)\n",
            " |      Like dict.__delitem__() but does not raise KeyError for missing values.\n",
            " |  \n",
            " |  __eq__(self, other)\n",
            " |      True if all counts agree. Missing counts are treated as zero.\n",
            " |  \n",
            " |  __ge__(self, other)\n",
            " |      True if all counts in self are a superset of those in other.\n",
            " |  \n",
            " |  __gt__(self, other)\n",
            " |      True if all counts in self are a proper superset of those in other.\n",
            " |  \n",
            " |  __iadd__(self, other)\n",
            " |      Inplace add from another counter, keeping only positive counts.\n",
            " |      \n",
            " |      >>> c = Counter('abbb')\n",
            " |      >>> c += Counter('bcc')\n",
            " |      >>> c\n",
            " |      Counter({'b': 4, 'c': 2, 'a': 1})\n",
            " |  \n",
            " |  __iand__(self, other)\n",
            " |      Inplace intersection is the minimum of corresponding counts.\n",
            " |      \n",
            " |      >>> c = Counter('abbb')\n",
            " |      >>> c &= Counter('bcc')\n",
            " |      >>> c\n",
            " |      Counter({'b': 1})\n",
            " |  \n",
            " |  __init__(self, iterable=None, /, **kwds)\n",
            " |      Create a new, empty Counter object.  And if given, count elements\n",
            " |      from an input iterable.  Or, initialize the count from another mapping\n",
            " |      of elements to their counts.\n",
            " |      \n",
            " |      >>> c = Counter()                           # a new, empty counter\n",
            " |      >>> c = Counter('gallahad')                 # a new counter from an iterable\n",
            " |      >>> c = Counter({'a': 4, 'b': 2})           # a new counter from a mapping\n",
            " |      >>> c = Counter(a=4, b=2)                   # a new counter from keyword args\n",
            " |  \n",
            " |  __ior__(self, other)\n",
            " |      Inplace union is the maximum of value from either counter.\n",
            " |      \n",
            " |      >>> c = Counter('abbb')\n",
            " |      >>> c |= Counter('bcc')\n",
            " |      >>> c\n",
            " |      Counter({'b': 3, 'c': 2, 'a': 1})\n",
            " |  \n",
            " |  __isub__(self, other)\n",
            " |      Inplace subtract counter, but keep only results with positive counts.\n",
            " |      \n",
            " |      >>> c = Counter('abbbc')\n",
            " |      >>> c -= Counter('bccd')\n",
            " |      >>> c\n",
            " |      Counter({'b': 2, 'a': 1})\n",
            " |  \n",
            " |  __le__(self, other)\n",
            " |      True if all counts in self are a subset of those in other.\n",
            " |  \n",
            " |  __lt__(self, other)\n",
            " |      True if all counts in self are a proper subset of those in other.\n",
            " |  \n",
            " |  __missing__(self, key)\n",
            " |      The count of elements not in the Counter is zero.\n",
            " |  \n",
            " |  __ne__(self, other)\n",
            " |      True if any counts disagree. Missing counts are treated as zero.\n",
            " |  \n",
            " |  __neg__(self)\n",
            " |      Subtracts from an empty counter.  Strips positive and zero counts,\n",
            " |      and flips the sign on negative counts.\n",
            " |  \n",
            " |  __or__(self, other)\n",
            " |      Union is the maximum of value in either of the input counters.\n",
            " |      \n",
            " |      >>> Counter('abbb') | Counter('bcc')\n",
            " |      Counter({'b': 3, 'c': 2, 'a': 1})\n",
            " |  \n",
            " |  __pos__(self)\n",
            " |      Adds an empty counter, effectively stripping negative and zero counts\n",
            " |  \n",
            " |  __reduce__(self)\n",
            " |      Helper for pickle.\n",
            " |  \n",
            " |  __repr__(self)\n",
            " |      Return repr(self).\n",
            " |  \n",
            " |  __sub__(self, other)\n",
            " |      Subtract count, but keep only results with positive counts.\n",
            " |      \n",
            " |      >>> Counter('abbbc') - Counter('bccd')\n",
            " |      Counter({'b': 2, 'a': 1})\n",
            " |  \n",
            " |  copy(self)\n",
            " |      Return a shallow copy.\n",
            " |  \n",
            " |  elements(self)\n",
            " |      Iterator over elements repeating each as many times as its count.\n",
            " |      \n",
            " |      >>> c = Counter('ABCABC')\n",
            " |      >>> sorted(c.elements())\n",
            " |      ['A', 'A', 'B', 'B', 'C', 'C']\n",
            " |      \n",
            " |      # Knuth's example for prime factors of 1836:  2**2 * 3**3 * 17**1\n",
            " |      >>> prime_factors = Counter({2: 2, 3: 3, 17: 1})\n",
            " |      >>> product = 1\n",
            " |      >>> for factor in prime_factors.elements():     # loop over factors\n",
            " |      ...     product *= factor                       # and multiply them\n",
            " |      >>> product\n",
            " |      1836\n",
            " |      \n",
            " |      Note, if an element's count has been set to zero or is a negative\n",
            " |      number, elements() will ignore it.\n",
            " |  \n",
            " |  most_common(self, n=None)\n",
            " |      List the n most common elements and their counts from the most\n",
            " |      common to the least.  If n is None, then list all element counts.\n",
            " |      \n",
            " |      >>> Counter('abracadabra').most_common(3)\n",
            " |      [('a', 5), ('b', 2), ('r', 2)]\n",
            " |  \n",
            " |  subtract(self, iterable=None, /, **kwds)\n",
            " |      Like dict.update() but subtracts counts instead of replacing them.\n",
            " |      Counts can be reduced below zero.  Both the inputs and outputs are\n",
            " |      allowed to contain zero and negative counts.\n",
            " |      \n",
            " |      Source can be an iterable, a dictionary, or another Counter instance.\n",
            " |      \n",
            " |      >>> c = Counter('which')\n",
            " |      >>> c.subtract('witch')             # subtract elements from another iterable\n",
            " |      >>> c.subtract(Counter('watch'))    # subtract elements from another counter\n",
            " |      >>> c['h']                          # 2 in which, minus 1 in witch, minus 1 in watch\n",
            " |      0\n",
            " |      >>> c['w']                          # 1 in which, minus 1 in witch, minus 1 in watch\n",
            " |      -1\n",
            " |  \n",
            " |  total(self)\n",
            " |      Sum of the counts\n",
            " |  \n",
            " |  update(self, iterable=None, /, **kwds)\n",
            " |      Like dict.update() but add counts instead of replacing them.\n",
            " |      \n",
            " |      Source can be an iterable, a dictionary, or another Counter instance.\n",
            " |      \n",
            " |      >>> c = Counter('which')\n",
            " |      >>> c.update('witch')           # add elements from another iterable\n",
            " |      >>> d = Counter('watch')\n",
            " |      >>> c.update(d)                 # add elements from another counter\n",
            " |      >>> c['h']                      # four 'h' in which, witch, and watch\n",
            " |      4\n",
            " |  \n",
            " |  ----------------------------------------------------------------------\n",
            " |  Class methods defined here:\n",
            " |  \n",
            " |  fromkeys(iterable, v=None) from builtins.type\n",
            " |      Create a new dictionary with keys from iterable and values set to value.\n",
            " |  \n",
            " |  ----------------------------------------------------------------------\n",
            " |  Data descriptors defined here:\n",
            " |  \n",
            " |  __dict__\n",
            " |      dictionary for instance variables (if defined)\n",
            " |  \n",
            " |  __weakref__\n",
            " |      list of weak references to the object (if defined)\n",
            " |  \n",
            " |  ----------------------------------------------------------------------\n",
            " |  Data and other attributes defined here:\n",
            " |  \n",
            " |  __hash__ = None\n",
            " |  \n",
            " |  ----------------------------------------------------------------------\n",
            " |  Methods inherited from builtins.dict:\n",
            " |  \n",
            " |  __contains__(self, key, /)\n",
            " |      True if the dictionary has the specified key, else False.\n",
            " |  \n",
            " |  __getattribute__(self, name, /)\n",
            " |      Return getattr(self, name).\n",
            " |  \n",
            " |  __getitem__(...)\n",
            " |      x.__getitem__(y) <==> x[y]\n",
            " |  \n",
            " |  __iter__(self, /)\n",
            " |      Implement iter(self).\n",
            " |  \n",
            " |  __len__(self, /)\n",
            " |      Return len(self).\n",
            " |  \n",
            " |  __reversed__(self, /)\n",
            " |      Return a reverse iterator over the dict keys.\n",
            " |  \n",
            " |  __ror__(self, value, /)\n",
            " |      Return value|self.\n",
            " |  \n",
            " |  __setitem__(self, key, value, /)\n",
            " |      Set self[key] to value.\n",
            " |  \n",
            " |  __sizeof__(...)\n",
            " |      D.__sizeof__() -> size of D in memory, in bytes\n",
            " |  \n",
            " |  clear(...)\n",
            " |      D.clear() -> None.  Remove all items from D.\n",
            " |  \n",
            " |  get(self, key, default=None, /)\n",
            " |      Return the value for key if key is in the dictionary, else default.\n",
            " |  \n",
            " |  items(...)\n",
            " |      D.items() -> a set-like object providing a view on D's items\n",
            " |  \n",
            " |  keys(...)\n",
            " |      D.keys() -> a set-like object providing a view on D's keys\n",
            " |  \n",
            " |  pop(...)\n",
            " |      D.pop(k[,d]) -> v, remove specified key and return the corresponding value.\n",
            " |      \n",
            " |      If the key is not found, return the default if given; otherwise,\n",
            " |      raise a KeyError.\n",
            " |  \n",
            " |  popitem(self, /)\n",
            " |      Remove and return a (key, value) pair as a 2-tuple.\n",
            " |      \n",
            " |      Pairs are returned in LIFO (last-in, first-out) order.\n",
            " |      Raises KeyError if the dict is empty.\n",
            " |  \n",
            " |  setdefault(self, key, default=None, /)\n",
            " |      Insert key with a value of default if key is not in the dictionary.\n",
            " |      \n",
            " |      Return the value for key if key is in the dictionary, else default.\n",
            " |  \n",
            " |  values(...)\n",
            " |      D.values() -> an object providing a view on D's values\n",
            " |  \n",
            " |  ----------------------------------------------------------------------\n",
            " |  Class methods inherited from builtins.dict:\n",
            " |  \n",
            " |  __class_getitem__(...) from builtins.type\n",
            " |      See PEP 585\n",
            " |  \n",
            " |  ----------------------------------------------------------------------\n",
            " |  Static methods inherited from builtins.dict:\n",
            " |  \n",
            " |  __new__(*args, **kwargs) from builtins.type\n",
            " |      Create and return a new object.  See help(type) for accurate signature.\n",
            "\n"
          ]
        }
      ]
    },
    {
      "cell_type": "code",
      "execution_count": 277,
      "metadata": {
        "colab": {
          "base_uri": "https://localhost:8080/"
        },
        "id": "naQt3oPuyk7D",
        "outputId": "8a45ee62-510e-4dfc-df35-456c67ea12d4"
      },
      "outputs": [
        {
          "output_type": "execute_result",
          "data": {
            "text/plain": [
              "Counter({'a': 5, 'b': 2, 'r': 2, 'c': 1, 'd': 1})"
            ]
          },
          "metadata": {},
          "execution_count": 277
        }
      ],
      "source": [
        "magic = \"abracadabra\"\n",
        "\n",
        "cnt = Counter(magic)\n",
        "\n",
        "cnt"
      ]
    },
    {
      "cell_type": "code",
      "execution_count": 278,
      "metadata": {
        "colab": {
          "base_uri": "https://localhost:8080/"
        },
        "id": "Fm7Pu5yhFub8",
        "outputId": "f824b675-ebdb-4d3b-c576-e0c383510f12"
      },
      "outputs": [
        {
          "output_type": "execute_result",
          "data": {
            "text/plain": [
              "[('a', 5), ('b', 2), ('r', 2), ('c', 1), ('d', 1)]"
            ]
          },
          "metadata": {},
          "execution_count": 278
        }
      ],
      "source": [
        "cnt.most_common(5)"
      ]
    },
    {
      "cell_type": "code",
      "execution_count": 279,
      "metadata": {
        "colab": {
          "base_uri": "https://localhost:8080/"
        },
        "id": "Ca_upFFKFub8",
        "outputId": "24b44b3b-785f-458a-a059-394efd82bc46"
      },
      "outputs": [
        {
          "output_type": "stream",
          "name": "stdout",
          "text": [
            "a : 5\n",
            "b : 2\n",
            "r : 2\n",
            "c : 1\n",
            "d : 1\n"
          ]
        }
      ],
      "source": [
        "for key, value in cnt.most_common(5):\n",
        "    print(key, \":\", value)"
      ]
    },
    {
      "cell_type": "code",
      "source": [
        "text"
      ],
      "metadata": {
        "colab": {
          "base_uri": "https://localhost:8080/",
          "height": 54
        },
        "id": "s1PbO7D6Wipd",
        "outputId": "7a39bda0-877a-4ba7-918e-edd07b27d610"
      },
      "execution_count": 280,
      "outputs": [
        {
          "output_type": "execute_result",
          "data": {
            "text/plain": [
              "\"\\nThe quick brown fox jumps over the lazy dog!\\nLet's repeat some words like fox lazy, more words: brown fox\\n\""
            ],
            "application/vnd.google.colaboratory.intrinsic+json": {
              "type": "string"
            }
          },
          "metadata": {},
          "execution_count": 280
        }
      ]
    },
    {
      "cell_type": "code",
      "source": [
        "text.lower().split()"
      ],
      "metadata": {
        "colab": {
          "base_uri": "https://localhost:8080/"
        },
        "id": "yamUp9C2Wrqy",
        "outputId": "e1c307fc-1d28-4b95-cd24-c2e8e39cdab6"
      },
      "execution_count": 281,
      "outputs": [
        {
          "output_type": "execute_result",
          "data": {
            "text/plain": [
              "['the',\n",
              " 'quick',\n",
              " 'brown',\n",
              " 'fox',\n",
              " 'jumps',\n",
              " 'over',\n",
              " 'the',\n",
              " 'lazy',\n",
              " 'dog!',\n",
              " \"let's\",\n",
              " 'repeat',\n",
              " 'some',\n",
              " 'words',\n",
              " 'like',\n",
              " 'fox',\n",
              " 'lazy,',\n",
              " 'more',\n",
              " 'words:',\n",
              " 'brown',\n",
              " 'fox']"
            ]
          },
          "metadata": {},
          "execution_count": 281
        }
      ]
    },
    {
      "cell_type": "code",
      "execution_count": 282,
      "metadata": {
        "id": "INoGYcLbFub8"
      },
      "outputs": [],
      "source": [
        "cnt = Counter(text.lower().split())"
      ]
    },
    {
      "cell_type": "code",
      "execution_count": 283,
      "metadata": {
        "colab": {
          "base_uri": "https://localhost:8080/"
        },
        "id": "af06kmQVG_a2",
        "outputId": "d62c60b3-8b5e-4793-8ebe-4a3358f2a3c0"
      },
      "outputs": [
        {
          "output_type": "execute_result",
          "data": {
            "text/plain": [
              "[('fox', 3), ('the', 2), ('brown', 2), ('quick', 1), ('jumps', 1)]"
            ]
          },
          "metadata": {},
          "execution_count": 283
        }
      ],
      "source": [
        "cnt.most_common(5)"
      ]
    },
    {
      "cell_type": "code",
      "execution_count": null,
      "metadata": {
        "id": "7eNUVVP_HKv5"
      },
      "outputs": [],
      "source": []
    },
    {
      "cell_type": "code",
      "execution_count": null,
      "metadata": {
        "id": "gi5kXSV8yk7E"
      },
      "outputs": [],
      "source": [
        "# There are thousands of useful Python libraries\n",
        "## Crucial libraries are collected in the Python Standard Library\n",
        "\n",
        "# https://docs.python.org/3/library/\n",
        "\n",
        "# \"Batteries included\"\n",
        "\n",
        "# There are many more libraries that can be installed separately. Many of them\n",
        "# are already installed in the Google Colab or Anaconda Python environment.\n",
        "\n",
        "# If you need to use a library that is not yet installed, you can\n",
        "# install it using the \"pip install\" command (in this case, we are\n",
        "# installing the \"requests\" library):\n",
        "\n",
        "#!pip install requests\n",
        "\n",
        "# https://requests.readthedocs.io/en/latest/"
      ]
    },
    {
      "cell_type": "markdown",
      "metadata": {
        "id": "biSU3w0dFub9"
      },
      "source": [
        "#### Your task - write a program for a number guessing game\n",
        "\n",
        "* generate a random number 1..100 for a user to guess\n",
        "* let a user input their guesses and display relevant messages:\n",
        "  * too low\n",
        "  * you guessed right!\n",
        "  * too high\n",
        "  \n",
        "Limit the number of times the user may guess to 6.\n",
        "\n",
        "*If any help is needed you can ask the instructors or ChatGPT for help.*"
      ]
    },
    {
      "cell_type": "code",
      "execution_count": null,
      "metadata": {
        "id": "0dT_LvZrFub9"
      },
      "outputs": [],
      "source": [
        "# 1) Generate a random number\n",
        "\n",
        "...\n",
        "\n",
        "# 2) Cycle for 6 times\n",
        "\n",
        "for i in range(6):\n",
        "\n",
        "    # ask user for input\n",
        "    ...\n",
        "\n",
        "    # print a message depending on the value entered by user\n",
        "\n",
        "    # if guessed right, stop the cycle (use the \"break\" command)\n"
      ]
    },
    {
      "cell_type": "code",
      "execution_count": null,
      "metadata": {
        "id": "usv4E0LOFub9"
      },
      "outputs": [],
      "source": []
    },
    {
      "cell_type": "markdown",
      "metadata": {
        "id": "Zcb7hpdfFub9"
      },
      "source": [
        "## Working with files\n",
        "   \n",
        "* reading files\n",
        "* writing files\n",
        "* folders"
      ]
    },
    {
      "cell_type": "code",
      "execution_count": 292,
      "metadata": {
        "id": "tEvcM02FFub9"
      },
      "outputs": [],
      "source": [
        "from pathlib import Path"
      ]
    },
    {
      "cell_type": "markdown",
      "metadata": {
        "id": "FGI8gOtbFub-"
      },
      "source": [
        "### Using a local computer filesystem"
      ]
    },
    {
      "cell_type": "code",
      "execution_count": 290,
      "metadata": {
        "colab": {
          "base_uri": "https://localhost:8080/"
        },
        "id": "vcEehkklFub-",
        "outputId": "8066815a-5d23-46ab-fb37-e4a4c4083dc8"
      },
      "outputs": [
        {
          "output_type": "execute_result",
          "data": {
            "text/plain": [
              "[PosixPath('.config'),\n",
              " PosixPath('alice_wonderland.txt'),\n",
              " PosixPath('sample_data')]"
            ]
          },
          "metadata": {},
          "execution_count": 290
        }
      ],
      "source": [
        "# listing contents of a folder\n",
        "\n",
        "# . is the current folder (e.g. the folder you ran Jupyter notebooks from)\n",
        "folder = \".\"\n",
        "my_path = Path(folder)\n",
        "\n",
        "list(my_path.iterdir())"
      ]
    },
    {
      "cell_type": "code",
      "execution_count": 291,
      "metadata": {
        "colab": {
          "base_uri": "https://localhost:8080/"
        },
        "id": "0IGo_mXVL9av",
        "outputId": "8f6ae144-d7c6-4595-8933-32583fd1bee5"
      },
      "outputs": [
        {
          "output_type": "stream",
          "name": "stdout",
          "text": [
            ".config\n",
            "alice_wonderland.txt\n",
            "sample_data\n"
          ]
        }
      ],
      "source": [
        "# let's use \"sorted\" to get a sorted list\n",
        "for item in sorted(my_path.iterdir()):\n",
        "    print(item)"
      ]
    },
    {
      "cell_type": "markdown",
      "metadata": {
        "id": "XrVttl8fFub-"
      },
      "source": [
        "### Google Colab note\n",
        "\n",
        "In Google Colab we can not directly access local files.\n",
        "\n",
        "Use Google Drive instead:\n",
        "* mount Google Drive\n",
        "* upload and access files on [Google Drive](https://drive.google.com/)\n",
        "  * e.g. in the \"BSSDH\" subfolder\n",
        "\n",
        "Colab will ask for permission to access your files on Google Drive in order to work with the files you have uploaded.\n",
        "\n",
        "*After you are finished working in Google Colab you may want to remove its permission to access Google Drive files.*"
      ]
    },
    {
      "cell_type": "code",
      "execution_count": null,
      "metadata": {
        "id": "X9mwPBrVFub-"
      },
      "outputs": [],
      "source": [
        "# DO NOT RUN THIS CELL\n",
        "\n",
        "# Set this to False if not using Google Colab\n",
        "using_colab = False\n",
        "\n",
        "if using_colab:\n",
        "    # using Colab\n",
        "\n",
        "    from google.colab import drive\n",
        "    drive.mount('/content/drive')\n",
        "\n",
        "    # \"BSSDH\" subfolder inside Google Drive\n",
        "    drive_path = Path('/content/drive/MyDrive/BSSDH')\n",
        "\n",
        "    # create the folder if it does not exist\n",
        "    drive_path.mkdir(exist_ok=True)\n",
        "\n",
        "    for item in drive_path.iterdir():\n",
        "        print(item)\n",
        "\n",
        "    # set my_path to the Google Drive path\n",
        "    # (instead of a local directory)\n",
        "    my_path = drive_path\n",
        "\n",
        "else:\n",
        "    # not using Colab\n",
        "\n",
        "    my_path = Path(\".\")"
      ]
    },
    {
      "cell_type": "markdown",
      "metadata": {
        "id": "PpDpxpChFub-"
      },
      "source": [
        "### Reading and writing files"
      ]
    },
    {
      "cell_type": "code",
      "execution_count": 287,
      "metadata": {
        "colab": {
          "base_uri": "https://localhost:8080/"
        },
        "id": "oMcGd-4sFub-",
        "outputId": "469bf88d-6d68-461e-e45f-ef76a3715cc3"
      },
      "outputs": [
        {
          "output_type": "execute_result",
          "data": {
            "text/plain": [
              "PosixPath('alice_wonderland.txt')"
            ]
          },
          "metadata": {},
          "execution_count": 287
        }
      ],
      "source": [
        "# https://www.gutenberg.org/cache/epub/11/pg11.txt\n",
        "\n",
        "file_path = my_path / \"alice_wonderland.txt\"\n",
        "file_path\n",
        "\n"
      ]
    },
    {
      "cell_type": "code",
      "execution_count": 293,
      "metadata": {
        "colab": {
          "base_uri": "https://localhost:8080/"
        },
        "id": "tQQFyNjRFub_",
        "outputId": "2cd7ec6b-fc39-450f-a5d7-9bf64cad1971"
      },
      "outputs": [
        {
          "output_type": "stream",
          "name": "stdout",
          "text": [
            "﻿The Project Gutenberg eBook of Alice’s Adventures in Wonderland, by Lewis Carroll\n",
            "\n",
            "This eBook is for the use of anyone anywhere in the United States and\n",
            "most other parts of the world at no cost and w\n"
          ]
        }
      ],
      "source": [
        "# reading a file\n",
        "\n",
        "# we use the \"with\" statement + \"open\" function to open a file for reading\n",
        "# and assign this open file to the \"input_file\" variable\n",
        "\n",
        "# it is recommended to specify UTF-8 file character encoding (unless you know\n",
        "# that the file has a different encoding)\n",
        "\n",
        "with open(file_path, encoding=\"utf-8\") as input_file:\n",
        "\n",
        "    # do something with the file\n",
        "\n",
        "    # \"text\" will have the full contents of the input file\n",
        "    text = input_file.read()\n",
        "\n",
        "# we need to close open files when we have finished working with them.\n",
        "# when using the \"with\" statement the file will be closed automatically.\n",
        "\n",
        "print(text[:200])"
      ]
    },
    {
      "cell_type": "code",
      "execution_count": 294,
      "metadata": {
        "colab": {
          "base_uri": "https://localhost:8080/"
        },
        "id": "neHhajkVFub_",
        "outputId": "b22f2ef3-e523-4a71-f275-7b72a31f5bea"
      },
      "outputs": [
        {
          "output_type": "execute_result",
          "data": {
            "text/plain": [
              "[PosixPath('.config'),\n",
              " PosixPath('alice_wonderland.txt'),\n",
              " PosixPath('new_file.txt'),\n",
              " PosixPath('sample_data')]"
            ]
          },
          "metadata": {},
          "execution_count": 294
        }
      ],
      "source": [
        "# writing a file\n",
        "\n",
        "my_text = \"\"\"Text to be written\n",
        "to a file. Let's write\n",
        "multiple lines\n",
        "\"\"\"\n",
        "\n",
        "# \"w\" means open a file for writing\n",
        "# it is useful to specify character encoding, too\n",
        "with open(my_path / \"new_file.txt\", \"w\", encoding=\"utf-8\") as output_file:\n",
        "    output_file.write(my_text)\n",
        "\n",
        "list(sorted(my_path.iterdir()))"
      ]
    },
    {
      "cell_type": "code",
      "execution_count": 295,
      "metadata": {
        "id": "suVyDjWLFub_"
      },
      "outputs": [],
      "source": [
        "# let's filter a file to remove Project Gutenberg header\n",
        "# and footer before analyzing its text\n",
        "\n",
        "with open(file_path, encoding=\"utf-8\") as input_file:\n",
        "    with open(my_path / \"output.txt\", \"w\", encoding=\"utf-8\") as output_file:\n",
        "\n",
        "        # this will signal Python if the current line needs\n",
        "        # to be written to the output file\n",
        "        must_write = False\n",
        "\n",
        "        # loop through every line in the input file\n",
        "        for line in input_file:\n",
        "\n",
        "            if line.startswith(\"*** END\"):\n",
        "                must_write = False   # this should be False!\n",
        "\n",
        "            if must_write:\n",
        "                output_file.write(line)\n",
        "\n",
        "            if line.startswith(\"*** START\"):\n",
        "                must_write = True"
      ]
    },
    {
      "cell_type": "code",
      "execution_count": 297,
      "metadata": {
        "colab": {
          "base_uri": "https://localhost:8080/"
        },
        "id": "7tHWT_sCFub_",
        "outputId": "0f53f880-8011-40de-aec9-e0ad5d572702"
      },
      "outputs": [
        {
          "output_type": "stream",
          "name": "stdout",
          "text": [
            "\n",
            "[Illustration]\n",
            "\n",
            "\n",
            "\n",
            "\n",
            "Alice’s Adventures in Wonderland\n",
            "\n",
            "by Lewis Carroll\n",
            "\n",
            "THE MILLENNIUM FULCRUM EDITION 3.0\n",
            "\n",
            "Contents\n",
            "\n",
            " CHAPTER I.     Down the Rabbit-Hole\n",
            " CHAPTER II.    The Pool of Tears\n",
            " \n"
          ]
        }
      ],
      "source": [
        "with open(my_path / \"output.txt\", encoding=\"utf-8\") as input_file:\n",
        "\n",
        "    # \"text\" will have the full contents of the input file\n",
        "    text = input_file.read()\n",
        "\n",
        "print(text[:190])"
      ]
    },
    {
      "cell_type": "markdown",
      "metadata": {
        "id": "nfgWgwbFFucA"
      },
      "source": [
        "#### Your task - count the word frequency in a file\n",
        "\n",
        "\n",
        "* choose or download the file to analyze\n",
        "* put the file in the folder you can access from Python\n",
        "  * e.g. current folder if using a local Python installation\n",
        "  * Google Drive folder if using Google Colab\n",
        "* read the file\n",
        "* count and display word frequency for the most frequent words\n",
        "\n",
        "(Optional) write word frequency data to a new file"
      ]
    },
    {
      "cell_type": "code",
      "execution_count": null,
      "metadata": {
        "id": "AOsj1g_gFucA"
      },
      "outputs": [],
      "source": [
        "# Hint: use the Counter class from \"collections\" library\n",
        "\n",
        "...\n"
      ]
    },
    {
      "cell_type": "code",
      "execution_count": null,
      "metadata": {
        "id": "5i_HedN6FucA"
      },
      "outputs": [],
      "source": []
    },
    {
      "cell_type": "code",
      "execution_count": null,
      "metadata": {
        "id": "n490TH6eFucA"
      },
      "outputs": [],
      "source": []
    },
    {
      "cell_type": "markdown",
      "metadata": {
        "id": "Rq7cOLLMyk7E"
      },
      "source": [
        "## Most important Python ideas <a class=\"anchor\" id=\"python-ideas\">\n",
        "\n",
        "* dir(myobject) to find what can be done (most decent text editors/IDEs will offer autocompletion and hints though)\n",
        "* help(myobject) general help\n",
        "* type(myobject) what type it is\n",
        "\n",
        "### Slicing Syntax for sequences(strings,lists and more)\n",
        "```\n",
        "myname[start:end:step]\n",
        "myname[:5]\n",
        "```\n",
        "\n",
        "### : indicates a new indentation level\n",
        "\n",
        "```\n",
        "if x > 5:\n",
        "     print(\"Do Work when x > 5\")\n",
        "print(\"Always Do this\")\n",
        "```"
      ]
    },
    {
      "cell_type": "markdown",
      "metadata": {
        "id": "z1q0FQFKyk7E"
      },
      "source": [
        "# Python Resources <a class=\"anchor\" id=\"learning-resources\">\n"
      ]
    },
    {
      "cell_type": "markdown",
      "metadata": {
        "id": "ghG_aM5ayk7E"
      },
      "source": [
        "## Wiki for Tutorials\n",
        "\n",
        "https://wiki.python.org/moin/BeginnersGuide/NonProgrammers"
      ]
    },
    {
      "cell_type": "markdown",
      "metadata": {
        "id": "R34PGbyzyk7E"
      },
      "source": [
        "## Tutorials Begginner to Intermediate\n",
        "\n",
        "\n",
        "\n",
        "\n",
        "* https://automatetheboringstuff.com/ - Anything by Al Sweigart is great\n",
        "* http://newcoder.io/tutorials/ - 5 sets of practical tutorials\n",
        "* [Non-Programmers Tutorial for Python 3](https://en.wikibooks.org/wiki/Non-Programmer%27s_Tutorial_for_Python_3) quite good for wikibooks\n",
        "* [Real Python](https://realpython.com/) Python Tutorials for all levels"
      ]
    },
    {
      "cell_type": "markdown",
      "metadata": {
        "id": "k65CF3Hdyk7E"
      },
      "source": [
        "## More Advanced Python Specific Books\n",
        "\n",
        "* [Python Cookbook](https://www.amazon.com/Python-Cookbook-Third-David-Beazley/dp/1449340377) Recipes for specific situations\n",
        "\n",
        "* [Effective Python](https://effectivepython.com/) best practices\n",
        "* [Fluent Python](http://shop.oreilly.com/product/0636920032519.do) highly recommended, shows Python's advantages"
      ]
    },
    {
      "cell_type": "markdown",
      "metadata": {
        "id": "EJoNusgnyk7E"
      },
      "source": [
        "## Blogs / Personalities / forums\n",
        "\n",
        "* [Dan Bader](https://dbader.org/)\n",
        "* [Reddit Python](https://www.reddit.com/r/python)"
      ]
    },
    {
      "cell_type": "markdown",
      "metadata": {
        "id": "6AePUe0Qyk7F"
      },
      "source": [
        "## Explore Public Notebooks on Github\n",
        " Download them and try them out for yourself\n",
        "\n",
        "https://github.com/jupyter/jupyter/wiki#a-gallery-of-interesting-jupyter-notebooks"
      ]
    },
    {
      "cell_type": "markdown",
      "metadata": {
        "id": "IuOw1wXiyk7F"
      },
      "source": [
        "## Questions / Suggestions ?\n",
        "\n",
        "Pull requests welcome\n",
        "\n",
        "e-mail **uldis.bojars at gmail.com**"
      ]
    }
  ],
  "metadata": {
    "colab": {
      "provenance": []
    },
    "kernelspec": {
      "display_name": "Python 3 (ipykernel)",
      "language": "python",
      "name": "python3"
    },
    "language_info": {
      "codemirror_mode": {
        "name": "ipython",
        "version": 3
      },
      "file_extension": ".py",
      "mimetype": "text/x-python",
      "name": "python",
      "nbconvert_exporter": "python",
      "pygments_lexer": "ipython3",
      "version": "3.12.4"
    }
  },
  "nbformat": 4,
  "nbformat_minor": 0
}