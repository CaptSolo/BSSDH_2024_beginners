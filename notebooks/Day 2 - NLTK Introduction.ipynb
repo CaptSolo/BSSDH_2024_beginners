{
  "cells": [
    {
      "cell_type": "markdown",
      "metadata": {
        "id": "KXReOs-4Kh7w"
      },
      "source": [
        "## Natural Language Toolkit (NLTK)\n",
        "\n",
        "**NLTK** is a leading platform for building Python programs to work with human language data. It provides easy-to-use interfaces to [over 50 corpora and lexical resources](http://www.nltk.org/nltk_data/) such as WordNet, along with a suite of text processing libraries for classification, tokenization, stemming, tagging, parsing, and semantic reasoning, wrappers for industrial-strength NLP libraries, and an active discussion forum.\n",
        "\n",
        "http://www.nltk.org/\n",
        "\n",
        "NLTK library documentation (reference) = *Use it to look up how to use a particular NLTK library function*\n",
        "* https://www.nltk.org/api/nltk.html\n",
        "\n",
        "---\n",
        "\n",
        "NLTK wiki (collaboratively edited documentation):\n",
        "* https://github.com/nltk/nltk/wiki"
      ]
    },
    {
      "cell_type": "markdown",
      "metadata": {
        "id": "3Q4oMz88Kh71"
      },
      "source": [
        "### Book: Natural Language Processing with Python\n",
        "\n",
        "NLTK book provides a practical introduction to programming for language processing.\n",
        "\n",
        "Written by the creators of NLTK, it guides the reader through the fundamentals of writing Python programs, working with corpora, categorizing text, analyzing linguistic structure, and more.\n",
        "\n",
        "Online: http://www.nltk.org/book/\n",
        "\n",
        "* we will start with Chapter 1: [\"Language Processing and Python\"](http://www.nltk.org/book/ch01.html)\n",
        "\n",
        "---"
      ]
    },
    {
      "cell_type": "markdown",
      "metadata": {
        "id": "U8cSGGOnOpJ5"
      },
      "source": [
        "## Getting started - Jupyter notebook\n",
        "\n",
        "## https://bit.ly/bssdh_2023_python\n",
        "\n",
        "---"
      ]
    },
    {
      "cell_type": "markdown",
      "metadata": {
        "id": "CaiH0L3vOpJ6"
      },
      "source": [
        "Open this Jupyter notebook (`Day 2 - NLTK Introduction`) on Github:\n",
        "- https://github.com/CaptSolo/BSSDH_2023_beginners/tree/main/notebooks\n",
        "\n",
        "Download the notebook file to your computer: click the \"Download raw file\" button.\n",
        "\n",
        "![Download button](https://github.com/CaptSolo/BSSDH_2023_beginners/blob/main/notebooks/img/download_button.png?raw=1)\n",
        "\n",
        "Open [Google Colab](https://colab.research.google.com/), choose the \"Upload\" tab and upload the downloaded notebook file.\n",
        "\n",
        "* Uploaded notebooks can be found in the [Google Drive](https://drive.google.com/) folder `Colab Notebooks`\n",
        "\n",
        "You are now ready for the workshop!"
      ]
    },
    {
      "cell_type": "markdown",
      "metadata": {
        "id": "c211Je63Kh73"
      },
      "source": [
        "## 1) Getting started - NLTK\n",
        "\n",
        "NLTK book: http://www.nltk.org/book/ch01.html#getting-started-with-nltk\n",
        "\n",
        "* Loading NLTK (Python module)\n",
        "* Downloading NLTK language resources (corpora, ...)\n"
      ]
    },
    {
      "cell_type": "code",
      "execution_count": 1,
      "metadata": {
        "id": "P3wVnd6JKh73"
      },
      "outputs": [],
      "source": [
        "# In order to use a Python library, we need to import (load) it\n",
        "\n",
        "import nltk\n",
        "import pandas as pd # we will use it to read our data\n"
      ]
    },
    {
      "cell_type": "code",
      "execution_count": 2,
      "metadata": {
        "colab": {
          "base_uri": "https://localhost:8080/",
          "height": 36
        },
        "id": "IiDmy3H4Kh74",
        "outputId": "a8d2956b-64a2-4dfe-f738-3548bc71df17"
      },
      "outputs": [
        {
          "output_type": "execute_result",
          "data": {
            "text/plain": [
              "'3.8.1'"
            ],
            "application/vnd.google.colaboratory.intrinsic+json": {
              "type": "string"
            }
          },
          "metadata": {},
          "execution_count": 2
        }
      ],
      "source": [
        "# Let's check what NLTK version we have (for easier troubleshooting and reproducibility)\n",
        "nltk.__version__"
      ]
    },
    {
      "cell_type": "markdown",
      "metadata": {
        "id": "4P25KGyTKh76"
      },
      "source": [
        "### nltk.Text\n",
        "\n",
        "**`ntlk.Text` is a simple NLTK helper for loading and exploring textual content (a sequence of words / string tokens):**\n",
        "\n",
        "... intended to support initial exploration of texts (via the interactive console). It can perform a variety of analyses on the text’s contexts (e.g., counting, concordancing, collocation discovery), and display the results.\n",
        "\n",
        "Documentation: [nltk.Text](https://www.nltk.org/api/nltk.html#nltk.text.Text)\n",
        "* lists what we can do with text once it is loaded into nltk.Text(...)"
      ]
    },
    {
      "cell_type": "code",
      "execution_count": 3,
      "metadata": {
        "colab": {
          "base_uri": "https://localhost:8080/"
        },
        "id": "aGazEviJKh77",
        "outputId": "43f0ca78-0da0-4ae2-da51-adbb5c5f396c"
      },
      "outputs": [
        {
          "output_type": "execute_result",
          "data": {
            "text/plain": [
              "<Text: This is just an example Another example here...>"
            ]
          },
          "metadata": {},
          "execution_count": 3
        }
      ],
      "source": [
        "# Now we can try a simple example:\n",
        "\n",
        "my_word_list = [\"This\", \"is\", \"just\", \"an\", \"example\", \"Another\", \"example\", \"here\"]\n",
        "my_text = nltk.Text(my_word_list)\n",
        "\n",
        "my_text"
      ]
    },
    {
      "cell_type": "code",
      "execution_count": 4,
      "metadata": {
        "colab": {
          "base_uri": "https://localhost:8080/"
        },
        "id": "qTbrL4BbN5A_",
        "outputId": "e769300f-54b2-4368-a2ab-8c1d4e127508"
      },
      "outputs": [
        {
          "output_type": "execute_result",
          "data": {
            "text/plain": [
              "<Text: This is just an example Another example here...>"
            ]
          },
          "metadata": {},
          "execution_count": 4
        }
      ],
      "source": [
        "my_text"
      ]
    },
    {
      "cell_type": "code",
      "execution_count": 5,
      "metadata": {
        "colab": {
          "base_uri": "https://localhost:8080/"
        },
        "id": "LInOevQ9Kh77",
        "outputId": "eda0eb4f-0894-4218-eaff-9d1a588e498a"
      },
      "outputs": [
        {
          "output_type": "execute_result",
          "data": {
            "text/plain": [
              "nltk.text.Text"
            ]
          },
          "metadata": {},
          "execution_count": 5
        }
      ],
      "source": [
        "type(my_text)"
      ]
    },
    {
      "cell_type": "code",
      "execution_count": 6,
      "metadata": {
        "colab": {
          "base_uri": "https://localhost:8080/"
        },
        "id": "7tDisbPxOpJ_",
        "outputId": "c6eb7f03-733f-4502-f6f2-104e032f6945"
      },
      "outputs": [
        {
          "output_type": "stream",
          "name": "stdout",
          "text": [
            "_CONTEXT_RE\n",
            "_COPY_TOKENS\n",
            "_context\n",
            "_train_default_ngram_lm\n",
            "collocation_list\n",
            "collocations\n",
            "common_contexts\n",
            "concordance\n",
            "concordance_list\n",
            "count\n",
            "dispersion_plot\n",
            "findall\n",
            "generate\n",
            "index\n",
            "name\n",
            "plot\n",
            "readability\n",
            "similar\n",
            "tokens\n",
            "vocab\n"
          ]
        }
      ],
      "source": [
        "for item in dir(my_text):\n",
        "    if not item.startswith(\"__\"):\n",
        "        print(item)"
      ]
    },
    {
      "cell_type": "code",
      "execution_count": 7,
      "metadata": {
        "colab": {
          "base_uri": "https://localhost:8080/"
        },
        "id": "cGs9PFIfKh78",
        "outputId": "eac6d79c-d3c7-420c-a8b1-0cb22e81955f"
      },
      "outputs": [
        {
          "output_type": "execute_result",
          "data": {
            "text/plain": [
              "2"
            ]
          },
          "metadata": {},
          "execution_count": 7
        }
      ],
      "source": [
        "# How many times does the word \"example\" appear?\n",
        "my_text.count(\"example\")\n",
        "\n",
        "# Notes:\n",
        "#  - my_text = our text, processed (loaded) by NLTK\n",
        "#     - technically: a Python object\n",
        "#  - my_text.count(...) = requesting the object to perform a .count(...) function and return the result\n",
        "#     - technically: calling a .count() method"
      ]
    },
    {
      "cell_type": "code",
      "execution_count": 8,
      "metadata": {
        "colab": {
          "base_uri": "https://localhost:8080/"
        },
        "id": "VB6V_3NjKh78",
        "outputId": "4bca5f4c-2570-412c-f7e4-b1dafb0d29fc"
      },
      "outputs": [
        {
          "output_type": "execute_result",
          "data": {
            "text/plain": [
              "0"
            ]
          },
          "metadata": {},
          "execution_count": 8
        }
      ],
      "source": [
        "# count works on tokens (full words in this case)\n",
        "my_text.count('exam')"
      ]
    },
    {
      "cell_type": "code",
      "execution_count": 9,
      "metadata": {
        "colab": {
          "base_uri": "https://localhost:8080/"
        },
        "id": "xJRLD4ZHKh78",
        "outputId": "be953cec-0ac6-4fa7-d4df-f674f22e25e8"
      },
      "outputs": [
        {
          "output_type": "execute_result",
          "data": {
            "text/plain": [
              "False"
            ]
          },
          "metadata": {},
          "execution_count": 9
        }
      ],
      "source": [
        "'exam' in my_text"
      ]
    },
    {
      "cell_type": "code",
      "execution_count": 10,
      "metadata": {
        "colab": {
          "base_uri": "https://localhost:8080/"
        },
        "id": "NUHVkUsAKh79",
        "outputId": "776a77f9-1792-4a50-a930-0edd7cef4202"
      },
      "outputs": [
        {
          "output_type": "execute_result",
          "data": {
            "text/plain": [
              "True"
            ]
          },
          "metadata": {},
          "execution_count": 10
        }
      ],
      "source": [
        "'example' in my_text"
      ]
    },
    {
      "cell_type": "markdown",
      "metadata": {
        "id": "AnPc8tWVKh79"
      },
      "source": [
        "### Tokenizing\n",
        "\n",
        "Let's convert a text string into nltk.Text.\n",
        "First, we need to split it into tokens (to *tokenize* it)."
      ]
    },
    {
      "cell_type": "code",
      "execution_count": 11,
      "metadata": {
        "colab": {
          "base_uri": "https://localhost:8080/"
        },
        "id": "NkzEe21WKh79",
        "outputId": "1a9921ce-3e76-4270-d07b-a527d95f8c20"
      },
      "outputs": [
        {
          "output_type": "stream",
          "name": "stderr",
          "text": [
            "[nltk_data] Downloading package punkt to /root/nltk_data...\n",
            "[nltk_data]   Unzipping tokenizers/punkt.zip.\n"
          ]
        },
        {
          "output_type": "execute_result",
          "data": {
            "text/plain": [
              "True"
            ]
          },
          "metadata": {},
          "execution_count": 11
        }
      ],
      "source": [
        "# We need to download a package containing punctuation before we can tokenize\n",
        "\n",
        "nltk.download('punkt')"
      ]
    },
    {
      "cell_type": "code",
      "execution_count": 12,
      "metadata": {
        "colab": {
          "base_uri": "https://localhost:8080/"
        },
        "id": "jv1T6GloKh7-",
        "outputId": "d5a5c38c-f7b0-49fd-d53a-93c35e3cd0cf"
      },
      "outputs": [
        {
          "output_type": "execute_result",
          "data": {
            "text/plain": [
              "['NLTK', 'has', 'been', 'called', '“', 'a']"
            ]
          },
          "metadata": {},
          "execution_count": 12
        }
      ],
      "source": [
        "# Splitting text into tokens (words, ...) = tokenizing\n",
        "\n",
        "from nltk.tokenize import word_tokenize\n",
        "\n",
        "excerpt = \"NLTK has been called “a wonderful tool for teaching, and working in, computational linguistics using Python,” and “an amazing library to play with natural language.”\"\n",
        "tokens = word_tokenize(excerpt)\n",
        "\n",
        "tokens[:6]"
      ]
    },
    {
      "cell_type": "code",
      "execution_count": 13,
      "metadata": {
        "colab": {
          "base_uri": "https://localhost:8080/"
        },
        "id": "6SLsB1DtPD78",
        "outputId": "a769a221-4351-4be8-d911-0fb032a690e1"
      },
      "outputs": [
        {
          "output_type": "execute_result",
          "data": {
            "text/plain": [
              "list"
            ]
          },
          "metadata": {},
          "execution_count": 13
        }
      ],
      "source": [
        "type(tokens)"
      ]
    },
    {
      "cell_type": "code",
      "execution_count": 14,
      "metadata": {
        "colab": {
          "base_uri": "https://localhost:8080/"
        },
        "id": "r6pxVMxTKh7-",
        "outputId": "a177ba6b-0bfd-4ffa-959a-767738ede01c"
      },
      "outputs": [
        {
          "output_type": "stream",
          "name": "stdout",
          "text": [
            "1\n"
          ]
        }
      ],
      "source": [
        "my_text2 = nltk.Text(tokens)\n",
        "\n",
        "print(my_text2.count(\"NLTK\"))"
      ]
    },
    {
      "cell_type": "code",
      "execution_count": 15,
      "metadata": {
        "colab": {
          "base_uri": "https://localhost:8080/"
        },
        "id": "2EHoT6sWPPVx",
        "outputId": "3dda9bca-298b-41a8-e920-1aee3d0eeb09"
      },
      "outputs": [
        {
          "output_type": "execute_result",
          "data": {
            "text/plain": [
              "['NLTK',\n",
              " 'has',\n",
              " 'been',\n",
              " 'called',\n",
              " '“',\n",
              " 'a',\n",
              " 'wonderful',\n",
              " 'tool',\n",
              " 'for',\n",
              " 'teaching']"
            ]
          },
          "metadata": {},
          "execution_count": 15
        }
      ],
      "source": [
        "list(my_text2)[:10]\n"
      ]
    },
    {
      "cell_type": "markdown",
      "metadata": {
        "id": "QWmCHfY6Kh7-"
      },
      "source": [
        "### Downloading NLTK language resources\n",
        "\n",
        "NLTK also contains many language resources (corpora, ...) but you have select and download them separately (in order to save disk space and only download what is needed).\n",
        "\n",
        "Let's download text collections used in the NLTK book:\n",
        "* `nltk.download(\"book\")`\n",
        "\n",
        "Note: you can also download resources interactively:\n",
        "* `nltk.download()`"
      ]
    },
    {
      "cell_type": "code",
      "execution_count": 16,
      "metadata": {
        "colab": {
          "base_uri": "https://localhost:8080/"
        },
        "id": "FUvRRRMBKh7-",
        "outputId": "20862382-d508-469d-e38a-181968841833"
      },
      "outputs": [
        {
          "output_type": "stream",
          "name": "stderr",
          "text": [
            "[nltk_data] Downloading collection 'book'\n",
            "[nltk_data]    | \n",
            "[nltk_data]    | Downloading package abc to /root/nltk_data...\n",
            "[nltk_data]    |   Unzipping corpora/abc.zip.\n",
            "[nltk_data]    | Downloading package brown to /root/nltk_data...\n",
            "[nltk_data]    |   Unzipping corpora/brown.zip.\n",
            "[nltk_data]    | Downloading package chat80 to /root/nltk_data...\n",
            "[nltk_data]    |   Unzipping corpora/chat80.zip.\n",
            "[nltk_data]    | Downloading package cmudict to /root/nltk_data...\n",
            "[nltk_data]    |   Unzipping corpora/cmudict.zip.\n",
            "[nltk_data]    | Downloading package conll2000 to /root/nltk_data...\n",
            "[nltk_data]    |   Unzipping corpora/conll2000.zip.\n",
            "[nltk_data]    | Downloading package conll2002 to /root/nltk_data...\n",
            "[nltk_data]    |   Unzipping corpora/conll2002.zip.\n",
            "[nltk_data]    | Downloading package dependency_treebank to\n",
            "[nltk_data]    |     /root/nltk_data...\n",
            "[nltk_data]    |   Unzipping corpora/dependency_treebank.zip.\n",
            "[nltk_data]    | Downloading package genesis to /root/nltk_data...\n",
            "[nltk_data]    |   Unzipping corpora/genesis.zip.\n",
            "[nltk_data]    | Downloading package gutenberg to /root/nltk_data...\n",
            "[nltk_data]    |   Unzipping corpora/gutenberg.zip.\n",
            "[nltk_data]    | Downloading package ieer to /root/nltk_data...\n",
            "[nltk_data]    |   Unzipping corpora/ieer.zip.\n",
            "[nltk_data]    | Downloading package inaugural to /root/nltk_data...\n",
            "[nltk_data]    |   Unzipping corpora/inaugural.zip.\n",
            "[nltk_data]    | Downloading package movie_reviews to\n",
            "[nltk_data]    |     /root/nltk_data...\n",
            "[nltk_data]    |   Unzipping corpora/movie_reviews.zip.\n",
            "[nltk_data]    | Downloading package nps_chat to /root/nltk_data...\n",
            "[nltk_data]    |   Unzipping corpora/nps_chat.zip.\n",
            "[nltk_data]    | Downloading package names to /root/nltk_data...\n",
            "[nltk_data]    |   Unzipping corpora/names.zip.\n",
            "[nltk_data]    | Downloading package ppattach to /root/nltk_data...\n",
            "[nltk_data]    |   Unzipping corpora/ppattach.zip.\n",
            "[nltk_data]    | Downloading package reuters to /root/nltk_data...\n",
            "[nltk_data]    | Downloading package senseval to /root/nltk_data...\n",
            "[nltk_data]    |   Unzipping corpora/senseval.zip.\n",
            "[nltk_data]    | Downloading package state_union to /root/nltk_data...\n",
            "[nltk_data]    |   Unzipping corpora/state_union.zip.\n",
            "[nltk_data]    | Downloading package stopwords to /root/nltk_data...\n",
            "[nltk_data]    |   Unzipping corpora/stopwords.zip.\n",
            "[nltk_data]    | Downloading package swadesh to /root/nltk_data...\n",
            "[nltk_data]    |   Unzipping corpora/swadesh.zip.\n",
            "[nltk_data]    | Downloading package timit to /root/nltk_data...\n",
            "[nltk_data]    |   Unzipping corpora/timit.zip.\n",
            "[nltk_data]    | Downloading package treebank to /root/nltk_data...\n",
            "[nltk_data]    |   Unzipping corpora/treebank.zip.\n",
            "[nltk_data]    | Downloading package toolbox to /root/nltk_data...\n",
            "[nltk_data]    |   Unzipping corpora/toolbox.zip.\n",
            "[nltk_data]    | Downloading package udhr to /root/nltk_data...\n",
            "[nltk_data]    |   Unzipping corpora/udhr.zip.\n",
            "[nltk_data]    | Downloading package udhr2 to /root/nltk_data...\n",
            "[nltk_data]    |   Unzipping corpora/udhr2.zip.\n",
            "[nltk_data]    | Downloading package unicode_samples to\n",
            "[nltk_data]    |     /root/nltk_data...\n",
            "[nltk_data]    |   Unzipping corpora/unicode_samples.zip.\n",
            "[nltk_data]    | Downloading package webtext to /root/nltk_data...\n",
            "[nltk_data]    |   Unzipping corpora/webtext.zip.\n",
            "[nltk_data]    | Downloading package wordnet to /root/nltk_data...\n",
            "[nltk_data]    | Downloading package wordnet_ic to /root/nltk_data...\n",
            "[nltk_data]    |   Unzipping corpora/wordnet_ic.zip.\n",
            "[nltk_data]    | Downloading package words to /root/nltk_data...\n",
            "[nltk_data]    |   Unzipping corpora/words.zip.\n",
            "[nltk_data]    | Downloading package maxent_treebank_pos_tagger to\n",
            "[nltk_data]    |     /root/nltk_data...\n",
            "[nltk_data]    |   Unzipping taggers/maxent_treebank_pos_tagger.zip.\n",
            "[nltk_data]    | Downloading package maxent_ne_chunker to\n",
            "[nltk_data]    |     /root/nltk_data...\n",
            "[nltk_data]    |   Unzipping chunkers/maxent_ne_chunker.zip.\n",
            "[nltk_data]    | Downloading package universal_tagset to\n",
            "[nltk_data]    |     /root/nltk_data...\n",
            "[nltk_data]    |   Unzipping taggers/universal_tagset.zip.\n",
            "[nltk_data]    | Downloading package punkt to /root/nltk_data...\n",
            "[nltk_data]    |   Package punkt is already up-to-date!\n",
            "[nltk_data]    | Downloading package book_grammars to\n",
            "[nltk_data]    |     /root/nltk_data...\n",
            "[nltk_data]    |   Unzipping grammars/book_grammars.zip.\n",
            "[nltk_data]    | Downloading package city_database to\n",
            "[nltk_data]    |     /root/nltk_data...\n",
            "[nltk_data]    |   Unzipping corpora/city_database.zip.\n",
            "[nltk_data]    | Downloading package tagsets to /root/nltk_data...\n",
            "[nltk_data]    |   Unzipping help/tagsets.zip.\n",
            "[nltk_data]    | Downloading package panlex_swadesh to\n",
            "[nltk_data]    |     /root/nltk_data...\n",
            "[nltk_data]    | Downloading package averaged_perceptron_tagger to\n",
            "[nltk_data]    |     /root/nltk_data...\n",
            "[nltk_data]    |   Unzipping taggers/averaged_perceptron_tagger.zip.\n",
            "[nltk_data]    | \n",
            "[nltk_data]  Done downloading collection book\n"
          ]
        },
        {
          "output_type": "execute_result",
          "data": {
            "text/plain": [
              "True"
            ]
          },
          "metadata": {},
          "execution_count": 16
        }
      ],
      "source": [
        "# this is a big download of all book packages\n",
        "nltk.download(\"book\")"
      ]
    },
    {
      "cell_type": "code",
      "execution_count": 17,
      "metadata": {
        "colab": {
          "base_uri": "https://localhost:8080/"
        },
        "id": "nVTBPUs1Kh7_",
        "outputId": "b79f9ceb-02aa-4358-91d3-550fc5556840"
      },
      "outputs": [
        {
          "output_type": "stream",
          "name": "stdout",
          "text": [
            "*** Introductory Examples for the NLTK Book ***\n",
            "Loading text1, ..., text9 and sent1, ..., sent9\n",
            "Type the name of the text or sentence to view it.\n",
            "Type: 'texts()' or 'sents()' to list the materials.\n",
            "text1: Moby Dick by Herman Melville 1851\n",
            "text2: Sense and Sensibility by Jane Austen 1811\n",
            "text3: The Book of Genesis\n",
            "text4: Inaugural Address Corpus\n",
            "text5: Chat Corpus\n",
            "text6: Monty Python and the Holy Grail\n",
            "text7: Wall Street Journal\n",
            "text8: Personals Corpus\n",
            "text9: The Man Who Was Thursday by G . K . Chesterton 1908\n"
          ]
        }
      ],
      "source": [
        "# After downloading the reources we still need to import them\n",
        "\n",
        "# Let's import all NLTK book resource (*)\n",
        "from nltk.book import *"
      ]
    },
    {
      "cell_type": "markdown",
      "metadata": {
        "id": "9EwcXQNvKh7_"
      },
      "source": [
        "## 2) Exploring textual content"
      ]
    },
    {
      "cell_type": "code",
      "execution_count": 18,
      "metadata": {
        "colab": {
          "base_uri": "https://localhost:8080/"
        },
        "id": "jcJl2e-ROpKE",
        "outputId": "c5dead48-0c88-4801-87df-1daf42431263"
      },
      "outputs": [
        {
          "output_type": "stream",
          "name": "stdout",
          "text": [
            "text1: Moby Dick by Herman Melville 1851\n",
            "text2: Sense and Sensibility by Jane Austen 1811\n",
            "text3: The Book of Genesis\n",
            "text4: Inaugural Address Corpus\n",
            "text5: Chat Corpus\n",
            "text6: Monty Python and the Holy Grail\n",
            "text7: Wall Street Journal\n",
            "text8: Personals Corpus\n",
            "text9: The Man Who Was Thursday by G . K . Chesterton 1908\n"
          ]
        }
      ],
      "source": [
        "nltk.book.texts()"
      ]
    },
    {
      "cell_type": "code",
      "execution_count": 19,
      "metadata": {
        "colab": {
          "base_uri": "https://localhost:8080/"
        },
        "id": "ECtX8fzqKh7_",
        "outputId": "da087686-56ec-4e9f-a181-baa5397d827d"
      },
      "outputs": [
        {
          "output_type": "execute_result",
          "data": {
            "text/plain": [
              "nltk.text.Text"
            ]
          },
          "metadata": {},
          "execution_count": 19
        }
      ],
      "source": [
        "# text1, ... resources are of type nltk.Text (same as in the earlier example):\n",
        "\n",
        "type(text1)"
      ]
    },
    {
      "cell_type": "code",
      "execution_count": 20,
      "metadata": {
        "colab": {
          "base_uri": "https://localhost:8080/"
        },
        "id": "u-HDe1sZKh7_",
        "outputId": "2819582c-952c-4788-dce6-1b024c0b980d"
      },
      "outputs": [
        {
          "output_type": "stream",
          "name": "stdout",
          "text": [
            "906\n"
          ]
        }
      ],
      "source": [
        "# We can run all methods that nltk.Text has.\n",
        "\n",
        "# Count words:\n",
        "print(text1.count(\"whale\"))"
      ]
    },
    {
      "cell_type": "markdown",
      "metadata": {
        "id": "iaK8BnPhPYlI"
      },
      "source": [
        "## Concordance\n",
        "\n",
        "The concordance has a long history in humanities study and Roberto Busa's concordance Index Thomisticus—started in 1946—is arguably the first digital humanities project. Before computers were common, they were printed in large volumes such as John Bartlett's 1982 reference book A Complete Concordance to Shakespeare—it was 1909 pages pages long!\n",
        "\n",
        "A concordance gives the context of a given word or phrase in a body of texts. For example, a literary scholar might ask: how often and in what context does Shakespeare use the phrase \"honest Iago\" in Othello? A historian might examine a particular politician's speeches, looking for examples of a particular \"dog whistle\".\n",
        "\n",
        "<font color=\"red\">Read more</font>\n",
        "\n",
        "* Geoffrey Rockwell and Stéfan Sinclair. [Tremendous Mechanical Labor: Father Busa's Algorithm](http://www.digitalhumanities.org/dhq/vol/14/3/000456/000456.html) (2020)\n",
        "* Julianne Nyhan and Marco Passarotti, eds. [One Origin of Digital Humanities: Fr Roberto Busa in His Own Words](https://www.amazon.com/One-Origin-Digital-Humanities-Roberto/dp/3030183114/) (2019)\n",
        "* Julianne Nyhan and Melissa Terras. [Uncovering 'hidden contributions to the history of Digital Humanities: the Index Thomisticus' femal keypunch operators](https://discovery.ucl.ac.uk/id/eprint/10052279/9/Nyhan_DH2017.redacted.pdf) (2017)\n",
        "* Steven E. Jones [Roberto Busa, S.J., and the Emergence of Humanities Computing](https://www.routledge.com/Roberto-Busa-S-J-and-the-Emergence-of-Humanities-Computing-The-Priest/Jones/p/book/9781138587250) (2016)\n",
        "___"
      ]
    },
    {
      "cell_type": "code",
      "execution_count": 21,
      "metadata": {
        "colab": {
          "base_uri": "https://localhost:8080/"
        },
        "id": "oBdyd_r1Kh7_",
        "outputId": "f20fa35b-55d9-4a1f-a1f3-514acf0166c7"
      },
      "outputs": [
        {
          "output_type": "stream",
          "name": "stdout",
          "text": [
            "Displaying 7 of 7 matches:\n",
            "cean , in order , if possible , to discover a passage through it to India , th\n",
            " throw at the whales , in order to discover when they were nigh enough to risk\n",
            "for ever reach new distances , and discover sights more sweet and strange than\n",
            "gs upon the plain , you will often discover images as of the petrified forms o\n",
            " over numberless unknown worlds to discover his one superficial western one ; \n",
            "se two heads for hours , and never discover that organ . The ear has no extern\n",
            "s keener than man ' s ; Ahab could discover no sign in the sea . But suddenly \n"
          ]
        }
      ],
      "source": [
        "# https://www.nltk.org/api/nltk.html#nltk.text.Text.concordance\n",
        "\n",
        "# Print concordance view (occurences of a word, in context):\n",
        "text1.concordance(\"discover\")"
      ]
    },
    {
      "cell_type": "code",
      "execution_count": 22,
      "metadata": {
        "colab": {
          "base_uri": "https://localhost:8080/"
        },
        "id": "BAd3tH8sKh8A",
        "outputId": "d950b929-f2ca-4798-c0bc-01505501960d"
      },
      "outputs": [
        {
          "output_type": "stream",
          "name": "stdout",
          "text": [
            "Displaying 25 of 330 matches:\n",
            " to the character of an independent nation seems to have been distinguished by\n",
            "f Heaven can never be expected on a nation that disregards the eternal rules o\n",
            "first , the representatives of this nation , then consisting of little more th\n",
            ", situation , and relations of this nation and country than any which had ever\n",
            ", prosperity , and happiness of the nation I have acquired an habitual attachm\n",
            "an be no spectacle presented by any nation more pleasing , more noble , majest\n",
            "party for its own ends , not of the nation for the national good . If that sol\n",
            "tures and the people throughout the nation . On this subject it might become m\n",
            "if a personal esteem for the French nation , formed in a residence of seven ye\n",
            "f our fellow - citizens by whatever nation , and if success can not be obtaine\n",
            "y , continue His blessing upon this nation and its Government and give it all \n",
            "powers so justly inspire . A rising nation , spread over a wide and fruitful l\n",
            "ing now decided by the voice of the nation , announced according to the rules \n",
            "ars witness to the fact that a just nation is trusted on its word when recours\n",
            "e union of opinion which gives to a nation the blessing of harmony and the ben\n",
            "uil suffrage of a free and virtuous nation , would under any circumstances hav\n",
            "d spirit and united councils of the nation will be safeguards to its honor and\n",
            "iction that the war with a powerful nation , which forms so prominent a featur\n",
            "out breaking down the spirit of the nation , destroying all confidence in itse\n",
            "ed on the military resources of the nation . These resources are amply suffici\n",
            "the war to an honorable issue . Our nation is in number more than half that of\n",
            "ndividually have been happy and the nation prosperous . Under this Constitutio\n",
            "rights , and is able to protect the nation against injustice from foreign powe\n",
            " great agricultural interest of the nation prospers under its protection . Loc\n",
            "ak our Union , and demolish us as a nation . Our distance from Europe and the \n"
          ]
        }
      ],
      "source": [
        "text4.concordance(\"nation\")"
      ]
    },
    {
      "cell_type": "code",
      "source": [
        "help(text4.concordance)"
      ],
      "metadata": {
        "colab": {
          "base_uri": "https://localhost:8080/"
        },
        "id": "VJ0SlKKySMDK",
        "outputId": "1217fb51-3741-48a9-d8e8-e2827f347960"
      },
      "execution_count": 25,
      "outputs": [
        {
          "output_type": "stream",
          "name": "stdout",
          "text": [
            "Help on method concordance in module nltk.text:\n",
            "\n",
            "concordance(word, width=79, lines=25) method of nltk.text.Text instance\n",
            "    Prints a concordance for ``word`` with the specified context window.\n",
            "    Word matching is not case-sensitive.\n",
            "    \n",
            "    :param word: The target word or phrase (a list of strings)\n",
            "    :type word: str or list\n",
            "    :param width: The width of each line, in characters (default=80)\n",
            "    :type width: int\n",
            "    :param lines: The number of lines to display (default=25)\n",
            "    :type lines: int\n",
            "    \n",
            "    :seealso: ``ConcordanceIndex``\n",
            "\n"
          ]
        }
      ]
    },
    {
      "cell_type": "code",
      "source": [
        "text4.concordance(\"nation\", lines=30)"
      ],
      "metadata": {
        "colab": {
          "base_uri": "https://localhost:8080/"
        },
        "id": "sfNJPxBWSVVJ",
        "outputId": "c6389ca5-5f6f-49f6-fcbe-3f601e157161"
      },
      "execution_count": 28,
      "outputs": [
        {
          "output_type": "stream",
          "name": "stdout",
          "text": [
            "Displaying 30 of 330 matches:\n",
            " to the character of an independent nation seems to have been distinguished by\n",
            "f Heaven can never be expected on a nation that disregards the eternal rules o\n",
            "first , the representatives of this nation , then consisting of little more th\n",
            ", situation , and relations of this nation and country than any which had ever\n",
            ", prosperity , and happiness of the nation I have acquired an habitual attachm\n",
            "an be no spectacle presented by any nation more pleasing , more noble , majest\n",
            "party for its own ends , not of the nation for the national good . If that sol\n",
            "tures and the people throughout the nation . On this subject it might become m\n",
            "if a personal esteem for the French nation , formed in a residence of seven ye\n",
            "f our fellow - citizens by whatever nation , and if success can not be obtaine\n",
            "y , continue His blessing upon this nation and its Government and give it all \n",
            "powers so justly inspire . A rising nation , spread over a wide and fruitful l\n",
            "ing now decided by the voice of the nation , announced according to the rules \n",
            "ars witness to the fact that a just nation is trusted on its word when recours\n",
            "e union of opinion which gives to a nation the blessing of harmony and the ben\n",
            "uil suffrage of a free and virtuous nation , would under any circumstances hav\n",
            "d spirit and united councils of the nation will be safeguards to its honor and\n",
            "iction that the war with a powerful nation , which forms so prominent a featur\n",
            "out breaking down the spirit of the nation , destroying all confidence in itse\n",
            "ed on the military resources of the nation . These resources are amply suffici\n",
            "the war to an honorable issue . Our nation is in number more than half that of\n",
            "ndividually have been happy and the nation prosperous . Under this Constitutio\n",
            "rights , and is able to protect the nation against injustice from foreign powe\n",
            " great agricultural interest of the nation prospers under its protection . Loc\n",
            "ak our Union , and demolish us as a nation . Our distance from Europe and the \n",
            "stration . The movements of a great nation are connected in all their parts . \n",
            "oncluded a war with a very powerful nation on conditions equal and honorable t\n",
            "oon as the war had terminated , the nation , admonished by its events , resolv\n",
            "ct of the highest importance to the nation . Its agriculture , commerce , manu\n",
            "y affect the vital interests of the nation . For all such purposes they are in\n"
          ]
        }
      ]
    },
    {
      "cell_type": "code",
      "source": [
        "conc = text4.concordance_list(\"nation\")"
      ],
      "metadata": {
        "id": "2UgqgCsvSvrN"
      },
      "execution_count": 30,
      "outputs": []
    },
    {
      "cell_type": "code",
      "source": [
        "conc[:10]"
      ],
      "metadata": {
        "colab": {
          "base_uri": "https://localhost:8080/"
        },
        "id": "RJVVIJU2TH9w",
        "outputId": "aac41b1d-0d3f-4b27-ff6c-d78f10dc1f9c"
      },
      "execution_count": 31,
      "outputs": [
        {
          "output_type": "execute_result",
          "data": {
            "text/plain": [
              "[ConcordanceLine(left=['those', 'of', 'the', 'United', 'States', '.', 'Every', 'step', 'by', 'which', 'they', 'have', 'advanced', 'to', 'the', 'character', 'of', 'an', 'independent'], query='nation', right=['seems', 'to', 'have', 'been', 'distinguished', 'by', 'some', 'token', 'of', 'providential', 'agency', ';', 'and', 'in', 'the', 'important', 'revolution', 'just'], offset=546, left_print=' to the character of an independent', right_print='seems to have been distinguished by', line=' to the character of an independent nation seems to have been distinguished by'),\n",
              " ConcordanceLine(left=['we', 'ought', 'to', 'be', 'no', 'less', 'persuaded', 'that', 'the', 'propitious', 'smiles', 'of', 'Heaven', 'can', 'never', 'be', 'expected', 'on', 'a'], query='nation', right=['that', 'disregards', 'the', 'eternal', 'rules', 'of', 'order', 'and', 'right', 'which', 'Heaven', 'itself', 'has', 'ordained', ';', 'and', 'since', 'the'], offset=1012, left_print='f Heaven can never be expected on a', right_print='that disregards the eternal rules o', line='f Heaven can never be expected on a nation that disregards the eternal rules o'),\n",
              " ConcordanceLine(left=['under', 'an', 'overruling', 'Providence', 'which', 'had', 'so', 'signally', 'protected', 'this', 'country', 'from', 'the', 'first', ',', 'the', 'representatives', 'of', 'this'], query='nation', right=[',', 'then', 'consisting', 'of', 'little', 'more', 'than', 'half', 'its', 'present', 'number', ',', 'not', 'only', 'broke', 'to', 'pieces', 'the'], offset=1813, left_print='first , the representatives of this', right_print=', then consisting of little more th', line='first , the representatives of this nation , then consisting of little more th'),\n",
              " ConcordanceLine(left=['hearts', ',', 'as', 'an', 'experiment', 'better', 'adapted', 'to', 'the', 'genius', ',', 'character', ',', 'situation', ',', 'and', 'relations', 'of', 'this'], query='nation', right=['and', 'country', 'than', 'any', 'which', 'had', 'ever', 'been', 'proposed', 'or', 'suggested', '.', 'In', 'its', 'general', 'principles', 'and', 'great'], offset=2268, left_print=', situation , and relations of this', right_print='and country than any which had ever', line=', situation , and relations of this nation and country than any which had ever'),\n",
              " ConcordanceLine(left=['administration', ',', 'and', 'delight', 'in', 'its', 'effects', 'upon', 'the', 'peace', ',', 'order', ',', 'prosperity', ',', 'and', 'happiness', 'of', 'the'], query='nation', right=['I', 'have', 'acquired', 'an', 'habitual', 'attachment', 'to', 'it', 'and', 'veneration', 'for', 'it', '.', 'What', 'other', 'form', 'of', 'government'], offset=2558, left_print=', prosperity , and happiness of the', right_print='I have acquired an habitual attachm', line=', prosperity , and happiness of the nation I have acquired an habitual attachm'),\n",
              " ConcordanceLine(left=['this', 'is', 'very', 'certain', ',', 'that', 'to', 'a', 'benevolent', 'human', 'mind', 'there', 'can', 'be', 'no', 'spectacle', 'presented', 'by', 'any'], query='nation', right=['more', 'pleasing', ',', 'more', 'noble', ',', 'majestic', ',', 'or', 'august', ',', 'than', 'an', 'assembly', 'like', 'that', 'which', 'has'], offset=2638, left_print='an be no spectacle presented by any', right_print='more pleasing , more noble , majest', line='an be no spectacle presented by any nation more pleasing , more noble , majest'),\n",
              " ConcordanceLine(left=['corruption', ',', 'the', 'Government', 'may', 'be', 'the', 'choice', 'of', 'a', 'party', 'for', 'its', 'own', 'ends', ',', 'not', 'of', 'the'], query='nation', right=['for', 'the', 'national', 'good', '.', 'If', 'that', 'solitary', 'suffrage', 'can', 'be', 'obtained', 'by', 'foreign', 'nations', 'by', 'flattery', 'or'], offset=2983, left_print='party for its own ends , not of the', right_print='for the national good . If that sol', line='party for its own ends , not of the nation for the national good . If that sol'),\n",
              " ConcordanceLine(left=['his', 'successors', 'by', 'both', 'Houses', 'of', 'Congress', 'and', 'by', 'the', 'voice', 'of', 'the', 'legislatures', 'and', 'the', 'people', 'throughout', 'the'], query='nation', right=['.', 'On', 'this', 'subject', 'it', 'might', 'become', 'me', 'better', 'to', 'be', 'silent', 'or', 'to', 'speak', 'with', 'diffidence', ';'], offset=3325, left_print='tures and the people throughout the', right_print='. On this subject it might become m', line='tures and the people throughout the nation . On this subject it might become m'),\n",
              " ConcordanceLine(left=['public', 'opinion', ',', 'until', 'it', 'shall', 'be', 'otherwise', 'ordained', 'by', 'Congress', ';', 'if', 'a', 'personal', 'esteem', 'for', 'the', 'French'], query='nation', right=[',', 'formed', 'in', 'a', 'residence', 'of', 'seven', 'years', 'chiefly', 'among', 'them', ',', 'and', 'a', 'sincere', 'desire', 'to', 'preserve'], offset=3794, left_print='if a personal esteem for the French', right_print=', formed in a residence of seven ye', line='if a personal esteem for the French nation , formed in a residence of seven ye'),\n",
              " ConcordanceLine(left=['a', 'reparation', 'for', 'the', 'injuries', 'that', 'have', 'been', 'committed', 'on', 'the', 'commerce', 'of', 'our', 'fellow', '-', 'citizens', 'by', 'whatever'], query='nation', right=[',', 'and', 'if', 'success', 'can', 'not', 'be', 'obtained', ',', 'to', 'lay', 'the', 'facts', 'before', 'the', 'Legislature', ',', 'that'], offset=3899, left_print='f our fellow - citizens by whatever', right_print=', and if success can not be obtaine', line='f our fellow - citizens by whatever nation , and if success can not be obtaine')]"
            ]
          },
          "metadata": {},
          "execution_count": 31
        }
      ]
    },
    {
      "cell_type": "code",
      "source": [
        "conc[0]"
      ],
      "metadata": {
        "colab": {
          "base_uri": "https://localhost:8080/"
        },
        "id": "OiruMW4gTOda",
        "outputId": "bc6fc28c-bad4-4be1-9048-2c1abaff2d96"
      },
      "execution_count": 32,
      "outputs": [
        {
          "output_type": "execute_result",
          "data": {
            "text/plain": [
              "ConcordanceLine(left=['those', 'of', 'the', 'United', 'States', '.', 'Every', 'step', 'by', 'which', 'they', 'have', 'advanced', 'to', 'the', 'character', 'of', 'an', 'independent'], query='nation', right=['seems', 'to', 'have', 'been', 'distinguished', 'by', 'some', 'token', 'of', 'providential', 'agency', ';', 'and', 'in', 'the', 'important', 'revolution', 'just'], offset=546, left_print=' to the character of an independent', right_print='seems to have been distinguished by', line=' to the character of an independent nation seems to have been distinguished by')"
            ]
          },
          "metadata": {},
          "execution_count": 32
        }
      ]
    },
    {
      "cell_type": "code",
      "source": [
        "print(conc[0])"
      ],
      "metadata": {
        "colab": {
          "base_uri": "https://localhost:8080/"
        },
        "id": "rIfp9oQJTboD",
        "outputId": "a65c9a79-54bf-4c8a-eb59-9bfa1117a27c"
      },
      "execution_count": 33,
      "outputs": [
        {
          "output_type": "stream",
          "name": "stdout",
          "text": [
            "ConcordanceLine(left=['those', 'of', 'the', 'United', 'States', '.', 'Every', 'step', 'by', 'which', 'they', 'have', 'advanced', 'to', 'the', 'character', 'of', 'an', 'independent'], query='nation', right=['seems', 'to', 'have', 'been', 'distinguished', 'by', 'some', 'token', 'of', 'providential', 'agency', ';', 'and', 'in', 'the', 'important', 'revolution', 'just'], offset=546, left_print=' to the character of an independent', right_print='seems to have been distinguished by', line=' to the character of an independent nation seems to have been distinguished by')\n"
          ]
        }
      ]
    },
    {
      "cell_type": "code",
      "source": [
        "for item in conc[:10]:\n",
        "    conc_line = item.left_print + \" \" + item.query + \" \" + item.right_print\n",
        "\n",
        "    print(conc_line)\n",
        "    #output_file.write(conc_line)"
      ],
      "metadata": {
        "colab": {
          "base_uri": "https://localhost:8080/"
        },
        "id": "ka-ub5DCTeVt",
        "outputId": "2d10c19c-d2a5-4dc8-e50a-5b6ec3206f62"
      },
      "execution_count": 38,
      "outputs": [
        {
          "output_type": "stream",
          "name": "stdout",
          "text": [
            " to the character of an independent nation seems to have been distinguished by\n",
            "f Heaven can never be expected on a nation that disregards the eternal rules o\n",
            "first , the representatives of this nation , then consisting of little more th\n",
            ", situation , and relations of this nation and country than any which had ever\n",
            ", prosperity , and happiness of the nation I have acquired an habitual attachm\n",
            "an be no spectacle presented by any nation more pleasing , more noble , majest\n",
            "party for its own ends , not of the nation for the national good . If that sol\n",
            "tures and the people throughout the nation . On this subject it might become m\n",
            "if a personal esteem for the French nation , formed in a residence of seven ye\n",
            "f our fellow - citizens by whatever nation , and if success can not be obtaine\n"
          ]
        }
      ]
    },
    {
      "cell_type": "code",
      "execution_count": 23,
      "metadata": {
        "colab": {
          "base_uri": "https://localhost:8080/"
        },
        "id": "7DaGeHZYKh8A",
        "outputId": "7ef2faa1-f5f9-4cff-be54-6dc828672088",
        "scrolled": true
      },
      "outputs": [
        {
          "output_type": "stream",
          "name": "stdout",
          "text": [
            "country people government world union time constitution states\n",
            "republic land law earth other future party peace strength president\n",
            "way war\n"
          ]
        }
      ],
      "source": [
        "# https://www.nltk.org/api/nltk.html#nltk.text.Text.similar\n",
        "\n",
        "# Print words that appear in similar context as \"nation\".\n",
        "text4.similar(\"nation\")"
      ]
    },
    {
      "cell_type": "code",
      "execution_count": 24,
      "metadata": {
        "colab": {
          "base_uri": "https://localhost:8080/"
        },
        "id": "5YWKJCyJOpKG",
        "outputId": "a5d526c6-cdc9-483a-8aa7-01974209aa25"
      },
      "outputs": [
        {
          "output_type": "stream",
          "name": "stdout",
          "text": [
            "Help on method similar in module nltk.text:\n",
            "\n",
            "similar(word, num=20) method of nltk.text.Text instance\n",
            "    Distributional similarity: find other words which appear in the\n",
            "    same contexts as the specified word; list most similar words first.\n",
            "    \n",
            "    :param word: The word used to seed the similarity search\n",
            "    :type word: str\n",
            "    :param num: The number of words to generate (default=20)\n",
            "    :type num: int\n",
            "    :seealso: ContextIndex.similar_words()\n",
            "\n"
          ]
        }
      ],
      "source": [
        "help(text4.similar)"
      ]
    },
    {
      "cell_type": "code",
      "execution_count": 39,
      "metadata": {
        "colab": {
          "base_uri": "https://localhost:8080/"
        },
        "id": "RChhUPlDKh8A",
        "outputId": "87e27b01-7940-4f89-e308-cc2efc98dfd7"
      },
      "outputs": [
        {
          "output_type": "stream",
          "name": "stdout",
          "text": [
            "that_, the_, by_, a_, that_; the_previous -_, one_, all_. the_before\n",
            "every_, by_or of_; of_. the_. this_in all_in after_, the_wore\n",
            "through_into\n"
          ]
        }
      ],
      "source": [
        "# https://www.nltk.org/api/nltk.html#nltk.text.Text.common_contexts\n",
        "\n",
        "# Find contexts common to all given words\n",
        "text1.common_contexts([\"day\", \"night\"])\n"
      ]
    },
    {
      "cell_type": "code",
      "execution_count": 40,
      "metadata": {
        "colab": {
          "base_uri": "https://localhost:8080/"
        },
        "id": "NztGJyzZOpKH",
        "outputId": "faf2de89-2e57-4419-cb78-5a23e279fd2c"
      },
      "outputs": [
        {
          "output_type": "stream",
          "name": "stdout",
          "text": [
            "Help on method common_contexts in module nltk.text:\n",
            "\n",
            "common_contexts(words, num=20) method of nltk.text.Text instance\n",
            "    Find contexts where the specified words appear; list\n",
            "    most frequent common contexts first.\n",
            "    \n",
            "    :param words: The words used to seed the similarity search\n",
            "    :type words: str\n",
            "    :param num: The number of words to generate (default=20)\n",
            "    :type num: int\n",
            "    :seealso: ContextIndex.common_contexts()\n",
            "\n"
          ]
        }
      ],
      "source": [
        "help(text1.common_contexts)"
      ]
    },
    {
      "cell_type": "code",
      "execution_count": 41,
      "metadata": {
        "colab": {
          "base_uri": "https://localhost:8080/"
        },
        "id": "rlu0zNbIOpKH",
        "outputId": "c1b5936a-486b-43b1-8427-a1ab75d6a794"
      },
      "outputs": [
        {
          "output_type": "stream",
          "name": "stdout",
          "text": [
            "United States; fellow citizens; years ago; four years; Federal\n",
            "Government; General Government; American people; Vice President; God\n",
            "bless; Chief Justice; one another; fellow Americans; Old World;\n",
            "Almighty God; Fellow citizens; Chief Magistrate; every citizen; Indian\n",
            "tribes; public debt; foreign nations; political parties; State\n",
            "governments; National Government; United Nations; public money;\n",
            "beloved country; Western Hemisphere; national life; executive\n",
            "department; move forward; religious liberty; domestic concerns; solemn\n",
            "oath; President Bush; health care; George Washington; public officers;\n",
            "coordinate branches; public expenditures; World War\n"
          ]
        }
      ],
      "source": [
        "text4.collocations(num=40, window_size=2)"
      ]
    },
    {
      "cell_type": "code",
      "execution_count": 42,
      "metadata": {
        "colab": {
          "base_uri": "https://localhost:8080/"
        },
        "id": "O6rUKw-oOpKH",
        "outputId": "70c8ffe4-7c43-42fd-b594-d263e3cafe2b"
      },
      "outputs": [
        {
          "output_type": "stream",
          "name": "stdout",
          "text": [
            "Help on method collocations in module nltk.text:\n",
            "\n",
            "collocations(num=20, window_size=2) method of nltk.text.Text instance\n",
            "    Print collocations derived from the text, ignoring stopwords.\n",
            "    \n",
            "        >>> from nltk.book import text4\n",
            "        >>> text4.collocations() # doctest: +NORMALIZE_WHITESPACE\n",
            "        United States; fellow citizens; years ago; four years; Federal\n",
            "        Government; General Government; American people; Vice President; God\n",
            "        bless; Chief Justice; one another; fellow Americans; Old World;\n",
            "        Almighty God; Fellow citizens; Chief Magistrate; every citizen; Indian\n",
            "        tribes; public debt; foreign nations\n",
            "    \n",
            "    \n",
            "    :param num: The maximum number of collocations to print.\n",
            "    :type num: int\n",
            "    :param window_size: The number of tokens spanned by a collocation (default=2)\n",
            "    :type window_size: int\n",
            "\n"
          ]
        }
      ],
      "source": [
        "help(text4.collocations)"
      ]
    },
    {
      "cell_type": "code",
      "execution_count": 43,
      "metadata": {
        "colab": {
          "base_uri": "https://localhost:8080/"
        },
        "id": "cbwda6BlKh8A",
        "outputId": "734155b2-017e-4b26-8e10-113d49f9fb46"
      },
      "outputs": [
        {
          "output_type": "stream",
          "name": "stdout",
          "text": [
            "42\n"
          ]
        }
      ],
      "source": [
        "# nltk.Text is also a list - can do everything we can do with lists (access parts of it, ...)\n",
        "\n",
        "# What's the 1st occurence of \"He\" in the text?\n",
        "#  - note: Python is case sensitive (unless you take care of it - e.g. convert all text to lowercase)\n",
        "\n",
        "print(text1.index(\"He\"))"
      ]
    },
    {
      "cell_type": "code",
      "execution_count": 44,
      "metadata": {
        "colab": {
          "base_uri": "https://localhost:8080/"
        },
        "id": "ExM81vXJKh8A",
        "outputId": "9b02b4fb-32ba-4b9d-b351-555298a6ff0e"
      },
      "outputs": [
        {
          "output_type": "stream",
          "name": "stdout",
          "text": [
            "He\n"
          ]
        }
      ],
      "source": [
        "# The word at position #42\n",
        "#  - note: list indexes start from 0\n",
        "\n",
        "print(text1[42])"
      ]
    },
    {
      "cell_type": "code",
      "execution_count": 45,
      "metadata": {
        "colab": {
          "base_uri": "https://localhost:8080/"
        },
        "id": "drMJLukzKh8C",
        "outputId": "42558df8-9f76-402b-ebe8-8f1cf020198d"
      },
      "outputs": [
        {
          "output_type": "stream",
          "name": "stdout",
          "text": [
            "['He', 'was', 'ever', 'dusting', 'his', 'old', 'lexicons', 'and', 'grammars', ',']\n"
          ]
        }
      ],
      "source": [
        "print(text1[42:52])"
      ]
    },
    {
      "cell_type": "markdown",
      "metadata": {
        "id": "z2nrOBZjKh8C"
      },
      "source": [
        "## Visualizing the corpus"
      ]
    },
    {
      "cell_type": "code",
      "execution_count": 46,
      "metadata": {
        "colab": {
          "base_uri": "https://localhost:8080/",
          "height": 472
        },
        "id": "cPtzGbhGKh8C",
        "outputId": "a102d92c-da75-439d-81a9-cb0cbbb906db",
        "scrolled": true
      },
      "outputs": [
        {
          "output_type": "display_data",
          "data": {
            "text/plain": [
              "<Figure size 640x480 with 1 Axes>"
            ],
            "image/png": "[encoded data removed]"
          },
          "metadata": {}
        }
      ],
      "source": [
        "# Dispersion plot\n",
        "\n",
        "# source: Inaugural Address Corpus\n",
        "text4.dispersion_plot([\"citizens\", \"democracy\", \"duty\", \"freedom\", \"America\"])"
      ]
    },
    {
      "cell_type": "code",
      "execution_count": 47,
      "metadata": {
        "colab": {
          "base_uri": "https://localhost:8080/"
        },
        "id": "-DKY-LjYKh8C",
        "outputId": "a8b9c2b1-ac16-43c7-c7ce-abd5fe367c91",
        "scrolled": true
      },
      "outputs": [
        {
          "output_type": "stream",
          "name": "stdout",
          "text": [
            "Help on method dispersion_plot in module nltk.text:\n",
            "\n",
            "dispersion_plot(words) method of nltk.text.Text instance\n",
            "    Produce a plot showing the distribution of the words through the text.\n",
            "    Requires pylab to be installed.\n",
            "    \n",
            "    :param words: The words to be plotted\n",
            "    :type words: list(str)\n",
            "    :seealso: nltk.draw.dispersion_plot()\n",
            "\n"
          ]
        }
      ],
      "source": [
        "help(text4.dispersion_plot)"
      ]
    },
    {
      "cell_type": "code",
      "execution_count": 48,
      "metadata": {
        "colab": {
          "base_uri": "https://localhost:8080/",
          "height": 506
        },
        "id": "irc5YAjtOpKK",
        "outputId": "d20421e2-3901-4a56-d06e-ba150f7f5976"
      },
      "outputs": [
        {
          "output_type": "display_data",
          "data": {
            "text/plain": [
              "<Figure size 640x480 with 1 Axes>"
            ],
            "image/png": "[encoded data removed]"
          },
          "metadata": {}
        },
        {
          "output_type": "execute_result",
          "data": {
            "text/plain": [
              "<Axes: xlabel='Samples', ylabel='Counts'>"
            ]
          },
          "metadata": {},
          "execution_count": 48
        }
      ],
      "source": [
        "# Word frequency plot\n",
        "\n",
        "text4.plot(30)"
      ]
    },
    {
      "cell_type": "code",
      "source": [
        "list(text4)[:10]"
      ],
      "metadata": {
        "colab": {
          "base_uri": "https://localhost:8080/"
        },
        "id": "Ngvo_bt1WSkG",
        "outputId": "1b8b9653-93e8-458b-d167-5af705d049b4"
      },
      "execution_count": 88,
      "outputs": [
        {
          "output_type": "execute_result",
          "data": {
            "text/plain": [
              "['Fellow', '-', 'Citizens', 'of', 'the', 'Senate', 'and', 'of', 'the', 'House']"
            ]
          },
          "metadata": {},
          "execution_count": 88
        }
      ]
    },
    {
      "cell_type": "code",
      "source": [
        "filtered = [item for item in text4 if item.isalpha()]\n",
        "\n",
        "filtered[:10]"
      ],
      "metadata": {
        "colab": {
          "base_uri": "https://localhost:8080/"
        },
        "id": "CAH4uPHyhgzF",
        "outputId": "9799e008-da8b-461f-cef4-27fc86a8a990"
      },
      "execution_count": 90,
      "outputs": [
        {
          "output_type": "execute_result",
          "data": {
            "text/plain": [
              "['Fellow',\n",
              " 'Citizens',\n",
              " 'of',\n",
              " 'the',\n",
              " 'Senate',\n",
              " 'and',\n",
              " 'of',\n",
              " 'the',\n",
              " 'House',\n",
              " 'of']"
            ]
          },
          "metadata": {},
          "execution_count": 90
        }
      ]
    },
    {
      "cell_type": "code",
      "source": [
        "from nltk.corpus import stopwords\n",
        "\n",
        "# English stopwords\n",
        "stop_words = stopwords.words(\"english\")\n",
        "\n",
        "stop_words[:8]"
      ],
      "metadata": {
        "colab": {
          "base_uri": "https://localhost:8080/"
        },
        "id": "gsmi4By4vVD-",
        "outputId": "8ecc5f7c-180c-41a2-ad49-d0b346863d60"
      },
      "execution_count": 92,
      "outputs": [
        {
          "output_type": "execute_result",
          "data": {
            "text/plain": [
              "['i', 'me', 'my', 'myself', 'we', 'our', 'ours', 'ourselves']"
            ]
          },
          "metadata": {},
          "execution_count": 92
        }
      ]
    },
    {
      "cell_type": "code",
      "source": [
        "filtered = [item for item in filtered if item not in stop_words]\n",
        "\n",
        "filtered[:10]"
      ],
      "metadata": {
        "colab": {
          "base_uri": "https://localhost:8080/"
        },
        "id": "bs6lv9Mxv2V4",
        "outputId": "f2bc0a86-471e-44c4-f9f0-8941cd120438"
      },
      "execution_count": 93,
      "outputs": [
        {
          "output_type": "execute_result",
          "data": {
            "text/plain": [
              "['Fellow',\n",
              " 'Citizens',\n",
              " 'Senate',\n",
              " 'House',\n",
              " 'Representatives',\n",
              " 'Among',\n",
              " 'vicissitudes',\n",
              " 'incident',\n",
              " 'life',\n",
              " 'event']"
            ]
          },
          "metadata": {},
          "execution_count": 93
        }
      ]
    },
    {
      "cell_type": "code",
      "source": [
        "filtered_text = nltk.Text(filtered)\n",
        "\n",
        "filtered_text.plot(30)"
      ],
      "metadata": {
        "colab": {
          "base_uri": "https://localhost:8080/",
          "height": 540
        },
        "id": "mG1SLzgbi2GY",
        "outputId": "9f5cb326-cc6b-4f06-b7ad-33d94b6d9fa8"
      },
      "execution_count": 94,
      "outputs": [
        {
          "output_type": "display_data",
          "data": {
            "text/plain": [
              "<Figure size 640x480 with 1 Axes>"
            ],
            "image/png": "[encoded data removed]"
          },
          "metadata": {}
        },
        {
          "output_type": "execute_result",
          "data": {
            "text/plain": [
              "<Axes: xlabel='Samples', ylabel='Counts'>"
            ]
          },
          "metadata": {},
          "execution_count": 94
        }
      ]
    },
    {
      "cell_type": "code",
      "execution_count": 49,
      "metadata": {
        "colab": {
          "base_uri": "https://localhost:8080/"
        },
        "id": "MScGvuOjOpKK",
        "outputId": "9692dc85-922d-4acc-cb43-c3cb4d714235"
      },
      "outputs": [
        {
          "output_type": "stream",
          "name": "stdout",
          "text": [
            "Help on function plot in module nltk.probability:\n",
            "\n",
            "plot(self, *args, title='', cumulative=False, percents=False, show=True, **kwargs)\n",
            "    Plot samples from the frequency distribution\n",
            "    displaying the most frequent sample first.  If an integer\n",
            "    parameter is supplied, stop after this many samples have been\n",
            "    plotted.  For a cumulative plot, specify cumulative=True. Additional\n",
            "    ``**kwargs`` are passed to matplotlib's plot function.\n",
            "    (Requires Matplotlib to be installed.)\n",
            "    \n",
            "    :param title: The title for the graph.\n",
            "    :type title: str\n",
            "    :param cumulative: Whether the plot is cumulative. (default = False)\n",
            "    :type cumulative: bool\n",
            "    :param percents: Whether the plot uses percents instead of counts. (default = False)\n",
            "    :type percents: bool\n",
            "    :param show: Whether to show the plot, or only return the ax.\n",
            "    :type show: bool\n",
            "\n"
          ]
        }
      ],
      "source": [
        "help(FreqDist.plot)"
      ]
    },
    {
      "cell_type": "markdown",
      "metadata": {
        "id": "71CtOpUcLrph"
      },
      "source": [
        "## Converting Our Corpora into a NLTK Text"
      ]
    },
    {
      "cell_type": "code",
      "execution_count": 50,
      "metadata": {
        "id": "blikIpXvLqYR"
      },
      "outputs": [],
      "source": [
        "# We can use Pandas to read tabular data from any publicly accessible source\n",
        "url = \"https://github.com/CaptSolo/BSSDH_2023_beginners/raw/main/corpora/en_old_newspapers_5k.tsv\"\n",
        "\n",
        "## Another file we could have used:\n",
        "# url_2 = \"https://github.com/CaptSolo/BSSDH_2023_beginners/raw/main/corpora/lv_old_newspapers_5k.tsv\"\n",
        "\n",
        "# Read a CSV file and put its contents in a Pandas dataframe\n",
        "df = pd.read_csv(url, sep=\"\\t\")"
      ]
    },
    {
      "cell_type": "code",
      "execution_count": 51,
      "metadata": {
        "colab": {
          "base_uri": "https://localhost:8080/"
        },
        "id": "aScchq2DOpKL",
        "outputId": "75e93c54-a7a9-4830-b2e8-3d42d07e907f"
      },
      "outputs": [
        {
          "output_type": "execute_result",
          "data": {
            "text/plain": [
              "(4953, 5)"
            ]
          },
          "metadata": {},
          "execution_count": 51
        }
      ],
      "source": [
        "# Shape (size) of the dataframe\n",
        "df.shape"
      ]
    },
    {
      "cell_type": "code",
      "execution_count": 52,
      "metadata": {
        "colab": {
          "base_uri": "https://localhost:8080/",
          "height": 363
        },
        "id": "vckh__2qM3G8",
        "outputId": "b1e38c6b-fe4b-401f-f853-f4fa342068f0"
      },
      "outputs": [
        {
          "output_type": "execute_result",
          "data": {
            "text/plain": [
              "               Source        Date  Type Subjects  \\\n",
              "0         latimes.com  2012/04/29     1     7,12   \n",
              "1        stltoday.com  2011/07/10     1     7,10   \n",
              "2           freep.com  2012/05/07     1       10   \n",
              "3              nj.com  2011/02/05     1        1   \n",
              "4          sacbee.com  2011/10/02     1        5   \n",
              "5       cleveland.com  2012/04/27     1       12   \n",
              "6           freep.com  2012/05/03     1        0   \n",
              "7              nj.com  2011/02/02     1     10,1   \n",
              "8  chicagotribune.com  2012/01/05     1     7,16   \n",
              "9        indystar.com  2012/05/04     1       12   \n",
              "\n",
              "                                                Text  \n",
              "0                  He wasn't home alone, apparently.  \n",
              "1  The St. Louis plant had to close. It would die...  \n",
              "2  WSU's plans quickly became a hot topic on loca...  \n",
              "3  The Alaimo Group of Mount Holly was up for a c...  \n",
              "4  And when it's often difficult to predict a law...  \n",
              "5  There was a certain amount of scoffing going a...  \n",
              "6                          14915 Charlevoix, Detroit  \n",
              "7  It’s just another in a long line of failed att...  \n",
              "8  But time and again in the report, Sullivan cal...  \n",
              "9  I was just trying to hit it hard someplace, ...  "
            ],
            "text/html": [
              "\n",
              "\n",
              "  <div id=\"df-d6d6058a-6519-4661-a490-3a3d65e31df6\">\n",
              "    <div class=\"colab-df-container\">\n",
              "      <div>\n",
              "<style scoped>\n",
              "    .dataframe tbody tr th:only-of-type {\n",
              "        vertical-align: middle;\n",
              "    }\n",
              "\n",
              "    .dataframe tbody tr th {\n",
              "        vertical-align: top;\n",
              "    }\n",
              "\n",
              "    .dataframe thead th {\n",
              "        text-align: right;\n",
              "    }\n",
              "</style>\n",
              "<table border=\"1\" class=\"dataframe\">\n",
              "  <thead>\n",
              "    <tr style=\"text-align: right;\">\n",
              "      <th></th>\n",
              "      <th>Source</th>\n",
              "      <th>Date</th>\n",
              "      <th>Type</th>\n",
              "      <th>Subjects</th>\n",
              "      <th>Text</th>\n",
              "    </tr>\n",
              "  </thead>\n",
              "  <tbody>\n",
              "    <tr>\n",
              "      <th>0</th>\n",
              "      <td>latimes.com</td>\n",
              "      <td>2012/04/29</td>\n",
              "      <td>1</td>\n",
              "      <td>7,12</td>\n",
              "      <td>He wasn't home alone, apparently.</td>\n",
              "    </tr>\n",
              "    <tr>\n",
              "      <th>1</th>\n",
              "      <td>stltoday.com</td>\n",
              "      <td>2011/07/10</td>\n",
              "      <td>1</td>\n",
              "      <td>7,10</td>\n",
              "      <td>The St. Louis plant had to close. It would die...</td>\n",
              "    </tr>\n",
              "    <tr>\n",
              "      <th>2</th>\n",
              "      <td>freep.com</td>\n",
              "      <td>2012/05/07</td>\n",
              "      <td>1</td>\n",
              "      <td>10</td>\n",
              "      <td>WSU's plans quickly became a hot topic on loca...</td>\n",
              "    </tr>\n",
              "    <tr>\n",
              "      <th>3</th>\n",
              "      <td>nj.com</td>\n",
              "      <td>2011/02/05</td>\n",
              "      <td>1</td>\n",
              "      <td>1</td>\n",
              "      <td>The Alaimo Group of Mount Holly was up for a c...</td>\n",
              "    </tr>\n",
              "    <tr>\n",
              "      <th>4</th>\n",
              "      <td>sacbee.com</td>\n",
              "      <td>2011/10/02</td>\n",
              "      <td>1</td>\n",
              "      <td>5</td>\n",
              "      <td>And when it's often difficult to predict a law...</td>\n",
              "    </tr>\n",
              "    <tr>\n",
              "      <th>5</th>\n",
              "      <td>cleveland.com</td>\n",
              "      <td>2012/04/27</td>\n",
              "      <td>1</td>\n",
              "      <td>12</td>\n",
              "      <td>There was a certain amount of scoffing going a...</td>\n",
              "    </tr>\n",
              "    <tr>\n",
              "      <th>6</th>\n",
              "      <td>freep.com</td>\n",
              "      <td>2012/05/03</td>\n",
              "      <td>1</td>\n",
              "      <td>0</td>\n",
              "      <td>14915 Charlevoix, Detroit</td>\n",
              "    </tr>\n",
              "    <tr>\n",
              "      <th>7</th>\n",
              "      <td>nj.com</td>\n",
              "      <td>2011/02/02</td>\n",
              "      <td>1</td>\n",
              "      <td>10,1</td>\n",
              "      <td>It’s just another in a long line of failed att...</td>\n",
              "    </tr>\n",
              "    <tr>\n",
              "      <th>8</th>\n",
              "      <td>chicagotribune.com</td>\n",
              "      <td>2012/01/05</td>\n",
              "      <td>1</td>\n",
              "      <td>7,16</td>\n",
              "      <td>But time and again in the report, Sullivan cal...</td>\n",
              "    </tr>\n",
              "    <tr>\n",
              "      <th>9</th>\n",
              "      <td>indystar.com</td>\n",
              "      <td>2012/05/04</td>\n",
              "      <td>1</td>\n",
              "      <td>12</td>\n",
              "      <td>I was just trying to hit it hard someplace, ...</td>\n",
              "    </tr>\n",
              "  </tbody>\n",
              "</table>\n",
              "</div>\n",
              "      <button class=\"colab-df-convert\" onclick=\"convertToInteractive('df-d6d6058a-6519-4661-a490-3a3d65e31df6')\"\n",
              "              title=\"Convert this dataframe to an interactive table.\"\n",
              "              style=\"display:none;\">\n",
              "\n",
              "  <svg xmlns=\"http://www.w3.org/2000/svg\" height=\"24px\"viewBox=\"0 0 24 24\"\n",
              "       width=\"24px\">\n",
              "    <path d=\"M0 0h24v24H0V0z\" fill=\"none\"/>\n",
              "    <path d=\"M18.56 5.44l.94 2.06.94-2.06 2.06-.94-2.06-.94-.94-2.06-.94 2.06-2.06.94zm-11 1L8.5 8.5l.94-2.06 2.06-.94-2.06-.94L8.5 2.5l-.94 2.06-2.06.94zm10 10l.94 2.06.94-2.06 2.06-.94-2.06-.94-.94-2.06-.94 2.06-2.06.94z\"/><path d=\"M17.41 7.96l-1.37-1.37c-.4-.4-.92-.59-1.43-.59-.52 0-1.04.2-1.43.59L10.3 9.45l-7.72 7.72c-.78.78-.78 2.05 0 2.83L4 21.41c.39.39.9.59 1.41.59.51 0 1.02-.2 1.41-.59l7.78-7.78 2.81-2.81c.8-.78.8-2.07 0-2.86zM5.41 20L4 18.59l7.72-7.72 1.47 1.35L5.41 20z\"/>\n",
              "  </svg>\n",
              "      </button>\n",
              "\n",
              "\n",
              "\n",
              "    <div id=\"df-3a25a2f4-675b-4e62-b319-498585b8d0d7\">\n",
              "      <button class=\"colab-df-quickchart\" onclick=\"quickchart('df-3a25a2f4-675b-4e62-b319-498585b8d0d7')\"\n",
              "              title=\"Suggest charts.\"\n",
              "              style=\"display:none;\">\n",
              "\n",
              "<svg xmlns=\"http://www.w3.org/2000/svg\" height=\"24px\"viewBox=\"0 0 24 24\"\n",
              "     width=\"24px\">\n",
              "    <g>\n",
              "        <path d=\"M19 3H5c-1.1 0-2 .9-2 2v14c0 1.1.9 2 2 2h14c1.1 0 2-.9 2-2V5c0-1.1-.9-2-2-2zM9 17H7v-7h2v7zm4 0h-2V7h2v10zm4 0h-2v-4h2v4z\"/>\n",
              "    </g>\n",
              "</svg>\n",
              "      </button>\n",
              "    </div>\n",
              "\n",
              "<style>\n",
              "  .colab-df-quickchart {\n",
              "    background-color: #E8F0FE;\n",
              "    border: none;\n",
              "    border-radius: 50%;\n",
              "    cursor: pointer;\n",
              "    display: none;\n",
              "    fill: #1967D2;\n",
              "    height: 32px;\n",
              "    padding: 0 0 0 0;\n",
              "    width: 32px;\n",
              "  }\n",
              "\n",
              "  .colab-df-quickchart:hover {\n",
              "    background-color: #E2EBFA;\n",
              "    box-shadow: 0px 1px 2px rgba(60, 64, 67, 0.3), 0px 1px 3px 1px rgba(60, 64, 67, 0.15);\n",
              "    fill: #174EA6;\n",
              "  }\n",
              "\n",
              "  [theme=dark] .colab-df-quickchart {\n",
              "    background-color: #3B4455;\n",
              "    fill: #D2E3FC;\n",
              "  }\n",
              "\n",
              "  [theme=dark] .colab-df-quickchart:hover {\n",
              "    background-color: #434B5C;\n",
              "    box-shadow: 0px 1px 3px 1px rgba(0, 0, 0, 0.15);\n",
              "    filter: drop-shadow(0px 1px 2px rgba(0, 0, 0, 0.3));\n",
              "    fill: #FFFFFF;\n",
              "  }\n",
              "</style>\n",
              "\n",
              "    <script>\n",
              "      async function quickchart(key) {\n",
              "        const containerElement = document.querySelector('#' + key);\n",
              "        const charts = await google.colab.kernel.invokeFunction(\n",
              "            'suggestCharts', [key], {});\n",
              "      }\n",
              "    </script>\n",
              "\n",
              "      <script>\n",
              "\n",
              "function displayQuickchartButton(domScope) {\n",
              "  let quickchartButtonEl =\n",
              "    domScope.querySelector('#df-3a25a2f4-675b-4e62-b319-498585b8d0d7 button.colab-df-quickchart');\n",
              "  quickchartButtonEl.style.display =\n",
              "    google.colab.kernel.accessAllowed ? 'block' : 'none';\n",
              "}\n",
              "\n",
              "        displayQuickchartButton(document);\n",
              "      </script>\n",
              "      <style>\n",
              "    .colab-df-container {\n",
              "      display:flex;\n",
              "      flex-wrap:wrap;\n",
              "      gap: 12px;\n",
              "    }\n",
              "\n",
              "    .colab-df-convert {\n",
              "      background-color: #E8F0FE;\n",
              "      border: none;\n",
              "      border-radius: 50%;\n",
              "      cursor: pointer;\n",
              "      display: none;\n",
              "      fill: #1967D2;\n",
              "      height: 32px;\n",
              "      padding: 0 0 0 0;\n",
              "      width: 32px;\n",
              "    }\n",
              "\n",
              "    .colab-df-convert:hover {\n",
              "      background-color: #E2EBFA;\n",
              "      box-shadow: 0px 1px 2px rgba(60, 64, 67, 0.3), 0px 1px 3px 1px rgba(60, 64, 67, 0.15);\n",
              "      fill: #174EA6;\n",
              "    }\n",
              "\n",
              "    [theme=dark] .colab-df-convert {\n",
              "      background-color: #3B4455;\n",
              "      fill: #D2E3FC;\n",
              "    }\n",
              "\n",
              "    [theme=dark] .colab-df-convert:hover {\n",
              "      background-color: #434B5C;\n",
              "      box-shadow: 0px 1px 3px 1px rgba(0, 0, 0, 0.15);\n",
              "      filter: drop-shadow(0px 1px 2px rgba(0, 0, 0, 0.3));\n",
              "      fill: #FFFFFF;\n",
              "    }\n",
              "  </style>\n",
              "\n",
              "      <script>\n",
              "        const buttonEl =\n",
              "          document.querySelector('#df-d6d6058a-6519-4661-a490-3a3d65e31df6 button.colab-df-convert');\n",
              "        buttonEl.style.display =\n",
              "          google.colab.kernel.accessAllowed ? 'block' : 'none';\n",
              "\n",
              "        async function convertToInteractive(key) {\n",
              "          const element = document.querySelector('#df-d6d6058a-6519-4661-a490-3a3d65e31df6');\n",
              "          const dataTable =\n",
              "            await google.colab.kernel.invokeFunction('convertToInteractive',\n",
              "                                                     [key], {});\n",
              "          if (!dataTable) return;\n",
              "\n",
              "          const docLinkHtml = 'Like what you see? Visit the ' +\n",
              "            '<a target=\"_blank\" href=https://colab.research.google.com/notebooks/data_table.ipynb>data table notebook</a>'\n",
              "            + ' to learn more about interactive tables.';\n",
              "          element.innerHTML = '';\n",
              "          dataTable['output_type'] = 'display_data';\n",
              "          await google.colab.output.renderOutput(dataTable, element);\n",
              "          const docLink = document.createElement('div');\n",
              "          docLink.innerHTML = docLinkHtml;\n",
              "          element.appendChild(docLink);\n",
              "        }\n",
              "      </script>\n",
              "    </div>\n",
              "  </div>\n"
            ]
          },
          "metadata": {},
          "execution_count": 52
        }
      ],
      "source": [
        "# First 10 rows\n",
        "df.head(10)"
      ]
    },
    {
      "cell_type": "code",
      "execution_count": 53,
      "metadata": {
        "colab": {
          "base_uri": "https://localhost:8080/",
          "height": 407
        },
        "id": "Itqdnsz6M80z",
        "outputId": "e327c8d8-fd98-4ca9-ce64-a3bd3316b22f"
      },
      "outputs": [
        {
          "output_type": "execute_result",
          "data": {
            "text/plain": [
              "                  Source        Date  Type  Subjects  \\\n",
              "2951          sfgate.com  2005/02/09     1        13   \n",
              "1477          sfgate.com  2005/02/09     1        13   \n",
              "908           sfgate.com  2005/02/10     1         3   \n",
              "1897          sfgate.com  2005/03/02     1       6,3   \n",
              "4489  chicagotribune.com  2005/03/02     1         6   \n",
              "1381  chicagotribune.com  2005/03/11     1         6   \n",
              "253   chicagotribune.com  2005/03/11     1         6   \n",
              "3338          sfgate.com  2005/05/02     1  11,13,10   \n",
              "1206          sfgate.com  2005/05/25     1         3   \n",
              "1604          sfgate.com  2005/07/09     1         0   \n",
              "\n",
              "                                                   Text  \n",
              "2951  The Wild Parrots of Telegraph Hill was screene...  \n",
              "1477  While hanging around North Beach and contempla...  \n",
              "908          2-inch light-colored section of lemongrass  \n",
              "1897  In Iran, rice pudding can be eaten as a meal o...  \n",
              "4489  Their question reflected the pain they felt at...  \n",
              "1381  In hindsight, there were several warning flags...  \n",
              "253   The judge, Joan Humphrey Lefkow, ruled against...  \n",
              "3338  Sony agreed to sponsor the Mobile Movie Theate...  \n",
              "1206  If you use charcoal, you can arrange the coals...  \n",
              "1604  Since then we have made other furniture for hi...  "
            ],
            "text/html": [
              "\n",
              "\n",
              "  <div id=\"df-f3213c62-f7bc-45d6-baba-48ffc21dd0df\">\n",
              "    <div class=\"colab-df-container\">\n",
              "      <div>\n",
              "<style scoped>\n",
              "    .dataframe tbody tr th:only-of-type {\n",
              "        vertical-align: middle;\n",
              "    }\n",
              "\n",
              "    .dataframe tbody tr th {\n",
              "        vertical-align: top;\n",
              "    }\n",
              "\n",
              "    .dataframe thead th {\n",
              "        text-align: right;\n",
              "    }\n",
              "</style>\n",
              "<table border=\"1\" class=\"dataframe\">\n",
              "  <thead>\n",
              "    <tr style=\"text-align: right;\">\n",
              "      <th></th>\n",
              "      <th>Source</th>\n",
              "      <th>Date</th>\n",
              "      <th>Type</th>\n",
              "      <th>Subjects</th>\n",
              "      <th>Text</th>\n",
              "    </tr>\n",
              "  </thead>\n",
              "  <tbody>\n",
              "    <tr>\n",
              "      <th>2951</th>\n",
              "      <td>sfgate.com</td>\n",
              "      <td>2005/02/09</td>\n",
              "      <td>1</td>\n",
              "      <td>13</td>\n",
              "      <td>The Wild Parrots of Telegraph Hill was screene...</td>\n",
              "    </tr>\n",
              "    <tr>\n",
              "      <th>1477</th>\n",
              "      <td>sfgate.com</td>\n",
              "      <td>2005/02/09</td>\n",
              "      <td>1</td>\n",
              "      <td>13</td>\n",
              "      <td>While hanging around North Beach and contempla...</td>\n",
              "    </tr>\n",
              "    <tr>\n",
              "      <th>908</th>\n",
              "      <td>sfgate.com</td>\n",
              "      <td>2005/02/10</td>\n",
              "      <td>1</td>\n",
              "      <td>3</td>\n",
              "      <td>2-inch light-colored section of lemongrass</td>\n",
              "    </tr>\n",
              "    <tr>\n",
              "      <th>1897</th>\n",
              "      <td>sfgate.com</td>\n",
              "      <td>2005/03/02</td>\n",
              "      <td>1</td>\n",
              "      <td>6,3</td>\n",
              "      <td>In Iran, rice pudding can be eaten as a meal o...</td>\n",
              "    </tr>\n",
              "    <tr>\n",
              "      <th>4489</th>\n",
              "      <td>chicagotribune.com</td>\n",
              "      <td>2005/03/02</td>\n",
              "      <td>1</td>\n",
              "      <td>6</td>\n",
              "      <td>Their question reflected the pain they felt at...</td>\n",
              "    </tr>\n",
              "    <tr>\n",
              "      <th>1381</th>\n",
              "      <td>chicagotribune.com</td>\n",
              "      <td>2005/03/11</td>\n",
              "      <td>1</td>\n",
              "      <td>6</td>\n",
              "      <td>In hindsight, there were several warning flags...</td>\n",
              "    </tr>\n",
              "    <tr>\n",
              "      <th>253</th>\n",
              "      <td>chicagotribune.com</td>\n",
              "      <td>2005/03/11</td>\n",
              "      <td>1</td>\n",
              "      <td>6</td>\n",
              "      <td>The judge, Joan Humphrey Lefkow, ruled against...</td>\n",
              "    </tr>\n",
              "    <tr>\n",
              "      <th>3338</th>\n",
              "      <td>sfgate.com</td>\n",
              "      <td>2005/05/02</td>\n",
              "      <td>1</td>\n",
              "      <td>11,13,10</td>\n",
              "      <td>Sony agreed to sponsor the Mobile Movie Theate...</td>\n",
              "    </tr>\n",
              "    <tr>\n",
              "      <th>1206</th>\n",
              "      <td>sfgate.com</td>\n",
              "      <td>2005/05/25</td>\n",
              "      <td>1</td>\n",
              "      <td>3</td>\n",
              "      <td>If you use charcoal, you can arrange the coals...</td>\n",
              "    </tr>\n",
              "    <tr>\n",
              "      <th>1604</th>\n",
              "      <td>sfgate.com</td>\n",
              "      <td>2005/07/09</td>\n",
              "      <td>1</td>\n",
              "      <td>0</td>\n",
              "      <td>Since then we have made other furniture for hi...</td>\n",
              "    </tr>\n",
              "  </tbody>\n",
              "</table>\n",
              "</div>\n",
              "      <button class=\"colab-df-convert\" onclick=\"convertToInteractive('df-f3213c62-f7bc-45d6-baba-48ffc21dd0df')\"\n",
              "              title=\"Convert this dataframe to an interactive table.\"\n",
              "              style=\"display:none;\">\n",
              "\n",
              "  <svg xmlns=\"http://www.w3.org/2000/svg\" height=\"24px\"viewBox=\"0 0 24 24\"\n",
              "       width=\"24px\">\n",
              "    <path d=\"M0 0h24v24H0V0z\" fill=\"none\"/>\n",
              "    <path d=\"M18.56 5.44l.94 2.06.94-2.06 2.06-.94-2.06-.94-.94-2.06-.94 2.06-2.06.94zm-11 1L8.5 8.5l.94-2.06 2.06-.94-2.06-.94L8.5 2.5l-.94 2.06-2.06.94zm10 10l.94 2.06.94-2.06 2.06-.94-2.06-.94-.94-2.06-.94 2.06-2.06.94z\"/><path d=\"M17.41 7.96l-1.37-1.37c-.4-.4-.92-.59-1.43-.59-.52 0-1.04.2-1.43.59L10.3 9.45l-7.72 7.72c-.78.78-.78 2.05 0 2.83L4 21.41c.39.39.9.59 1.41.59.51 0 1.02-.2 1.41-.59l7.78-7.78 2.81-2.81c.8-.78.8-2.07 0-2.86zM5.41 20L4 18.59l7.72-7.72 1.47 1.35L5.41 20z\"/>\n",
              "  </svg>\n",
              "      </button>\n",
              "\n",
              "\n",
              "\n",
              "    <div id=\"df-b4d07c6e-6d77-4b39-ac52-018745938b19\">\n",
              "      <button class=\"colab-df-quickchart\" onclick=\"quickchart('df-b4d07c6e-6d77-4b39-ac52-018745938b19')\"\n",
              "              title=\"Suggest charts.\"\n",
              "              style=\"display:none;\">\n",
              "\n",
              "<svg xmlns=\"http://www.w3.org/2000/svg\" height=\"24px\"viewBox=\"0 0 24 24\"\n",
              "     width=\"24px\">\n",
              "    <g>\n",
              "        <path d=\"M19 3H5c-1.1 0-2 .9-2 2v14c0 1.1.9 2 2 2h14c1.1 0 2-.9 2-2V5c0-1.1-.9-2-2-2zM9 17H7v-7h2v7zm4 0h-2V7h2v10zm4 0h-2v-4h2v4z\"/>\n",
              "    </g>\n",
              "</svg>\n",
              "      </button>\n",
              "    </div>\n",
              "\n",
              "<style>\n",
              "  .colab-df-quickchart {\n",
              "    background-color: #E8F0FE;\n",
              "    border: none;\n",
              "    border-radius: 50%;\n",
              "    cursor: pointer;\n",
              "    display: none;\n",
              "    fill: #1967D2;\n",
              "    height: 32px;\n",
              "    padding: 0 0 0 0;\n",
              "    width: 32px;\n",
              "  }\n",
              "\n",
              "  .colab-df-quickchart:hover {\n",
              "    background-color: #E2EBFA;\n",
              "    box-shadow: 0px 1px 2px rgba(60, 64, 67, 0.3), 0px 1px 3px 1px rgba(60, 64, 67, 0.15);\n",
              "    fill: #174EA6;\n",
              "  }\n",
              "\n",
              "  [theme=dark] .colab-df-quickchart {\n",
              "    background-color: #3B4455;\n",
              "    fill: #D2E3FC;\n",
              "  }\n",
              "\n",
              "  [theme=dark] .colab-df-quickchart:hover {\n",
              "    background-color: #434B5C;\n",
              "    box-shadow: 0px 1px 3px 1px rgba(0, 0, 0, 0.15);\n",
              "    filter: drop-shadow(0px 1px 2px rgba(0, 0, 0, 0.3));\n",
              "    fill: #FFFFFF;\n",
              "  }\n",
              "</style>\n",
              "\n",
              "    <script>\n",
              "      async function quickchart(key) {\n",
              "        const containerElement = document.querySelector('#' + key);\n",
              "        const charts = await google.colab.kernel.invokeFunction(\n",
              "            'suggestCharts', [key], {});\n",
              "      }\n",
              "    </script>\n",
              "\n",
              "      <script>\n",
              "\n",
              "function displayQuickchartButton(domScope) {\n",
              "  let quickchartButtonEl =\n",
              "    domScope.querySelector('#df-b4d07c6e-6d77-4b39-ac52-018745938b19 button.colab-df-quickchart');\n",
              "  quickchartButtonEl.style.display =\n",
              "    google.colab.kernel.accessAllowed ? 'block' : 'none';\n",
              "}\n",
              "\n",
              "        displayQuickchartButton(document);\n",
              "      </script>\n",
              "      <style>\n",
              "    .colab-df-container {\n",
              "      display:flex;\n",
              "      flex-wrap:wrap;\n",
              "      gap: 12px;\n",
              "    }\n",
              "\n",
              "    .colab-df-convert {\n",
              "      background-color: #E8F0FE;\n",
              "      border: none;\n",
              "      border-radius: 50%;\n",
              "      cursor: pointer;\n",
              "      display: none;\n",
              "      fill: #1967D2;\n",
              "      height: 32px;\n",
              "      padding: 0 0 0 0;\n",
              "      width: 32px;\n",
              "    }\n",
              "\n",
              "    .colab-df-convert:hover {\n",
              "      background-color: #E2EBFA;\n",
              "      box-shadow: 0px 1px 2px rgba(60, 64, 67, 0.3), 0px 1px 3px 1px rgba(60, 64, 67, 0.15);\n",
              "      fill: #174EA6;\n",
              "    }\n",
              "\n",
              "    [theme=dark] .colab-df-convert {\n",
              "      background-color: #3B4455;\n",
              "      fill: #D2E3FC;\n",
              "    }\n",
              "\n",
              "    [theme=dark] .colab-df-convert:hover {\n",
              "      background-color: #434B5C;\n",
              "      box-shadow: 0px 1px 3px 1px rgba(0, 0, 0, 0.15);\n",
              "      filter: drop-shadow(0px 1px 2px rgba(0, 0, 0, 0.3));\n",
              "      fill: #FFFFFF;\n",
              "    }\n",
              "  </style>\n",
              "\n",
              "      <script>\n",
              "        const buttonEl =\n",
              "          document.querySelector('#df-f3213c62-f7bc-45d6-baba-48ffc21dd0df button.colab-df-convert');\n",
              "        buttonEl.style.display =\n",
              "          google.colab.kernel.accessAllowed ? 'block' : 'none';\n",
              "\n",
              "        async function convertToInteractive(key) {\n",
              "          const element = document.querySelector('#df-f3213c62-f7bc-45d6-baba-48ffc21dd0df');\n",
              "          const dataTable =\n",
              "            await google.colab.kernel.invokeFunction('convertToInteractive',\n",
              "                                                     [key], {});\n",
              "          if (!dataTable) return;\n",
              "\n",
              "          const docLinkHtml = 'Like what you see? Visit the ' +\n",
              "            '<a target=\"_blank\" href=https://colab.research.google.com/notebooks/data_table.ipynb>data table notebook</a>'\n",
              "            + ' to learn more about interactive tables.';\n",
              "          element.innerHTML = '';\n",
              "          dataTable['output_type'] = 'display_data';\n",
              "          await google.colab.output.renderOutput(dataTable, element);\n",
              "          const docLink = document.createElement('div');\n",
              "          docLink.innerHTML = docLinkHtml;\n",
              "          element.appendChild(docLink);\n",
              "        }\n",
              "      </script>\n",
              "    </div>\n",
              "  </div>\n"
            ]
          },
          "metadata": {},
          "execution_count": 53
        }
      ],
      "source": [
        "# Let us sort by Date - even though it is a string type\n",
        "\n",
        "df = df.sort_values(by=\"Date\", ascending=True)  # ascending is True by default, if you wanted Descending you could use ascending=False\n",
        "\n",
        "df.head(10)"
      ]
    },
    {
      "cell_type": "markdown",
      "metadata": {
        "id": "h5JPnHPNNdRo"
      },
      "source": [
        "### Extracting Text from dataframe"
      ]
    },
    {
      "cell_type": "code",
      "execution_count": 54,
      "metadata": {
        "colab": {
          "base_uri": "https://localhost:8080/"
        },
        "id": "zV0TktGUNYa_",
        "outputId": "e8f1d905-06d0-4c9d-c04b-b9deb2e60c1b"
      },
      "outputs": [
        {
          "output_type": "execute_result",
          "data": {
            "text/plain": [
              "4953"
            ]
          },
          "metadata": {},
          "execution_count": 54
        }
      ],
      "source": [
        "### Extracting the Text column from the dataframe\n",
        "\n",
        "documents = list(df.Text)  # df[\"Text\"].tolist() would do the same\n",
        "len(documents)\n"
      ]
    },
    {
      "cell_type": "code",
      "execution_count": 55,
      "metadata": {
        "colab": {
          "base_uri": "https://localhost:8080/"
        },
        "id": "2ftwKgGZVKUg",
        "outputId": "bd68c11e-414b-4fe6-9a09-ed6782e2a9b7"
      },
      "outputs": [
        {
          "output_type": "execute_result",
          "data": {
            "text/plain": [
              "list"
            ]
          },
          "metadata": {},
          "execution_count": 55
        }
      ],
      "source": [
        "type(documents)"
      ]
    },
    {
      "cell_type": "code",
      "execution_count": 56,
      "metadata": {
        "colab": {
          "base_uri": "https://localhost:8080/"
        },
        "id": "gN_MVv2PN1Xb",
        "outputId": "fd095d5e-6c10-4b85-e360-2b614be3af37"
      },
      "outputs": [
        {
          "output_type": "execute_result",
          "data": {
            "text/plain": [
              "['The Wild Parrots of Telegraph Hill was screened last year at the S.F. International Film Festival.',\n",
              " \"While hanging around North Beach and contemplating his future, Bittner, inspired by the eco-friendly writings of Gary Snyder, took to bird-watching. He soon focused his attention on his neighborhood's flock of cherry-headed conures (also known as red-masked parakeets), birds native to South America that either got away from, or were rejected by, their local owners, or escaped during shipment to pet stores. After a long period of patiently building trust, Bittner bonded with the animals, and the results, as captured by filmmaker Judy Irving, are fun to watch. The parrots not only eat out of Bittner's hands, but perch on his shoulders and head as he addresses them by name. Bittner got to know his feathered friends so well that he could recognize individuals, and he happily recounts their stories.\",\n",
              " '2-inch light-colored section of lemongrass']"
            ]
          },
          "metadata": {},
          "execution_count": 56
        }
      ],
      "source": [
        "documents[:3]  # first three documents"
      ]
    },
    {
      "cell_type": "code",
      "source": [
        "documents[1]"
      ],
      "metadata": {
        "colab": {
          "base_uri": "https://localhost:8080/",
          "height": 202
        },
        "id": "ZU6f1Nc3YCXx",
        "outputId": "a088c0fb-0bc7-46ec-f3ef-f001e0eaec12"
      },
      "execution_count": 57,
      "outputs": [
        {
          "output_type": "execute_result",
          "data": {
            "text/plain": [
              "\"While hanging around North Beach and contemplating his future, Bittner, inspired by the eco-friendly writings of Gary Snyder, took to bird-watching. He soon focused his attention on his neighborhood's flock of cherry-headed conures (also known as red-masked parakeets), birds native to South America that either got away from, or were rejected by, their local owners, or escaped during shipment to pet stores. After a long period of patiently building trust, Bittner bonded with the animals, and the results, as captured by filmmaker Judy Irving, are fun to watch. The parrots not only eat out of Bittner's hands, but perch on his shoulders and head as he addresses them by name. Bittner got to know his feathered friends so well that he could recognize individuals, and he happily recounts their stories.\""
            ],
            "application/vnd.google.colaboratory.intrinsic+json": {
              "type": "string"
            }
          },
          "metadata": {},
          "execution_count": 57
        }
      ]
    },
    {
      "cell_type": "code",
      "execution_count": 58,
      "metadata": {
        "colab": {
          "base_uri": "https://localhost:8080/"
        },
        "id": "xLLGPiE4OBs8",
        "outputId": "aa21ae0e-303a-4a7b-d42e-592b0cd55436"
      },
      "outputs": [
        {
          "output_type": "execute_result",
          "data": {
            "text/plain": [
              "1018052"
            ]
          },
          "metadata": {},
          "execution_count": 58
        }
      ],
      "source": [
        "# for the purpose of this analysis we will join all the documents together\n",
        "# this is not always appropriate depending on your needs\n",
        "\n",
        "all_docs = \"\\n\".join(documents)\n",
        "len(all_docs)"
      ]
    },
    {
      "cell_type": "code",
      "execution_count": 59,
      "metadata": {
        "colab": {
          "base_uri": "https://localhost:8080/",
          "height": 54
        },
        "id": "1ek62y91OQLs",
        "outputId": "94f2056e-8ad2-4be0-e53b-19bca57f5c3e"
      },
      "outputs": [
        {
          "output_type": "execute_result",
          "data": {
            "text/plain": [
              "'The Wild Parrots of Telegraph Hill was screened last year at the S.F. International Film Festival.\\nWhile hanging around '"
            ],
            "application/vnd.google.colaboratory.intrinsic+json": {
              "type": "string"
            }
          },
          "metadata": {},
          "execution_count": 59
        }
      ],
      "source": [
        "all_docs[:120] # so now all documents are in one big string\n",
        "# notice the \\n indicating newlines"
      ]
    },
    {
      "cell_type": "markdown",
      "metadata": {
        "id": "5ziR_UYJQKJs"
      },
      "source": [
        "Next, we lowercase our text and use the Natural Language Toolkit (NLTK) to tokenize it. Tokenizing breaks up the the document into individual words. Finally, we use our tokens to create an NLTK Text object."
      ]
    },
    {
      "cell_type": "code",
      "execution_count": 60,
      "metadata": {
        "colab": {
          "base_uri": "https://localhost:8080/"
        },
        "id": "EOfqusj6QQfj",
        "outputId": "c0bd30bf-5c73-495f-d9c8-ff6ad7da17ad"
      },
      "outputs": [
        {
          "output_type": "stream",
          "name": "stderr",
          "text": [
            "[nltk_data] Downloading package punkt to /root/nltk_data...\n",
            "[nltk_data]   Package punkt is already up-to-date!\n"
          ]
        }
      ],
      "source": [
        "# Tokenize\n",
        "\n",
        "import nltk  # not needed if you already imported\n",
        "nltk.download('punkt')  # again not needed if you already downloaded punkt\n",
        "\n",
        "file_contents = all_docs.lower()\n",
        "tokens = nltk.word_tokenize(file_contents)\n",
        "\n",
        "text = nltk.Text(tokens)"
      ]
    },
    {
      "cell_type": "code",
      "execution_count": 61,
      "metadata": {
        "colab": {
          "base_uri": "https://localhost:8080/"
        },
        "id": "xtBcbq1eQbtr",
        "outputId": "2ef51dd6-0b53-41b3-cbca-641985399c10"
      },
      "outputs": [
        {
          "output_type": "execute_result",
          "data": {
            "text/plain": [
              "nltk.text.Text"
            ]
          },
          "metadata": {},
          "execution_count": 61
        }
      ],
      "source": [
        "# Verify that we have created an NLTK Text object\n",
        "type(text)"
      ]
    },
    {
      "cell_type": "code",
      "execution_count": 62,
      "metadata": {
        "colab": {
          "base_uri": "https://localhost:8080/"
        },
        "id": "Fd4bZGsHQd28",
        "outputId": "b81ff665-2122-4d98-fd64-819af9b3cd39"
      },
      "outputs": [
        {
          "output_type": "stream",
          "name": "stdout",
          "text": [
            "Displaying 25 of 169 matches:\n",
            "t national monument , nearly half a million acres of starkly beautiful desert l\n",
            "pages . it has raised more than $ 2 million from draper fisher jurvetson and ot\n",
            " hospital recently completed a $ 10 million renovation of its emergency departm\n",
            "ieve mistakenly awarded up to $ 4.5 million in power bill subsidies to low-inco\n",
            " $ 900,000 is less than the $ 1.125 million the city was seeking , which includ\n",
            ". in january , it landed a new $ 10 million round , led by bestbuy capital , th\n",
            " at a deficit -- projecting a $ 3.1 million loss that is only being offset by $\n",
            "s that is only being offset by $ 15 million in temporary payments from xanadu ,\n",
            "orts authority from xanadu -- $ 160 million -- has now been spent , with only a\n",
            "w been spent , with only about $ 15 million left to offset future budget shortf\n",
            "ual rate for the month will be 14.3 million , the average estimate of 10 analys\n",
            "e or buy health insurance , with 31 million more americans getting coverage . t\n",
            "d fire retirement costs rise by $ 6 million from the $ 32 million the city alre\n",
            "s rise by $ 6 million from the $ 32 million the city already spends . “ they ’ \n",
            "a said thursday it is recalling 2.3 million vehicles in the u.s. to fix acceler\n",
            "jobs , '' he said. `` gmail has 176 million users , according to research firm \n",
            "mccabe said was taking in about $ 1 million a month from illegal sale of oxycod\n",
            " in the midden of a collapsed $ 190 million ponzi scheme headed by minneapolis \n",
            "ts `` could ultimately exceed $ 100 million . '' skinner was the first to shape\n",
            ". his fortune was estimated at $ 75 million in the early '90s . for more than t\n",
            "ays . it turns 100 this year ; $ 17 million in renovations in the mid-1990s cou\n",
            "also was ordered to make nearly $ 7 million in restitution to keybank , na . in\n",
            "ution for the bridge project of $ 8 million a year for 20 years . adams said th\n",
            "sulting in a total of more than $ 1 million for the project , werner said . abo\n",
            "w 61 , was originally granted $ 1.1 million — $ 500,000 for economic losses , $\n"
          ]
        }
      ],
      "source": [
        "# Create a concordance for the given word\n",
        "text.concordance('million')"
      ]
    },
    {
      "cell_type": "markdown",
      "metadata": {
        "id": "ewhALtehQt7B"
      },
      "source": [
        "By default, the first 25 matches are printed along with 80 characters on each side of our string text. We can specify that more lines should be shown using a `lines` and `width` argument that accept integers."
      ]
    },
    {
      "cell_type": "code",
      "execution_count": null,
      "metadata": {
        "id": "D2uJ1SoCQvOq"
      },
      "outputs": [],
      "source": [
        "# Create a concordance for the given word\n",
        "# Increasing lines shown and number of characters\n",
        "text.concordance('school', lines=50, width=100)"
      ]
    },
    {
      "cell_type": "markdown",
      "metadata": {
        "id": "uwzZJ-47Q9Ed"
      },
      "source": [
        "If we want to supply a bigram, trigram, or longer construction, they are supplied as individual strings within a Python list. (If you try to supply a string with a space in the middle, there will be no results.)"
      ]
    },
    {
      "cell_type": "code",
      "execution_count": 63,
      "metadata": {
        "colab": {
          "base_uri": "https://localhost:8080/"
        },
        "id": "Srxv5oxCQ5IP",
        "outputId": "a5593188-7627-46e2-b0ad-3ea9a260c4d5"
      },
      "outputs": [
        {
          "output_type": "stream",
          "name": "stdout",
          "text": [
            "Displaying 25 of 46 matches:\n",
            "e age of 8. two boys on the local high school football team write in their engl\n",
            "l catastrophic injuries to female high school athletes in the past quarter-cent\n",
            "plans to implement at perth amboy high school in 2011 , district spokesman bria\n",
            " wo n't likely be part of the new high school system . but it 's still unclear \n",
            " , george middle school , biztech high school , arts , communications and techn\n",
            "reat that my dad did so well ( in high school ) . i try and look up to him and \n",
            "s part of end-of-course tests for high school students in algebra 1 , english 2\n",
            "acement tests are coming up , and high school students across the county are st\n",
            "d problems when i first came into high school , student keisha weeks , 17 , sai\n",
            "child is likely to be on track in high school as well . for sherwood , the brai\n",
            "her senior year at breese central high school with a second consecutive year of\n",
            "f teaching at arlington community high school , a place with its own tough repu\n",
            "a mentoring role in the life of a high school student . coach pat shurmur said \n",
            " as your junior or senior year in high school . check with your guidance counse\n",
            "ne to buy tickets for the kennedy high school grad nite at disneyland is may 10\n",
            "both students at southwest dekalb high school , a school that boasts a powerhou\n",
            "nds ; harris attended druid hills high school . 525 america the first daughters\n",
            ". on its alumni website , mcbride high school gives major kudos to its team tha\n",
            "hich does wedding photography and high school senior portraits . and after play\n",
            "d some bread . for webster groves high school students , it was an important pa\n",
            "der suspect , who is also her old high school crush . pretty convenient , eh ? \n",
            "ntary education , she married her high school sweetheart . the vietnam war was \n",
            "s was less than $ 1,200 . clayton high school took top team honors in the large\n",
            "better than nothing . i am just a high school student so i understand that my k\n",
            ", where he graduated from gresham high school in 1953. that has n't changed in \n"
          ]
        }
      ],
      "source": [
        "# Create a concordance for a sequence of words\n",
        "text.concordance(['high', 'school'])"
      ]
    },
    {
      "cell_type": "code",
      "execution_count": 64,
      "metadata": {
        "colab": {
          "base_uri": "https://localhost:8080/"
        },
        "id": "FKbOvlF1WS5w",
        "outputId": "5bb33962-0825-4b86-88e9-49ca8cd9c250"
      },
      "outputs": [
        {
          "output_type": "stream",
          "name": "stdout",
          "text": [
            "no matches\n"
          ]
        }
      ],
      "source": [
        "text.concordance('high school')"
      ]
    },
    {
      "cell_type": "markdown",
      "metadata": {
        "id": "T1iSikW6ROoR"
      },
      "source": [
        "This method works well for a quick preview of the lines, but if we want to save this concordance for later analysis we can use the `.concordance_list()` method. The `.concordance_list()` method outputs a list, but the elements of that list *are not* simple strings. They are ConcordanceLine objects."
      ]
    },
    {
      "cell_type": "code",
      "execution_count": 65,
      "metadata": {
        "id": "XI3V-jfLRQen"
      },
      "outputs": [],
      "source": [
        "# Output the concordance data\n",
        "output_list = text.concordance_list(['high', 'school'], width=200, lines=50)  # we do not have 50 matches in our dataset"
      ]
    },
    {
      "cell_type": "code",
      "execution_count": 66,
      "metadata": {
        "colab": {
          "base_uri": "https://localhost:8080/"
        },
        "id": "7VqhAHkCRHb8",
        "outputId": "a56983b1-0c24-42d9-d585-20a28f0671f2"
      },
      "outputs": [
        {
          "output_type": "execute_result",
          "data": {
            "text/plain": [
              "nltk.text.ConcordanceLine"
            ]
          },
          "metadata": {},
          "execution_count": 66
        }
      ],
      "source": [
        "type(output_list[0])"
      ]
    },
    {
      "cell_type": "code",
      "source": [
        "len(output_list)"
      ],
      "metadata": {
        "colab": {
          "base_uri": "https://localhost:8080/"
        },
        "id": "pi9KaizbZLsN",
        "outputId": "a77adf63-3853-490b-cef6-bbf145386850"
      },
      "execution_count": 69,
      "outputs": [
        {
          "output_type": "execute_result",
          "data": {
            "text/plain": [
              "46"
            ]
          },
          "metadata": {},
          "execution_count": 69
        }
      ]
    },
    {
      "cell_type": "code",
      "execution_count": 67,
      "metadata": {
        "colab": {
          "base_uri": "https://localhost:8080/",
          "height": 73
        },
        "id": "tJC-ZB9LRrzw",
        "outputId": "59dff34f-ce56-415c-9b8b-0734750878c9"
      },
      "outputs": [
        {
          "output_type": "execute_result",
          "data": {
            "text/plain": [
              "'baker , she started churning out treats for her family at the age of 8. two boys on the local high school football team write in their english assignment that they want to butcher their teacher and d'"
            ],
            "application/vnd.google.colaboratory.intrinsic+json": {
              "type": "string"
            }
          },
          "metadata": {},
          "execution_count": 67
        }
      ],
      "source": [
        "# We can view individual lines by using a Python list index followed by .line.\n",
        "output_list[0].line"
      ]
    },
    {
      "cell_type": "code",
      "execution_count": 68,
      "metadata": {
        "colab": {
          "base_uri": "https://localhost:8080/",
          "height": 36
        },
        "id": "2XTeADP_Wygw",
        "outputId": "96b2db00-3113-4cf6-bab6-7dcd74081754"
      },
      "outputs": [
        {
          "output_type": "execute_result",
          "data": {
            "text/plain": [
              "'high school'"
            ],
            "application/vnd.google.colaboratory.intrinsic+json": {
              "type": "string"
            }
          },
          "metadata": {},
          "execution_count": 68
        }
      ],
      "source": [
        "output_list[0].query"
      ]
    },
    {
      "cell_type": "markdown",
      "metadata": {
        "id": "kEOUvXeZR3Ph"
      },
      "source": [
        "If we want to save our concordance, we can write to a file line-by-line."
      ]
    },
    {
      "cell_type": "code",
      "execution_count": 70,
      "metadata": {
        "id": "K9-09WRYR2er"
      },
      "outputs": [],
      "source": [
        "# Writing the concordance to a text file\n",
        "\n",
        "# encoding=\"utf-8\" is very important for languages using symbols outside regular English characters\n",
        "with open('my_concordance.txt', mode='w', encoding=\"utf-8\") as f:\n",
        "\n",
        "    for row in output_list:\n",
        "        f.write(row.line)\n",
        "        f.write('\\n')"
      ]
    },
    {
      "cell_type": "markdown",
      "metadata": {
        "id": "ZYj0p7ztOpKS"
      },
      "source": [
        "#### If you are using Google Colab, it is important to download saved files!\n",
        "\n",
        "Files saved to the local directory (e.g. my_concordance.txt) of Google Colab servers will disappear after some time. In order to save these files, download them.\n",
        "\n",
        "Another alternative is to save files to Google Drive folders in the first place."
      ]
    },
    {
      "cell_type": "markdown",
      "metadata": {
        "id": "A3WrsuE-LLho"
      },
      "source": [
        "## Normalizing text"
      ]
    },
    {
      "cell_type": "markdown",
      "metadata": {
        "id": "_3a9rLvkLLhq"
      },
      "source": [
        "**Normalizing text is covered in NLTK Book section 3.6:**\n",
        "https://www.nltk.org/book/ch03.html#sec-normalizing-text\n",
        "\n",
        "Yesterday we already normalized / converted text to lowercase but often that's not enough.\n",
        "\n",
        "We may want to go further and strip off any affixes, a task known as *stemming*. A further step is to make sure that the resulting form is a known word in a dictionary, a task known as *lemmatization*.\n",
        "\n",
        "NLTK offers some stemming and lemmatization functions but they are limited to just some languages (e.g. Latvian is not one of them).\n",
        "\n",
        "https://www.nltk.org/api/nltk.stem.html"
      ]
    },
    {
      "cell_type": "code",
      "execution_count": 71,
      "metadata": {
        "colab": {
          "base_uri": "https://localhost:8080/"
        },
        "id": "hjzPW0TkLLhr",
        "outputId": "2445d9ff-f19c-4d79-8af7-cb9aa9aabef4"
      },
      "outputs": [
        {
          "output_type": "stream",
          "name": "stdout",
          "text": [
            "denni : listen , strang women lie in pond distribut sword is no basi for a system of govern . suprem execut power deriv from a mandat from the mass , not from some farcic aquat ceremoni . "
          ]
        }
      ],
      "source": [
        "raw = \"\"\"DENNIS: Listen, strange women lying in ponds distributing swords\n",
        "is no basis for a system of government.  Supreme executive power derives from\n",
        "a mandate from the masses, not from some farcical aquatic ceremony.\"\"\"\n",
        "\n",
        "tokens = word_tokenize(raw)\n",
        "\n",
        "porter = nltk.PorterStemmer()\n",
        "\n",
        "for t in tokens:\n",
        "    print(porter.stem(t), end=\" \")"
      ]
    },
    {
      "cell_type": "code",
      "execution_count": 72,
      "metadata": {
        "colab": {
          "base_uri": "https://localhost:8080/"
        },
        "id": "5uZrxsAaZmWd",
        "outputId": "f1dc6bdd-c551-48ea-db9c-dd49d43a09f3"
      },
      "outputs": [
        {
          "output_type": "stream",
          "name": "stderr",
          "text": [
            "[nltk_data] Downloading package omw-1.4 to /root/nltk_data...\n"
          ]
        },
        {
          "output_type": "execute_result",
          "data": {
            "text/plain": [
              "True"
            ]
          },
          "metadata": {},
          "execution_count": 72
        }
      ],
      "source": [
        "nltk.download('omw-1.4')"
      ]
    },
    {
      "cell_type": "code",
      "execution_count": 73,
      "metadata": {
        "colab": {
          "base_uri": "https://localhost:8080/"
        },
        "id": "Z5FUvrqzLLht",
        "outputId": "d6677704-5aaa-40d0-e6ed-eccf550d4a29"
      },
      "outputs": [
        {
          "output_type": "stream",
          "name": "stdout",
          "text": [
            "DENNIS : Listen , strange woman lying in pond distributing sword is no basis for a system of government . Supreme executive power derives from a mandate from the mass , not from some farcical aquatic ceremony . "
          ]
        }
      ],
      "source": [
        "from nltk.stem import WordNetLemmatizer\n",
        "wnl = WordNetLemmatizer()\n",
        "\n",
        "for t in tokens:\n",
        "    print(wnl.lemmatize(t), end=\" \")"
      ]
    },
    {
      "cell_type": "markdown",
      "metadata": {
        "id": "Q4Mx0668OpKT"
      },
      "source": [
        "## (Bonus) Working with languages not supported by NLTK"
      ]
    },
    {
      "cell_type": "code",
      "execution_count": 74,
      "metadata": {
        "id": "cgt_hS-XOpKT"
      },
      "outputs": [],
      "source": [
        "url = \"https://github.com/CaptSolo/BSSDH_2023_beginners/raw/main/corpora/lv_old_newspapers_5k.tsv\"\n",
        "\n",
        "# Read a CSV file and put its contents in a Pandas dataframe\n",
        "df = pd.read_csv(url, sep=\"\\t\")"
      ]
    },
    {
      "cell_type": "code",
      "execution_count": 75,
      "metadata": {
        "colab": {
          "base_uri": "https://localhost:8080/",
          "height": 206
        },
        "id": "AX8-04jZOpKU",
        "outputId": "23499b28-1c6a-4c42-d579-0872a271f493"
      },
      "outputs": [
        {
          "output_type": "execute_result",
          "data": {
            "text/plain": [
              "  Language           Source        Date  \\\n",
              "0  Latvian     rekurzeme.lv  2008/09/04   \n",
              "1  Latvian         diena.lv  2012/01/10   \n",
              "2  Latvian  bauskasdzive.lv  2007/12/27   \n",
              "3  Latvian  bauskasdzive.lv  2008/10/08   \n",
              "4  Latvian         diena.lv  2011/10/05   \n",
              "\n",
              "                                                Text  \n",
              "0  \"Viņa pirmsnāves zīmītē bija rakstīts vienīgi ...  \n",
              "1                               info@zurnalistiem.lv  \n",
              "2  Bhuto, kas Pakistānā no trimdas atgriezās tika...  \n",
              "3  Plkst. 4.00 Samoilovs / Pļaviņš (pludmales vol...  \n",
              "4  CVK bija vērsusies Skaburska, lūdzot izskaidro...  "
            ],
            "text/html": [
              "\n",
              "\n",
              "  <div id=\"df-f333d69a-9cc6-4e9e-96b5-3211ed12f19c\">\n",
              "    <div class=\"colab-df-container\">\n",
              "      <div>\n",
              "<style scoped>\n",
              "    .dataframe tbody tr th:only-of-type {\n",
              "        vertical-align: middle;\n",
              "    }\n",
              "\n",
              "    .dataframe tbody tr th {\n",
              "        vertical-align: top;\n",
              "    }\n",
              "\n",
              "    .dataframe thead th {\n",
              "        text-align: right;\n",
              "    }\n",
              "</style>\n",
              "<table border=\"1\" class=\"dataframe\">\n",
              "  <thead>\n",
              "    <tr style=\"text-align: right;\">\n",
              "      <th></th>\n",
              "      <th>Language</th>\n",
              "      <th>Source</th>\n",
              "      <th>Date</th>\n",
              "      <th>Text</th>\n",
              "    </tr>\n",
              "  </thead>\n",
              "  <tbody>\n",
              "    <tr>\n",
              "      <th>0</th>\n",
              "      <td>Latvian</td>\n",
              "      <td>rekurzeme.lv</td>\n",
              "      <td>2008/09/04</td>\n",
              "      <td>\"Viņa pirmsnāves zīmītē bija rakstīts vienīgi ...</td>\n",
              "    </tr>\n",
              "    <tr>\n",
              "      <th>1</th>\n",
              "      <td>Latvian</td>\n",
              "      <td>diena.lv</td>\n",
              "      <td>2012/01/10</td>\n",
              "      <td>info@zurnalistiem.lv</td>\n",
              "    </tr>\n",
              "    <tr>\n",
              "      <th>2</th>\n",
              "      <td>Latvian</td>\n",
              "      <td>bauskasdzive.lv</td>\n",
              "      <td>2007/12/27</td>\n",
              "      <td>Bhuto, kas Pakistānā no trimdas atgriezās tika...</td>\n",
              "    </tr>\n",
              "    <tr>\n",
              "      <th>3</th>\n",
              "      <td>Latvian</td>\n",
              "      <td>bauskasdzive.lv</td>\n",
              "      <td>2008/10/08</td>\n",
              "      <td>Plkst. 4.00 Samoilovs / Pļaviņš (pludmales vol...</td>\n",
              "    </tr>\n",
              "    <tr>\n",
              "      <th>4</th>\n",
              "      <td>Latvian</td>\n",
              "      <td>diena.lv</td>\n",
              "      <td>2011/10/05</td>\n",
              "      <td>CVK bija vērsusies Skaburska, lūdzot izskaidro...</td>\n",
              "    </tr>\n",
              "  </tbody>\n",
              "</table>\n",
              "</div>\n",
              "      <button class=\"colab-df-convert\" onclick=\"convertToInteractive('df-f333d69a-9cc6-4e9e-96b5-3211ed12f19c')\"\n",
              "              title=\"Convert this dataframe to an interactive table.\"\n",
              "              style=\"display:none;\">\n",
              "\n",
              "  <svg xmlns=\"http://www.w3.org/2000/svg\" height=\"24px\"viewBox=\"0 0 24 24\"\n",
              "       width=\"24px\">\n",
              "    <path d=\"M0 0h24v24H0V0z\" fill=\"none\"/>\n",
              "    <path d=\"M18.56 5.44l.94 2.06.94-2.06 2.06-.94-2.06-.94-.94-2.06-.94 2.06-2.06.94zm-11 1L8.5 8.5l.94-2.06 2.06-.94-2.06-.94L8.5 2.5l-.94 2.06-2.06.94zm10 10l.94 2.06.94-2.06 2.06-.94-2.06-.94-.94-2.06-.94 2.06-2.06.94z\"/><path d=\"M17.41 7.96l-1.37-1.37c-.4-.4-.92-.59-1.43-.59-.52 0-1.04.2-1.43.59L10.3 9.45l-7.72 7.72c-.78.78-.78 2.05 0 2.83L4 21.41c.39.39.9.59 1.41.59.51 0 1.02-.2 1.41-.59l7.78-7.78 2.81-2.81c.8-.78.8-2.07 0-2.86zM5.41 20L4 18.59l7.72-7.72 1.47 1.35L5.41 20z\"/>\n",
              "  </svg>\n",
              "      </button>\n",
              "\n",
              "\n",
              "\n",
              "    <div id=\"df-8af3fcd6-7cb1-450b-9888-0ef7dc23a7a4\">\n",
              "      <button class=\"colab-df-quickchart\" onclick=\"quickchart('df-8af3fcd6-7cb1-450b-9888-0ef7dc23a7a4')\"\n",
              "              title=\"Suggest charts.\"\n",
              "              style=\"display:none;\">\n",
              "\n",
              "<svg xmlns=\"http://www.w3.org/2000/svg\" height=\"24px\"viewBox=\"0 0 24 24\"\n",
              "     width=\"24px\">\n",
              "    <g>\n",
              "        <path d=\"M19 3H5c-1.1 0-2 .9-2 2v14c0 1.1.9 2 2 2h14c1.1 0 2-.9 2-2V5c0-1.1-.9-2-2-2zM9 17H7v-7h2v7zm4 0h-2V7h2v10zm4 0h-2v-4h2v4z\"/>\n",
              "    </g>\n",
              "</svg>\n",
              "      </button>\n",
              "    </div>\n",
              "\n",
              "<style>\n",
              "  .colab-df-quickchart {\n",
              "    background-color: #E8F0FE;\n",
              "    border: none;\n",
              "    border-radius: 50%;\n",
              "    cursor: pointer;\n",
              "    display: none;\n",
              "    fill: #1967D2;\n",
              "    height: 32px;\n",
              "    padding: 0 0 0 0;\n",
              "    width: 32px;\n",
              "  }\n",
              "\n",
              "  .colab-df-quickchart:hover {\n",
              "    background-color: #E2EBFA;\n",
              "    box-shadow: 0px 1px 2px rgba(60, 64, 67, 0.3), 0px 1px 3px 1px rgba(60, 64, 67, 0.15);\n",
              "    fill: #174EA6;\n",
              "  }\n",
              "\n",
              "  [theme=dark] .colab-df-quickchart {\n",
              "    background-color: #3B4455;\n",
              "    fill: #D2E3FC;\n",
              "  }\n",
              "\n",
              "  [theme=dark] .colab-df-quickchart:hover {\n",
              "    background-color: #434B5C;\n",
              "    box-shadow: 0px 1px 3px 1px rgba(0, 0, 0, 0.15);\n",
              "    filter: drop-shadow(0px 1px 2px rgba(0, 0, 0, 0.3));\n",
              "    fill: #FFFFFF;\n",
              "  }\n",
              "</style>\n",
              "\n",
              "    <script>\n",
              "      async function quickchart(key) {\n",
              "        const containerElement = document.querySelector('#' + key);\n",
              "        const charts = await google.colab.kernel.invokeFunction(\n",
              "            'suggestCharts', [key], {});\n",
              "      }\n",
              "    </script>\n",
              "\n",
              "      <script>\n",
              "\n",
              "function displayQuickchartButton(domScope) {\n",
              "  let quickchartButtonEl =\n",
              "    domScope.querySelector('#df-8af3fcd6-7cb1-450b-9888-0ef7dc23a7a4 button.colab-df-quickchart');\n",
              "  quickchartButtonEl.style.display =\n",
              "    google.colab.kernel.accessAllowed ? 'block' : 'none';\n",
              "}\n",
              "\n",
              "        displayQuickchartButton(document);\n",
              "      </script>\n",
              "      <style>\n",
              "    .colab-df-container {\n",
              "      display:flex;\n",
              "      flex-wrap:wrap;\n",
              "      gap: 12px;\n",
              "    }\n",
              "\n",
              "    .colab-df-convert {\n",
              "      background-color: #E8F0FE;\n",
              "      border: none;\n",
              "      border-radius: 50%;\n",
              "      cursor: pointer;\n",
              "      display: none;\n",
              "      fill: #1967D2;\n",
              "      height: 32px;\n",
              "      padding: 0 0 0 0;\n",
              "      width: 32px;\n",
              "    }\n",
              "\n",
              "    .colab-df-convert:hover {\n",
              "      background-color: #E2EBFA;\n",
              "      box-shadow: 0px 1px 2px rgba(60, 64, 67, 0.3), 0px 1px 3px 1px rgba(60, 64, 67, 0.15);\n",
              "      fill: #174EA6;\n",
              "    }\n",
              "\n",
              "    [theme=dark] .colab-df-convert {\n",
              "      background-color: #3B4455;\n",
              "      fill: #D2E3FC;\n",
              "    }\n",
              "\n",
              "    [theme=dark] .colab-df-convert:hover {\n",
              "      background-color: #434B5C;\n",
              "      box-shadow: 0px 1px 3px 1px rgba(0, 0, 0, 0.15);\n",
              "      filter: drop-shadow(0px 1px 2px rgba(0, 0, 0, 0.3));\n",
              "      fill: #FFFFFF;\n",
              "    }\n",
              "  </style>\n",
              "\n",
              "      <script>\n",
              "        const buttonEl =\n",
              "          document.querySelector('#df-f333d69a-9cc6-4e9e-96b5-3211ed12f19c button.colab-df-convert');\n",
              "        buttonEl.style.display =\n",
              "          google.colab.kernel.accessAllowed ? 'block' : 'none';\n",
              "\n",
              "        async function convertToInteractive(key) {\n",
              "          const element = document.querySelector('#df-f333d69a-9cc6-4e9e-96b5-3211ed12f19c');\n",
              "          const dataTable =\n",
              "            await google.colab.kernel.invokeFunction('convertToInteractive',\n",
              "                                                     [key], {});\n",
              "          if (!dataTable) return;\n",
              "\n",
              "          const docLinkHtml = 'Like what you see? Visit the ' +\n",
              "            '<a target=\"_blank\" href=https://colab.research.google.com/notebooks/data_table.ipynb>data table notebook</a>'\n",
              "            + ' to learn more about interactive tables.';\n",
              "          element.innerHTML = '';\n",
              "          dataTable['output_type'] = 'display_data';\n",
              "          await google.colab.output.renderOutput(dataTable, element);\n",
              "          const docLink = document.createElement('div');\n",
              "          docLink.innerHTML = docLinkHtml;\n",
              "          element.appendChild(docLink);\n",
              "        }\n",
              "      </script>\n",
              "    </div>\n",
              "  </div>\n"
            ]
          },
          "metadata": {},
          "execution_count": 75
        }
      ],
      "source": [
        "df.head(5)"
      ]
    },
    {
      "cell_type": "code",
      "execution_count": 76,
      "metadata": {
        "id": "NVv7fg5dOpKU"
      },
      "outputs": [],
      "source": [
        "df = df.sort_values(by=\"Date\", ascending=True)  # ascending is True by default, if you wanted Descending you could use ascending=False\n"
      ]
    },
    {
      "cell_type": "code",
      "execution_count": 77,
      "metadata": {
        "scrolled": true,
        "colab": {
          "base_uri": "https://localhost:8080/",
          "height": 206
        },
        "id": "Ok7nNMouOpKU",
        "outputId": "1c0e707e-ccf9-4e1e-f522-a38d44d5778a"
      },
      "outputs": [
        {
          "output_type": "execute_result",
          "data": {
            "text/plain": [
              "     Language         Source        Date  \\\n",
              "1137  Latvian          la.lv  2005/04/27   \n",
              "1977  Latvian       diena.lv  2006/09/21   \n",
              "808   Latvian          zz.lv  2007/01/07   \n",
              "17    Latvian          zz.lv  2007/01/07   \n",
              "2818  Latvian  dzirkstele.lv  2007/01/08   \n",
              "\n",
              "                                                   Text  \n",
              "1137                   Kad maz naudas veselības aprūpei  \n",
              "1977  Idejas, kā palīdzēt skolai, uzņēmējiem rodotie...  \n",
              "808   Ja samazinās mazuta cenas, samazinās arī tarif...  \n",
              "17    2008.gadā gāzes piegādes cena pieaugs vēl par ...  \n",
              "2818  Kā norādīja Šlesers, komersanti, kas Latvijas ...  "
            ],
            "text/html": [
              "\n",
              "\n",
              "  <div id=\"df-f7fcda15-ba95-4fa2-8bcf-c86b065fe28f\">\n",
              "    <div class=\"colab-df-container\">\n",
              "      <div>\n",
              "<style scoped>\n",
              "    .dataframe tbody tr th:only-of-type {\n",
              "        vertical-align: middle;\n",
              "    }\n",
              "\n",
              "    .dataframe tbody tr th {\n",
              "        vertical-align: top;\n",
              "    }\n",
              "\n",
              "    .dataframe thead th {\n",
              "        text-align: right;\n",
              "    }\n",
              "</style>\n",
              "<table border=\"1\" class=\"dataframe\">\n",
              "  <thead>\n",
              "    <tr style=\"text-align: right;\">\n",
              "      <th></th>\n",
              "      <th>Language</th>\n",
              "      <th>Source</th>\n",
              "      <th>Date</th>\n",
              "      <th>Text</th>\n",
              "    </tr>\n",
              "  </thead>\n",
              "  <tbody>\n",
              "    <tr>\n",
              "      <th>1137</th>\n",
              "      <td>Latvian</td>\n",
              "      <td>la.lv</td>\n",
              "      <td>2005/04/27</td>\n",
              "      <td>Kad maz naudas veselības aprūpei</td>\n",
              "    </tr>\n",
              "    <tr>\n",
              "      <th>1977</th>\n",
              "      <td>Latvian</td>\n",
              "      <td>diena.lv</td>\n",
              "      <td>2006/09/21</td>\n",
              "      <td>Idejas, kā palīdzēt skolai, uzņēmējiem rodotie...</td>\n",
              "    </tr>\n",
              "    <tr>\n",
              "      <th>808</th>\n",
              "      <td>Latvian</td>\n",
              "      <td>zz.lv</td>\n",
              "      <td>2007/01/07</td>\n",
              "      <td>Ja samazinās mazuta cenas, samazinās arī tarif...</td>\n",
              "    </tr>\n",
              "    <tr>\n",
              "      <th>17</th>\n",
              "      <td>Latvian</td>\n",
              "      <td>zz.lv</td>\n",
              "      <td>2007/01/07</td>\n",
              "      <td>2008.gadā gāzes piegādes cena pieaugs vēl par ...</td>\n",
              "    </tr>\n",
              "    <tr>\n",
              "      <th>2818</th>\n",
              "      <td>Latvian</td>\n",
              "      <td>dzirkstele.lv</td>\n",
              "      <td>2007/01/08</td>\n",
              "      <td>Kā norādīja Šlesers, komersanti, kas Latvijas ...</td>\n",
              "    </tr>\n",
              "  </tbody>\n",
              "</table>\n",
              "</div>\n",
              "      <button class=\"colab-df-convert\" onclick=\"convertToInteractive('df-f7fcda15-ba95-4fa2-8bcf-c86b065fe28f')\"\n",
              "              title=\"Convert this dataframe to an interactive table.\"\n",
              "              style=\"display:none;\">\n",
              "\n",
              "  <svg xmlns=\"http://www.w3.org/2000/svg\" height=\"24px\"viewBox=\"0 0 24 24\"\n",
              "       width=\"24px\">\n",
              "    <path d=\"M0 0h24v24H0V0z\" fill=\"none\"/>\n",
              "    <path d=\"M18.56 5.44l.94 2.06.94-2.06 2.06-.94-2.06-.94-.94-2.06-.94 2.06-2.06.94zm-11 1L8.5 8.5l.94-2.06 2.06-.94-2.06-.94L8.5 2.5l-.94 2.06-2.06.94zm10 10l.94 2.06.94-2.06 2.06-.94-2.06-.94-.94-2.06-.94 2.06-2.06.94z\"/><path d=\"M17.41 7.96l-1.37-1.37c-.4-.4-.92-.59-1.43-.59-.52 0-1.04.2-1.43.59L10.3 9.45l-7.72 7.72c-.78.78-.78 2.05 0 2.83L4 21.41c.39.39.9.59 1.41.59.51 0 1.02-.2 1.41-.59l7.78-7.78 2.81-2.81c.8-.78.8-2.07 0-2.86zM5.41 20L4 18.59l7.72-7.72 1.47 1.35L5.41 20z\"/>\n",
              "  </svg>\n",
              "      </button>\n",
              "\n",
              "\n",
              "\n",
              "    <div id=\"df-b0a8fd22-9341-49f3-86cd-08a1c14bf00a\">\n",
              "      <button class=\"colab-df-quickchart\" onclick=\"quickchart('df-b0a8fd22-9341-49f3-86cd-08a1c14bf00a')\"\n",
              "              title=\"Suggest charts.\"\n",
              "              style=\"display:none;\">\n",
              "\n",
              "<svg xmlns=\"http://www.w3.org/2000/svg\" height=\"24px\"viewBox=\"0 0 24 24\"\n",
              "     width=\"24px\">\n",
              "    <g>\n",
              "        <path d=\"M19 3H5c-1.1 0-2 .9-2 2v14c0 1.1.9 2 2 2h14c1.1 0 2-.9 2-2V5c0-1.1-.9-2-2-2zM9 17H7v-7h2v7zm4 0h-2V7h2v10zm4 0h-2v-4h2v4z\"/>\n",
              "    </g>\n",
              "</svg>\n",
              "      </button>\n",
              "    </div>\n",
              "\n",
              "<style>\n",
              "  .colab-df-quickchart {\n",
              "    background-color: #E8F0FE;\n",
              "    border: none;\n",
              "    border-radius: 50%;\n",
              "    cursor: pointer;\n",
              "    display: none;\n",
              "    fill: #1967D2;\n",
              "    height: 32px;\n",
              "    padding: 0 0 0 0;\n",
              "    width: 32px;\n",
              "  }\n",
              "\n",
              "  .colab-df-quickchart:hover {\n",
              "    background-color: #E2EBFA;\n",
              "    box-shadow: 0px 1px 2px rgba(60, 64, 67, 0.3), 0px 1px 3px 1px rgba(60, 64, 67, 0.15);\n",
              "    fill: #174EA6;\n",
              "  }\n",
              "\n",
              "  [theme=dark] .colab-df-quickchart {\n",
              "    background-color: #3B4455;\n",
              "    fill: #D2E3FC;\n",
              "  }\n",
              "\n",
              "  [theme=dark] .colab-df-quickchart:hover {\n",
              "    background-color: #434B5C;\n",
              "    box-shadow: 0px 1px 3px 1px rgba(0, 0, 0, 0.15);\n",
              "    filter: drop-shadow(0px 1px 2px rgba(0, 0, 0, 0.3));\n",
              "    fill: #FFFFFF;\n",
              "  }\n",
              "</style>\n",
              "\n",
              "    <script>\n",
              "      async function quickchart(key) {\n",
              "        const containerElement = document.querySelector('#' + key);\n",
              "        const charts = await google.colab.kernel.invokeFunction(\n",
              "            'suggestCharts', [key], {});\n",
              "      }\n",
              "    </script>\n",
              "\n",
              "      <script>\n",
              "\n",
              "function displayQuickchartButton(domScope) {\n",
              "  let quickchartButtonEl =\n",
              "    domScope.querySelector('#df-b0a8fd22-9341-49f3-86cd-08a1c14bf00a button.colab-df-quickchart');\n",
              "  quickchartButtonEl.style.display =\n",
              "    google.colab.kernel.accessAllowed ? 'block' : 'none';\n",
              "}\n",
              "\n",
              "        displayQuickchartButton(document);\n",
              "      </script>\n",
              "      <style>\n",
              "    .colab-df-container {\n",
              "      display:flex;\n",
              "      flex-wrap:wrap;\n",
              "      gap: 12px;\n",
              "    }\n",
              "\n",
              "    .colab-df-convert {\n",
              "      background-color: #E8F0FE;\n",
              "      border: none;\n",
              "      border-radius: 50%;\n",
              "      cursor: pointer;\n",
              "      display: none;\n",
              "      fill: #1967D2;\n",
              "      height: 32px;\n",
              "      padding: 0 0 0 0;\n",
              "      width: 32px;\n",
              "    }\n",
              "\n",
              "    .colab-df-convert:hover {\n",
              "      background-color: #E2EBFA;\n",
              "      box-shadow: 0px 1px 2px rgba(60, 64, 67, 0.3), 0px 1px 3px 1px rgba(60, 64, 67, 0.15);\n",
              "      fill: #174EA6;\n",
              "    }\n",
              "\n",
              "    [theme=dark] .colab-df-convert {\n",
              "      background-color: #3B4455;\n",
              "      fill: #D2E3FC;\n",
              "    }\n",
              "\n",
              "    [theme=dark] .colab-df-convert:hover {\n",
              "      background-color: #434B5C;\n",
              "      box-shadow: 0px 1px 3px 1px rgba(0, 0, 0, 0.15);\n",
              "      filter: drop-shadow(0px 1px 2px rgba(0, 0, 0, 0.3));\n",
              "      fill: #FFFFFF;\n",
              "    }\n",
              "  </style>\n",
              "\n",
              "      <script>\n",
              "        const buttonEl =\n",
              "          document.querySelector('#df-f7fcda15-ba95-4fa2-8bcf-c86b065fe28f button.colab-df-convert');\n",
              "        buttonEl.style.display =\n",
              "          google.colab.kernel.accessAllowed ? 'block' : 'none';\n",
              "\n",
              "        async function convertToInteractive(key) {\n",
              "          const element = document.querySelector('#df-f7fcda15-ba95-4fa2-8bcf-c86b065fe28f');\n",
              "          const dataTable =\n",
              "            await google.colab.kernel.invokeFunction('convertToInteractive',\n",
              "                                                     [key], {});\n",
              "          if (!dataTable) return;\n",
              "\n",
              "          const docLinkHtml = 'Like what you see? Visit the ' +\n",
              "            '<a target=\"_blank\" href=https://colab.research.google.com/notebooks/data_table.ipynb>data table notebook</a>'\n",
              "            + ' to learn more about interactive tables.';\n",
              "          element.innerHTML = '';\n",
              "          dataTable['output_type'] = 'display_data';\n",
              "          await google.colab.output.renderOutput(dataTable, element);\n",
              "          const docLink = document.createElement('div');\n",
              "          docLink.innerHTML = docLinkHtml;\n",
              "          element.appendChild(docLink);\n",
              "        }\n",
              "      </script>\n",
              "    </div>\n",
              "  </div>\n"
            ]
          },
          "metadata": {},
          "execution_count": 77
        }
      ],
      "source": [
        "df.head()"
      ]
    },
    {
      "cell_type": "code",
      "execution_count": 78,
      "metadata": {
        "id": "r31bIc8iOpKU"
      },
      "outputs": [],
      "source": [
        "# Let's create NLTK Text\n",
        "\n",
        "documents = list(df.Text)\n",
        "all_docs = \"\\n\".join(documents)\n",
        "\n",
        "file_contents = all_docs.lower()\n",
        "tokens = nltk.word_tokenize(file_contents)\n",
        "\n",
        "text = nltk.Text(tokens)"
      ]
    },
    {
      "cell_type": "code",
      "execution_count": 79,
      "metadata": {
        "colab": {
          "base_uri": "https://localhost:8080/"
        },
        "id": "SsKNQeZLOpKV",
        "outputId": "965af7a3-cb1e-41ad-e1bf-51fe9aa3eeee"
      },
      "outputs": [
        {
          "output_type": "stream",
          "name": "stdout",
          "text": [
            "Displaying 3 of 3 matches:\n",
            "tivitātes – futbols , volejbols , basketbols , sieviešu frīsbija komanda tieto\n",
            "aunatnes sports latvijā nav tikai basketbols , vai ne ? un basketbols pēdējo 4\n",
            "av tikai basketbols , vai ne ? un basketbols pēdējo 4 gadu laikā popularitātē \n"
          ]
        }
      ],
      "source": [
        "text.concordance(\"basketbols\")"
      ]
    },
    {
      "cell_type": "markdown",
      "metadata": {
        "id": "nRAg6B9dOpKV"
      },
      "source": [
        "Let's see how frequently does \"basketbols\" appear in the text:"
      ]
    },
    {
      "cell_type": "code",
      "execution_count": 80,
      "metadata": {
        "colab": {
          "base_uri": "https://localhost:8080/"
        },
        "id": "C1ueub-NLLho",
        "outputId": "91a9acf7-025b-42eb-d129-42d179faac96"
      },
      "outputs": [
        {
          "output_type": "stream",
          "name": "stdout",
          "text": [
            "basketbols\n",
            "basketbols\n",
            "basketbols\n"
          ]
        }
      ],
      "source": [
        "for item in text:\n",
        "    if item == \"basketbols\":\n",
        "        print(item)"
      ]
    },
    {
      "cell_type": "code",
      "execution_count": 81,
      "metadata": {
        "colab": {
          "base_uri": "https://localhost:8080/"
        },
        "id": "3ED3hSHhLLhp",
        "outputId": "025e8d78-b4d8-4a83-c332-7f21a919f6aa"
      },
      "outputs": [
        {
          "output_type": "stream",
          "name": "stdout",
          "text": [
            "basketbola\n",
            "basketbola\n",
            "basketbola\n",
            "basketbola\n",
            "basketbola\n",
            "basketbolistes\n",
            "basketbola\n",
            "basketbolisti\n",
            "basketbolisti\n",
            "basketbolistu\n",
            "basketbola\n",
            "basketbolu\n",
            "basketbolisti\n",
            "basketbols\n",
            "basketbola\n",
            "basketbola\n",
            "basketbola\n",
            "basketbolam\n",
            "basketbols\n",
            "basketbols\n",
            "basketbolista\n"
          ]
        }
      ],
      "source": [
        "# There are other variations of the same word in the text:\n",
        "\n",
        "import regex\n",
        "\n",
        "for item in text:\n",
        "    if regex.match(r\"basket.*\", item):\n",
        "        print(item)"
      ]
    },
    {
      "cell_type": "markdown",
      "metadata": {
        "id": "D0cqJFhkLLhu"
      },
      "source": [
        "If the language of our text is not supported by NLTK we can use another library:\n",
        "\n",
        "simplemma: https://pypi.org/project/simplemma/\n",
        "\n",
        "More information: [A simple multilingual lemmatizer for Python](https://adrien.barbaresi.eu/blog/simple-multilingual-lemmatizer-python.html)\n"
      ]
    },
    {
      "cell_type": "code",
      "execution_count": 83,
      "metadata": {
        "colab": {
          "base_uri": "https://localhost:8080/"
        },
        "id": "gN-a1B_WLLhv",
        "outputId": "0ec8ddc8-5fca-4285-8907-ae7a82032413"
      },
      "outputs": [
        {
          "output_type": "stream",
          "name": "stdout",
          "text": [
            "Collecting simplemma\n",
            "  Downloading simplemma-0.9.1-py3-none-any.whl (75.5 MB)\n",
            "\u001b[2K     \u001b[90m━━━━━━━━━━━━━━━━━━━━━━━━━━━━━━━━━━━━━━━━\u001b[0m \u001b[32m75.5/75.5 MB\u001b[0m \u001b[31m10.3 MB/s\u001b[0m eta \u001b[36m0:00:00\u001b[0m\n",
            "\u001b[?25hInstalling collected packages: simplemma\n",
            "Successfully installed simplemma-0.9.1\n"
          ]
        }
      ],
      "source": [
        "# we may need to install simplemma first (uncomment the following line to do that)\n",
        "!pip install simplemma"
      ]
    },
    {
      "cell_type": "code",
      "execution_count": 84,
      "metadata": {
        "id": "Y63TrZpuLLhw"
      },
      "outputs": [],
      "source": [
        "import simplemma as sl"
      ]
    },
    {
      "cell_type": "code",
      "execution_count": 85,
      "metadata": {
        "colab": {
          "base_uri": "https://localhost:8080/"
        },
        "id": "Jwb8_UOJLLhw",
        "outputId": "72faebaa-6000-47e0-9235-e9a0720f7476"
      },
      "outputs": [
        {
          "output_type": "execute_result",
          "data": {
            "text/plain": [
              "['kad',\n",
              " 'mazs',\n",
              " 'nauda',\n",
              " 'veselība',\n",
              " 'aprūpe',\n",
              " 'ideja',\n",
              " ',',\n",
              " 'kā',\n",
              " 'palīdzēt',\n",
              " 'skola',\n",
              " ',',\n",
              " 'uzņēmējiem',\n",
              " 'rasties',\n",
              " 'vēl',\n",
              " 'un',\n",
              " 'vēl',\n",
              " ',',\n",
              " 'tagad',\n",
              " 'kopīgi',\n",
              " 'ar']"
            ]
          },
          "metadata": {},
          "execution_count": 85
        }
      ],
      "source": [
        "buf = []\n",
        "\n",
        "for item in text:\n",
        "    buf.append(sl.lemmatize(item, lang=\"lv\"))\n",
        "\n",
        "buf[:20]"
      ]
    },
    {
      "cell_type": "code",
      "execution_count": 86,
      "metadata": {
        "id": "YGtS-LlyLLhx"
      },
      "outputs": [],
      "source": [
        "text_new = nltk.Text(buf)"
      ]
    },
    {
      "cell_type": "code",
      "execution_count": 87,
      "metadata": {
        "colab": {
          "base_uri": "https://localhost:8080/"
        },
        "id": "je417o6OdAVr",
        "outputId": "e4efab84-642a-40a4-88a9-4c8e68e0ece4"
      },
      "outputs": [
        {
          "output_type": "stream",
          "name": "stdout",
          "text": [
            "Displaying 15 of 15 matches:\n",
            "ņēma Ogre spēlētāji , ceturtais - basketbols skola „ Rīga '' komanda , piektai\n",
            "švaldības iegādāties un uzstādītu basketbols grozs , tādējādi ļaut saturīgi pa\n",
            "pašvaldība sveikt Pēteris meija ( basketbols veterānu kustība vadītājs ) , sav\n",
            "ājs ) , savs volejbols komanda un basketbols komanda . sīvā konkurencē uzvarēt\n",
            "ikšanās Liepāja “ “ reebok ” iela basketbols turnīram ” turpināt interneta por\n",
            "ēt trenēties pie šis pieredzējušā basketbols speciālists » pārvalde vadītājs f\n",
            "labāks komanda : Latvija sieviete basketbols izlase . uzlecošā zvaigzne : poļi\n",
            "kola laiks nodarbojos ar sports - basketbols , airēšanu , bet pie mūzika atgri\n",
            "ktivitāte – futbols , volejbols , basketbols , sieviete frīsbija komanda tieto\n",
            "uvumu atzīmējās aba puse vīrietis basketbols komanda , kur uzvara svinēja jelg\n",
            "ana par tas , ka jaunupa vadītajs basketbols klubs tikt 450 000 lata ziedot , \n",
            "kusija tikt atvēlēta gan privātas basketbols klubs , gan basketbols kopums , t\n",
            "n privātas basketbols klubs , gan basketbols kopums , tad tikai loģisks būt sa\n",
            "jaunatne sports Latvija būt tikai basketbols , vai ne ? un basketbols pēdējo 4\n",
            "ūt tikai basketbols , vai ne ? un basketbols pēdējo 4 gads laiks popularitāte \n"
          ]
        }
      ],
      "source": [
        "text_new.concordance(\"basketbols\")"
      ]
    },
    {
      "cell_type": "markdown",
      "metadata": {
        "id": "PA4CMUHWKh8D"
      },
      "source": [
        "---\n",
        "\n",
        "## Your turn!\n",
        "\n",
        "Choose an NLTK text corpus and **explore it using NLTK** (following the examples in this notebook).\n",
        "\n",
        "**Write code in notebook cells below**.\n",
        "* add more cells (use \"+\" icon) if necessary"
      ]
    },
    {
      "cell_type": "code",
      "execution_count": null,
      "metadata": {
        "id": "S2fo4j05OpKX"
      },
      "outputs": [],
      "source": []
    },
    {
      "cell_type": "code",
      "execution_count": null,
      "metadata": {
        "id": "CmLhKo4cOpKY"
      },
      "outputs": [],
      "source": []
    },
    {
      "cell_type": "code",
      "execution_count": null,
      "metadata": {
        "id": "JGq_4BeMOpKZ"
      },
      "outputs": [],
      "source": []
    },
    {
      "cell_type": "markdown",
      "metadata": {
        "id": "dYEz1Cv0OpKa"
      },
      "source": [
        "---\n",
        "\n",
        "<img align=\"left\" src=\"https://ithaka-labs.s3.amazonaws.com/static-files/images/tdm/tdmdocs/CC_BY.png\"><br />\n",
        "\n",
        "Parts of this notebook were adopted from notebook by [Nathan Kelber](http://nkelber.com) under [Creative Commons CC BY License](https://creativecommons.org/licenses/by/4.0/)<br />\n",
        "\n",
        "\n"
      ]
    }
  ],
  "metadata": {
    "colab": {
      "provenance": []
    },
    "kernelspec": {
      "display_name": "Python 3 (ipykernel)",
      "language": "python",
      "name": "python3"
    },
    "language_info": {
      "codemirror_mode": {
        "name": "ipython",
        "version": 3
      },
      "file_extension": ".py",
      "mimetype": "text/x-python",
      "name": "python",
      "nbconvert_exporter": "python",
      "pygments_lexer": "ipython3",
      "version": "3.9.16"
    }
  },
  "nbformat": 4,
  "nbformat_minor": 0
}